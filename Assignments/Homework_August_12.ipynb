{
  "nbformat": 4,
  "nbformat_minor": 0,
  "metadata": {
    "colab": {
      "provenance": []
    },
    "kernelspec": {
      "name": "python3",
      "display_name": "Python 3"
    },
    "language_info": {
      "name": "python"
    }
  },
  "cells": [
    {
      "cell_type": "code",
      "execution_count": 28,
      "metadata": {
        "colab": {
          "base_uri": "https://localhost:8080/"
        },
        "id": "BgdK7_awQVjy",
        "outputId": "8db2487d-80c2-466d-8899-644077927f49"
      },
      "outputs": [
        {
          "output_type": "stream",
          "name": "stdout",
          "text": [
            "Please provide your salary:30000\n",
            "Please provide your year of service:6\n",
            "Your bonus is:1500.0\n"
          ]
        }
      ],
      "source": [
        "# A company decided to give bonus of 5% to employee if his/her year of service is more than 5 years.\n",
        "# Ask user for their salary and year of service and print the net bonus amount.\n",
        "\n",
        "salary = float(input('Please provide your salary:'))\n",
        "service = float(input('Please provide your year of service:'))\n",
        "if service >5:\n",
        "  bonus_percentage = 5\n",
        "  bonus_amount = (bonus_percentage/100)*salary\n",
        "  print(f'Your bonus is:{bonus_amount}')\n",
        "else:\n",
        "  print(f'You are not eligible for bonus')\n"
      ]
    },
    {
      "cell_type": "code",
      "source": [
        "# Take values of length and breadth of a rectangle from user and check if it is square or not.\n",
        "length = float(input('Length of rectangle:'))\n",
        "breadth = float(input('Breadth of rectangle:'))\n",
        "if length == breadth:\n",
        "  print ('It is a square.')\n",
        "else:\n",
        "  print ('It is not a square.')\n"
      ],
      "metadata": {
        "colab": {
          "base_uri": "https://localhost:8080/"
        },
        "id": "SeasgdQHTO7O",
        "outputId": "c96a1c70-43a5-4856-eee9-78936c014dab"
      },
      "execution_count": 39,
      "outputs": [
        {
          "output_type": "stream",
          "name": "stdout",
          "text": [
            "Length of rectangle:2.2\n",
            "Breadth of rectangle:2.5\n",
            "It is not a square.\n"
          ]
        }
      ]
    },
    {
      "cell_type": "code",
      "source": [
        "#Take two int values from user and print greatest among them.\n",
        "val1 = int(input('First value:'))\n",
        "val2 = int(input('Second value:'))\n",
        "if val1==val2:\n",
        "  print('Both are equal')\n",
        "elif val1>val2:\n",
        "  print('The greates value is',val1)\n",
        "else:\n",
        "  print('The greatest value is', val2)"
      ],
      "metadata": {
        "colab": {
          "base_uri": "https://localhost:8080/"
        },
        "id": "xgSrEg-DXj-A",
        "outputId": "9979cbc0-d877-49f8-c77b-76aa1e3983bf"
      },
      "execution_count": 41,
      "outputs": [
        {
          "output_type": "stream",
          "name": "stdout",
          "text": [
            "First value:10\n",
            "Second value:20\n",
            "The greatest value is 20\n"
          ]
        }
      ]
    },
    {
      "cell_type": "code",
      "source": [
        "#A shop will give discount of 10% if the cost of purchased quantity is more than 1000.\n",
        "#Ask user for quantity\n",
        "#Suppose, one unit will cost 100.\n",
        "#Judge and print total cost for user.\n",
        "\n",
        "quant= int(input('Purchased Quantity:'))\n",
        "per_unit_cost = 100\n",
        "cost = quant*per_unit_cost\n",
        "if total_cost > 1000:\n",
        "  dis = (10/100)*cost\n",
        "  total_cost = cost - dis\n",
        "  print ('Your cost after discount is:',total_cost)\n",
        "else:\n",
        "   print('Your cost is',cost)\n"
      ],
      "metadata": {
        "colab": {
          "base_uri": "https://localhost:8080/"
        },
        "id": "YDcVI7ytf_an",
        "outputId": "d2b8a639-d7f5-4ade-c7e9-f37446cc07ef"
      },
      "execution_count": 53,
      "outputs": [
        {
          "output_type": "stream",
          "name": "stdout",
          "text": [
            "Purchased Quantity:11\n",
            "Your cost after discount is: 990.0\n"
          ]
        }
      ]
    },
    {
      "cell_type": "code",
      "source": [
        "#A school has following rules for grading system:\n",
        "#a. Below 25 - F\n",
        "#b. 25 to 45 - E\n",
        "#c. 45 to 50 - D\n",
        "#d. 50 to 60 - C\n",
        "#e. 60 to 80 - B\n",
        "#f. Above 80 - A\n",
        "#Ask user to enter marks and print the corresponding grade.\n",
        "\n",
        "mark=float(input('Please enter your mark:'))\n",
        "if mark<25:\n",
        "  print('F')\n",
        "elif mark>=25 and mark<45:\n",
        "  print('E')\n",
        "elif mark>=45 and mark<50:\n",
        "  print('D')\n",
        "elif mark>=50 and mark<60:\n",
        "  print('C')\n",
        "elif mark>=60 and mark<80:\n",
        "  print('B')\n",
        "else:\n",
        "  print('A')"
      ],
      "metadata": {
        "colab": {
          "base_uri": "https://localhost:8080/"
        },
        "id": "r5iftomHnRXY",
        "outputId": "3490dbb9-73bb-4ac2-978b-476edbf53d90"
      },
      "execution_count": 56,
      "outputs": [
        {
          "output_type": "stream",
          "name": "stdout",
          "text": [
            "Please enter your mark:55\n",
            "C\n"
          ]
        }
      ]
    },
    {
      "cell_type": "code",
      "source": [
        "#Take input of age of 3 people by user and determine oldest and youngest among them.\n",
        "first_person=float(input('First person age:'))\n",
        "second_person=float(input('Second person age:'))\n",
        "third_person=float(input('Third person age:'))\n",
        "if first_person >= second_person and first_person >= third_person:\n",
        "  print('Oldest is first person')\n",
        "elif second_person >= first_person and second_person >= third_person:\n",
        "  print('Oldest is second person')\n",
        "else:\n",
        "  print('Oldest is third person')\n",
        "if first_person <= second_person and first_person <= third_person:\n",
        "  print('Youngest is first person')\n",
        "elif second_person <= first_person and second_person <= third_person:\n",
        "  print('Youngest is second person')\n",
        "elif third_person <= first_person and third_person <= second_person:\n",
        "  print('Youngest is third person')\n",
        "else:\n",
        "  print('same age')\n"
      ],
      "metadata": {
        "colab": {
          "base_uri": "https://localhost:8080/"
        },
        "id": "sa-ffSpCsdsS",
        "outputId": "c9590f35-515d-4ba4-fbf8-5d76123e2fff"
      },
      "execution_count": 76,
      "outputs": [
        {
          "output_type": "stream",
          "name": "stdout",
          "text": [
            "First person age:10\n",
            "Second person age:10\n",
            "Third person age:10\n",
            "Oldest is first person\n",
            "Youngest is first person\n"
          ]
        }
      ]
    },
    {
      "cell_type": "code",
      "source": [
        "#Write a program to print absolute vlaue of a number entered by user. E.g.-\n",
        "#INPUT: 1        OUTPUT: 1\n",
        "#INPUT: -1        OUTPUT: 1\n",
        "num = float(input('Please enter a number:'))\n",
        "abs_val  = abs(num)\n",
        "print(f'The absolute value of {num} is {abs_val}')"
      ],
      "metadata": {
        "colab": {
          "base_uri": "https://localhost:8080/"
        },
        "id": "0bMQevyetDzz",
        "outputId": "ecaebb70-46d9-476a-f30f-c06452b79111"
      },
      "execution_count": 77,
      "outputs": [
        {
          "output_type": "stream",
          "name": "stdout",
          "text": [
            "Please enter a number:-3\n",
            "The absolute value of -3.0 is 3.0\n"
          ]
        }
      ]
    },
    {
      "cell_type": "code",
      "source": [
        "# A student will not be allowed to sit in exam if his/her attendence is less than 75%.\n",
        "#Take following input from user\n",
        "#Number of classes held\n",
        "#Number of classes attended.\n",
        "#And print percentage of class attended\n",
        "#Is student is allowed to sit in exam or not.\n",
        "\n",
        "class_num=int(input('Number of classes held:'))\n",
        "class_attended=int(input('Number of classes attended:'))\n",
        "attendance =((class_attended/class_num)*100)\n",
        "print('Attendance is', round(attendance,2,))\n",
        "if attendance < 75:\n",
        "    print('Not allowed to sit in exam.')\n",
        "else:\n",
        "  print('Allowed to sit in exam.')\n"
      ],
      "metadata": {
        "colab": {
          "base_uri": "https://localhost:8080/"
        },
        "id": "qGSkI1lp9hEE",
        "outputId": "46f5370d-1c17-4190-cbe5-ee01bd7d9bfe"
      },
      "execution_count": 96,
      "outputs": [
        {
          "output_type": "stream",
          "name": "stdout",
          "text": [
            "Number of classes held:100\n",
            "Number of classes attended:50\n",
            "Attendance is 50.0\n",
            "Not allowed to sit in exam.\n"
          ]
        }
      ]
    },
    {
      "cell_type": "code",
      "source": [
        "#Modify the above question to allow student to sit if he/she has medical cause.\n",
        "#Ask user if he/she has medical cause or not ( 'Y' or 'N' ) and print accordingly.\n",
        "\n",
        "class_num=int(input('Number of classes held:'))\n",
        "class_attended=int(input('Number of classes attended:'))\n",
        "attendance = (class_attended/class_num)*100\n",
        "print(attendance,'%')\n",
        "if attendance < 75:\n",
        "  medical_condition = (input('Do you have medical condition? Type (Y or N): ')).lower()\n",
        "  if medical_condition == \"n\":\n",
        "    print('Not allowed to sit in exam.')\n",
        "  else:\n",
        "    print('Allowed to sit in exam.')\n",
        "else:\n",
        "  print('Allowed to sit in exam.')"
      ],
      "metadata": {
        "colab": {
          "base_uri": "https://localhost:8080/"
        },
        "id": "OkxrQPyi-oua",
        "outputId": "4af74d9e-1e3b-4949-ba9f-64b67def8574"
      },
      "execution_count": 97,
      "outputs": [
        {
          "output_type": "stream",
          "name": "stdout",
          "text": [
            "Number of classes held:100\n",
            "Number of classes attended:50\n",
            "50.0 %\n",
            "Do you have medical condition? Type (Y or N): y\n",
            "Allowed to sit in exam.\n"
          ]
        }
      ]
    },
    {
      "cell_type": "code",
      "source": [],
      "metadata": {
        "id": "whfP9bz9Xo4d"
      },
      "execution_count": 24,
      "outputs": []
    }
  ]
}