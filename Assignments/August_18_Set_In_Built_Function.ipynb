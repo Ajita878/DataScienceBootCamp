{
  "nbformat": 4,
  "nbformat_minor": 0,
  "metadata": {
    "colab": {
      "provenance": []
    },
    "kernelspec": {
      "name": "python3",
      "display_name": "Python 3"
    },
    "language_info": {
      "name": "python"
    }
  },
  "cells": [
    {
      "cell_type": "code",
      "execution_count": 1,
      "metadata": {
        "colab": {
          "base_uri": "https://localhost:8080/"
        },
        "id": "jDq6hO-Py6Rh",
        "outputId": "f78a1f13-4c80-4f73-eff0-860319667eb9"
      },
      "outputs": [
        {
          "output_type": "execute_result",
          "data": {
            "text/plain": [
              "['__and__',\n",
              " '__class__',\n",
              " '__class_getitem__',\n",
              " '__contains__',\n",
              " '__delattr__',\n",
              " '__dir__',\n",
              " '__doc__',\n",
              " '__eq__',\n",
              " '__format__',\n",
              " '__ge__',\n",
              " '__getattribute__',\n",
              " '__gt__',\n",
              " '__hash__',\n",
              " '__iand__',\n",
              " '__init__',\n",
              " '__init_subclass__',\n",
              " '__ior__',\n",
              " '__isub__',\n",
              " '__iter__',\n",
              " '__ixor__',\n",
              " '__le__',\n",
              " '__len__',\n",
              " '__lt__',\n",
              " '__ne__',\n",
              " '__new__',\n",
              " '__or__',\n",
              " '__rand__',\n",
              " '__reduce__',\n",
              " '__reduce_ex__',\n",
              " '__repr__',\n",
              " '__ror__',\n",
              " '__rsub__',\n",
              " '__rxor__',\n",
              " '__setattr__',\n",
              " '__sizeof__',\n",
              " '__str__',\n",
              " '__sub__',\n",
              " '__subclasshook__',\n",
              " '__xor__',\n",
              " 'add',\n",
              " 'clear',\n",
              " 'copy',\n",
              " 'difference',\n",
              " 'difference_update',\n",
              " 'discard',\n",
              " 'intersection',\n",
              " 'intersection_update',\n",
              " 'isdisjoint',\n",
              " 'issubset',\n",
              " 'issuperset',\n",
              " 'pop',\n",
              " 'remove',\n",
              " 'symmetric_difference',\n",
              " 'symmetric_difference_update',\n",
              " 'union',\n",
              " 'update']"
            ]
          },
          "metadata": {},
          "execution_count": 1
        }
      ],
      "source": [
        "c_set={1,2,3,4,5,6,7,8,}\n",
        "dir(c_set)"
      ]
    },
    {
      "cell_type": "code",
      "source": [
        "#add:adds one element at a time.\n",
        "set={1,2,3}\n",
        "set.add(4)\n",
        "print(set)\n"
      ],
      "metadata": {
        "colab": {
          "base_uri": "https://localhost:8080/"
        },
        "id": "eUtyJ0c5zBta",
        "outputId": "624e348b-ecd7-45a3-953d-9417f6f2a80f"
      },
      "execution_count": 14,
      "outputs": [
        {
          "output_type": "stream",
          "name": "stdout",
          "text": [
            "{1, 2, 3, 4}\n"
          ]
        }
      ]
    },
    {
      "cell_type": "code",
      "source": [
        "#remove:Removes element from set.Imp: it gives error if the element is not found.\n",
        "set={1,2,3}\n",
        "set.remove(3)\n",
        "print(set)"
      ],
      "metadata": {
        "colab": {
          "base_uri": "https://localhost:8080/"
        },
        "id": "4-T65pL30-Va",
        "outputId": "0e110ed6-39b3-42e8-87d2-a957993940a4"
      },
      "execution_count": 17,
      "outputs": [
        {
          "output_type": "stream",
          "name": "stdout",
          "text": [
            "{1, 2}\n"
          ]
        }
      ]
    },
    {
      "cell_type": "code",
      "source": [
        "#discard:Removes element from set if it exists,\n",
        "#but doesn't raise an error if the element is not found.\n",
        "set={1,2,3}\n",
        "set.discard(4)\n",
        "print(set)"
      ],
      "metadata": {
        "colab": {
          "base_uri": "https://localhost:8080/"
        },
        "id": "7T-DP3KQ3IbG",
        "outputId": "c90ffa46-58de-466d-dad8-476feaac056a"
      },
      "execution_count": 19,
      "outputs": [
        {
          "output_type": "stream",
          "name": "stdout",
          "text": [
            "{1, 2, 3}\n"
          ]
        }
      ]
    },
    {
      "cell_type": "code",
      "source": [
        "#pop:Removes and returns an arbitary element from the set.\n",
        "set={1,2,3}\n",
        "set.pop()\n",
        "print(set)"
      ],
      "metadata": {
        "colab": {
          "base_uri": "https://localhost:8080/"
        },
        "id": "oc9_YeyV3kJ9",
        "outputId": "a4f81502-575f-435a-a4bc-eea99ead4bda"
      },
      "execution_count": 21,
      "outputs": [
        {
          "output_type": "stream",
          "name": "stdout",
          "text": [
            "{2, 3}\n"
          ]
        }
      ]
    },
    {
      "cell_type": "code",
      "source": [
        "#clear:Removes all element from the set.\n",
        "set={1,2,3}\n",
        "set.clear()\n",
        "print(set)"
      ],
      "metadata": {
        "colab": {
          "base_uri": "https://localhost:8080/"
        },
        "id": "i7GvyJVh38Tc",
        "outputId": "8db29ad1-0dfa-4f13-f206-80df74da500d"
      },
      "execution_count": 22,
      "outputs": [
        {
          "output_type": "stream",
          "name": "stdout",
          "text": [
            "set()\n"
          ]
        }
      ]
    },
    {
      "cell_type": "code",
      "source": [
        "#union:gives the set of unique elements.\n",
        "set1={1,2,3}\n",
        "set2={1,2,3,4,5,6,1}\n",
        "union_set=set1.union(set2)\n",
        "print(union_set)"
      ],
      "metadata": {
        "colab": {
          "base_uri": "https://localhost:8080/"
        },
        "id": "BDhR9h4f4gm0",
        "outputId": "d8eb599a-cc06-4d09-cba1-6301f070a2d1"
      },
      "execution_count": 23,
      "outputs": [
        {
          "output_type": "stream",
          "name": "stdout",
          "text": [
            "{1, 2, 3, 4, 5, 6}\n"
          ]
        }
      ]
    },
    {
      "cell_type": "code",
      "source": [
        "#intersection:gives the common elements between two sets.\n",
        "set1={1,2,3}\n",
        "set2={1,2,3,4,5,6,1}\n",
        "intersection_set=set1.union(set2)\n",
        "print(union_set)"
      ],
      "metadata": {
        "colab": {
          "base_uri": "https://localhost:8080/"
        },
        "id": "UQR8-5Ft47Mc",
        "outputId": "c1a8a9c1-2399-40cd-b10a-534bbe050050"
      },
      "execution_count": 24,
      "outputs": [
        {
          "output_type": "stream",
          "name": "stdout",
          "text": [
            "{1, 2, 3, 4, 5, 6}\n"
          ]
        }
      ]
    },
    {
      "cell_type": "code",
      "source": [
        "#difference:returns a new set containing elements that are in the first set but not in the second.\n",
        "set1={1,2,3,9}\n",
        "set2={1,2,3,4,5,6,1}\n",
        "difference_set=set1.difference(set2)\n",
        "print(difference_set)"
      ],
      "metadata": {
        "colab": {
          "base_uri": "https://localhost:8080/"
        },
        "id": "dbOPrL6R68R5",
        "outputId": "c030666d-dccb-42da-89ff-4f00ee78b2c5"
      },
      "execution_count": 26,
      "outputs": [
        {
          "output_type": "stream",
          "name": "stdout",
          "text": [
            "{9}\n"
          ]
        }
      ]
    },
    {
      "cell_type": "code",
      "source": [
        "#symmetric_difference:returns a new set containig elemts that are in  either of the sets,\n",
        "#but not in their intersection.\n",
        "set1={1,2,3,9}\n",
        "set2={1,2,3,4,5,6,1}\n",
        "symmetric_difference_set=set1.symmetric_difference(set2)\n",
        "print(symmetric_difference_set)"
      ],
      "metadata": {
        "colab": {
          "base_uri": "https://localhost:8080/"
        },
        "id": "PjYbt0tk7RvC",
        "outputId": "6be17fa7-0916-43f5-896b-7ddbe334fe71"
      },
      "execution_count": 27,
      "outputs": [
        {
          "output_type": "stream",
          "name": "stdout",
          "text": [
            "{4, 5, 6, 9}\n"
          ]
        }
      ]
    },
    {
      "cell_type": "code",
      "source": [
        "#copy:Creates a copy of the set.\n",
        "set={1,2,3}\n",
        "copy_set = set.copy()\n",
        "print(copy_set)"
      ],
      "metadata": {
        "colab": {
          "base_uri": "https://localhost:8080/"
        },
        "id": "2YmVRQmf71ji",
        "outputId": "b3b792da-f236-4615-a10b-2d1b781f598f"
      },
      "execution_count": 29,
      "outputs": [
        {
          "output_type": "stream",
          "name": "stdout",
          "text": [
            "{1, 2, 3}\n"
          ]
        }
      ]
    },
    {
      "cell_type": "code",
      "source": [
        "#difference_update:removes elements from the set that are also present in another set.\n",
        "set1={1,2,3,9}\n",
        "set2={1,2,3,4,5,6,1}\n",
        "set1.difference_update(set2)\n",
        "print(set1)"
      ],
      "metadata": {
        "colab": {
          "base_uri": "https://localhost:8080/"
        },
        "id": "21m32x_e8ivB",
        "outputId": "f10c798f-c3a0-4eb1-c4da-05f218dde176"
      },
      "execution_count": 30,
      "outputs": [
        {
          "output_type": "stream",
          "name": "stdout",
          "text": [
            "{9}\n"
          ]
        }
      ]
    },
    {
      "cell_type": "code",
      "source": [
        "#intersection_update:removes elements from the set that are also present in another set.\n",
        "set1={1,2,3,9}\n",
        "set2={1,2,3,4,5,6,1}\n",
        "set1.intersection_update(set2)\n",
        "print(set1)"
      ],
      "metadata": {
        "colab": {
          "base_uri": "https://localhost:8080/"
        },
        "id": "UC3p57vy86GJ",
        "outputId": "f3c6616f-db15-40a0-a2a3-014e0e6210fd"
      },
      "execution_count": 32,
      "outputs": [
        {
          "output_type": "stream",
          "name": "stdout",
          "text": [
            "{1, 2, 3}\n"
          ]
        }
      ]
    },
    {
      "cell_type": "code",
      "source": [
        "#symmetric_difference_update:removes elements from the set that are also present in another set.\n",
        "set1={1,2,3,9}\n",
        "set2={1,2,3,4,5,6,1}\n",
        "set1.symmetric_difference_update(set2)\n",
        "print(set1)"
      ],
      "metadata": {
        "colab": {
          "base_uri": "https://localhost:8080/"
        },
        "id": "8t73PW0Q9Meh",
        "outputId": "8c1bb01e-042c-4939-9966-d9c53c0f2038"
      },
      "execution_count": 2,
      "outputs": [
        {
          "output_type": "stream",
          "name": "stdout",
          "text": [
            "{4, 5, 6, 9}\n"
          ]
        }
      ]
    },
    {
      "cell_type": "code",
      "source": [
        "#isdisjoint:checks if two sets have no common elements.\n",
        "set1={1,2,3,9}\n",
        "set2={1,2,3,4,5,6,1}\n",
        "disjoint=set1.isdisjoint(set2)\n",
        "print(disjoint)"
      ],
      "metadata": {
        "colab": {
          "base_uri": "https://localhost:8080/"
        },
        "id": "jExBTPPLllt4",
        "outputId": "2c4948db-0d35-44f2-e422-13af0856c8f5"
      },
      "execution_count": 3,
      "outputs": [
        {
          "output_type": "stream",
          "name": "stdout",
          "text": [
            "False\n"
          ]
        }
      ]
    },
    {
      "cell_type": "code",
      "source": [
        "#issubset:checks if one set is a subset of another.\n",
        "set1={1,2,3}\n",
        "set2={1,2,3,4,5,6,1}\n",
        "subset=set1.issubset(set2)\n",
        "print(subset)"
      ],
      "metadata": {
        "colab": {
          "base_uri": "https://localhost:8080/"
        },
        "id": "0Nooz5BumIKA",
        "outputId": "3762eac2-9e8f-4bb1-c294-803cc081a374"
      },
      "execution_count": 5,
      "outputs": [
        {
          "output_type": "stream",
          "name": "stdout",
          "text": [
            "True\n"
          ]
        }
      ]
    },
    {
      "cell_type": "code",
      "source": [
        "#issuperset:checks if one set is a superset of another.\n",
        "set1={1,2,3,9}\n",
        "set2={1,2,3,4,5,6,1}\n",
        "superset=set1.issuperset(set2)\n",
        "print(superset)"
      ],
      "metadata": {
        "colab": {
          "base_uri": "https://localhost:8080/"
        },
        "id": "sBVvpp-xmhqv",
        "outputId": "d64bb802-31f6-4691-b758-8c0210bbb328"
      },
      "execution_count": 6,
      "outputs": [
        {
          "output_type": "stream",
          "name": "stdout",
          "text": [
            "False\n"
          ]
        }
      ]
    },
    {
      "cell_type": "code",
      "source": [
        "#update:updates the set with elements from another set or iterable.\n",
        "set1={1,2,3,9}\n",
        "set2={1,2,3,4,5,6,1}\n",
        "set1.update(set2)\n",
        "print(set1)"
      ],
      "metadata": {
        "colab": {
          "base_uri": "https://localhost:8080/"
        },
        "id": "zdeB62Hbm1S-",
        "outputId": "4e29ec31-d511-4439-ce88-b31106afe0e7"
      },
      "execution_count": 7,
      "outputs": [
        {
          "output_type": "stream",
          "name": "stdout",
          "text": [
            "{1, 2, 3, 4, 5, 6, 9}\n"
          ]
        }
      ]
    },
    {
      "cell_type": "code",
      "source": [
        "#difference:Returns a new set containing elements that are in the first set but not in the second.\n",
        "set1={1,2,3,9}\n",
        "set2={1,2,3,4,5,6,1}\n",
        "difference_set=set1.difference(set2)\n",
        "print(difference_set)"
      ],
      "metadata": {
        "colab": {
          "base_uri": "https://localhost:8080/"
        },
        "id": "RirgGt_rnNkW",
        "outputId": "935551a2-b557-4d86-af19-04f016887f43"
      },
      "execution_count": 8,
      "outputs": [
        {
          "output_type": "stream",
          "name": "stdout",
          "text": [
            "{9}\n"
          ]
        }
      ]
    },
    {
      "cell_type": "code",
      "source": [],
      "metadata": {
        "id": "0rCQR_NWnvRW"
      },
      "execution_count": 9,
      "outputs": []
    },
    {
      "cell_type": "code",
      "source": [],
      "metadata": {
        "id": "fTtKW_lMpU5N"
      },
      "execution_count": null,
      "outputs": []
    }
  ]
}