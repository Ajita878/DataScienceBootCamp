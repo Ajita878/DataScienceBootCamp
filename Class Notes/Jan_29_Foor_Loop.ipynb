{
  "nbformat": 4,
  "nbformat_minor": 0,
  "metadata": {
    "colab": {
      "provenance": []
    },
    "kernelspec": {
      "name": "python3",
      "display_name": "Python 3"
    },
    "language_info": {
      "name": "python"
    }
  },
  "cells": [
    {
      "cell_type": "code",
      "execution_count": 1,
      "metadata": {
        "colab": {
          "base_uri": "https://localhost:8080/"
        },
        "id": "tSWp1ZixFY3s",
        "outputId": "4b1dcbde-7eb8-48e2-b305-46e0e6ace2b2"
      },
      "outputs": [
        {
          "output_type": "stream",
          "name": "stdout",
          "text": [
            "Value of i 12\n",
            "Value of i 23\n",
            "Value of i 34\n",
            "Value of i 45\n",
            "Value of i 67\n",
            "Value of i 78\n",
            "Value of i 89\n",
            "Value of i 90\n",
            "Value of i 21\n",
            "Value of i 35\n",
            "Value of i 43\n",
            "Value of i 54\n",
            "Value of i 76\n",
            "Value of i 87\n",
            "Value of i 99\n"
          ]
        }
      ],
      "source": [
        "lst1 = [12,23,34,45,67,78,89,90,21,35,43,54,76,87,99]\n",
        "for i in lst1:\n",
        "  print('Value of i',i)"
      ]
    },
    {
      "cell_type": "code",
      "source": [
        "tuple = ('apple', 'banana','cherry','dates','eggfruit','fig','grapes','honeyfruit')\n",
        "for i in tuple:\n",
        "  print('value of i',i)"
      ],
      "metadata": {
        "colab": {
          "base_uri": "https://localhost:8080/"
        },
        "id": "0CExjDy0GA2h",
        "outputId": "967018eb-78a6-4276-b3c2-7c57f2118c83"
      },
      "execution_count": 2,
      "outputs": [
        {
          "output_type": "stream",
          "name": "stdout",
          "text": [
            "value of i apple\n",
            "value of i banana\n",
            "value of i cherry\n",
            "value of i dates\n",
            "value of i eggfruit\n",
            "value of i fig\n",
            "value of i grapes\n",
            "value of i honeyfruit\n"
          ]
        }
      ]
    },
    {
      "cell_type": "code",
      "source": [
        "set1 = {'apple', 'banana','cherry','dates','eggfruit','fig','grapes','honeyfruit',9,9,58,0,5,77,55,77}\n",
        "for i in set1:\n",
        "  print('value of i',i) #set gives values randomly.Set is collection of unordered element."
      ],
      "metadata": {
        "colab": {
          "base_uri": "https://localhost:8080/"
        },
        "id": "9t1fl7SYGA92",
        "outputId": "664941e0-e3f1-46d6-8407-03abad0aaf0c"
      },
      "execution_count": 5,
      "outputs": [
        {
          "output_type": "stream",
          "name": "stdout",
          "text": [
            "value of i 0\n",
            "value of i 58\n",
            "value of i 5\n",
            "value of i 9\n",
            "value of i 77\n",
            "value of i dates\n",
            "value of i cherry\n",
            "value of i honeyfruit\n",
            "value of i 55\n",
            "value of i banana\n",
            "value of i grapes\n",
            "value of i fig\n",
            "value of i eggfruit\n",
            "value of i apple\n"
          ]
        }
      ]
    },
    {
      "cell_type": "code",
      "source": [
        "str1 ='Peppa prefer Python Programming'\n",
        "print(len(str1))\n",
        "for i in str1:\n",
        "  print('Value of i',i)#every single alphabet is considered element."
      ],
      "metadata": {
        "colab": {
          "base_uri": "https://localhost:8080/"
        },
        "id": "cI7xkszLG0B0",
        "outputId": "be10b5fe-3ad2-4d09-a01a-da8a49c880fd"
      },
      "execution_count": 7,
      "outputs": [
        {
          "output_type": "stream",
          "name": "stdout",
          "text": [
            "31\n",
            "Value of i P\n",
            "Value of i e\n",
            "Value of i p\n",
            "Value of i p\n",
            "Value of i a\n",
            "Value of i  \n",
            "Value of i p\n",
            "Value of i r\n",
            "Value of i e\n",
            "Value of i f\n",
            "Value of i e\n",
            "Value of i r\n",
            "Value of i  \n",
            "Value of i P\n",
            "Value of i y\n",
            "Value of i t\n",
            "Value of i h\n",
            "Value of i o\n",
            "Value of i n\n",
            "Value of i  \n",
            "Value of i P\n",
            "Value of i r\n",
            "Value of i o\n",
            "Value of i g\n",
            "Value of i r\n",
            "Value of i a\n",
            "Value of i m\n",
            "Value of i m\n",
            "Value of i i\n",
            "Value of i n\n",
            "Value of i g\n"
          ]
        }
      ]
    },
    {
      "cell_type": "code",
      "source": [
        "dict1 ={'a':'apple','b':'ball','c':'cat','d':'dog'}\n",
        "for i in dict1:\n",
        "  print('value of i',i)#It prints keys not values."
      ],
      "metadata": {
        "colab": {
          "base_uri": "https://localhost:8080/"
        },
        "id": "kPRDV5SpHOi3",
        "outputId": "2d62ecc6-ab40-4123-f19a-6f71383110bc"
      },
      "execution_count": 10,
      "outputs": [
        {
          "output_type": "stream",
          "name": "stdout",
          "text": [
            "value of i a\n",
            "value of i b\n",
            "value of i c\n",
            "value of i d\n"
          ]
        }
      ]
    },
    {
      "cell_type": "code",
      "source": [
        "for i in range(10): #Index will start with zero and goes upto 9\n",
        " print('value of i',i)"
      ],
      "metadata": {
        "colab": {
          "base_uri": "https://localhost:8080/"
        },
        "id": "R7K3s_4qH9Ao",
        "outputId": "bec22190-24cc-4337-baa2-900b45b5eae7"
      },
      "execution_count": 11,
      "outputs": [
        {
          "output_type": "stream",
          "name": "stdout",
          "text": [
            "value of i 0\n",
            "value of i 1\n",
            "value of i 2\n",
            "value of i 3\n",
            "value of i 4\n",
            "value of i 5\n",
            "value of i 6\n",
            "value of i 7\n",
            "value of i 8\n",
            "value of i 9\n"
          ]
        }
      ]
    },
    {
      "cell_type": "code",
      "source": [
        "for i in range(0,10):\n",
        " print('value of i',i)"
      ],
      "metadata": {
        "colab": {
          "base_uri": "https://localhost:8080/"
        },
        "id": "auvoBoEvILZn",
        "outputId": "040d6dcd-5d01-4a7e-c57b-fccf2a7d22f8"
      },
      "execution_count": 12,
      "outputs": [
        {
          "output_type": "stream",
          "name": "stdout",
          "text": [
            "value of i 0\n",
            "value of i 1\n",
            "value of i 2\n",
            "value of i 3\n",
            "value of i 4\n",
            "value of i 5\n",
            "value of i 6\n",
            "value of i 7\n",
            "value of i 8\n",
            "value of i 9\n"
          ]
        }
      ]
    },
    {
      "cell_type": "code",
      "source": [
        "for i in range(0,10,1):\n",
        " print('value of i',i)"
      ],
      "metadata": {
        "colab": {
          "base_uri": "https://localhost:8080/"
        },
        "id": "zlvSkORBIQ8q",
        "outputId": "28429c08-62b9-48e9-e187-033d4ea078f4"
      },
      "execution_count": 15,
      "outputs": [
        {
          "output_type": "stream",
          "name": "stdout",
          "text": [
            "value of i 0\n",
            "value of i 1\n",
            "value of i 2\n",
            "value of i 3\n",
            "value of i 4\n",
            "value of i 5\n",
            "value of i 6\n",
            "value of i 7\n",
            "value of i 8\n",
            "value of i 9\n"
          ]
        }
      ]
    },
    {
      "cell_type": "code",
      "source": [
        "for i in range(10):\n",
        "  for j in range(10):\n",
        "    print('*', end=' ')\n",
        "  print('\\r') #This code is used to change the row.'\\n' is used to change line."
      ],
      "metadata": {
        "colab": {
          "base_uri": "https://localhost:8080/"
        },
        "id": "0lYQubWzI05d",
        "outputId": "25f05b16-76ee-4388-831e-d74f421f644f"
      },
      "execution_count": 31,
      "outputs": [
        {
          "output_type": "stream",
          "name": "stdout",
          "text": [
            "* * * * * * * * * * \r\n",
            "* * * * * * * * * * \r\n",
            "* * * * * * * * * * \r\n",
            "* * * * * * * * * * \r\n",
            "* * * * * * * * * * \r\n",
            "* * * * * * * * * * \r\n",
            "* * * * * * * * * * \r\n",
            "* * * * * * * * * * \r\n",
            "* * * * * * * * * * \r\n",
            "* * * * * * * * * * \r\n"
          ]
        }
      ]
    },
    {
      "cell_type": "code",
      "source": [
        "k=0\n",
        "for i in range(10):\n",
        "  for j in range(10):\n",
        "    k+=1\n",
        "    print(k,end='  ')\n",
        "  print('\\r')"
      ],
      "metadata": {
        "colab": {
          "base_uri": "https://localhost:8080/"
        },
        "id": "mT2yONl9KpeO",
        "outputId": "b0636931-df26-4be8-fae6-9eb60ca48ff8"
      },
      "execution_count": 39,
      "outputs": [
        {
          "output_type": "stream",
          "name": "stdout",
          "text": [
            "1  2  3  4  5  6  7  8  9  10  \r\n",
            "11  12  13  14  15  16  17  18  19  20  \r\n",
            "21  22  23  24  25  26  27  28  29  30  \r\n",
            "31  32  33  34  35  36  37  38  39  40  \r\n",
            "41  42  43  44  45  46  47  48  49  50  \r\n",
            "51  52  53  54  55  56  57  58  59  60  \r\n",
            "61  62  63  64  65  66  67  68  69  70  \r\n",
            "71  72  73  74  75  76  77  78  79  80  \r\n",
            "81  82  83  84  85  86  87  88  89  90  \r\n",
            "91  92  93  94  95  96  97  98  99  100  \r\n"
          ]
        }
      ]
    },
    {
      "cell_type": "code",
      "source": [
        "for i in range(10):\n",
        "  for j in range(0,10-i): #This is for printing spaces before the astericks\n",
        "    print(' ', end='')\n",
        "  for k in range(0,i+1): #This is for printing the astericks\n",
        "    print('*', end=' ')\n",
        "  print('\\r')"
      ],
      "metadata": {
        "colab": {
          "base_uri": "https://localhost:8080/"
        },
        "id": "w-n1DAYcL9aQ",
        "outputId": "d8a24d02-6bd8-4c73-a392-f76bcca6bcb5"
      },
      "execution_count": 43,
      "outputs": [
        {
          "output_type": "stream",
          "name": "stdout",
          "text": [
            "          * \r\n",
            "         * * \r\n",
            "        * * * \r\n",
            "       * * * * \r\n",
            "      * * * * * \r\n",
            "     * * * * * * \r\n",
            "    * * * * * * * \r\n",
            "   * * * * * * * * \r\n",
            "  * * * * * * * * * \r\n",
            " * * * * * * * * * * \r\n"
          ]
        }
      ]
    },
    {
      "cell_type": "code",
      "source": [
        "for i in range(10):\n",
        "  for j in range (0,i+1):\n",
        "    print(' ', end='')\n",
        "  for k in range(0,10-i): #This is for printing the astericks\n",
        "    print('*', end=' ')\n",
        "  print('\\r')\n"
      ],
      "metadata": {
        "colab": {
          "base_uri": "https://localhost:8080/"
        },
        "id": "RMFwQ0HRNu6d",
        "outputId": "c977c4b6-8fc0-463b-ed7f-7aec2a99931b"
      },
      "execution_count": 58,
      "outputs": [
        {
          "output_type": "stream",
          "name": "stdout",
          "text": [
            " * * * * * * * * * * \r\n",
            "  * * * * * * * * * \r\n",
            "   * * * * * * * * \r\n",
            "    * * * * * * * \r\n",
            "     * * * * * * \r\n",
            "      * * * * * \r\n",
            "       * * * * \r\n",
            "        * * * \r\n",
            "         * * \r\n",
            "          * \r\n"
          ]
        }
      ]
    },
    {
      "cell_type": "code",
      "source": [
        "for i in range(10):\n",
        "  for j in range (0,i+1):\n",
        "    print(' ', end='')\n",
        "  for k in range(0,10-i): #This is for printing the astericks\n",
        "    print('*', end=' ')\n",
        "  print('\\r')\n",
        "for i in range(10):\n",
        "  for j in range(0,9-i): #This is for printing spaces before the astericks\n",
        "    print(' ', end='')\n",
        "  for k in range(0,i+2): #This is for printing the astericks\n",
        "    print('*', end=' ')\n",
        "  print('\\r')"
      ],
      "metadata": {
        "colab": {
          "base_uri": "https://localhost:8080/"
        },
        "id": "gfwndowNO4Gs",
        "outputId": "fd2c82f8-4b6c-4e2a-b72b-88833af0ba86"
      },
      "execution_count": 66,
      "outputs": [
        {
          "output_type": "stream",
          "name": "stdout",
          "text": [
            " * * * * * * * * * * \r\n",
            "  * * * * * * * * * \r\n",
            "   * * * * * * * * \r\n",
            "    * * * * * * * \r\n",
            "     * * * * * * \r\n",
            "      * * * * * \r\n",
            "       * * * * \r\n",
            "        * * * \r\n",
            "         * * \r\n",
            "          * \r\n",
            "         * * \r\n",
            "        * * * \r\n",
            "       * * * * \r\n",
            "      * * * * * \r\n",
            "     * * * * * * \r\n",
            "    * * * * * * * \r\n",
            "   * * * * * * * * \r\n",
            "  * * * * * * * * * \r\n",
            " * * * * * * * * * * \r\n",
            "* * * * * * * * * * * \r\n"
          ]
        }
      ]
    }
  ]
}