{
  "nbformat": 4,
  "nbformat_minor": 0,
  "metadata": {
    "colab": {
      "provenance": []
    },
    "kernelspec": {
      "name": "python3",
      "display_name": "Python 3"
    },
    "language_info": {
      "name": "python"
    }
  },
  "cells": [
    {
      "cell_type": "code",
      "execution_count": 9,
      "metadata": {
        "colab": {
          "base_uri": "https://localhost:8080/"
        },
        "id": "wdThelkQXihM",
        "outputId": "7ed49b70-74d9-4c94-d02d-b25fe9700d60"
      },
      "outputs": [
        {
          "output_type": "stream",
          "name": "stdout",
          "text": [
            "Enter a phrase:Ajita Giri\n",
            "AG\n"
          ]
        }
      ],
      "source": [
        "#Create Acronyms using Python\n",
        "phrase=input('Enter a phrase:')\n",
        "text =phrase.split()\n",
        "a = ''\n",
        "for i in text:\n",
        "  a = a + i[0].upper()\n",
        "print(a)"
      ]
    },
    {
      "cell_type": "code",
      "source": [
        "#Alarm clock with Python\n",
        "from datetime import datetime\n",
        "alarm_time = input('Enter the time of alarm to be set:HH:MM:SS\\n')\n",
        "alarm_hour = alarm_time[0:2]\n",
        "alarm_minute = alarm_time[3:5]\n",
        "alarm_seconds = alarm_time[6:8]\n",
        "alarm_period = alarm_time[9:11].upper()\n",
        "print('Setting up alarm.')\n",
        "while True:\n",
        "  now = datetime.now()\n",
        "  current_hour = now.strftime('%I')\n",
        "  current_minute = now.strftime('%M')\n",
        "  current_seconds = now.strftime('%S')\n",
        "  current_period = now.strftime('%p')\n",
        "  if(alarm_period==current_period):\n",
        "    if(alarm_hour==current_hour):\n",
        "      if(alarm_minute==current_minute):\n",
        "        if(alarm_seconds==current_seconds):\n",
        "          print('Wake up!')\n",
        "          break\n"
      ],
      "metadata": {
        "colab": {
          "base_uri": "https://localhost:8080/"
        },
        "id": "k6HyG0LlaxFT",
        "outputId": "7542e022-660c-4965-cb13-5161eceff6c6"
      },
      "execution_count": 14,
      "outputs": [
        {
          "output_type": "stream",
          "name": "stdout",
          "text": [
            "Enter the time of alarm to be set:HH:MM:SS\n",
            "08\n",
            "Setting up alarm.\n"
          ]
        }
      ]
    },
    {
      "cell_type": "code",
      "source": [
        "#Email Slicer\n",
        "email = input('Enter your email:').strip() #.strip is used to remove any accidental leading or trailing whitespaces in email.\n",
        "username=email[:email.index('@')]\n",
        "domainname=email[email.index('@')+1:]\n",
        "print('Your user name is',username,'and your domain is', domainname)"
      ],
      "metadata": {
        "colab": {
          "base_uri": "https://localhost:8080/"
        },
        "id": "grAKL8j2ecjW",
        "outputId": "f8f5da52-533e-478e-ccd3-746eb5f5250a"
      },
      "execution_count": 20,
      "outputs": [
        {
          "output_type": "stream",
          "name": "stdout",
          "text": [
            "Enter your email:ajitagiri26@gmail.com\n",
            "Your user name is ajitagiri26 and your domain name is gmail.com\n"
          ]
        }
      ]
    },
    {
      "cell_type": "code",
      "source": [
        "#story generator with python\n",
        "import random\n",
        "when = ['A few Years ago', 'Yesterday', 'Last night', 'A long time ago', 'On 8th April']\n",
        "who = ['A rabbit', 'A person']\n",
        "name = ['Ali','Ajita','Deepesh']\n",
        "residence = ['Barcelona', 'India','Germany','Nepal']\n",
        "went = ['cinema', 'university', 'seminar', 'school']\n",
        "happened = ['made a lot of friends.','Eats a burger.','wrote a book.']\n",
        "print(random.choice(when)+', '+random.choice(who)+ ' that lived in '+random.choice(residence)+', went to the '+ random.choice(went) + ' and ' + random.choice(happened))"
      ],
      "metadata": {
        "colab": {
          "base_uri": "https://localhost:8080/"
        },
        "id": "uN_HfbA3hJLR",
        "outputId": "cdf535a3-05bd-49e0-fe25-ab613e64a706"
      },
      "execution_count": 32,
      "outputs": [
        {
          "output_type": "stream",
          "name": "stdout",
          "text": [
            "A long time ago, A rabbit that lived in Barcelona, went to the university and wrote a book.\n"
          ]
        }
      ]
    },
    {
      "cell_type": "code",
      "source": [
        "#Generate password with python\n",
        "import secrets\n",
        "import string\n",
        "def generate_password(length=14):\n",
        "  characters = string.ascii_letters + string.digits + string.punctuation\n",
        "  password = ''.join(secrets.choice(characters)for _ in range(length))\n",
        "  return password\n",
        "password = generate_password()\n",
        "print(\"Generated Password:\", password)\n",
        "print(len(password))"
      ],
      "metadata": {
        "colab": {
          "base_uri": "https://localhost:8080/"
        },
        "id": "PFI4uKymlSEr",
        "outputId": "4541d350-bb6d-4984-d0b3-a784c1dadf1f"
      },
      "execution_count": 34,
      "outputs": [
        {
          "output_type": "stream",
          "name": "stdout",
          "text": [
            "Generated Password: (}q;2:$(;yPpR^\n",
            "14\n"
          ]
        }
      ]
    },
    {
      "cell_type": "code",
      "source": [
        "#Generate QR code\n",
        "!pip install pyqrcode"
      ],
      "metadata": {
        "colab": {
          "base_uri": "https://localhost:8080/"
        },
        "id": "qSVYKHqjmf2y",
        "outputId": "743371a0-ed96-4bcf-a7c2-4c9b6d8f897a"
      },
      "execution_count": 37,
      "outputs": [
        {
          "output_type": "stream",
          "name": "stdout",
          "text": [
            "Collecting pyqrcode\n",
            "  Downloading PyQRCode-1.2.1.zip (41 kB)\n",
            "\u001b[2K     \u001b[90m━━━━━━━━━━━━━━━━━━━━━━━━━━━━━━━━━━━━━━━━\u001b[0m \u001b[32m41.9/41.9 kB\u001b[0m \u001b[31m1.4 MB/s\u001b[0m eta \u001b[36m0:00:00\u001b[0m\n",
            "\u001b[?25h  Preparing metadata (setup.py) ... \u001b[?25l\u001b[?25hdone\n",
            "Building wheels for collected packages: pyqrcode\n",
            "  Building wheel for pyqrcode (setup.py) ... \u001b[?25l\u001b[?25hdone\n",
            "  Created wheel for pyqrcode: filename=PyQRCode-1.2.1-py3-none-any.whl size=36223 sha256=e85cf5086385fc2f6e647effb1bcc44a18a5efaf649d58e00b2d8ae505b91b8a\n",
            "  Stored in directory: /root/.cache/pip/wheels/34/2d/20/082874e49a32cdcc87ebaf99dd0099fb7774ef30f010dfb6f2\n",
            "Successfully built pyqrcode\n",
            "Installing collected packages: pyqrcode\n",
            "Successfully installed pyqrcode-1.2.1\n"
          ]
        }
      ]
    },
    {
      "cell_type": "code",
      "source": [
        "import pyqrcode\n",
        "from pyqrcode import QRCode\n",
        "s = 'https://www.youtube.com/watch?v=FpJi6Pb_67s&t=3402s'\n",
        "url = pyqrcode.create(s)\n",
        "#Create and save the png file naming 'myqr.png'\n",
        "url.svg('myyoutube.svg', scale = 8 )\n",
        "print(url)\n",
        "\n",
        "from google.colab import files\n",
        "files.download('myyoutube.svg')"
      ],
      "metadata": {
        "colab": {
          "base_uri": "https://localhost:8080/",
          "height": 34
        },
        "id": "pbpvywrAntCt",
        "outputId": "4c2a664c-f154-4b70-913e-0ed8b6ec8713"
      },
      "execution_count": 41,
      "outputs": [
        {
          "output_type": "stream",
          "name": "stdout",
          "text": [
            "QRCode(content=b'https://www.youtube.com/watch?v=FpJi6Pb_67s&t=3402s', error='H', version=6, mode='binary')\n"
          ]
        },
        {
          "output_type": "display_data",
          "data": {
            "text/plain": [
              "<IPython.core.display.Javascript object>"
            ],
            "application/javascript": [
              "\n",
              "    async function download(id, filename, size) {\n",
              "      if (!google.colab.kernel.accessAllowed) {\n",
              "        return;\n",
              "      }\n",
              "      const div = document.createElement('div');\n",
              "      const label = document.createElement('label');\n",
              "      label.textContent = `Downloading \"${filename}\": `;\n",
              "      div.appendChild(label);\n",
              "      const progress = document.createElement('progress');\n",
              "      progress.max = size;\n",
              "      div.appendChild(progress);\n",
              "      document.body.appendChild(div);\n",
              "\n",
              "      const buffers = [];\n",
              "      let downloaded = 0;\n",
              "\n",
              "      const channel = await google.colab.kernel.comms.open(id);\n",
              "      // Send a message to notify the kernel that we're ready.\n",
              "      channel.send({})\n",
              "\n",
              "      for await (const message of channel.messages) {\n",
              "        // Send a message to notify the kernel that we're ready.\n",
              "        channel.send({})\n",
              "        if (message.buffers) {\n",
              "          for (const buffer of message.buffers) {\n",
              "            buffers.push(buffer);\n",
              "            downloaded += buffer.byteLength;\n",
              "            progress.value = downloaded;\n",
              "          }\n",
              "        }\n",
              "      }\n",
              "      const blob = new Blob(buffers, {type: 'application/binary'});\n",
              "      const a = document.createElement('a');\n",
              "      a.href = window.URL.createObjectURL(blob);\n",
              "      a.download = filename;\n",
              "      div.appendChild(a);\n",
              "      a.click();\n",
              "      div.remove();\n",
              "    }\n",
              "  "
            ]
          },
          "metadata": {}
        },
        {
          "output_type": "display_data",
          "data": {
            "text/plain": [
              "<IPython.core.display.Javascript object>"
            ],
            "application/javascript": [
              "download(\"download_b9947a05-db25-4793-bdce-1cf56759471b\", \"myyoutube.svg\", 2883)"
            ]
          },
          "metadata": {}
        }
      ]
    },
    {
      "cell_type": "code",
      "source": [
        "#Dice roll simulator\n",
        "import random\n",
        "#range of the values of the dice\n",
        "max_val = 6\n",
        "min_val = 1\n",
        "# to loop the rolling through user input\n",
        "roll_again = 'yes'\n",
        "while roll_again == 'yes' or roll_again == 'y':\n",
        "  print('Rolling the dices...')\n",
        "  print('The values are: ')\n",
        "\n",
        "  #generating and printing first random integer from 1 to 6\n",
        "  print(random.randint(min_val, max_val))\n",
        "  #generating and printing first random integer from 1 to 6\n",
        "  print(random.randint(min_val, max_val))\n",
        "  roll_again = input('Roll the dices again?')"
      ],
      "metadata": {
        "colab": {
          "base_uri": "https://localhost:8080/"
        },
        "id": "IA2rwI3do96o",
        "outputId": "5f25b443-e1c6-4781-df34-e0472ae26c29"
      },
      "execution_count": 4,
      "outputs": [
        {
          "name": "stdout",
          "output_type": "stream",
          "text": [
            "Rolling the dices...\n",
            "The values are: \n",
            "6\n",
            "6\n",
            "Roll the dices again?y\n",
            "Rolling the dices...\n",
            "The values are: \n",
            "1\n",
            "5\n",
            "Roll the dices again?yes\n",
            "Rolling the dices...\n",
            "The values are: \n",
            "4\n",
            "5\n",
            "Roll the dices again?n\n"
          ]
        }
      ]
    },
    {
      "cell_type": "code",
      "source": [
        "import numpy as np"
      ],
      "metadata": {
        "id": "v1RHBmGbYBT0"
      },
      "execution_count": 5,
      "outputs": []
    },
    {
      "cell_type": "code",
      "source": [
        "a = np.random.random((5,5,5))\n",
        "print(a)"
      ],
      "metadata": {
        "colab": {
          "base_uri": "https://localhost:8080/"
        },
        "id": "DsHx-BURX5QY",
        "outputId": "5e7dd558-4271-4e6e-ac92-31608cc7bdf1"
      },
      "execution_count": 7,
      "outputs": [
        {
          "output_type": "stream",
          "name": "stdout",
          "text": [
            "[[[0.84218111 0.87352241 0.39465331 0.56815504 0.47872437]\n",
            "  [0.07812497 0.71344306 0.71662883 0.7069995  0.34227796]\n",
            "  [0.94618416 0.49000425 0.26800862 0.45112733 0.55601505]\n",
            "  [0.43139092 0.44426523 0.6052111  0.92996005 0.42296362]\n",
            "  [0.88200679 0.95201589 0.63490701 0.042283   0.30073893]]\n",
            "\n",
            " [[0.34518035 0.03941581 0.83586688 0.04327819 0.70358964]\n",
            "  [0.76689246 0.40655926 0.31360258 0.68292692 0.70964243]\n",
            "  [0.26725297 0.55511084 0.57118497 0.94600535 0.01922229]\n",
            "  [0.91039542 0.26701024 0.23880232 0.03385675 0.66229533]\n",
            "  [0.81548961 0.98858879 0.52616964 0.48878941 0.61437575]]\n",
            "\n",
            " [[0.17871922 0.72930864 0.74984341 0.17353855 0.12130913]\n",
            "  [0.86419211 0.4085802  0.38657748 0.61236158 0.86549536]\n",
            "  [0.91308009 0.41978452 0.64703655 0.26115127 0.18240045]\n",
            "  [0.74894033 0.0850424  0.87895942 0.69707113 0.55146892]\n",
            "  [0.3527271  0.00484361 0.28571221 0.12308876 0.76165683]]\n",
            "\n",
            " [[0.23255859 0.51509889 0.87358574 0.6805667  0.36681318]\n",
            "  [0.59781094 0.97688426 0.61696251 0.21380333 0.42886697]\n",
            "  [0.59251051 0.47515317 0.67059612 0.68085489 0.8005797 ]\n",
            "  [0.60643343 0.29646805 0.97842872 0.27943453 0.76911047]\n",
            "  [0.61004658 0.37161437 0.18023913 0.71203619 0.11933787]]\n",
            "\n",
            " [[0.04295456 0.81130435 0.82319032 0.73037851 0.25748731]\n",
            "  [0.19005227 0.70400053 0.43804532 0.13832578 0.30981695]\n",
            "  [0.71712485 0.89274677 0.58230719 0.26098031 0.45330206]\n",
            "  [0.13464014 0.05809703 0.47090964 0.86150692 0.26858026]\n",
            "  [0.25318619 0.04293054 0.86157774 0.04467643 0.14176589]]]\n"
          ]
        }
      ]
    },
    {
      "cell_type": "code",
      "source": [
        "v= np.random.random((10,10))\n",
        "v_max,v_min = v.max(), v.min()\n",
        "print(v_max,v_min)\n",
        "#0.9866038102709302 0.025508396249420584\n",
        "#0.9688565412080112 0.020772293363335637\n",
        "#0.9925083151044815 0.004391322570258316"
      ],
      "metadata": {
        "colab": {
          "base_uri": "https://localhost:8080/"
        },
        "id": "_C1KYOzcYOee",
        "outputId": "8b0c2f8d-910d-438c-a031-f3d7ee021583"
      },
      "execution_count": 11,
      "outputs": [
        {
          "output_type": "stream",
          "name": "stdout",
          "text": [
            "0.9925083151044815 0.004391322570258316\n"
          ]
        }
      ]
    },
    {
      "cell_type": "code",
      "source": [
        "v = np.random.random(30)\n",
        "v_mean = v.mean()\n",
        "print(v_mean)"
      ],
      "metadata": {
        "colab": {
          "base_uri": "https://localhost:8080/"
        },
        "id": "38AVzK4sYzT-",
        "outputId": "c5745e49-4a88-480b-bb59-3ccebc84ca3a"
      },
      "execution_count": 14,
      "outputs": [
        {
          "output_type": "stream",
          "name": "stdout",
          "text": [
            "0.5190003887688454\n"
          ]
        }
      ]
    },
    {
      "cell_type": "code",
      "source": [
        "v= np.ones((10,10))\n",
        "# print(v)\n",
        "v[1:-1,1:-1] = 0\n",
        "print(v)"
      ],
      "metadata": {
        "colab": {
          "base_uri": "https://localhost:8080/"
        },
        "id": "IOeVS1IGZFfR",
        "outputId": "cabed5bd-a847-47ce-fd87-0121515b0508"
      },
      "execution_count": 20,
      "outputs": [
        {
          "output_type": "stream",
          "name": "stdout",
          "text": [
            "[[1. 1. 1. 1. 1. 1. 1. 1. 1. 1.]\n",
            " [1. 0. 0. 0. 0. 0. 0. 0. 0. 1.]\n",
            " [1. 0. 0. 0. 0. 0. 0. 0. 0. 1.]\n",
            " [1. 0. 0. 0. 0. 0. 0. 0. 0. 1.]\n",
            " [1. 0. 0. 0. 0. 0. 0. 0. 0. 1.]\n",
            " [1. 0. 0. 0. 0. 0. 0. 0. 0. 1.]\n",
            " [1. 0. 0. 0. 0. 0. 0. 0. 0. 1.]\n",
            " [1. 0. 0. 0. 0. 0. 0. 0. 0. 1.]\n",
            " [1. 0. 0. 0. 0. 0. 0. 0. 0. 1.]\n",
            " [1. 1. 1. 1. 1. 1. 1. 1. 1. 1.]]\n"
          ]
        }
      ]
    },
    {
      "cell_type": "code",
      "source": [
        "a = np.zeros((5,5))\n",
        "a[1:-1,1:-1] = 1\n",
        "print(a)"
      ],
      "metadata": {
        "colab": {
          "base_uri": "https://localhost:8080/"
        },
        "id": "VueAXpwOaOZo",
        "outputId": "98c3dd15-ad20-463b-cce4-c6574bd3e4d8"
      },
      "execution_count": 27,
      "outputs": [
        {
          "output_type": "stream",
          "name": "stdout",
          "text": [
            "[[0. 0. 0. 0. 0.]\n",
            " [0. 1. 1. 1. 0.]\n",
            " [0. 1. 1. 1. 0.]\n",
            " [0. 1. 1. 1. 0.]\n",
            " [0. 0. 0. 0. 0.]]\n"
          ]
        }
      ]
    },
    {
      "cell_type": "code",
      "source": [
        "v= np.ones((5,5))\n",
        "print(v)\n",
        "v=np.pad(v,pad_width=1,mode='constant', constant_values=9)\n",
        "print(v)\n",
        "#padding refers to the process of adding elements (usually zeros or a specific constant value) to the edges of the array.\n",
        "#This is often done to extend the size of the array or to create a border around it."
      ],
      "metadata": {
        "colab": {
          "base_uri": "https://localhost:8080/"
        },
        "id": "SW2-Y2EsbUvr",
        "outputId": "98b0472d-5228-4b80-c7b8-31e13cec3651"
      },
      "execution_count": 38,
      "outputs": [
        {
          "output_type": "stream",
          "name": "stdout",
          "text": [
            "[[1. 1. 1. 1. 1.]\n",
            " [1. 1. 1. 1. 1.]\n",
            " [1. 1. 1. 1. 1.]\n",
            " [1. 1. 1. 1. 1.]\n",
            " [1. 1. 1. 1. 1.]]\n",
            "[[9. 9. 9. 9. 9. 9. 9.]\n",
            " [9. 1. 1. 1. 1. 1. 9.]\n",
            " [9. 1. 1. 1. 1. 1. 9.]\n",
            " [9. 1. 1. 1. 1. 1. 9.]\n",
            " [9. 1. 1. 1. 1. 1. 9.]\n",
            " [9. 1. 1. 1. 1. 1. 9.]\n",
            " [9. 9. 9. 9. 9. 9. 9.]]\n"
          ]
        }
      ]
    },
    {
      "cell_type": "code",
      "source": [
        "np.nan #nan means null.In NumPy, \"NaN\" stands for \"Not a Number.\" It is a special floating-point value that represents undefined or\n",
        "#unrepresentable numerical results.NaN is often used to indicate missing or undefined data in numerical arrays."
      ],
      "metadata": {
        "colab": {
          "base_uri": "https://localhost:8080/"
        },
        "id": "kQZzUl1Rcjkq",
        "outputId": "b95dfc3b-8a3b-44b0-a23f-521bd6be172c"
      },
      "execution_count": 39,
      "outputs": [
        {
          "output_type": "execute_result",
          "data": {
            "text/plain": [
              "nan"
            ]
          },
          "metadata": {},
          "execution_count": 39
        }
      ]
    },
    {
      "cell_type": "code",
      "source": [
        "print(0*np.nan)\n",
        "print(np.nan==np.nan)\n",
        "print(np.inf > np.nan)\n",
        "print(np.nan-np.nan)\n",
        "print(0.3 == 3*0.1)"
      ],
      "metadata": {
        "colab": {
          "base_uri": "https://localhost:8080/"
        },
        "id": "FKX3_AcydTdT",
        "outputId": "04815125-b0cf-4654-aaa6-b000ffa2009f"
      },
      "execution_count": 44,
      "outputs": [
        {
          "output_type": "stream",
          "name": "stdout",
          "text": [
            "nan\n",
            "False\n",
            "False\n",
            "nan\n",
            "False\n"
          ]
        }
      ]
    },
    {
      "cell_type": "code",
      "source": [
        "#Create a 5x5 matrix with values 1,2,3,4 just below the diagonal\n",
        "v = np.diag([1,2,3,4,5])\n",
        "print(v)"
      ],
      "metadata": {
        "colab": {
          "base_uri": "https://localhost:8080/"
        },
        "id": "jAu1FA5hd1LY",
        "outputId": "992fe8a0-256b-4dd6-b4b6-f3e82c20413f"
      },
      "execution_count": 45,
      "outputs": [
        {
          "output_type": "stream",
          "name": "stdout",
          "text": [
            "[[1 0 0 0 0]\n",
            " [0 2 0 0 0]\n",
            " [0 0 3 0 0]\n",
            " [0 0 0 4 0]\n",
            " [0 0 0 0 5]]\n"
          ]
        }
      ]
    },
    {
      "cell_type": "code",
      "source": [
        "z = np.diag(1+np.arange(4),k=-1) #The k=-1 parameter specifies that the diagonal should be placed one position below the main diagonal.\n",
        "print(z)"
      ],
      "metadata": {
        "colab": {
          "base_uri": "https://localhost:8080/"
        },
        "id": "JslNLsGTefOV",
        "outputId": "26d34b1f-11f9-4aa4-9e53-ecc4d4308389"
      },
      "execution_count": 52,
      "outputs": [
        {
          "output_type": "stream",
          "name": "stdout",
          "text": [
            "[[0 0 0 0 0]\n",
            " [1 0 0 0 0]\n",
            " [0 2 0 0 0]\n",
            " [0 0 3 0 0]\n",
            " [0 0 0 4 0]]\n"
          ]
        }
      ]
    }
  ]
}