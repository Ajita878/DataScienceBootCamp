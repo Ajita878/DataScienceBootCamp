{
  "nbformat": 4,
  "nbformat_minor": 0,
  "metadata": {
    "colab": {
      "provenance": []
    },
    "kernelspec": {
      "name": "python3",
      "display_name": "Python 3"
    },
    "language_info": {
      "name": "python"
    }
  },
  "cells": [
    {
      "cell_type": "code",
      "execution_count": null,
      "metadata": {
        "colab": {
          "base_uri": "https://localhost:8080/"
        },
        "id": "jlVxdOAzstH9",
        "outputId": "4c46ec78-3da6-47a6-ff33-bbce50be0577"
      },
      "outputs": [
        {
          "output_type": "stream",
          "name": "stdout",
          "text": [
            "1\n",
            "2\n",
            "3\n",
            "4\n",
            "5\n",
            "6\n",
            "7\n",
            "8\n",
            "9\n",
            "10\n"
          ]
        }
      ],
      "source": [
        "#Print the first 10 natural numbers using for loop.\n",
        "n=11\n",
        "for i in range(1,n):\n",
        "  print(i)"
      ]
    },
    {
      "cell_type": "code",
      "source": [
        "#Print all the even numbers within the given range.\n",
        "for i in range(1,20):\n",
        "  if i%2==0:\n",
        "    print(i)"
      ],
      "metadata": {
        "colab": {
          "base_uri": "https://localhost:8080/"
        },
        "id": "fLPQ_9BktTBH",
        "outputId": "34b8943a-c4ee-4838-b98f-7db52cd4c3b8"
      },
      "execution_count": null,
      "outputs": [
        {
          "output_type": "stream",
          "name": "stdout",
          "text": [
            "2\n",
            "4\n",
            "6\n",
            "8\n",
            "10\n",
            "12\n",
            "14\n",
            "16\n",
            "18\n"
          ]
        }
      ]
    },
    {
      "cell_type": "code",
      "source": [
        "#Calculate the sum of all numbers from 1 to a given number.\n",
        "n=10\n",
        "total_sum=0\n",
        "for i in range(1,11):\n",
        "  total_sum+=i\n",
        "print(total_sum)"
      ],
      "metadata": {
        "colab": {
          "base_uri": "https://localhost:8080/"
        },
        "id": "wjdz3D6TutA5",
        "outputId": "289b560c-21d1-4782-c4d9-11c22fa0db69"
      },
      "execution_count": null,
      "outputs": [
        {
          "output_type": "stream",
          "name": "stdout",
          "text": [
            "55\n"
          ]
        }
      ]
    },
    {
      "cell_type": "code",
      "source": [
        "given_number = 10  # You can replace this with any desired number\n",
        "total_sum = 0\n",
        "\n",
        "for i in range(1, given_number + 1):\n",
        "    total_sum += i\n",
        "\n",
        "print(\"The sum of numbers from 1 to\", given_number, \"is:\", total_sum)"
      ],
      "metadata": {
        "colab": {
          "base_uri": "https://localhost:8080/"
        },
        "id": "9XT6LnQRvZjW",
        "outputId": "ac2d5fed-664f-46e3-9eaa-40b6740bf7ec"
      },
      "execution_count": null,
      "outputs": [
        {
          "output_type": "stream",
          "name": "stdout",
          "text": [
            "The sum of numbers from 1 to 10 is: 55\n"
          ]
        }
      ]
    },
    {
      "cell_type": "code",
      "source": [
        "#calculate the sum of all the odd numbers within the given range.\n",
        "total_sum=0\n",
        "for i in range(1,10):\n",
        "  if i%2!=0:\n",
        "    total_sum+=i\n",
        "print(total_sum)\n"
      ],
      "metadata": {
        "colab": {
          "base_uri": "https://localhost:8080/"
        },
        "id": "iq83GMpDww7G",
        "outputId": "21efd2d2-c980-4d02-92f8-de803c42fec9"
      },
      "execution_count": null,
      "outputs": [
        {
          "output_type": "stream",
          "name": "stdout",
          "text": [
            "50\n"
          ]
        }
      ]
    },
    {
      "cell_type": "code",
      "source": [
        "#Print multiplication table of a given number.\n",
        "num=13\n",
        "for i in range(1,11):\n",
        "  print(13,'x',i,'=',13*i)\n"
      ],
      "metadata": {
        "colab": {
          "base_uri": "https://localhost:8080/"
        },
        "id": "vX_-2kp8xft1",
        "outputId": "29f471e7-eed3-40bd-d225-c93d852db09e"
      },
      "execution_count": null,
      "outputs": [
        {
          "output_type": "stream",
          "name": "stdout",
          "text": [
            "13 x 1 = 13\n",
            "13 x 2 = 26\n",
            "13 x 3 = 39\n",
            "13 x 4 = 52\n",
            "13 x 5 = 65\n",
            "13 x 6 = 78\n",
            "13 x 7 = 91\n",
            "13 x 8 = 104\n",
            "13 x 9 = 117\n",
            "13 x 10 = 130\n"
          ]
        }
      ]
    },
    {
      "cell_type": "code",
      "source": [
        "#Display numbers from a list using for loop.\n",
        "a=[1,2,3,4,5,6,7,8,9]\n",
        "for i in a:\n",
        "  print(i)"
      ],
      "metadata": {
        "colab": {
          "base_uri": "https://localhost:8080/"
        },
        "id": "dg1Aw5vK0Fim",
        "outputId": "580c1ab1-55f6-4e72-885e-93b37cbcb18f"
      },
      "execution_count": null,
      "outputs": [
        {
          "output_type": "stream",
          "name": "stdout",
          "text": [
            "1\n",
            "2\n",
            "3\n",
            "4\n",
            "5\n",
            "6\n",
            "7\n",
            "8\n",
            "9\n"
          ]
        }
      ]
    },
    {
      "cell_type": "code",
      "source": [
        "#program to write the total number of digits in a number.\n",
        "n=123456\n",
        "count=0\n",
        "n=str(n)\n",
        "for i in n:\n",
        "  count+=1\n",
        "print(count)"
      ],
      "metadata": {
        "colab": {
          "base_uri": "https://localhost:8080/"
        },
        "id": "igZuvYPB0z1r",
        "outputId": "174d8167-0453-434d-cf78-a7f850de5f13"
      },
      "execution_count": null,
      "outputs": [
        {
          "output_type": "stream",
          "name": "stdout",
          "text": [
            "6\n"
          ]
        }
      ]
    },
    {
      "cell_type": "code",
      "source": [
        "#Python program to check if given string is palindrome.\n",
        "word = 'level'\n",
        "for i in word:\n",
        "  if word[::-1]:\n",
        "    reverse_word=i\n",
        "  print(reverse_word,end='')\n",
        "\n"
      ],
      "metadata": {
        "colab": {
          "base_uri": "https://localhost:8080/"
        },
        "id": "0kLaVMNH1Xyj",
        "outputId": "7cdc42aa-84a6-40de-bd91-7c97d80bebb1"
      },
      "execution_count": null,
      "outputs": [
        {
          "output_type": "stream",
          "name": "stdout",
          "text": [
            "level"
          ]
        }
      ]
    },
    {
      "cell_type": "code",
      "source": [
        "#Python program to check if given string is palindrome.\n",
        "word=(input('Enter a word:'))\n",
        "if word==word[::-1]:\n",
        "  print('It is a reverse word')\n",
        "else:\n",
        "  print('It is not a reverse word')"
      ],
      "metadata": {
        "colab": {
          "base_uri": "https://localhost:8080/"
        },
        "id": "W650uvcLAHWq",
        "outputId": "2731b4d5-8734-46db-e058-695463967401"
      },
      "execution_count": null,
      "outputs": [
        {
          "output_type": "stream",
          "name": "stdout",
          "text": [
            "Enter a word:level\n",
            "It is a reverse word\n"
          ]
        }
      ]
    },
    {
      "cell_type": "code",
      "source": [
        "#Program that accepts a word from the user and reverses it.\n",
        "word=input('Enter a number:')\n",
        "reverse_word=''\n",
        "for i in word:\n",
        "  reverse_word=i+reverse_word\n",
        "print(reverse_word)"
      ],
      "metadata": {
        "colab": {
          "base_uri": "https://localhost:8080/"
        },
        "id": "XWVlPYQICIcx",
        "outputId": "3e6e2c4e-52f4-4a3e-ed65-43b3046f952e"
      },
      "execution_count": null,
      "outputs": [
        {
          "output_type": "stream",
          "name": "stdout",
          "text": [
            "Enter a number:level\n",
            "level\n"
          ]
        }
      ]
    },
    {
      "cell_type": "code",
      "source": [
        "#Program to count the number of even and odd numbers from a series of numbers.\n",
        "num=[1,2,3,5,9,88,15,19,17,16]\n",
        "for i in num:\n",
        "  if i%2==0:\n",
        "    print(i,\"is an even number.\")\n",
        "  else:\n",
        "    print(i,\"is an odd number.\")"
      ],
      "metadata": {
        "colab": {
          "base_uri": "https://localhost:8080/"
        },
        "id": "3KLQiruUE2WF",
        "outputId": "debad650-2f40-4e15-9c49-971653226e13"
      },
      "execution_count": null,
      "outputs": [
        {
          "output_type": "stream",
          "name": "stdout",
          "text": [
            "1 is an odd number.\n",
            "2 is an even number.\n",
            "3 is an odd number.\n",
            "5 is an odd number.\n",
            "9 is an odd number.\n",
            "88 is an even number.\n",
            "15 is an odd number.\n",
            "19 is an odd number.\n",
            "17 is an odd number.\n",
            "16 is an even number.\n"
          ]
        }
      ]
    },
    {
      "cell_type": "code",
      "source": [
        "#Program to find the factorial of a given number.\n",
        "num=5\n",
        "factorial=1\n",
        "for i in range(1,6):\n",
        "  factorial= factorial*i\n",
        "print(factorial)\n"
      ],
      "metadata": {
        "colab": {
          "base_uri": "https://localhost:8080/"
        },
        "id": "fC_bthtedPFY",
        "outputId": "f5ba7da5-6579-46fb-ff9e-bd7b7607b485"
      },
      "execution_count": 20,
      "outputs": [
        {
          "output_type": "stream",
          "name": "stdout",
          "text": [
            "120\n"
          ]
        }
      ]
    },
    {
      "cell_type": "code",
      "source": [
        "#program that accepts a string and calculates the number of digits and letters.\n",
        "\n",
        "digit=0\n",
        "letter=0\n",
        "word=input('Enter a word:')\n",
        "for i in word:\n",
        "  if i.isdigit():\n",
        "    digit=digit+1\n",
        "  elif i.isalpha():\n",
        "    letter=letter+1\n",
        "print('It has',digit,'digits and',letter,'letter.')"
      ],
      "metadata": {
        "colab": {
          "base_uri": "https://localhost:8080/"
        },
        "id": "uEpTtotweiNP",
        "outputId": "ae4408b8-0315-4519-a879-c2e02c1a7743"
      },
      "execution_count": null,
      "outputs": [
        {
          "output_type": "stream",
          "name": "stdout",
          "text": [
            "Enter a word:word123\n",
            "It has 3 digits and 4 letter.\n"
          ]
        }
      ]
    },
    {
      "cell_type": "code",
      "source": [
        "#Factorial of a number\n",
        "num=10\n",
        "fact=1\n",
        "for i in range(1,11):\n",
        "  fact = i*fact\n",
        "print(fact)"
      ],
      "metadata": {
        "id": "xE4GKGyBiFEk",
        "colab": {
          "base_uri": "https://localhost:8080/"
        },
        "outputId": "e87781bd-1525-46f8-da28-cc10af500af2"
      },
      "execution_count": 5,
      "outputs": [
        {
          "output_type": "stream",
          "name": "stdout",
          "text": [
            "3628800\n"
          ]
        }
      ]
    },
    {
      "cell_type": "code",
      "source": [
        "#Factorial of a number\n",
        "num=10\n",
        "fact=1\n",
        "for i in range(1,11):\n",
        "  fact = i*fact\n",
        "print(fact)"
      ],
      "metadata": {
        "colab": {
          "base_uri": "https://localhost:8080/"
        },
        "id": "dloeLLHOnZwx",
        "outputId": "23811b78-4ebb-4d02-a718-2f3660b9c85a"
      },
      "execution_count": 24,
      "outputs": [
        {
          "output_type": "stream",
          "name": "stdout",
          "text": [
            "3628800\n"
          ]
        }
      ]
    },
    {
      "cell_type": "code",
      "source": [
        "#Separate a positive and negative number from list\n",
        "list=[0,1,2,3,4,5,-5,-4,-1,-10,-6,11]\n",
        "for i in list:\n",
        "  if i>0:\n",
        "    print(i,'is a positive number.')\n",
        "  else:\n",
        "    print(i,'is a negative number.')\n"
      ],
      "metadata": {
        "colab": {
          "base_uri": "https://localhost:8080/"
        },
        "id": "ZGAH8cnwn70n",
        "outputId": "d2c390de-22e7-414e-90ff-653dd7da6768"
      },
      "execution_count": 49,
      "outputs": [
        {
          "output_type": "stream",
          "name": "stdout",
          "text": [
            "0 is a negative number.\n",
            "1 is a positive number.\n",
            "2 is a positive number.\n",
            "3 is a positive number.\n",
            "4 is a positive number.\n",
            "5 is a positive number.\n",
            "-5 is a negative number.\n",
            "-4 is a negative number.\n",
            "-1 is a negative number.\n",
            "-10 is a negative number.\n",
            "-6 is a negative number.\n",
            "11 is a positive number.\n"
          ]
        }
      ]
    },
    {
      "cell_type": "code",
      "source": [
        "#Factorial of a number\n",
        "num=int(input('Please enter a number:'))\n",
        "fact=1\n",
        "for i in range(1,num+1):\n",
        "  fact = i*fact\n",
        "print(fact)"
      ],
      "metadata": {
        "colab": {
          "base_uri": "https://localhost:8080/"
        },
        "id": "pQe_5wGUq91n",
        "outputId": "9e5ee50e-2b2c-47e6-cfbc-458c44943dd8"
      },
      "execution_count": 37,
      "outputs": [
        {
          "output_type": "stream",
          "name": "stdout",
          "text": [
            "Please enter a number:8\n",
            "40320\n"
          ]
        }
      ]
    },
    {
      "cell_type": "code",
      "source": [
        "a=0\n",
        "b=1\n",
        "f_series=[a,b]\n",
        "for i in range(2,10):\n",
        "  c = a+b\n",
        "  f_series.append(c)\n",
        "  a=b\n",
        "  b=c\n",
        "print(f_series)"
      ],
      "metadata": {
        "colab": {
          "base_uri": "https://localhost:8080/"
        },
        "id": "C-zxFcAAq94m",
        "outputId": "a0fadf68-e7f2-4f3f-e3b8-d5b078ae902a"
      },
      "execution_count": 51,
      "outputs": [
        {
          "output_type": "stream",
          "name": "stdout",
          "text": [
            "[0, 1, 1, 2, 3, 5, 8, 13, 21, 34]\n"
          ]
        }
      ]
    },
    {
      "cell_type": "code",
      "source": [
        "f_list=[0,1]\n",
        "number_of_terms=int(input('Number of terms:'))\n",
        "while len(f_list)<number_of_terms:\n",
        "  next_term=f_list[-1]+f_list[-2]\n",
        "  f_list.append(next_term)\n",
        "print(f_list)"
      ],
      "metadata": {
        "colab": {
          "base_uri": "https://localhost:8080/"
        },
        "id": "bJqiXKeQq98P",
        "outputId": "6fad0cb8-f1b2-42cc-a4ac-14558a60732c"
      },
      "execution_count": 53,
      "outputs": [
        {
          "output_type": "stream",
          "name": "stdout",
          "text": [
            "Number of terms:10\n",
            "[0, 1, 1, 2, 3, 5, 8, 13, 21, 34]\n"
          ]
        }
      ]
    },
    {
      "cell_type": "code",
      "source": [
        "#Find those numbers which are divisible by 7 and multiples of 5, between 1500 and 2700(both included).\n",
        "for i in range(1500,2701):\n",
        "  if i%7==0 and i%5==0:\n",
        "    print(i)"
      ],
      "metadata": {
        "colab": {
          "base_uri": "https://localhost:8080/"
        },
        "id": "pkmQY9_9q99w",
        "outputId": "2cb3664e-b0fc-4f2d-e597-4c60df90e393"
      },
      "execution_count": 22,
      "outputs": [
        {
          "output_type": "stream",
          "name": "stdout",
          "text": [
            "1505\n",
            "1540\n",
            "1575\n",
            "1610\n",
            "1645\n",
            "1680\n",
            "1715\n",
            "1750\n",
            "1785\n",
            "1820\n",
            "1855\n",
            "1890\n",
            "1925\n",
            "1960\n",
            "1995\n",
            "2030\n",
            "2065\n",
            "2100\n",
            "2135\n",
            "2170\n",
            "2205\n",
            "2240\n",
            "2275\n",
            "2310\n",
            "2345\n",
            "2380\n",
            "2415\n",
            "2450\n",
            "2485\n",
            "2520\n",
            "2555\n",
            "2590\n",
            "2625\n",
            "2660\n",
            "2695\n"
          ]
        }
      ]
    },
    {
      "cell_type": "code",
      "source": [
        "#Write a program to count the number of even and odd numbers in a series of numbers.\n",
        "#sample numbers =(1,2,3,4,5,6,7,8,9)\n",
        "a=(1,2,3,4,5,6,7,8,9)\n",
        "even=0\n",
        "odd=0\n",
        "for i in a:\n",
        "  if i%2==0:\n",
        "    even+=1\n",
        "  else:\n",
        "    odd+=1\n",
        "print('Number of even numbers:',even)\n",
        "print('Number of odd numbers:',odd)\n"
      ],
      "metadata": {
        "colab": {
          "base_uri": "https://localhost:8080/"
        },
        "id": "Hq5O3M-7pJD3",
        "outputId": "1572ab4e-c92a-4dad-bfeb-a03297099b10"
      },
      "execution_count": 21,
      "outputs": [
        {
          "output_type": "stream",
          "name": "stdout",
          "text": [
            "Number of even numbers: 4\n",
            "Number of odd numbers: 5\n"
          ]
        }
      ]
    },
    {
      "cell_type": "code",
      "source": [
        "#Write a python program that prints all the numbers from 0 to 6 except 3 and 6.\n",
        "for i in range(6):\n",
        "  if i!=3 and i!=6:\n",
        "    print(i)"
      ],
      "metadata": {
        "colab": {
          "base_uri": "https://localhost:8080/"
        },
        "id": "P1rmjrovKr5F",
        "outputId": "9983ac59-212e-46d7-8d3d-52d034d491ae"
      },
      "execution_count": 8,
      "outputs": [
        {
          "output_type": "stream",
          "name": "stdout",
          "text": [
            "0\n",
            "1\n",
            "2\n",
            "4\n",
            "5\n"
          ]
        }
      ]
    },
    {
      "cell_type": "code",
      "source": [],
      "metadata": {
        "id": "FLssBCr5LsOd"
      },
      "execution_count": null,
      "outputs": []
    }
  ]
}