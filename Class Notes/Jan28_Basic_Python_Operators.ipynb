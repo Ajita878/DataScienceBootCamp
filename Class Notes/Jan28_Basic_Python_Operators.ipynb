{
  "nbformat": 4,
  "nbformat_minor": 0,
  "metadata": {
    "colab": {
      "provenance": []
    },
    "kernelspec": {
      "name": "python3",
      "display_name": "Python 3"
    },
    "language_info": {
      "name": "python"
    }
  },
  "cells": [
    {
      "cell_type": "code",
      "execution_count": null,
      "metadata": {
        "id": "FnFPAiC1kR7t"
      },
      "outputs": [],
      "source": [
        "#Basic Python Operators"
      ]
    },
    {
      "cell_type": "code",
      "source": [
        "a = 100\n",
        "b = 20\n",
        "print(a+b)\n",
        "print(a-b)\n",
        "print(a*b)\n",
        "print(a/b)\n",
        "print(a%b) # '%' This sign is called modulus. It gives remainder.\n",
        "print(a//b)# '//'. It is called floor division. It gives quotient.\n",
        "print(a**b)# It gives exponential.\n"
      ],
      "metadata": {
        "colab": {
          "base_uri": "https://localhost:8080/"
        },
        "id": "MgCSQx5ckfQs",
        "outputId": "cfe3898b-223c-4ae9-c647-2fe37c19268e"
      },
      "execution_count": 6,
      "outputs": [
        {
          "output_type": "stream",
          "name": "stdout",
          "text": [
            "120\n",
            "80\n",
            "2000\n",
            "5.0\n",
            "0\n",
            "5\n",
            "10000000000000000000000000000000000000000\n"
          ]
        }
      ]
    },
    {
      "cell_type": "code",
      "source": [
        "#Comparision Operators\n",
        "a = 100\n",
        "b = 20\n",
        "print(a==b) #double equal (==)is used for comparision.\n",
        "print(a>b)\n",
        "print(a<b)\n",
        "print(a!=b)\n",
        "print(a<=b)\n",
        "print(a>=b)"
      ],
      "metadata": {
        "colab": {
          "base_uri": "https://localhost:8080/"
        },
        "id": "0GIWWfQ6kift",
        "outputId": "f099a12d-67e1-420a-89dd-db748088198a"
      },
      "execution_count": 8,
      "outputs": [
        {
          "output_type": "stream",
          "name": "stdout",
          "text": [
            "False\n",
            "True\n",
            "False\n",
            "True\n",
            "False\n",
            "True\n"
          ]
        }
      ]
    },
    {
      "cell_type": "code",
      "source": [
        "#Association Operator\n",
        "#a = a + b => a += b\n",
        "a = 100\n",
        "b = 20\n",
        "a +=b\n",
        "print(a,b)\n",
        "\n",
        "a = 100\n",
        "b = 20\n",
        "a -=b\n",
        "print(a,b)\n",
        "\n",
        "a = 100\n",
        "b = 20\n",
        "a /=b\n",
        "print(a,b)\n",
        "\n",
        "a = 100\n",
        "b = 20\n",
        "a %=b\n",
        "print(a,b)\n",
        "\n",
        "a = 100\n",
        "b = 20\n",
        "a //=b\n",
        "print(a,b)\n",
        "\n",
        "a = 100\n",
        "b = 2\n",
        "a **=b\n",
        "print(a,b)"
      ],
      "metadata": {
        "colab": {
          "base_uri": "https://localhost:8080/"
        },
        "id": "JhY3yAWwl8Lv",
        "outputId": "8cd45fdb-1968-4c31-cf24-61638975a28b"
      },
      "execution_count": 28,
      "outputs": [
        {
          "output_type": "stream",
          "name": "stdout",
          "text": [
            "120 20\n",
            "80 20\n",
            "5.0 20\n",
            "0 20\n",
            "5 20\n",
            "10000 2\n"
          ]
        }
      ]
    },
    {
      "cell_type": "code",
      "source": [
        "#Python logical operator"
      ],
      "metadata": {
        "id": "6M8xX1MUpdxl"
      },
      "execution_count": null,
      "outputs": []
    },
    {
      "cell_type": "code",
      "source": [
        "a = 100\n",
        "b = 20\n",
        "print(a > 80 and b < 80) #In case of and operator both condition should be true.\n",
        "print(a < 80 and b > 80)\n",
        "print(a == 80 and b < 80)\n",
        "print(a > 80 and b > 80)"
      ],
      "metadata": {
        "colab": {
          "base_uri": "https://localhost:8080/"
        },
        "id": "eAbg5a-goa8I",
        "outputId": "fff2f5e5-98cc-4823-8bcd-1362b427a8d9"
      },
      "execution_count": 33,
      "outputs": [
        {
          "output_type": "stream",
          "name": "stdout",
          "text": [
            "True\n",
            "False\n",
            "False\n",
            "False\n"
          ]
        }
      ]
    },
    {
      "cell_type": "code",
      "source": [
        "# Or operator\n",
        "print(a > 80 or b < 80)\n",
        "print(a < 80 or b < 80)\n",
        "print(a == 80 or b < 80)\n",
        "print(a < 80 or b > 80)"
      ],
      "metadata": {
        "colab": {
          "base_uri": "https://localhost:8080/"
        },
        "id": "qbmqC4h5ozc-",
        "outputId": "1297b710-0e93-4930-b26d-5ed1f7a6ee86"
      },
      "execution_count": 36,
      "outputs": [
        {
          "output_type": "stream",
          "name": "stdout",
          "text": [
            "True\n",
            "True\n",
            "True\n",
            "False\n"
          ]
        }
      ]
    },
    {
      "cell_type": "code",
      "source": [
        "#Python membership operators\n",
        "a = 100\n",
        "b = [100,200,300,400,500]\n",
        "a in b\n",
        "\n",
        "a = 600\n",
        "b = [100,200,300,400,500]\n",
        "a in b\n",
        "\n",
        "a = 100\n",
        "b = [100,200,300,400,500]\n",
        "b in a #List is an iterable obaject and we cannot check inside iterable object"
      ],
      "metadata": {
        "colab": {
          "base_uri": "https://localhost:8080/",
          "height": 211
        },
        "id": "r4Z0p1vgpWVd",
        "outputId": "10bdefe8-2af4-42d4-9af0-80d84b52ed75"
      },
      "execution_count": 40,
      "outputs": [
        {
          "output_type": "error",
          "ename": "TypeError",
          "evalue": "argument of type 'int' is not iterable",
          "traceback": [
            "\u001b[0;31m---------------------------------------------------------------------------\u001b[0m",
            "\u001b[0;31mTypeError\u001b[0m                                 Traceback (most recent call last)",
            "\u001b[0;32m<ipython-input-40-0fd66f8248be>\u001b[0m in \u001b[0;36m<cell line: 12>\u001b[0;34m()\u001b[0m\n\u001b[1;32m     10\u001b[0m \u001b[0ma\u001b[0m \u001b[0;34m=\u001b[0m \u001b[0;36m100\u001b[0m\u001b[0;34m\u001b[0m\u001b[0;34m\u001b[0m\u001b[0m\n\u001b[1;32m     11\u001b[0m \u001b[0mb\u001b[0m \u001b[0;34m=\u001b[0m \u001b[0;34m[\u001b[0m\u001b[0;36m100\u001b[0m\u001b[0;34m,\u001b[0m\u001b[0;36m200\u001b[0m\u001b[0;34m,\u001b[0m\u001b[0;36m300\u001b[0m\u001b[0;34m,\u001b[0m\u001b[0;36m400\u001b[0m\u001b[0;34m,\u001b[0m\u001b[0;36m500\u001b[0m\u001b[0;34m]\u001b[0m\u001b[0;34m\u001b[0m\u001b[0;34m\u001b[0m\u001b[0m\n\u001b[0;32m---> 12\u001b[0;31m \u001b[0mb\u001b[0m \u001b[0;32min\u001b[0m \u001b[0ma\u001b[0m\u001b[0;34m\u001b[0m\u001b[0;34m\u001b[0m\u001b[0m\n\u001b[0m",
            "\u001b[0;31mTypeError\u001b[0m: argument of type 'int' is not iterable"
          ]
        }
      ]
    },
    {
      "cell_type": "code",
      "source": [
        "# Not in\n",
        "\n",
        "a = 100\n",
        "b = [100,200,300,400,500]\n",
        "a  not in b\n",
        "\n",
        "a = 600\n",
        "b = [100,200,300,400,500]\n",
        "a not in b"
      ],
      "metadata": {
        "colab": {
          "base_uri": "https://localhost:8080/"
        },
        "id": "tOMFTN9uqQpA",
        "outputId": "7fa103ce-6b6b-4937-ed0b-83b312e5099a"
      },
      "execution_count": 42,
      "outputs": [
        {
          "output_type": "execute_result",
          "data": {
            "text/plain": [
              "True"
            ]
          },
          "metadata": {},
          "execution_count": 42
        }
      ]
    },
    {
      "cell_type": "code",
      "source": [
        "#Identity Operators\n",
        "\n",
        "a = 100\n",
        "b = 20\n",
        "\n",
        "a is b #is refers to equal to\n",
        "\n",
        "a is not b\n",
        "\n",
        "a = 100\n",
        "b = 100\n",
        "\n",
        "a is b\n",
        "\n",
        "a is not b"
      ],
      "metadata": {
        "colab": {
          "base_uri": "https://localhost:8080/"
        },
        "id": "Lu4VFlHApsA3",
        "outputId": "7936db20-839f-45f1-daa3-d3fce877c8eb"
      },
      "execution_count": 47,
      "outputs": [
        {
          "output_type": "execute_result",
          "data": {
            "text/plain": [
              "False"
            ]
          },
          "metadata": {},
          "execution_count": 47
        }
      ]
    },
    {
      "cell_type": "code",
      "source": [
        "#if statement\n",
        "a = 100\n",
        "b = 20\n",
        "if (a < b) and a ==b:\n",
        "  print('a is greater than b')\n",
        "else:\n",
        "  print('we are in else section')\n"
      ],
      "metadata": {
        "colab": {
          "base_uri": "https://localhost:8080/"
        },
        "id": "_fUb5EXUsZAh",
        "outputId": "3ed182e8-8b03-48ef-e64e-60e2e6d266f3"
      },
      "execution_count": 52,
      "outputs": [
        {
          "output_type": "stream",
          "name": "stdout",
          "text": [
            "we are in else section\n"
          ]
        }
      ]
    },
    {
      "cell_type": "code",
      "source": [
        "a = 100\n",
        "b = 20\n",
        "if (a > b) and a !=b:\n",
        "  print('a is greater than b')\n",
        "else:\n",
        "  print('we are in else section')"
      ],
      "metadata": {
        "colab": {
          "base_uri": "https://localhost:8080/"
        },
        "id": "AiEIkWrDtUOb",
        "outputId": "f808885b-2bd6-455b-d0c8-d88e92c3e38f"
      },
      "execution_count": 53,
      "outputs": [
        {
          "output_type": "stream",
          "name": "stdout",
          "text": [
            "a is greater than b\n"
          ]
        }
      ]
    },
    {
      "cell_type": "code",
      "source": [
        "percentage = 98\n",
        "if percentage >=75:\n",
        "  print('First class with distinction')\n",
        "elif percentage >=60:\n",
        "  print('First class')\n",
        "elif percentage >=40:\n",
        "  print('Second class')\n",
        "elif percentage >=35:\n",
        "  print('Third class')\n",
        "else:\n",
        "  print('Better luck next time')"
      ],
      "metadata": {
        "colab": {
          "base_uri": "https://localhost:8080/"
        },
        "id": "zm1r3MYbtaGp",
        "outputId": "b2eecf85-0f63-46c1-8aa5-e591318462b9"
      },
      "execution_count": 61,
      "outputs": [
        {
          "output_type": "stream",
          "name": "stdout",
          "text": [
            "First class with distinction\n"
          ]
        }
      ]
    },
    {
      "cell_type": "code",
      "source": [
        "#Nested if statement\n",
        "a = 100\n",
        "\n",
        "if a > 25:\n",
        "  print('a is greater than 25')\n",
        "  if a > 50:\n",
        "    print('a is greater than 50')\n",
        "    if a > 75:\n",
        "      print('a is greater than 75')\n",
        "      if a > 100:\n",
        "        print('a is greater than 100')\n",
        "        if a > 125:\n",
        "          print('a is greater than 125')"
      ],
      "metadata": {
        "colab": {
          "base_uri": "https://localhost:8080/"
        },
        "id": "L64r2cXiurnL",
        "outputId": "4d39bad0-1f18-4d5f-dcfb-62368ee16dca"
      },
      "execution_count": 62,
      "outputs": [
        {
          "output_type": "stream",
          "name": "stdout",
          "text": [
            "a is greater than 25\n",
            "a is greater than 50\n",
            "a is greater than 75\n"
          ]
        }
      ]
    },
    {
      "cell_type": "code",
      "source": [
        "#Second Session\n",
        "num = 48\n",
        "print(num%7) #Modulus operator gives remainder"
      ],
      "metadata": {
        "colab": {
          "base_uri": "https://localhost:8080/"
        },
        "id": "Xm5ctEGw5uMU",
        "outputId": "d6b5ebc4-6496-4aad-d759-eb7418e1c92a"
      },
      "execution_count": 63,
      "outputs": [
        {
          "output_type": "stream",
          "name": "stdout",
          "text": [
            "6\n"
          ]
        }
      ]
    },
    {
      "cell_type": "code",
      "source": [
        "num = 48\n",
        "if num%7 ==0:\n",
        "  print('Num is divisible by 7')\n",
        "else:\n",
        "  print('Num is not divisible by 7')"
      ],
      "metadata": {
        "colab": {
          "base_uri": "https://localhost:8080/"
        },
        "id": "9J7IT52s6Gqz",
        "outputId": "72153027-b6b0-41d0-f8ae-fdb34c8b4a81"
      },
      "execution_count": 64,
      "outputs": [
        {
          "output_type": "stream",
          "name": "stdout",
          "text": [
            "Num is not divisible by 7\n"
          ]
        }
      ]
    },
    {
      "cell_type": "code",
      "source": [
        "num = 49\n",
        "if num%7 ==0:\n",
        "  print('Num is divisible by 7')\n",
        "else:\n",
        "  print('Num is not divisible by 7')"
      ],
      "metadata": {
        "colab": {
          "base_uri": "https://localhost:8080/"
        },
        "id": "HBSs6FSu6ZA8",
        "outputId": "d87e61ef-b0fe-4650-fdbe-1f9f6380f484"
      },
      "execution_count": 68,
      "outputs": [
        {
          "output_type": "stream",
          "name": "stdout",
          "text": [
            "Num is divisible by 7\n"
          ]
        }
      ]
    },
    {
      "cell_type": "code",
      "source": [
        "#write a program to print hello if number is multiple of five or three else print bye.\n",
        "num = 86\n",
        "if num%3== 0 or num%5==0:\n",
        "  print('Hello')\n",
        "else:\n",
        "  print('Bye')"
      ],
      "metadata": {
        "colab": {
          "base_uri": "https://localhost:8080/"
        },
        "id": "BMLIYwYh6tom",
        "outputId": "827edd9d-528d-4341-c741-8f669456df89"
      },
      "execution_count": 70,
      "outputs": [
        {
          "output_type": "stream",
          "name": "stdout",
          "text": [
            "Bye\n"
          ]
        }
      ]
    },
    {
      "cell_type": "code",
      "source": [
        "#User Input Function\n",
        "input_message=input()\n",
        "print(input_message)\n",
        "print(type(input_message)) #The default type is string for input function."
      ],
      "metadata": {
        "colab": {
          "base_uri": "https://localhost:8080/"
        },
        "id": "zA9_cHhx7UAz",
        "outputId": "0ffd84c4-6585-4240-8461-f09a78aeadd4"
      },
      "execution_count": 71,
      "outputs": [
        {
          "output_type": "stream",
          "name": "stdout",
          "text": [
            "55\n",
            "55\n",
            "<class 'str'>\n"
          ]
        }
      ]
    },
    {
      "cell_type": "code",
      "source": [
        "input_message = input('Please enter a number: -')\n",
        "input_message_int = int(input_message)\n",
        "input_message_float = float(input_message)"
      ],
      "metadata": {
        "colab": {
          "base_uri": "https://localhost:8080/"
        },
        "id": "H9qzBgmm8oFY",
        "outputId": "a05bc127-fa66-482b-ff8f-592da07bcc11"
      },
      "execution_count": 76,
      "outputs": [
        {
          "name": "stdout",
          "output_type": "stream",
          "text": [
            "Please enter a number: -95\n"
          ]
        }
      ]
    },
    {
      "cell_type": "code",
      "source": [
        "print(input_message_int)\n",
        "print(input_message_float)"
      ],
      "metadata": {
        "colab": {
          "base_uri": "https://localhost:8080/"
        },
        "id": "UfAnmi5v9WLX",
        "outputId": "6842acc9-d093-482f-e5a5-e04c189c2fb5"
      },
      "execution_count": 77,
      "outputs": [
        {
          "output_type": "stream",
          "name": "stdout",
          "text": [
            "95\n",
            "95.0\n"
          ]
        }
      ]
    },
    {
      "cell_type": "code",
      "source": [
        "#Write a python program that will check the following conditions:\n",
        "#If the light is green -Car is allowed to go\n",
        "#If the light is yellow -Car has to wait\n",
        "#If the light is red -Car has to stop\n",
        "#Other Signal -Unrecognized signal. Example black, blue etc..\n",
        "\n",
        "signal =  input('What is the traffic signal?').title()#you can use . lower as well\n",
        "if signal == 'Red':\n",
        "  print('Car has to stop')\n",
        "elif signal == 'Yellow':\n",
        "  print('Car has to wait')\n",
        "elif signal == 'Green':\n",
        "  print('Car is allowed to go')\n",
        "else:\n",
        "  print('Unrecognized signal')"
      ],
      "metadata": {
        "colab": {
          "base_uri": "https://localhost:8080/"
        },
        "id": "s02S2Zng95dS",
        "outputId": "44ecc219-1f1e-4d43-ad4b-eddb561189f2"
      },
      "execution_count": 86,
      "outputs": [
        {
          "output_type": "stream",
          "name": "stdout",
          "text": [
            "What is the traffic signal?RED\n",
            "Car has to stop\n"
          ]
        }
      ]
    },
    {
      "cell_type": "code",
      "source": [
        "\"\"\"Write a program to trace your subject mark. your program should fulfill the following conditions:\n",
        "\n",
        "if the subject mark is below 0 and above 100, print 'error:mark should be between 0 and 100 only\n",
        "Students will fail in the subject if their mark is below 50.\n",
        "Students will pass in the subject if they score 50 and above.\n",
        "\n",
        "If the subject mark is between 50 and 60, grade student as good.\n",
        "If the subject mark is between 60 and 80, grade student as  very good.\n",
        "If the subject mark is between 80 and 100, grade student as outstanding.\n",
        "\n",
        "Make sure to print their mark in every statement to prove that the condition is fulfilled. Moreover, name, class, and section should also\n",
        "be displayed along with the marks.\"\"\"\n",
        "\n",
        "name = input('Enter name:').title()\n",
        "clas = input('Enter class:')\n",
        "section = input('Enter section:').title()\n",
        "subject = input('Enter the subject name:').title()\n",
        "mark = float (input('Enter your mark: '))\n",
        "if mark <0 or mark >100:\n",
        "  print('Error, Mark should be between 0 and 100 only.')\n",
        "elif mark < 50:\n",
        "  print(subject,'mark is',mark)\n",
        "  print('Failed in',subject)\n",
        "elif mark >= 50:\n",
        "  print(subject,'mark is',mark)\n",
        "  print('Passed in',subject)\n",
        "  if mark > 50 and mark < 60:\n",
        "    print('Remark: Good in', subject)\n",
        "  elif mark >=60 and mark<80:\n",
        "    print('Remark: Very good in', subject)\n",
        "  elif mark >=80:\n",
        "    print('Remark: Outstanding in', subject)"
      ],
      "metadata": {
        "colab": {
          "base_uri": "https://localhost:8080/"
        },
        "id": "rhyuAcqGACFN",
        "outputId": "edb05678-ef42-4a98-c141-39dd83c8531e"
      },
      "execution_count": 107,
      "outputs": [
        {
          "output_type": "stream",
          "name": "stdout",
          "text": [
            "Enter name:ajita\n",
            "Enter class:8\n",
            "Enter section:a\n",
            "Enter the subject name:Science\n",
            "Enter your mark: 98.5\n",
            "Science mark is 98.5\n",
            "Passed in Science\n",
            "Remark: Outstanding in Science\n"
          ]
        }
      ]
    }
  ]
}