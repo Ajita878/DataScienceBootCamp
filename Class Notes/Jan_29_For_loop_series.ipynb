{
  "nbformat": 4,
  "nbformat_minor": 0,
  "metadata": {
    "colab": {
      "provenance": []
    },
    "kernelspec": {
      "name": "python3",
      "display_name": "Python 3"
    },
    "language_info": {
      "name": "python"
    }
  },
  "cells": [
    {
      "cell_type": "code",
      "execution_count": null,
      "metadata": {
        "colab": {
          "base_uri": "https://localhost:8080/"
        },
        "id": "jw7469zpRLts",
        "outputId": "4fb106ed-caf5-4d24-c828-c216812b30ad"
      },
      "outputs": [
        {
          "output_type": "stream",
          "name": "stdout",
          "text": [
            "1 2 3 5 8 13 21 34 "
          ]
        }
      ],
      "source": [
        "# Febonacci series\n",
        "# 0,1,1,2,3,5,8,13,21,34..\n",
        "\n",
        "a = 0\n",
        "b = 1\n",
        "for i in range(2,10):\n",
        "  c = a + b\n",
        "  print(c, end=' ')\n",
        "  a = b\n",
        "  b = c"
      ]
    },
    {
      "cell_type": "code",
      "source": [
        "stu_rec = {'Ajita': 20,'Deepesh':88,'Aanvi':98,'Parshu':95,'Swechha':55,'Kabita':39,'Shweta':60\n",
        "           ,'Indu':55}\n",
        "for i, j in stu_rec.items():\n",
        "  if j<35:\n",
        "    result ='Fail'\n",
        "  elif j>=35 and j<50:\n",
        "    result='Third Division'\n",
        "  elif j>=50 and j<60:\n",
        "    result='Second Division'\n",
        "  elif j>=60 and j<75:\n",
        "    result='First Division'\n",
        "  else:\n",
        "    result = 'Distinction'\n",
        "  print(i,j, result)"
      ],
      "metadata": {
        "colab": {
          "base_uri": "https://localhost:8080/"
        },
        "id": "VQDe1nIzU-G-",
        "outputId": "8e4902fc-8ffc-45f3-c4f2-a6d780cd60b0"
      },
      "execution_count": null,
      "outputs": [
        {
          "output_type": "stream",
          "name": "stdout",
          "text": [
            "Ajita 20 Fail\n",
            "Deepesh 88 Distinction\n",
            "Aanvi 98 Distinction\n",
            "Parshu 95 Distinction\n",
            "Swechha 55 Second Division\n",
            "Kabita 39 Third Division\n",
            "Shweta 60 First Division\n",
            "Indu 55 Second Division\n"
          ]
        }
      ]
    },
    {
      "cell_type": "code",
      "source": [
        "#Python Buil-In functions: https://docs.python.org/3/library/functions.html"
      ],
      "metadata": {
        "id": "tLwMfzSwXya0"
      },
      "execution_count": null,
      "outputs": []
    },
    {
      "cell_type": "code",
      "source": [
        "#Type casting functions\n",
        "int()\n",
        "float()\n",
        "complex()\n",
        "bool()\n",
        "str()\n",
        "list(),\n",
        "tuple()\n",
        "set()\n",
        "dict()"
      ],
      "metadata": {
        "id": "NjMvCPwnYOWF"
      },
      "execution_count": null,
      "outputs": []
    },
    {
      "cell_type": "code",
      "source": [
        "int1 = 1947\n",
        "print(float(int1))\n",
        "print(complex(int1))\n",
        "print(bool(int1))\n",
        "print(str(int1))\n",
        "# print(list(int1)) TypeError: 'int' object is not iterable\n",
        "# print(tuple(int1)) TypeError: 'int' object is not iterable\n",
        "# print(set(int1)) TypeError: 'int' object is not iterable\n",
        "# print(dict(int1)) TypeError: 'int' object is not iterable"
      ],
      "metadata": {
        "colab": {
          "base_uri": "https://localhost:8080/",
          "height": 315
        },
        "id": "WeTRHCeoYeAA",
        "outputId": "72a49e4f-5df9-4a26-bb70-c0522c0600d2"
      },
      "execution_count": null,
      "outputs": [
        {
          "output_type": "stream",
          "name": "stdout",
          "text": [
            "1947.0\n",
            "(1947+0j)\n",
            "True\n",
            "1947\n"
          ]
        },
        {
          "output_type": "error",
          "ename": "TypeError",
          "evalue": "'int' object is not iterable",
          "traceback": [
            "\u001b[0;31m---------------------------------------------------------------------------\u001b[0m",
            "\u001b[0;31mTypeError\u001b[0m                                 Traceback (most recent call last)",
            "\u001b[0;32m<ipython-input-24-f0af9d42ac89>\u001b[0m in \u001b[0;36m<cell line: 7>\u001b[0;34m()\u001b[0m\n\u001b[1;32m      5\u001b[0m \u001b[0mprint\u001b[0m\u001b[0;34m(\u001b[0m\u001b[0mstr\u001b[0m\u001b[0;34m(\u001b[0m\u001b[0mint1\u001b[0m\u001b[0;34m)\u001b[0m\u001b[0;34m)\u001b[0m\u001b[0;34m\u001b[0m\u001b[0;34m\u001b[0m\u001b[0m\n\u001b[1;32m      6\u001b[0m \u001b[0;31m# print(list(int1))#TypeError: 'int' object is not iterable\u001b[0m\u001b[0;34m\u001b[0m\u001b[0;34m\u001b[0m\u001b[0m\n\u001b[0;32m----> 7\u001b[0;31m \u001b[0mprint\u001b[0m\u001b[0;34m(\u001b[0m\u001b[0mtuple\u001b[0m\u001b[0;34m(\u001b[0m\u001b[0mint1\u001b[0m\u001b[0;34m)\u001b[0m\u001b[0;34m)\u001b[0m \u001b[0;31m#TypeError: 'int' object is not iterable\u001b[0m\u001b[0;34m\u001b[0m\u001b[0;34m\u001b[0m\u001b[0m\n\u001b[0m\u001b[1;32m      8\u001b[0m \u001b[0mprint\u001b[0m\u001b[0;34m(\u001b[0m\u001b[0mset\u001b[0m\u001b[0;34m(\u001b[0m\u001b[0mint1\u001b[0m\u001b[0;34m)\u001b[0m\u001b[0;34m)\u001b[0m \u001b[0;31m#TypeError: 'int' object is not iterable\u001b[0m\u001b[0;34m\u001b[0m\u001b[0;34m\u001b[0m\u001b[0m\n\u001b[1;32m      9\u001b[0m \u001b[0mprint\u001b[0m\u001b[0;34m(\u001b[0m\u001b[0mdict\u001b[0m\u001b[0;34m(\u001b[0m\u001b[0mint1\u001b[0m\u001b[0;34m)\u001b[0m\u001b[0;34m)\u001b[0m \u001b[0;31m#TypeError: 'int' object is not iterable\u001b[0m\u001b[0;34m\u001b[0m\u001b[0;34m\u001b[0m\u001b[0m\n",
            "\u001b[0;31mTypeError\u001b[0m: 'int' object is not iterable"
          ]
        }
      ]
    },
    {
      "cell_type": "code",
      "source": [
        "decimal\n",
        "bin(), oct(), hex()"
      ],
      "metadata": {
        "id": "2BeJ06_PZpDM"
      },
      "execution_count": null,
      "outputs": []
    },
    {
      "cell_type": "code",
      "source": [
        "for i in range(0,100):\n",
        "  print('Decimal:', i)\n",
        "  print('Binary:',bin(i))\n",
        "  print('Octa Decimal:',oct(i))\n",
        "  print('Hexa Decimal:',bin(i))"
      ],
      "metadata": {
        "colab": {
          "base_uri": "https://localhost:8080/"
        },
        "id": "LHxh34yjZy8O",
        "outputId": "447f8bae-e6b1-4f46-ecce-58c332221471"
      },
      "execution_count": null,
      "outputs": [
        {
          "output_type": "stream",
          "name": "stdout",
          "text": [
            "Decimal: 0\n",
            "Binary: 0b0\n",
            "Octa Decimal: 0o0\n",
            "Hexa Decimal: 0b0\n",
            "Decimal: 1\n",
            "Binary: 0b1\n",
            "Octa Decimal: 0o1\n",
            "Hexa Decimal: 0b1\n",
            "Decimal: 2\n",
            "Binary: 0b10\n",
            "Octa Decimal: 0o2\n",
            "Hexa Decimal: 0b10\n",
            "Decimal: 3\n",
            "Binary: 0b11\n",
            "Octa Decimal: 0o3\n",
            "Hexa Decimal: 0b11\n",
            "Decimal: 4\n",
            "Binary: 0b100\n",
            "Octa Decimal: 0o4\n",
            "Hexa Decimal: 0b100\n",
            "Decimal: 5\n",
            "Binary: 0b101\n",
            "Octa Decimal: 0o5\n",
            "Hexa Decimal: 0b101\n",
            "Decimal: 6\n",
            "Binary: 0b110\n",
            "Octa Decimal: 0o6\n",
            "Hexa Decimal: 0b110\n",
            "Decimal: 7\n",
            "Binary: 0b111\n",
            "Octa Decimal: 0o7\n",
            "Hexa Decimal: 0b111\n",
            "Decimal: 8\n",
            "Binary: 0b1000\n",
            "Octa Decimal: 0o10\n",
            "Hexa Decimal: 0b1000\n",
            "Decimal: 9\n",
            "Binary: 0b1001\n",
            "Octa Decimal: 0o11\n",
            "Hexa Decimal: 0b1001\n",
            "Decimal: 10\n",
            "Binary: 0b1010\n",
            "Octa Decimal: 0o12\n",
            "Hexa Decimal: 0b1010\n",
            "Decimal: 11\n",
            "Binary: 0b1011\n",
            "Octa Decimal: 0o13\n",
            "Hexa Decimal: 0b1011\n",
            "Decimal: 12\n",
            "Binary: 0b1100\n",
            "Octa Decimal: 0o14\n",
            "Hexa Decimal: 0b1100\n",
            "Decimal: 13\n",
            "Binary: 0b1101\n",
            "Octa Decimal: 0o15\n",
            "Hexa Decimal: 0b1101\n",
            "Decimal: 14\n",
            "Binary: 0b1110\n",
            "Octa Decimal: 0o16\n",
            "Hexa Decimal: 0b1110\n",
            "Decimal: 15\n",
            "Binary: 0b1111\n",
            "Octa Decimal: 0o17\n",
            "Hexa Decimal: 0b1111\n",
            "Decimal: 16\n",
            "Binary: 0b10000\n",
            "Octa Decimal: 0o20\n",
            "Hexa Decimal: 0b10000\n",
            "Decimal: 17\n",
            "Binary: 0b10001\n",
            "Octa Decimal: 0o21\n",
            "Hexa Decimal: 0b10001\n",
            "Decimal: 18\n",
            "Binary: 0b10010\n",
            "Octa Decimal: 0o22\n",
            "Hexa Decimal: 0b10010\n",
            "Decimal: 19\n",
            "Binary: 0b10011\n",
            "Octa Decimal: 0o23\n",
            "Hexa Decimal: 0b10011\n",
            "Decimal: 20\n",
            "Binary: 0b10100\n",
            "Octa Decimal: 0o24\n",
            "Hexa Decimal: 0b10100\n",
            "Decimal: 21\n",
            "Binary: 0b10101\n",
            "Octa Decimal: 0o25\n",
            "Hexa Decimal: 0b10101\n",
            "Decimal: 22\n",
            "Binary: 0b10110\n",
            "Octa Decimal: 0o26\n",
            "Hexa Decimal: 0b10110\n",
            "Decimal: 23\n",
            "Binary: 0b10111\n",
            "Octa Decimal: 0o27\n",
            "Hexa Decimal: 0b10111\n",
            "Decimal: 24\n",
            "Binary: 0b11000\n",
            "Octa Decimal: 0o30\n",
            "Hexa Decimal: 0b11000\n",
            "Decimal: 25\n",
            "Binary: 0b11001\n",
            "Octa Decimal: 0o31\n",
            "Hexa Decimal: 0b11001\n",
            "Decimal: 26\n",
            "Binary: 0b11010\n",
            "Octa Decimal: 0o32\n",
            "Hexa Decimal: 0b11010\n",
            "Decimal: 27\n",
            "Binary: 0b11011\n",
            "Octa Decimal: 0o33\n",
            "Hexa Decimal: 0b11011\n",
            "Decimal: 28\n",
            "Binary: 0b11100\n",
            "Octa Decimal: 0o34\n",
            "Hexa Decimal: 0b11100\n",
            "Decimal: 29\n",
            "Binary: 0b11101\n",
            "Octa Decimal: 0o35\n",
            "Hexa Decimal: 0b11101\n",
            "Decimal: 30\n",
            "Binary: 0b11110\n",
            "Octa Decimal: 0o36\n",
            "Hexa Decimal: 0b11110\n",
            "Decimal: 31\n",
            "Binary: 0b11111\n",
            "Octa Decimal: 0o37\n",
            "Hexa Decimal: 0b11111\n",
            "Decimal: 32\n",
            "Binary: 0b100000\n",
            "Octa Decimal: 0o40\n",
            "Hexa Decimal: 0b100000\n",
            "Decimal: 33\n",
            "Binary: 0b100001\n",
            "Octa Decimal: 0o41\n",
            "Hexa Decimal: 0b100001\n",
            "Decimal: 34\n",
            "Binary: 0b100010\n",
            "Octa Decimal: 0o42\n",
            "Hexa Decimal: 0b100010\n",
            "Decimal: 35\n",
            "Binary: 0b100011\n",
            "Octa Decimal: 0o43\n",
            "Hexa Decimal: 0b100011\n",
            "Decimal: 36\n",
            "Binary: 0b100100\n",
            "Octa Decimal: 0o44\n",
            "Hexa Decimal: 0b100100\n",
            "Decimal: 37\n",
            "Binary: 0b100101\n",
            "Octa Decimal: 0o45\n",
            "Hexa Decimal: 0b100101\n",
            "Decimal: 38\n",
            "Binary: 0b100110\n",
            "Octa Decimal: 0o46\n",
            "Hexa Decimal: 0b100110\n",
            "Decimal: 39\n",
            "Binary: 0b100111\n",
            "Octa Decimal: 0o47\n",
            "Hexa Decimal: 0b100111\n",
            "Decimal: 40\n",
            "Binary: 0b101000\n",
            "Octa Decimal: 0o50\n",
            "Hexa Decimal: 0b101000\n",
            "Decimal: 41\n",
            "Binary: 0b101001\n",
            "Octa Decimal: 0o51\n",
            "Hexa Decimal: 0b101001\n",
            "Decimal: 42\n",
            "Binary: 0b101010\n",
            "Octa Decimal: 0o52\n",
            "Hexa Decimal: 0b101010\n",
            "Decimal: 43\n",
            "Binary: 0b101011\n",
            "Octa Decimal: 0o53\n",
            "Hexa Decimal: 0b101011\n",
            "Decimal: 44\n",
            "Binary: 0b101100\n",
            "Octa Decimal: 0o54\n",
            "Hexa Decimal: 0b101100\n",
            "Decimal: 45\n",
            "Binary: 0b101101\n",
            "Octa Decimal: 0o55\n",
            "Hexa Decimal: 0b101101\n",
            "Decimal: 46\n",
            "Binary: 0b101110\n",
            "Octa Decimal: 0o56\n",
            "Hexa Decimal: 0b101110\n",
            "Decimal: 47\n",
            "Binary: 0b101111\n",
            "Octa Decimal: 0o57\n",
            "Hexa Decimal: 0b101111\n",
            "Decimal: 48\n",
            "Binary: 0b110000\n",
            "Octa Decimal: 0o60\n",
            "Hexa Decimal: 0b110000\n",
            "Decimal: 49\n",
            "Binary: 0b110001\n",
            "Octa Decimal: 0o61\n",
            "Hexa Decimal: 0b110001\n",
            "Decimal: 50\n",
            "Binary: 0b110010\n",
            "Octa Decimal: 0o62\n",
            "Hexa Decimal: 0b110010\n",
            "Decimal: 51\n",
            "Binary: 0b110011\n",
            "Octa Decimal: 0o63\n",
            "Hexa Decimal: 0b110011\n",
            "Decimal: 52\n",
            "Binary: 0b110100\n",
            "Octa Decimal: 0o64\n",
            "Hexa Decimal: 0b110100\n",
            "Decimal: 53\n",
            "Binary: 0b110101\n",
            "Octa Decimal: 0o65\n",
            "Hexa Decimal: 0b110101\n",
            "Decimal: 54\n",
            "Binary: 0b110110\n",
            "Octa Decimal: 0o66\n",
            "Hexa Decimal: 0b110110\n",
            "Decimal: 55\n",
            "Binary: 0b110111\n",
            "Octa Decimal: 0o67\n",
            "Hexa Decimal: 0b110111\n",
            "Decimal: 56\n",
            "Binary: 0b111000\n",
            "Octa Decimal: 0o70\n",
            "Hexa Decimal: 0b111000\n",
            "Decimal: 57\n",
            "Binary: 0b111001\n",
            "Octa Decimal: 0o71\n",
            "Hexa Decimal: 0b111001\n",
            "Decimal: 58\n",
            "Binary: 0b111010\n",
            "Octa Decimal: 0o72\n",
            "Hexa Decimal: 0b111010\n",
            "Decimal: 59\n",
            "Binary: 0b111011\n",
            "Octa Decimal: 0o73\n",
            "Hexa Decimal: 0b111011\n",
            "Decimal: 60\n",
            "Binary: 0b111100\n",
            "Octa Decimal: 0o74\n",
            "Hexa Decimal: 0b111100\n",
            "Decimal: 61\n",
            "Binary: 0b111101\n",
            "Octa Decimal: 0o75\n",
            "Hexa Decimal: 0b111101\n",
            "Decimal: 62\n",
            "Binary: 0b111110\n",
            "Octa Decimal: 0o76\n",
            "Hexa Decimal: 0b111110\n",
            "Decimal: 63\n",
            "Binary: 0b111111\n",
            "Octa Decimal: 0o77\n",
            "Hexa Decimal: 0b111111\n",
            "Decimal: 64\n",
            "Binary: 0b1000000\n",
            "Octa Decimal: 0o100\n",
            "Hexa Decimal: 0b1000000\n",
            "Decimal: 65\n",
            "Binary: 0b1000001\n",
            "Octa Decimal: 0o101\n",
            "Hexa Decimal: 0b1000001\n",
            "Decimal: 66\n",
            "Binary: 0b1000010\n",
            "Octa Decimal: 0o102\n",
            "Hexa Decimal: 0b1000010\n",
            "Decimal: 67\n",
            "Binary: 0b1000011\n",
            "Octa Decimal: 0o103\n",
            "Hexa Decimal: 0b1000011\n",
            "Decimal: 68\n",
            "Binary: 0b1000100\n",
            "Octa Decimal: 0o104\n",
            "Hexa Decimal: 0b1000100\n",
            "Decimal: 69\n",
            "Binary: 0b1000101\n",
            "Octa Decimal: 0o105\n",
            "Hexa Decimal: 0b1000101\n",
            "Decimal: 70\n",
            "Binary: 0b1000110\n",
            "Octa Decimal: 0o106\n",
            "Hexa Decimal: 0b1000110\n",
            "Decimal: 71\n",
            "Binary: 0b1000111\n",
            "Octa Decimal: 0o107\n",
            "Hexa Decimal: 0b1000111\n",
            "Decimal: 72\n",
            "Binary: 0b1001000\n",
            "Octa Decimal: 0o110\n",
            "Hexa Decimal: 0b1001000\n",
            "Decimal: 73\n",
            "Binary: 0b1001001\n",
            "Octa Decimal: 0o111\n",
            "Hexa Decimal: 0b1001001\n",
            "Decimal: 74\n",
            "Binary: 0b1001010\n",
            "Octa Decimal: 0o112\n",
            "Hexa Decimal: 0b1001010\n",
            "Decimal: 75\n",
            "Binary: 0b1001011\n",
            "Octa Decimal: 0o113\n",
            "Hexa Decimal: 0b1001011\n",
            "Decimal: 76\n",
            "Binary: 0b1001100\n",
            "Octa Decimal: 0o114\n",
            "Hexa Decimal: 0b1001100\n",
            "Decimal: 77\n",
            "Binary: 0b1001101\n",
            "Octa Decimal: 0o115\n",
            "Hexa Decimal: 0b1001101\n",
            "Decimal: 78\n",
            "Binary: 0b1001110\n",
            "Octa Decimal: 0o116\n",
            "Hexa Decimal: 0b1001110\n",
            "Decimal: 79\n",
            "Binary: 0b1001111\n",
            "Octa Decimal: 0o117\n",
            "Hexa Decimal: 0b1001111\n",
            "Decimal: 80\n",
            "Binary: 0b1010000\n",
            "Octa Decimal: 0o120\n",
            "Hexa Decimal: 0b1010000\n",
            "Decimal: 81\n",
            "Binary: 0b1010001\n",
            "Octa Decimal: 0o121\n",
            "Hexa Decimal: 0b1010001\n",
            "Decimal: 82\n",
            "Binary: 0b1010010\n",
            "Octa Decimal: 0o122\n",
            "Hexa Decimal: 0b1010010\n",
            "Decimal: 83\n",
            "Binary: 0b1010011\n",
            "Octa Decimal: 0o123\n",
            "Hexa Decimal: 0b1010011\n",
            "Decimal: 84\n",
            "Binary: 0b1010100\n",
            "Octa Decimal: 0o124\n",
            "Hexa Decimal: 0b1010100\n",
            "Decimal: 85\n",
            "Binary: 0b1010101\n",
            "Octa Decimal: 0o125\n",
            "Hexa Decimal: 0b1010101\n",
            "Decimal: 86\n",
            "Binary: 0b1010110\n",
            "Octa Decimal: 0o126\n",
            "Hexa Decimal: 0b1010110\n",
            "Decimal: 87\n",
            "Binary: 0b1010111\n",
            "Octa Decimal: 0o127\n",
            "Hexa Decimal: 0b1010111\n",
            "Decimal: 88\n",
            "Binary: 0b1011000\n",
            "Octa Decimal: 0o130\n",
            "Hexa Decimal: 0b1011000\n",
            "Decimal: 89\n",
            "Binary: 0b1011001\n",
            "Octa Decimal: 0o131\n",
            "Hexa Decimal: 0b1011001\n",
            "Decimal: 90\n",
            "Binary: 0b1011010\n",
            "Octa Decimal: 0o132\n",
            "Hexa Decimal: 0b1011010\n",
            "Decimal: 91\n",
            "Binary: 0b1011011\n",
            "Octa Decimal: 0o133\n",
            "Hexa Decimal: 0b1011011\n",
            "Decimal: 92\n",
            "Binary: 0b1011100\n",
            "Octa Decimal: 0o134\n",
            "Hexa Decimal: 0b1011100\n",
            "Decimal: 93\n",
            "Binary: 0b1011101\n",
            "Octa Decimal: 0o135\n",
            "Hexa Decimal: 0b1011101\n",
            "Decimal: 94\n",
            "Binary: 0b1011110\n",
            "Octa Decimal: 0o136\n",
            "Hexa Decimal: 0b1011110\n",
            "Decimal: 95\n",
            "Binary: 0b1011111\n",
            "Octa Decimal: 0o137\n",
            "Hexa Decimal: 0b1011111\n",
            "Decimal: 96\n",
            "Binary: 0b1100000\n",
            "Octa Decimal: 0o140\n",
            "Hexa Decimal: 0b1100000\n",
            "Decimal: 97\n",
            "Binary: 0b1100001\n",
            "Octa Decimal: 0o141\n",
            "Hexa Decimal: 0b1100001\n",
            "Decimal: 98\n",
            "Binary: 0b1100010\n",
            "Octa Decimal: 0o142\n",
            "Hexa Decimal: 0b1100010\n",
            "Decimal: 99\n",
            "Binary: 0b1100011\n",
            "Octa Decimal: 0o143\n",
            "Hexa Decimal: 0b1100011\n"
          ]
        }
      ]
    },
    {
      "cell_type": "code",
      "source": [
        "#Palindrome\n",
        "str1 ='level'\n",
        "if str1 == str1[::-1]:\n",
        "  print(str1, 'is pallindrome')\n",
        "else:\n",
        "  print(str1, 'is not pallindrome')"
      ],
      "metadata": {
        "colab": {
          "base_uri": "https://localhost:8080/"
        },
        "id": "7REqoBQqdgAg",
        "outputId": "01e4b5e3-70c8-40e6-d919-7bf57da6e8b4"
      },
      "execution_count": null,
      "outputs": [
        {
          "output_type": "stream",
          "name": "stdout",
          "text": [
            "level is pallindrome\n"
          ]
        }
      ]
    },
    {
      "cell_type": "code",
      "source": [
        "#Write a program to find the greatest common divisor (GCD) or highest common factor (HCF) of a given two numbers.\n",
        "num1 = int(input('Enter first number:'))\n",
        "num1 = int(input('Enter second number:'))\n",
        "\n"
      ],
      "metadata": {
        "id": "Lfw0_Vh5eiRV"
      },
      "execution_count": null,
      "outputs": []
    },
    {
      "cell_type": "code",
      "source": [
        "#Factorial of a number\n",
        "num =  int(input('Please enter a number:'))\n",
        "factorial=1\n",
        "for k in range(1,num+1):\n",
        "  factorial =  factorial*k\n",
        "print(factorial)"
      ],
      "metadata": {
        "colab": {
          "base_uri": "https://localhost:8080/"
        },
        "id": "tWOu4psIFqt1",
        "outputId": "366f319e-84cb-4e8e-8e7f-6ba4beb4153a"
      },
      "execution_count": null,
      "outputs": [
        {
          "output_type": "stream",
          "name": "stdout",
          "text": [
            "Please enter a number:0\n",
            "1\n"
          ]
        }
      ]
    },
    {
      "cell_type": "code",
      "source": [
        "#Write a program to separate positive and negative number from a list.\n",
        "demo_list=[1,2,3,4,5,0,-1,-2,-3,-4,-5,-6]\n",
        "pos_num=[]\n",
        "neg_num=[]\n",
        "for i in demo_list:\n",
        "  if i <0:\n",
        "    neg_num.append(i)\n",
        "  else:\n",
        "    pos_num.append(i)\n",
        "print(pos_num)\n",
        "print(neg_num)"
      ],
      "metadata": {
        "colab": {
          "base_uri": "https://localhost:8080/"
        },
        "id": "j8An_Iq6Iau6",
        "outputId": "2d20ef69-a6b2-49ca-83c6-157697a5fbc1"
      },
      "execution_count": null,
      "outputs": [
        {
          "output_type": "stream",
          "name": "stdout",
          "text": [
            "[1, 2, 3, 4, 5, 0]\n",
            "[-1, -2, -3, -4, -5, -6]\n"
          ]
        }
      ]
    },
    {
      "cell_type": "code",
      "source": [
        "#Fibonnaci number\n",
        "a = 0\n",
        "b = 1\n",
        "for i in range(2,10):\n",
        "  c = a+b\n",
        "  print(c,end=' ')\n",
        "  a = b\n",
        "  b = c"
      ],
      "metadata": {
        "colab": {
          "base_uri": "https://localhost:8080/"
        },
        "id": "EyWW5s1uJq1_",
        "outputId": "f9895ba0-8fd2-4d34-e59d-5025766e9d62"
      },
      "execution_count": null,
      "outputs": [
        {
          "output_type": "stream",
          "name": "stdout",
          "text": [
            "1 2 3 5 8 13 21 34 "
          ]
        }
      ]
    },
    {
      "cell_type": "code",
      "source": [
        "fibonacci_list =[0,1]\n",
        "number_of_terms = int(input('Number of terms:'))\n",
        "while len(fibonacci_list)<number_of_terms:\n",
        "  next_term = fibonacci_list[-1]+fibonacci_list[-2]\n",
        "  fibonacci_list.append(next_term)\n",
        "print(fibonacci_list)"
      ],
      "metadata": {
        "colab": {
          "base_uri": "https://localhost:8080/"
        },
        "id": "nKTGv2huLfbi",
        "outputId": "8707d1e9-3643-4bcf-9322-521638bd725a"
      },
      "execution_count": null,
      "outputs": [
        {
          "output_type": "stream",
          "name": "stdout",
          "text": [
            "Number of terms:3\n",
            "[0, 1, 1]\n"
          ]
        }
      ]
    },
    {
      "cell_type": "code",
      "source": [
        "#Remove all repeated elements from the list given below using for loop.\n",
        "lst=[1,2,3,4,5,11,1,2,6,1,8]\n",
        "unique_lst=[]\n",
        "for i in lst:\n",
        "  if i in unique_lst:\n",
        "    print('Repeated values:',i)\n",
        "  else:\n",
        "    unique_lst.append(i)\n",
        "print(unique_lst)"
      ],
      "metadata": {
        "colab": {
          "base_uri": "https://localhost:8080/"
        },
        "id": "huao_9XwNRN8",
        "outputId": "24704d19-3315-4bad-b1dc-7e72b7bbb94f"
      },
      "execution_count": null,
      "outputs": [
        {
          "output_type": "stream",
          "name": "stdout",
          "text": [
            "Repeated values: 1\n",
            "Repeated values: 2\n",
            "Repeated values: 1\n",
            "[1, 2, 3, 4, 5, 11, 6, 8]\n"
          ]
        }
      ]
    },
    {
      "cell_type": "code",
      "source": [
        "#Print all prime numbers below 100\n",
        "prime_num =[]\n",
        "for i in range(2,101):\n",
        "  if"
      ],
      "metadata": {
        "id": "CtP4VVwCOV2L"
      },
      "execution_count": null,
      "outputs": []
    },
    {
      "cell_type": "code",
      "source": [
        "#Print list in reverse order using for loop\n",
        "a = [1,2,3,4,5,6,7,8,9,10]\n",
        "reverse_list=[]\n",
        "for k in a[::-1]:\n",
        "  reverse_list.append(k)\n",
        "print(reverse_list)"
      ],
      "metadata": {
        "colab": {
          "base_uri": "https://localhost:8080/"
        },
        "id": "Q3UaNogLPXIB",
        "outputId": "47c70263-bacd-41de-bef8-2d50c81eb37f"
      },
      "execution_count": null,
      "outputs": [
        {
          "output_type": "stream",
          "name": "stdout",
          "text": [
            "[10, 9, 8, 7, 6, 5, 4, 3, 2, 1]\n"
          ]
        }
      ]
    },
    {
      "cell_type": "code",
      "source": [
        "# Print multiplication table of 13 using for loop\n",
        "for k in range(1,11):\n",
        "  print(str(k)+ ' X 13 =',k*13)"
      ],
      "metadata": {
        "colab": {
          "base_uri": "https://localhost:8080/"
        },
        "id": "wqCYjAJ9SDz5",
        "outputId": "b0cdd566-0f8a-4820-8f16-bdaff5ab8438"
      },
      "execution_count": null,
      "outputs": [
        {
          "output_type": "stream",
          "name": "stdout",
          "text": [
            "1 X 13 = 13\n",
            "2 X 13 = 26\n",
            "3 X 13 = 39\n",
            "4 X 13 = 52\n",
            "5 X 13 = 65\n",
            "6 X 13 = 78\n",
            "7 X 13 = 91\n",
            "8 X 13 = 104\n",
            "9 X 13 = 117\n",
            "10 X 13 = 130\n"
          ]
        }
      ]
    }
  ]
}