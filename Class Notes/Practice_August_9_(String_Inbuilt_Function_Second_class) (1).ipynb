{
  "nbformat": 4,
  "nbformat_minor": 0,
  "metadata": {
    "colab": {
      "provenance": []
    },
    "kernelspec": {
      "name": "python3",
      "display_name": "Python 3"
    },
    "language_info": {
      "name": "python"
    }
  },
  "cells": [
    {
      "cell_type": "code",
      "execution_count": null,
      "metadata": {
        "id": "rZvryIgAfAP3",
        "colab": {
          "base_uri": "https://localhost:8080/"
        },
        "outputId": "5ad7ecf1-ceba-487f-e0e0-51c150ee7ae7"
      },
      "outputs": [
        {
          "output_type": "stream",
          "name": "stdout",
          "text": [
            "Hello World\n"
          ]
        }
      ],
      "source": [
        "#string slicing [start:end:step]\n",
        "temp_str = 'Hello World'\n",
        "print(temp_str)"
      ]
    },
    {
      "cell_type": "code",
      "source": [
        "temp_str = 'Hello World'\n",
        "print(temp_str[::2])"
      ],
      "metadata": {
        "colab": {
          "base_uri": "https://localhost:8080/"
        },
        "id": "QJl4lRAcgzhA",
        "outputId": "5869a7b3-7ecb-48c4-a4d4-be87bb8945e5"
      },
      "execution_count": null,
      "outputs": [
        {
          "output_type": "stream",
          "name": "stdout",
          "text": [
            "HloWrd\n"
          ]
        }
      ]
    },
    {
      "cell_type": "code",
      "source": [
        "#dir function\n",
        "dir(temp_str)"
      ],
      "metadata": {
        "colab": {
          "base_uri": "https://localhost:8080/"
        },
        "id": "eQ9Zlu1ZhW_V",
        "outputId": "71ca35ac-a3d8-41f6-ecc8-2733f1253963"
      },
      "execution_count": null,
      "outputs": [
        {
          "output_type": "execute_result",
          "data": {
            "text/plain": [
              "['__add__',\n",
              " '__class__',\n",
              " '__contains__',\n",
              " '__delattr__',\n",
              " '__dir__',\n",
              " '__doc__',\n",
              " '__eq__',\n",
              " '__format__',\n",
              " '__ge__',\n",
              " '__getattribute__',\n",
              " '__getitem__',\n",
              " '__getnewargs__',\n",
              " '__gt__',\n",
              " '__hash__',\n",
              " '__init__',\n",
              " '__init_subclass__',\n",
              " '__iter__',\n",
              " '__le__',\n",
              " '__len__',\n",
              " '__lt__',\n",
              " '__mod__',\n",
              " '__mul__',\n",
              " '__ne__',\n",
              " '__new__',\n",
              " '__reduce__',\n",
              " '__reduce_ex__',\n",
              " '__repr__',\n",
              " '__rmod__',\n",
              " '__rmul__',\n",
              " '__setattr__',\n",
              " '__sizeof__',\n",
              " '__str__',\n",
              " '__subclasshook__',\n",
              " 'capitalize',\n",
              " 'casefold',\n",
              " 'center',\n",
              " 'count',\n",
              " 'encode',\n",
              " 'endswith',\n",
              " 'expandtabs',\n",
              " 'find',\n",
              " 'format',\n",
              " 'format_map',\n",
              " 'index',\n",
              " 'isalnum',\n",
              " 'isalpha',\n",
              " 'isascii',\n",
              " 'isdecimal',\n",
              " 'isdigit',\n",
              " 'isidentifier',\n",
              " 'islower',\n",
              " 'isnumeric',\n",
              " 'isprintable',\n",
              " 'isspace',\n",
              " 'istitle',\n",
              " 'isupper',\n",
              " 'join',\n",
              " 'ljust',\n",
              " 'lower',\n",
              " 'lstrip',\n",
              " 'maketrans',\n",
              " 'partition',\n",
              " 'removeprefix',\n",
              " 'removesuffix',\n",
              " 'replace',\n",
              " 'rfind',\n",
              " 'rindex',\n",
              " 'rjust',\n",
              " 'rpartition',\n",
              " 'rsplit',\n",
              " 'rstrip',\n",
              " 'split',\n",
              " 'splitlines',\n",
              " 'startswith',\n",
              " 'strip',\n",
              " 'swapcase',\n",
              " 'title',\n",
              " 'translate',\n",
              " 'upper',\n",
              " 'zfill']"
            ]
          },
          "metadata": {},
          "execution_count": 4
        }
      ]
    },
    {
      "cell_type": "code",
      "source": [
        "#capitalize: takes the first character of the string to upper case\n",
        "temp_str = 'hello world'\n",
        "print(temp_str.capitalize())"
      ],
      "metadata": {
        "colab": {
          "base_uri": "https://localhost:8080/"
        },
        "id": "OxR1oMqDh9nl",
        "outputId": "fdd9e9ca-a234-4579-824d-db9868d25bcd"
      },
      "execution_count": null,
      "outputs": [
        {
          "output_type": "stream",
          "name": "stdout",
          "text": [
            "Hello world\n"
          ]
        }
      ]
    },
    {
      "cell_type": "code",
      "source": [
        "#casdefold: returns a string where all characters are lowercase\n",
        "temp_str = 'HELLO WORLD'\n",
        "print(temp_str.casefold())"
      ],
      "metadata": {
        "colab": {
          "base_uri": "https://localhost:8080/"
        },
        "id": "c8AYiB48iRC9",
        "outputId": "266d9ee2-75e2-4580-d70f-45a1d514667f"
      },
      "execution_count": null,
      "outputs": [
        {
          "output_type": "stream",
          "name": "stdout",
          "text": [
            "hello world\n"
          ]
        }
      ]
    },
    {
      "cell_type": "code",
      "source": [
        ".\n",
        "#center: it is used to center-align a string within a specified width. Dummy characters are added from last.\n",
        "temp_str = 'Hello World'\n",
        "print(temp_str.center(18,'$'))"
      ],
      "metadata": {
        "colab": {
          "base_uri": "https://localhost:8080/"
        },
        "id": "Wbk4xTZejQbU",
        "outputId": "8614c749-ffb5-4db7-fb6f-e6c3dba489b1"
      },
      "execution_count": null,
      "outputs": [
        {
          "output_type": "stream",
          "name": "stdout",
          "text": [
            "$$$Hello World$$$$\n"
          ]
        }
      ]
    },
    {
      "cell_type": "code",
      "source": [
        "#If dummy characters are not specified it will add space from last/right.\n",
        "temp_str = 'Hello World'\n",
        "print(temp_str.center(15))"
      ],
      "metadata": {
        "colab": {
          "base_uri": "https://localhost:8080/"
        },
        "id": "qgHkhGuCj5-D",
        "outputId": "39562e5a-597b-4c4b-8abb-e2e3f2c89a1b"
      },
      "execution_count": null,
      "outputs": [
        {
          "output_type": "stream",
          "name": "stdout",
          "text": [
            "  Hello World  \n"
          ]
        }
      ]
    },
    {
      "cell_type": "code",
      "source": [
        "#count: Count function is case sensitive.\n",
        "temp_str = 'Hello World! How is it going? hello, all good'\n",
        "print(len(temp_str))\n",
        "print(temp_str.count(''))"
      ],
      "metadata": {
        "id": "erPKyNrVkfz6",
        "colab": {
          "base_uri": "https://localhost:8080/"
        },
        "outputId": "c8296904-78f0-4c0d-c623-7fe9d4626f80"
      },
      "execution_count": null,
      "outputs": [
        {
          "output_type": "stream",
          "name": "stdout",
          "text": [
            "45\n",
            "46\n"
          ]
        }
      ]
    },
    {
      "cell_type": "code",
      "source": [
        "#range: is used to generate a sequence of numbers with a specified range. It only works for alphabetic characters. It can be called up with three argumants.\n",
        "#'start': It is optional. if not provided the sequence starts from 0.\n",
        "#'stop': It is the ending value of the sequence. it will generate numbers up to, but not including, this value.\n",
        "#'step': It is optional. If not provided the default is step 1.\n",
        "temp_str = 'Hello World! How is it going? Hello, all good'\n",
        "print(temp_str[2:5])"
      ],
      "metadata": {
        "colab": {
          "base_uri": "https://localhost:8080/"
        },
        "id": "zaeKZhrXxg4c",
        "outputId": "ae4d4ceb-15a0-40ca-9fd7-2cd2747c5bca"
      },
      "execution_count": null,
      "outputs": [
        {
          "output_type": "stream",
          "name": "stdout",
          "text": [
            "llo\n"
          ]
        }
      ]
    },
    {
      "cell_type": "code",
      "source": [
        "temp_str = 'AjitaGiri'\n",
        "print(temp_str[2:9])"
      ],
      "metadata": {
        "colab": {
          "base_uri": "https://localhost:8080/"
        },
        "id": "gSgAuonRzWvO",
        "outputId": "d5290652-7fc4-4037-d5ea-fa2efddc448e"
      },
      "execution_count": null,
      "outputs": [
        {
          "output_type": "stream",
          "name": "stdout",
          "text": [
            "itaGiri\n"
          ]
        }
      ]
    },
    {
      "cell_type": "code",
      "source": [
        "#endswith: to check if string ends with specified sub string.\n",
        "#endswith: (value, start, end) -1\n",
        "temp_str = 'Hello World! How is it going? Hello, all good'\n",
        "print(temp_str.endswith('good'))"
      ],
      "metadata": {
        "colab": {
          "base_uri": "https://localhost:8080/"
        },
        "id": "wWut1hm8zqFl",
        "outputId": "d843a739-2dbe-4cce-cd50-4180727fb542"
      },
      "execution_count": null,
      "outputs": [
        {
          "output_type": "stream",
          "name": "stdout",
          "text": [
            "True\n"
          ]
        }
      ]
    },
    {
      "cell_type": "code",
      "source": [
        "print(temp_str.endswith('god'))"
      ],
      "metadata": {
        "colab": {
          "base_uri": "https://localhost:8080/"
        },
        "id": "2ydac9_a5IVn",
        "outputId": "aff2de56-5aba-41a5-a1ab-f2f6e15a8868"
      },
      "execution_count": null,
      "outputs": [
        {
          "output_type": "stream",
          "name": "stdout",
          "text": [
            "False\n"
          ]
        }
      ]
    },
    {
      "cell_type": "code",
      "source": [
        "print(temp_str.endswith('How',0,16))"
      ],
      "metadata": {
        "colab": {
          "base_uri": "https://localhost:8080/"
        },
        "id": "tWbl0WEw5Kt2",
        "outputId": "183a700a-eb1f-402e-993c-22805a5b0c83"
      },
      "execution_count": null,
      "outputs": [
        {
          "output_type": "stream",
          "name": "stdout",
          "text": [
            "True\n"
          ]
        }
      ]
    },
    {
      "cell_type": "code",
      "source": [
        "print(len(temp_str))"
      ],
      "metadata": {
        "colab": {
          "base_uri": "https://localhost:8080/"
        },
        "id": "F8BIbSyj5hW_",
        "outputId": "8e3a7d40-2f46-4ab6-e11b-0089a7861caf"
      },
      "execution_count": null,
      "outputs": [
        {
          "output_type": "stream",
          "name": "stdout",
          "text": [
            "45\n"
          ]
        }
      ]
    },
    {
      "cell_type": "code",
      "source": [
        "#find: It is used to find the index of the first occurence of a specified substring within a string.\n",
        "#If found, the method returnd the index of its first character: if not, it returns -1.\n",
        "#find:('substring,start,end)\n",
        "temp_str = 'Hello World! How is it going? Hello, all good'\n",
        "print(temp_str.find('How'))"
      ],
      "metadata": {
        "colab": {
          "base_uri": "https://localhost:8080/"
        },
        "id": "nQ1Hcwwt6riX",
        "outputId": "61a82558-3b02-4053-9db8-0d03e35d457c"
      },
      "execution_count": null,
      "outputs": [
        {
          "output_type": "stream",
          "name": "stdout",
          "text": [
            "13\n"
          ]
        }
      ]
    },
    {
      "cell_type": "code",
      "source": [
        "print(temp_str.find('how')) #(because it is case sensitive)"
      ],
      "metadata": {
        "colab": {
          "base_uri": "https://localhost:8080/"
        },
        "id": "Nrh38se-7hS9",
        "outputId": "43199edf-ae25-496c-aaec-4d963d8d8fca"
      },
      "execution_count": null,
      "outputs": [
        {
          "output_type": "stream",
          "name": "stdout",
          "text": [
            "-1\n"
          ]
        }
      ]
    },
    {
      "cell_type": "code",
      "source": [
        "#format\n",
        "temp_str = 'Hello! my name is {name}, I am a {position}.'\n",
        "print(temp_str)\n"
      ],
      "metadata": {
        "colab": {
          "base_uri": "https://localhost:8080/"
        },
        "id": "IgYFy8r77rNs",
        "outputId": "bf9c91d5-4c84-44d0-e2f0-8e65b97f35ba"
      },
      "execution_count": null,
      "outputs": [
        {
          "output_type": "stream",
          "name": "stdout",
          "text": [
            "Hello! my name is {name}, I am a {position}.\n"
          ]
        }
      ]
    },
    {
      "cell_type": "code",
      "source": [
        "print(temp_str.format(name = 'Ajita', position = 'student'))"
      ],
      "metadata": {
        "colab": {
          "base_uri": "https://localhost:8080/"
        },
        "id": "7HbjbmAN8JBN",
        "outputId": "dc6bb1cc-e4f5-4ecd-c828-239b5cdb2c57"
      },
      "execution_count": null,
      "outputs": [
        {
          "output_type": "stream",
          "name": "stdout",
          "text": [
            "Hello! my name is Ajita, I am a student.\n"
          ]
        }
      ]
    },
    {
      "cell_type": "code",
      "source": [
        "temp_str = 'Hello! my name is {0}, I am a {1}.'\n",
        "print(temp_str.format('Ajita', 'Student'))"
      ],
      "metadata": {
        "colab": {
          "base_uri": "https://localhost:8080/"
        },
        "id": "6nJ3nwVk8Ztk",
        "outputId": "b0c022a0-0273-42fd-b3e4-5945ac96737d"
      },
      "execution_count": null,
      "outputs": [
        {
          "output_type": "stream",
          "name": "stdout",
          "text": [
            "Hello! my name is Ajita, I am a Student.\n"
          ]
        }
      ]
    },
    {
      "cell_type": "code",
      "source": [
        "#isalnum = alphanumeric. Alphanumeric characters are those that are either letters (A-Z and a-z) or digits (0-9), excluding whitespace or special characters.\n",
        "temp_str = 'HelloWorld'\n",
        "print(temp_str.isalnum())"
      ],
      "metadata": {
        "colab": {
          "base_uri": "https://localhost:8080/"
        },
        "id": "1x5tjpo-8uSL",
        "outputId": "b2b7d04a-57cb-45b6-c5a7-47fb2e988856"
      },
      "execution_count": null,
      "outputs": [
        {
          "output_type": "stream",
          "name": "stdout",
          "text": [
            "True\n"
          ]
        }
      ]
    },
    {
      "cell_type": "code",
      "source": [
        "temp_str = 'Hello World'\n",
        "print(temp_str.isalnum()) #(Output is flase because of space between two words 'Hello World')"
      ],
      "metadata": {
        "colab": {
          "base_uri": "https://localhost:8080/"
        },
        "id": "5UlyfqWtHM6I",
        "outputId": "e817613d-e676-40dd-b228-b0a086339f63"
      },
      "execution_count": null,
      "outputs": [
        {
          "output_type": "stream",
          "name": "stdout",
          "text": [
            "False\n"
          ]
        }
      ]
    },
    {
      "cell_type": "code",
      "source": [
        "temp_str = 'HelloWorld123'\n",
        "print(temp_str.isalnum())"
      ],
      "metadata": {
        "colab": {
          "base_uri": "https://localhost:8080/"
        },
        "id": "htXTWFDKHfzI",
        "outputId": "90de67a3-8d22-4ff8-a18a-c4d47f01d79e"
      },
      "execution_count": null,
      "outputs": [
        {
          "output_type": "stream",
          "name": "stdout",
          "text": [
            "True\n"
          ]
        }
      ]
    },
    {
      "cell_type": "code",
      "source": [
        "#isalpha: returns true if only alphabets are present else returns false\n",
        "temp_str = 'HelloWorld'\n",
        "print(temp_str.isalpha())"
      ],
      "metadata": {
        "colab": {
          "base_uri": "https://localhost:8080/"
        },
        "id": "EsaYL-bhH2mo",
        "outputId": "a988aa21-49f4-4a1d-aa97-c846b4a9dbe9"
      },
      "execution_count": null,
      "outputs": [
        {
          "output_type": "stream",
          "name": "stdout",
          "text": [
            "True\n"
          ]
        }
      ]
    },
    {
      "cell_type": "code",
      "source": [
        "temp_str = 'HelloWorld1234'\n",
        "print(temp_str.isalpha())"
      ],
      "metadata": {
        "colab": {
          "base_uri": "https://localhost:8080/"
        },
        "id": "tj0sDsFcLZEO",
        "outputId": "be4f5e69-51f6-463b-9351-a26830badc8a"
      },
      "execution_count": null,
      "outputs": [
        {
          "output_type": "stream",
          "name": "stdout",
          "text": [
            "False\n"
          ]
        }
      ]
    },
    {
      "cell_type": "code",
      "source": [
        "#isdecimal: returns true if only numbers between 0-9 else returns false\n",
        "temp_str = '123456789'\n",
        "print(temp_str.isdecimal())\n",
        "\n"
      ],
      "metadata": {
        "colab": {
          "base_uri": "https://localhost:8080/"
        },
        "id": "sSe64-jBLiut",
        "outputId": "91f00e6b-b084-43fb-c664-c45677bb84b8"
      },
      "execution_count": null,
      "outputs": [
        {
          "output_type": "stream",
          "name": "stdout",
          "text": [
            "True\n"
          ]
        }
      ]
    },
    {
      "cell_type": "code",
      "source": [
        "temp_str = '   1236887   ' #(false because of space)\n",
        "print(temp_str.isdecimal())"
      ],
      "metadata": {
        "colab": {
          "base_uri": "https://localhost:8080/"
        },
        "id": "ck2fe6ZTL37l",
        "outputId": "d18603cb-192d-4c72-ce8d-29217379df80"
      },
      "execution_count": null,
      "outputs": [
        {
          "output_type": "stream",
          "name": "stdout",
          "text": [
            "False\n"
          ]
        }
      ]
    },
    {
      "cell_type": "code",
      "source": [
        "temp_str = '1234.58866'\n",
        "print(temp_str.isdecimal())\n"
      ],
      "metadata": {
        "colab": {
          "base_uri": "https://localhost:8080/"
        },
        "id": "p3AyRd63ME5d",
        "outputId": "95593549-235c-4092-a8e6-d901caab8adf"
      },
      "execution_count": null,
      "outputs": [
        {
          "output_type": "stream",
          "name": "stdout",
          "text": [
            "False\n"
          ]
        }
      ]
    },
    {
      "cell_type": "code",
      "source": [
        "unicode_0 = '\\u0030'\n",
        "print(unicode_0.isdecimal())"
      ],
      "metadata": {
        "colab": {
          "base_uri": "https://localhost:8080/"
        },
        "id": "G37T89SxMRwV",
        "outputId": "71a24452-9dfc-4635-c69b-7a2ef68cca0c"
      },
      "execution_count": null,
      "outputs": [
        {
          "output_type": "stream",
          "name": "stdout",
          "text": [
            "True\n"
          ]
        }
      ]
    },
    {
      "cell_type": "code",
      "source": [
        "#isdigit: checks whetehr all the characters in a given string are digits (numeric characters). It takes digits from various scripts and non-standard numeric characters.\n",
        "temp_str = '1235889'\n",
        "print(temp_str.isdigit())"
      ],
      "metadata": {
        "colab": {
          "base_uri": "https://localhost:8080/"
        },
        "id": "V9XMRmY6M2nE",
        "outputId": "bdeddff7-3c93-4e7b-d92d-a9c29655faff"
      },
      "execution_count": null,
      "outputs": [
        {
          "output_type": "stream",
          "name": "stdout",
          "text": [
            "True\n"
          ]
        }
      ]
    },
    {
      "cell_type": "code",
      "source": [
        "temp_str = '  1235889  '\n",
        "print(temp_str.isdigit()) #(false because of space)"
      ],
      "metadata": {
        "colab": {
          "base_uri": "https://localhost:8080/"
        },
        "id": "p_q0j_3PNVe8",
        "outputId": "b8df5b8c-0830-4ced-c8bc-2a986c7270f6"
      },
      "execution_count": null,
      "outputs": [
        {
          "output_type": "stream",
          "name": "stdout",
          "text": [
            "False\n"
          ]
        }
      ]
    },
    {
      "cell_type": "code",
      "source": [
        "temp_str = '0.51235889  '\n",
        "print(temp_str.isdigit()) #(false because of space)"
      ],
      "metadata": {
        "colab": {
          "base_uri": "https://localhost:8080/"
        },
        "id": "AU3byQxeNZwz",
        "outputId": "f334ddd4-578a-42b5-d46a-6da7cdc6dcd8"
      },
      "execution_count": null,
      "outputs": [
        {
          "output_type": "stream",
          "name": "stdout",
          "text": [
            "False\n"
          ]
        }
      ]
    },
    {
      "cell_type": "code",
      "source": [
        "temp_str = 'abc1235889  '\n",
        "print(temp_str.isdigit()) #(false because of letters)"
      ],
      "metadata": {
        "colab": {
          "base_uri": "https://localhost:8080/"
        },
        "id": "-4valqHSNjdj",
        "outputId": "635b543a-bb78-42a3-ea53-359664877a70"
      },
      "execution_count": null,
      "outputs": [
        {
          "output_type": "stream",
          "name": "stdout",
          "text": [
            "False\n"
          ]
        }
      ]
    },
    {
      "cell_type": "code",
      "source": [],
      "metadata": {
        "id": "tKXar94DNnwE"
      },
      "execution_count": null,
      "outputs": []
    },
    {
      "cell_type": "code",
      "source": [
        "str = ('ajita Giri')\n",
        "print(str.capitalize())"
      ],
      "metadata": {
        "id": "b1adiOs1O8Qh",
        "colab": {
          "base_uri": "https://localhost:8080/"
        },
        "outputId": "1658e930-dd3d-410c-cf8f-86243ec0fbc8"
      },
      "execution_count": null,
      "outputs": [
        {
          "output_type": "stream",
          "name": "stdout",
          "text": [
            "Ajita giri\n"
          ]
        }
      ]
    },
    {
      "cell_type": "code",
      "source": [
        "str = ('AJITA GIRI')\n",
        "print(str.casefold())"
      ],
      "metadata": {
        "colab": {
          "base_uri": "https://localhost:8080/"
        },
        "id": "yl9ew_cWbIyA",
        "outputId": "32758722-4520-4baf-ab30-2aee12d83337"
      },
      "execution_count": null,
      "outputs": [
        {
          "output_type": "stream",
          "name": "stdout",
          "text": [
            "ajita giri\n"
          ]
        }
      ]
    },
    {
      "cell_type": "code",
      "source": [
        "str = ('Ajita Giri')\n",
        "print(str.center(15,\"@\"))"
      ],
      "metadata": {
        "colab": {
          "base_uri": "https://localhost:8080/"
        },
        "id": "jHyPjZHzbgeH",
        "outputId": "35a92510-50e7-47fd-b8b6-7158d104a3d8"
      },
      "execution_count": null,
      "outputs": [
        {
          "output_type": "stream",
          "name": "stdout",
          "text": [
            "@@@Ajita Giri@@\n"
          ]
        }
      ]
    },
    {
      "cell_type": "code",
      "source": [
        "str = (\"Ajita Giri ajita\")\n",
        "print(str.count(\"Ajita\"))"
      ],
      "metadata": {
        "colab": {
          "base_uri": "https://localhost:8080/"
        },
        "id": "lNL1ovMxb1PP",
        "outputId": "21c09b75-43e7-4501-e1fd-7ea31a00d0a9"
      },
      "execution_count": null,
      "outputs": [
        {
          "output_type": "stream",
          "name": "stdout",
          "text": [
            "1\n"
          ]
        }
      ]
    },
    {
      "cell_type": "code",
      "source": [],
      "metadata": {
        "id": "WGPU5c9KcQRe"
      },
      "execution_count": null,
      "outputs": []
    },
    {
      "cell_type": "code",
      "source": [
        "str = (\"hello\")\n",
        "print(str.count(''))"
      ],
      "metadata": {
        "colab": {
          "base_uri": "https://localhost:8080/"
        },
        "id": "BsGZ3Dzad5rN",
        "outputId": "5894000a-5339-485c-f39e-f31011a0bd81"
      },
      "execution_count": 56,
      "outputs": [
        {
          "output_type": "stream",
          "name": "stdout",
          "text": [
            "6\n"
          ]
        }
      ]
    },
    {
      "cell_type": "code",
      "source": [
        "#August 10\n",
        "#Difference between isdecimal and unicodes\n",
        "temp_str ='\\u00b2'\n",
        "print(temp_str.isdecimal())\n",
        "print(temp_str.isdigit())"
      ],
      "metadata": {
        "id": "Pudr1wVco7cY",
        "colab": {
          "base_uri": "https://localhost:8080/"
        },
        "outputId": "c2bd0d61-5912-43b1-c76b-2d285a9ae6f2"
      },
      "execution_count": 5,
      "outputs": [
        {
          "output_type": "stream",
          "name": "stdout",
          "text": [
            "False\n",
            "True\n"
          ]
        }
      ]
    },
    {
      "cell_type": "code",
      "source": [
        "#isidentifier: Used to identify the reserve words. Returns true if there is key/reserve words else returns false.\n",
        "#This also works with other characters but returns false if there is number.\n",
        "temp_str = 'Hello world'\n",
        "print(temp_str.isidentifier())\n",
        "temp_str2='jjkh'\n",
        "print(temp_str2.isidentifier())\n",
        "temp_str2='1235'\n",
        "print(temp_str2.isidentifier())"
      ],
      "metadata": {
        "colab": {
          "base_uri": "https://localhost:8080/"
        },
        "id": "cMT9pKw6aK23",
        "outputId": "e3e2e95b-9cee-4b8b-fed8-01648d1ed550"
      },
      "execution_count": 17,
      "outputs": [
        {
          "output_type": "stream",
          "name": "stdout",
          "text": [
            "False\n",
            "True\n",
            "False\n"
          ]
        }
      ]
    },
    {
      "cell_type": "code",
      "source": [
        "#islower: it ignores number\n",
        "temp_str = 'Hello WORLD'\n",
        "temp_str2 = 'hello world123!!!'\n",
        "print(temp_str.islower())\n",
        "print(temp_str2.islower())"
      ],
      "metadata": {
        "colab": {
          "base_uri": "https://localhost:8080/"
        },
        "id": "Vik2A-5fbARF",
        "outputId": "294d1381-68e0-4418-c7b0-4ecaf2acb16c"
      },
      "execution_count": 19,
      "outputs": [
        {
          "output_type": "stream",
          "name": "stdout",
          "text": [
            "False\n",
            "True\n"
          ]
        }
      ]
    },
    {
      "cell_type": "code",
      "source": [
        "temp_str = 'Hello WORLD'\n",
        "temp_str2 = ' '\n",
        "print(temp_str.isspace())\n",
        "print(temp_str2.isspace())"
      ],
      "metadata": {
        "colab": {
          "base_uri": "https://localhost:8080/"
        },
        "id": "HZb40EV1cJoc",
        "outputId": "45597e20-e937-427c-a003-3cd0f2dd4654"
      },
      "execution_count": 46,
      "outputs": [
        {
          "output_type": "stream",
          "name": "stdout",
          "text": [
            "False\n",
            "True\n"
          ]
        }
      ]
    },
    {
      "cell_type": "code",
      "source": [
        "#istitle\n",
        "temp_str = 'Hello WORLD'\n",
        "temp_str2 = 'Hello World'\n",
        "print(temp_str.istitle())\n",
        "print(temp_str2.istitle())\n"
      ],
      "metadata": {
        "colab": {
          "base_uri": "https://localhost:8080/"
        },
        "id": "WfWbVzk6dq4r",
        "outputId": "168c8a2a-5a6b-43dc-b6bc-2f89c4ff1ea1"
      },
      "execution_count": 28,
      "outputs": [
        {
          "output_type": "stream",
          "name": "stdout",
          "text": [
            "False\n",
            "True\n"
          ]
        }
      ]
    },
    {
      "cell_type": "code",
      "source": [
        "#if all the alphabets available are in upper case it Returns True\n",
        "temp_str = 'Hello WOrld'\n",
        "print(temp_str.isupper())\n",
        "temp_str = 'HELLO WORLD123'\n",
        "print(temp_str.isupper())"
      ],
      "metadata": {
        "colab": {
          "base_uri": "https://localhost:8080/"
        },
        "id": "0DZYwJ93eT3F",
        "outputId": "4b66cac2-7e26-4959-a9d9-c53fefff6b4a"
      },
      "execution_count": 34,
      "outputs": [
        {
          "output_type": "stream",
          "name": "stdout",
          "text": [
            "False\n",
            "True\n"
          ]
        }
      ]
    },
    {
      "cell_type": "code",
      "source": [
        "#Itetrables a list, tuple\n",
        "list_temp = ['Hello', 'World','How', 'are','you']\n",
        "print('#'.join(list_temp))\n"
      ],
      "metadata": {
        "colab": {
          "base_uri": "https://localhost:8080/"
        },
        "id": "Xa0xQgP0gFu5",
        "outputId": "f3107418-2dbb-40b6-da26-7f096d388c4f"
      },
      "execution_count": 38,
      "outputs": [
        {
          "output_type": "stream",
          "name": "stdout",
          "text": [
            "Hello#World#How#are#you\n"
          ]
        }
      ]
    },
    {
      "cell_type": "code",
      "source": [
        "#lower\n",
        "temp_str = 'Hello WOrld'\n",
        "print(temp_str.lower())\n",
        "string_german = 'ß'\n",
        "print(string_german.lower())\n",
        "print(string_german.casefold())"
      ],
      "metadata": {
        "colab": {
          "base_uri": "https://localhost:8080/"
        },
        "id": "pL7QC6QJg7T5",
        "outputId": "f482313c-1d9a-4106-f0a7-25f444537321"
      },
      "execution_count": 44,
      "outputs": [
        {
          "output_type": "stream",
          "name": "stdout",
          "text": [
            "hello world\n",
            "ß\n",
            "ss\n"
          ]
        }
      ]
    },
    {
      "cell_type": "code",
      "source": [
        "#lstrip: Removes white space in the left hand side of the string.\n",
        "temp_str = '       Hello WOrld'\n",
        "print(temp_str.lstrip())\n"
      ],
      "metadata": {
        "colab": {
          "base_uri": "https://localhost:8080/"
        },
        "id": "VDoXx3DlhtQ4",
        "outputId": "37d0e35e-77eb-4ffa-f02d-72c3b442380f"
      },
      "execution_count": 45,
      "outputs": [
        {
          "output_type": "stream",
          "name": "stdout",
          "text": [
            "Hello WOrld\n"
          ]
        }
      ]
    },
    {
      "cell_type": "code",
      "source": [
        "temp_str = 'i could eat apples all day'\n",
        "print(temp_str.partition ('apples'))\n",
        "print(temp_str.partition ('apples11'))"
      ],
      "metadata": {
        "colab": {
          "base_uri": "https://localhost:8080/"
        },
        "id": "cvY3XwMwi9no",
        "outputId": "05a36dfd-0f8a-453b-d664-3bbae68f1123"
      },
      "execution_count": 48,
      "outputs": [
        {
          "output_type": "stream",
          "name": "stdout",
          "text": [
            "('i could eat ', 'apples', ' all day')\n",
            "('i could eat apples all day', '', '')\n"
          ]
        }
      ]
    },
    {
      "cell_type": "code",
      "source": [
        "#replace\n",
        "temp_str = 'i could eat apples all , thats all I can say'\n",
        "print(temp_str.replace ('all', 'not').replace ('apples', 'mangoes'))"
      ],
      "metadata": {
        "colab": {
          "base_uri": "https://localhost:8080/"
        },
        "id": "zI_Ki9ctjtY2",
        "outputId": "ff7fe274-3402-4916-bf7c-ab2f8eeb0fa0"
      },
      "execution_count": 53,
      "outputs": [
        {
          "output_type": "stream",
          "name": "stdout",
          "text": [
            "i could eat mangoes not , thats not I can say\n"
          ]
        }
      ]
    },
    {
      "cell_type": "code",
      "source": [
        "#rstrip\n",
        "temp_str = '        Hello World   '\n",
        "print(temp_str.rstrip ())"
      ],
      "metadata": {
        "colab": {
          "base_uri": "https://localhost:8080/"
        },
        "id": "pwiiV4h9koHF",
        "outputId": "67e7cf89-81ee-4cbc-8dbc-d83e0feb5348"
      },
      "execution_count": 58,
      "outputs": [
        {
          "output_type": "stream",
          "name": "stdout",
          "text": [
            "        Hello World\n"
          ]
        }
      ]
    },
    {
      "cell_type": "code",
      "source": [
        "#split\n",
        "temp_str = 'i could eat apples all day, thats all i can say'\n",
        "temp_str.split('day')"
      ],
      "metadata": {
        "colab": {
          "base_uri": "https://localhost:8080/"
        },
        "id": "c6Thueu_l0_l",
        "outputId": "0f57e907-7f44-4174-88a1-5a4bd584622f"
      },
      "execution_count": 69,
      "outputs": [
        {
          "output_type": "execute_result",
          "data": {
            "text/plain": [
              "['i could eat apples all ', ', thats all i can say']"
            ]
          },
          "metadata": {},
          "execution_count": 69
        }
      ]
    },
    {
      "cell_type": "code",
      "source": [
        "#startswith\n",
        "temp_str = 'i could eat apples all day, thats all i can say'\n",
        "temp_str.startswith('i')\n",
        "temp_str.startswith('could',2)"
      ],
      "metadata": {
        "colab": {
          "base_uri": "https://localhost:8080/"
        },
        "id": "uzxpGQksmK8M",
        "outputId": "5667a126-5515-465d-a9cb-b8940a666489"
      },
      "execution_count": 78,
      "outputs": [
        {
          "output_type": "execute_result",
          "data": {
            "text/plain": [
              "True"
            ]
          },
          "metadata": {},
          "execution_count": 78
        }
      ]
    },
    {
      "cell_type": "code",
      "source": [
        "#strip\n",
        "temp_str = '    Hello WOrld                        '\n",
        "temp_str.strip()"
      ],
      "metadata": {
        "colab": {
          "base_uri": "https://localhost:8080/",
          "height": 35
        },
        "id": "408gjLRknCxd",
        "outputId": "e77f3834-4554-4edf-be75-8299a8d43b28"
      },
      "execution_count": 80,
      "outputs": [
        {
          "output_type": "execute_result",
          "data": {
            "text/plain": [
              "'Hello WOrld'"
            ],
            "application/vnd.google.colaboratory.intrinsic+json": {
              "type": "string"
            }
          },
          "metadata": {},
          "execution_count": 80
        }
      ]
    },
    {
      "cell_type": "code",
      "source": [
        "#swapcase\n",
        "temp_str = 'i could eat APPLES all day, thats all i can say'\n",
        "temp_str.swapcase()\n"
      ],
      "metadata": {
        "colab": {
          "base_uri": "https://localhost:8080/",
          "height": 35
        },
        "id": "Cda1GxPDn3oS",
        "outputId": "eea633ea-141a-4892-f70b-b5b751e65e42"
      },
      "execution_count": 81,
      "outputs": [
        {
          "output_type": "execute_result",
          "data": {
            "text/plain": [
              "'I COULD EAT apples ALL DAY, THATS ALL I CAN SAY'"
            ],
            "application/vnd.google.colaboratory.intrinsic+json": {
              "type": "string"
            }
          },
          "metadata": {},
          "execution_count": 81
        }
      ]
    },
    {
      "cell_type": "code",
      "source": [
        "#Title\n",
        "temp_str = 'i could eat aPples all day, thats all i can say'\n",
        "temp_str.title()\n"
      ],
      "metadata": {
        "colab": {
          "base_uri": "https://localhost:8080/",
          "height": 35
        },
        "id": "orZFpKRmoOZE",
        "outputId": "1fca12a3-19a5-43bd-8a5e-b2865497291c"
      },
      "execution_count": 82,
      "outputs": [
        {
          "output_type": "execute_result",
          "data": {
            "text/plain": [
              "'I Could Eat Apples All Day, Thats All I Can Say'"
            ],
            "application/vnd.google.colaboratory.intrinsic+json": {
              "type": "string"
            }
          },
          "metadata": {},
          "execution_count": 82
        }
      ]
    },
    {
      "cell_type": "code",
      "source": [
        "#Dictionary: it will only keep the most recent key.\n",
        "temp_str = {83:80,83:78}\n",
        "print(temp_str)"
      ],
      "metadata": {
        "colab": {
          "base_uri": "https://localhost:8080/"
        },
        "id": "xhyL4HN-oZp7",
        "outputId": "f9fd8d0e-66db-45fe-a3a4-6499bf919223"
      },
      "execution_count": 85,
      "outputs": [
        {
          "output_type": "stream",
          "name": "stdout",
          "text": [
            "{83: 78}\n"
          ]
        }
      ]
    },
    {
      "cell_type": "code",
      "source": [
        "temp_str = {'brand':'Ford', 'model':'Mustang', 'Year':1964,'Year':2020}\n",
        "print(temp_str)"
      ],
      "metadata": {
        "colab": {
          "base_uri": "https://localhost:8080/"
        },
        "id": "hzlEZn-HpULi",
        "outputId": "e145c1ce-e00c-4f98-d782-1f7e91ab17fb"
      },
      "execution_count": 87,
      "outputs": [
        {
          "output_type": "stream",
          "name": "stdout",
          "text": [
            "{'brand': 'Ford', 'model': 'Mustang', 'Year': 2020}\n"
          ]
        }
      ]
    },
    {
      "cell_type": "code",
      "source": [
        "temp_str = {'brand':'Ford', 'model':'Mustang', 'Year':1964,'Year':2020}\n",
        "print(temp_str['brand'])"
      ],
      "metadata": {
        "colab": {
          "base_uri": "https://localhost:8080/"
        },
        "id": "gxj3PMZIqQYK",
        "outputId": "f4f4bdee-63f3-4c81-eda9-0e6092b170df"
      },
      "execution_count": 88,
      "outputs": [
        {
          "output_type": "stream",
          "name": "stdout",
          "text": [
            "Ford\n"
          ]
        }
      ]
    },
    {
      "cell_type": "code",
      "source": [
        "thisdict=dict(name='John',age = 34, country = 'England') #thisdict will change the key into sting\n",
        "print(thisdict)"
      ],
      "metadata": {
        "colab": {
          "base_uri": "https://localhost:8080/"
        },
        "id": "tMbcm5I7qbmB",
        "outputId": "7c20f8b6-397c-4d57-e9c9-62e5cdbcbb9f"
      },
      "execution_count": 89,
      "outputs": [
        {
          "output_type": "stream",
          "name": "stdout",
          "text": [
            "{'name': 'John', 'age': 34, 'country': 'England'}\n"
          ]
        }
      ]
    },
    {
      "cell_type": "code",
      "source": [
        "#Gives error if not string\n",
        "thisdict=dict(15='John',age = 34, country = 'England') #thisdict will change the key into sting\n",
        "print(thisdict)"
      ],
      "metadata": {
        "colab": {
          "base_uri": "https://localhost:8080/",
          "height": 141
        },
        "id": "Z_9huH2UqzFH",
        "outputId": "d3e62aba-2909-447f-e855-cec6cc80034e"
      },
      "execution_count": 91,
      "outputs": [
        {
          "output_type": "error",
          "ename": "SyntaxError",
          "evalue": "ignored",
          "traceback": [
            "\u001b[0;36m  File \u001b[0;32m\"<ipython-input-91-a2613ef1d84d>\"\u001b[0;36m, line \u001b[0;32m2\u001b[0m\n\u001b[0;31m    thisdict=dict(15='John',age = 34, country = 'England') #thisdict will change the key into sting\u001b[0m\n\u001b[0m                  ^\u001b[0m\n\u001b[0;31mSyntaxError\u001b[0m\u001b[0;31m:\u001b[0m expression cannot contain assignment, perhaps you meant \"==\"?\n"
          ]
        }
      ]
    },
    {
      "cell_type": "code",
      "source": [
        "#translate: Assci code value of S is 83 defaultly we replace it with 80 here which is P\n",
        "temp_dict = {83:80, 83:78}\n",
        "temp_str = \"Hello Sam!\"\n",
        "temp_str.translate (temp_dict)"
      ],
      "metadata": {
        "colab": {
          "base_uri": "https://localhost:8080/",
          "height": 35
        },
        "id": "sxPZ14clrOyH",
        "outputId": "885904c3-83f5-451a-c700-b70b7dd7f502"
      },
      "execution_count": 93,
      "outputs": [
        {
          "output_type": "execute_result",
          "data": {
            "text/plain": [
              "'Hello Nam!'"
            ],
            "application/vnd.google.colaboratory.intrinsic+json": {
              "type": "string"
            }
          },
          "metadata": {},
          "execution_count": 93
        }
      ]
    },
    {
      "cell_type": "code",
      "source": [
        "temp_dict = {83:80, 72:77, 83:76}\n",
        "temp_str = \"Hello Sam!\"\n",
        "temp_str.translate (temp_dict)"
      ],
      "metadata": {
        "colab": {
          "base_uri": "https://localhost:8080/",
          "height": 35
        },
        "id": "PNDDxYljr-Jm",
        "outputId": "72a8b6bc-7445-45fb-c79e-0cb9d0dd2f68"
      },
      "execution_count": 94,
      "outputs": [
        {
          "output_type": "execute_result",
          "data": {
            "text/plain": [
              "'Mello Lam!'"
            ],
            "application/vnd.google.colaboratory.intrinsic+json": {
              "type": "string"
            }
          },
          "metadata": {},
          "execution_count": 94
        }
      ]
    },
    {
      "cell_type": "code",
      "source": [
        "#Upper\n",
        "temp_str = 'i could eat aPples all day, thats all i can say'\n",
        "temp_str.upper()"
      ],
      "metadata": {
        "colab": {
          "base_uri": "https://localhost:8080/",
          "height": 35
        },
        "id": "iL-Mnergt25t",
        "outputId": "2eee566f-033b-48a7-d410-2b241469f44a"
      },
      "execution_count": 95,
      "outputs": [
        {
          "output_type": "execute_result",
          "data": {
            "text/plain": [
              "'I COULD EAT APPLES ALL DAY, THATS ALL I CAN SAY'"
            ],
            "application/vnd.google.colaboratory.intrinsic+json": {
              "type": "string"
            }
          },
          "metadata": {},
          "execution_count": 95
        }
      ]
    },
    {
      "cell_type": "code",
      "source": [
        "#Zfill:zero fill\n",
        "temp_str = 'i could eat aPples all day, thats all i can say'\n",
        "print(len(temp_str))\n",
        "print(temp_str.zfill(60))"
      ],
      "metadata": {
        "colab": {
          "base_uri": "https://localhost:8080/"
        },
        "id": "piIBbyjIuJoM",
        "outputId": "ccec258d-4386-4588-db0a-848177a7e54b"
      },
      "execution_count": 98,
      "outputs": [
        {
          "output_type": "stream",
          "name": "stdout",
          "text": [
            "47\n",
            "0000000000000i could eat aPples all day, thats all i can say\n"
          ]
        }
      ]
    },
    {
      "cell_type": "code",
      "source": [],
      "metadata": {
        "id": "IQe4mb_Mulai"
      },
      "execution_count": null,
      "outputs": []
    }
  ]
}