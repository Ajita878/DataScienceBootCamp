{
  "nbformat": 4,
  "nbformat_minor": 0,
  "metadata": {
    "colab": {
      "provenance": []
    },
    "kernelspec": {
      "name": "python3",
      "display_name": "Python 3"
    },
    "language_info": {
      "name": "python"
    }
  },
  "cells": [
    {
      "cell_type": "code",
      "execution_count": null,
      "metadata": {
        "id": "rZvryIgAfAP3",
        "colab": {
          "base_uri": "https://localhost:8080/"
        },
        "outputId": "5ad7ecf1-ceba-487f-e0e0-51c150ee7ae7"
      },
      "outputs": [
        {
          "output_type": "stream",
          "name": "stdout",
          "text": [
            "Hello World\n"
          ]
        }
      ],
      "source": [
        "#string slicing [start:end:step]\n",
        "temp_str = 'Hello World'\n",
        "print(temp_str)"
      ]
    },
    {
      "cell_type": "code",
      "source": [
        "temp_str = 'Hello World'\n",
        "print(temp_str[::2])"
      ],
      "metadata": {
        "colab": {
          "base_uri": "https://localhost:8080/"
        },
        "id": "QJl4lRAcgzhA",
        "outputId": "5869a7b3-7ecb-48c4-a4d4-be87bb8945e5"
      },
      "execution_count": null,
      "outputs": [
        {
          "output_type": "stream",
          "name": "stdout",
          "text": [
            "HloWrd\n"
          ]
        }
      ]
    },
    {
      "cell_type": "code",
      "source": [
        "#dir function\n",
        "dir(temp_str)"
      ],
      "metadata": {
        "colab": {
          "base_uri": "https://localhost:8080/"
        },
        "id": "eQ9Zlu1ZhW_V",
        "outputId": "71ca35ac-a3d8-41f6-ecc8-2733f1253963"
      },
      "execution_count": null,
      "outputs": [
        {
          "output_type": "execute_result",
          "data": {
            "text/plain": [
              "['__add__',\n",
              " '__class__',\n",
              " '__contains__',\n",
              " '__delattr__',\n",
              " '__dir__',\n",
              " '__doc__',\n",
              " '__eq__',\n",
              " '__format__',\n",
              " '__ge__',\n",
              " '__getattribute__',\n",
              " '__getitem__',\n",
              " '__getnewargs__',\n",
              " '__gt__',\n",
              " '__hash__',\n",
              " '__init__',\n",
              " '__init_subclass__',\n",
              " '__iter__',\n",
              " '__le__',\n",
              " '__len__',\n",
              " '__lt__',\n",
              " '__mod__',\n",
              " '__mul__',\n",
              " '__ne__',\n",
              " '__new__',\n",
              " '__reduce__',\n",
              " '__reduce_ex__',\n",
              " '__repr__',\n",
              " '__rmod__',\n",
              " '__rmul__',\n",
              " '__setattr__',\n",
              " '__sizeof__',\n",
              " '__str__',\n",
              " '__subclasshook__',\n",
              " 'capitalize',\n",
              " 'casefold',\n",
              " 'center',\n",
              " 'count',\n",
              " 'encode',\n",
              " 'endswith',\n",
              " 'expandtabs',\n",
              " 'find',\n",
              " 'format',\n",
              " 'format_map',\n",
              " 'index',\n",
              " 'isalnum',\n",
              " 'isalpha',\n",
              " 'isascii',\n",
              " 'isdecimal',\n",
              " 'isdigit',\n",
              " 'isidentifier',\n",
              " 'islower',\n",
              " 'isnumeric',\n",
              " 'isprintable',\n",
              " 'isspace',\n",
              " 'istitle',\n",
              " 'isupper',\n",
              " 'join',\n",
              " 'ljust',\n",
              " 'lower',\n",
              " 'lstrip',\n",
              " 'maketrans',\n",
              " 'partition',\n",
              " 'removeprefix',\n",
              " 'removesuffix',\n",
              " 'replace',\n",
              " 'rfind',\n",
              " 'rindex',\n",
              " 'rjust',\n",
              " 'rpartition',\n",
              " 'rsplit',\n",
              " 'rstrip',\n",
              " 'split',\n",
              " 'splitlines',\n",
              " 'startswith',\n",
              " 'strip',\n",
              " 'swapcase',\n",
              " 'title',\n",
              " 'translate',\n",
              " 'upper',\n",
              " 'zfill']"
            ]
          },
          "metadata": {},
          "execution_count": 4
        }
      ]
    },
    {
      "cell_type": "code",
      "source": [
        "#capitalize: takes the first character of the string to upper case\n",
        "temp_str = 'hello world'\n",
        "print(temp_str.capitalize())"
      ],
      "metadata": {
        "colab": {
          "base_uri": "https://localhost:8080/"
        },
        "id": "OxR1oMqDh9nl",
        "outputId": "fdd9e9ca-a234-4579-824d-db9868d25bcd"
      },
      "execution_count": null,
      "outputs": [
        {
          "output_type": "stream",
          "name": "stdout",
          "text": [
            "Hello world\n"
          ]
        }
      ]
    },
    {
      "cell_type": "code",
      "source": [
        "#casdefold: returns a string where all characters are lowercase\n",
        "temp_str = 'HELLO WORLD'\n",
        "print(temp_str.casefold())"
      ],
      "metadata": {
        "colab": {
          "base_uri": "https://localhost:8080/"
        },
        "id": "c8AYiB48iRC9",
        "outputId": "266d9ee2-75e2-4580-d70f-45a1d514667f"
      },
      "execution_count": null,
      "outputs": [
        {
          "output_type": "stream",
          "name": "stdout",
          "text": [
            "hello world\n"
          ]
        }
      ]
    },
    {
      "cell_type": "code",
      "source": [
        ".\n",
        "#center: it is used to center-align a string within a specified width. Dummy characters are added from last.\n",
        "temp_str = 'Hello World'\n",
        "print(temp_str.center(18,'$'))"
      ],
      "metadata": {
        "colab": {
          "base_uri": "https://localhost:8080/"
        },
        "id": "Wbk4xTZejQbU",
        "outputId": "8614c749-ffb5-4db7-fb6f-e6c3dba489b1"
      },
      "execution_count": null,
      "outputs": [
        {
          "output_type": "stream",
          "name": "stdout",
          "text": [
            "$$$Hello World$$$$\n"
          ]
        }
      ]
    },
    {
      "cell_type": "code",
      "source": [
        "#If dummy characters are not specified it will add space from last/right.\n",
        "temp_str = 'Hello World'\n",
        "print(temp_str.center(15))"
      ],
      "metadata": {
        "colab": {
          "base_uri": "https://localhost:8080/"
        },
        "id": "qgHkhGuCj5-D",
        "outputId": "39562e5a-597b-4c4b-8abb-e2e3f2c89a1b"
      },
      "execution_count": null,
      "outputs": [
        {
          "output_type": "stream",
          "name": "stdout",
          "text": [
            "  Hello World  \n"
          ]
        }
      ]
    },
    {
      "cell_type": "code",
      "source": [
        "#count: Count function is case sensitive.\n",
        "temp_str = 'Hello World! How is it going? Hello, all good'\n",
        "print(temp_str.count('Hello'))"
      ],
      "metadata": {
        "id": "erPKyNrVkfz6",
        "colab": {
          "base_uri": "https://localhost:8080/"
        },
        "outputId": "69d893cd-b59f-4f6e-816f-08d0b017c3ff"
      },
      "execution_count": 18,
      "outputs": [
        {
          "output_type": "stream",
          "name": "stdout",
          "text": [
            "2\n"
          ]
        }
      ]
    },
    {
      "cell_type": "code",
      "source": [
        "#range: is used to generate a sequence of numbers with a specified range. It only works for alphabetic characters. It can be called up with three argumants.\n",
        "#'start': It is optional. if not provided the sequence starts from 0.\n",
        "#'stop': It is the ending value of the sequence. it will generate numbers up to, but not including, this value.\n",
        "#'step': It is optional. If not provided the default is step 1.\n",
        "temp_str = 'Hello World! How is it going? Hello, all good'\n",
        "print(temp_str[2:5])"
      ],
      "metadata": {
        "colab": {
          "base_uri": "https://localhost:8080/"
        },
        "id": "zaeKZhrXxg4c",
        "outputId": "ae4d4ceb-15a0-40ca-9fd7-2cd2747c5bca"
      },
      "execution_count": 25,
      "outputs": [
        {
          "output_type": "stream",
          "name": "stdout",
          "text": [
            "llo\n"
          ]
        }
      ]
    },
    {
      "cell_type": "code",
      "source": [
        "temp_str = 'AjitaGiri'\n",
        "print(temp_str[2:9])"
      ],
      "metadata": {
        "colab": {
          "base_uri": "https://localhost:8080/"
        },
        "id": "gSgAuonRzWvO",
        "outputId": "d5290652-7fc4-4037-d5ea-fa2efddc448e"
      },
      "execution_count": 17,
      "outputs": [
        {
          "output_type": "stream",
          "name": "stdout",
          "text": [
            "itaGiri\n"
          ]
        }
      ]
    },
    {
      "cell_type": "code",
      "source": [
        "#endswith: to check if string ends with specified sub string.\n",
        "#endswith: (value, start, end) -1\n",
        "temp_str = 'Hello World! How is it going? Hello, all good'\n",
        "print(temp_str.endswith('good'))"
      ],
      "metadata": {
        "colab": {
          "base_uri": "https://localhost:8080/"
        },
        "id": "wWut1hm8zqFl",
        "outputId": "d843a739-2dbe-4cce-cd50-4180727fb542"
      },
      "execution_count": 26,
      "outputs": [
        {
          "output_type": "stream",
          "name": "stdout",
          "text": [
            "True\n"
          ]
        }
      ]
    },
    {
      "cell_type": "code",
      "source": [
        "print(temp_str.endswith('god'))"
      ],
      "metadata": {
        "colab": {
          "base_uri": "https://localhost:8080/"
        },
        "id": "2ydac9_a5IVn",
        "outputId": "aff2de56-5aba-41a5-a1ab-f2f6e15a8868"
      },
      "execution_count": 27,
      "outputs": [
        {
          "output_type": "stream",
          "name": "stdout",
          "text": [
            "False\n"
          ]
        }
      ]
    },
    {
      "cell_type": "code",
      "source": [
        "print(temp_str.endswith('How',0,16))"
      ],
      "metadata": {
        "colab": {
          "base_uri": "https://localhost:8080/"
        },
        "id": "tWbl0WEw5Kt2",
        "outputId": "183a700a-eb1f-402e-993c-22805a5b0c83"
      },
      "execution_count": 42,
      "outputs": [
        {
          "output_type": "stream",
          "name": "stdout",
          "text": [
            "True\n"
          ]
        }
      ]
    },
    {
      "cell_type": "code",
      "source": [
        "print(len(temp_str))"
      ],
      "metadata": {
        "colab": {
          "base_uri": "https://localhost:8080/"
        },
        "id": "F8BIbSyj5hW_",
        "outputId": "8e3a7d40-2f46-4ab6-e11b-0089a7861caf"
      },
      "execution_count": 43,
      "outputs": [
        {
          "output_type": "stream",
          "name": "stdout",
          "text": [
            "45\n"
          ]
        }
      ]
    },
    {
      "cell_type": "code",
      "source": [
        "#find: It is used to find the index of the first occurence of a specified substring within a string.\n",
        "#If found, the method returnd the index of its first character: if not, it returns -1.\n",
        "#find:('substring,start,end)\n",
        "temp_str = 'Hello World! How is it going? Hello, all good'\n",
        "print(temp_str.find('How'))"
      ],
      "metadata": {
        "colab": {
          "base_uri": "https://localhost:8080/"
        },
        "id": "nQ1Hcwwt6riX",
        "outputId": "61a82558-3b02-4053-9db8-0d03e35d457c"
      },
      "execution_count": 45,
      "outputs": [
        {
          "output_type": "stream",
          "name": "stdout",
          "text": [
            "13\n"
          ]
        }
      ]
    },
    {
      "cell_type": "code",
      "source": [
        "print(temp_str.find('how')) #(because it is case sensitive)"
      ],
      "metadata": {
        "colab": {
          "base_uri": "https://localhost:8080/"
        },
        "id": "Nrh38se-7hS9",
        "outputId": "43199edf-ae25-496c-aaec-4d963d8d8fca"
      },
      "execution_count": 46,
      "outputs": [
        {
          "output_type": "stream",
          "name": "stdout",
          "text": [
            "-1\n"
          ]
        }
      ]
    },
    {
      "cell_type": "code",
      "source": [
        "#format\n",
        "temp_str = 'Hello! my name is {name}, I am a {position}.'\n",
        "print(temp_str)\n"
      ],
      "metadata": {
        "colab": {
          "base_uri": "https://localhost:8080/"
        },
        "id": "IgYFy8r77rNs",
        "outputId": "bf9c91d5-4c84-44d0-e2f0-8e65b97f35ba"
      },
      "execution_count": 47,
      "outputs": [
        {
          "output_type": "stream",
          "name": "stdout",
          "text": [
            "Hello! my name is {name}, I am a {position}.\n"
          ]
        }
      ]
    },
    {
      "cell_type": "code",
      "source": [
        "print(temp_str.format(name = 'Ajita', position = 'student'))"
      ],
      "metadata": {
        "colab": {
          "base_uri": "https://localhost:8080/"
        },
        "id": "7HbjbmAN8JBN",
        "outputId": "dc6bb1cc-e4f5-4ecd-c828-239b5cdb2c57"
      },
      "execution_count": 48,
      "outputs": [
        {
          "output_type": "stream",
          "name": "stdout",
          "text": [
            "Hello! my name is Ajita, I am a student.\n"
          ]
        }
      ]
    },
    {
      "cell_type": "code",
      "source": [
        "temp_str = 'Hello! my name is {0}, I am a {1}.'\n",
        "print(temp_str.format('Ajita', 'Student'))"
      ],
      "metadata": {
        "colab": {
          "base_uri": "https://localhost:8080/"
        },
        "id": "6nJ3nwVk8Ztk",
        "outputId": "b0c022a0-0273-42fd-b3e4-5945ac96737d"
      },
      "execution_count": 49,
      "outputs": [
        {
          "output_type": "stream",
          "name": "stdout",
          "text": [
            "Hello! my name is Ajita, I am a Student.\n"
          ]
        }
      ]
    },
    {
      "cell_type": "code",
      "source": [
        "#isalnum = alphanumeric. Alphanumeric characters are those that are either letters (A-Z and a-z) or digits (0-9), excluding whitespace or special characters.\n",
        "temp_str = 'HelloWorld'\n",
        "print(temp_str.isalnum())"
      ],
      "metadata": {
        "colab": {
          "base_uri": "https://localhost:8080/"
        },
        "id": "1x5tjpo-8uSL",
        "outputId": "b2b7d04a-57cb-45b6-c5a7-47fb2e988856"
      },
      "execution_count": 53,
      "outputs": [
        {
          "output_type": "stream",
          "name": "stdout",
          "text": [
            "True\n"
          ]
        }
      ]
    },
    {
      "cell_type": "code",
      "source": [
        "temp_str = 'Hello World'\n",
        "print(temp_str.isalnum()) #(Output is flase because of space between two words 'Hello World')"
      ],
      "metadata": {
        "colab": {
          "base_uri": "https://localhost:8080/"
        },
        "id": "5UlyfqWtHM6I",
        "outputId": "e817613d-e676-40dd-b228-b0a086339f63"
      },
      "execution_count": 55,
      "outputs": [
        {
          "output_type": "stream",
          "name": "stdout",
          "text": [
            "False\n"
          ]
        }
      ]
    },
    {
      "cell_type": "code",
      "source": [
        "temp_str = 'HelloWorld123'\n",
        "print(temp_str.isalnum())"
      ],
      "metadata": {
        "colab": {
          "base_uri": "https://localhost:8080/"
        },
        "id": "htXTWFDKHfzI",
        "outputId": "90de67a3-8d22-4ff8-a18a-c4d47f01d79e"
      },
      "execution_count": 56,
      "outputs": [
        {
          "output_type": "stream",
          "name": "stdout",
          "text": [
            "True\n"
          ]
        }
      ]
    },
    {
      "cell_type": "code",
      "source": [
        "#isalpha: returns true if only alphabets are present else returns false\n",
        "temp_str = 'HelloWorld'\n",
        "print(temp_str.isalpha())"
      ],
      "metadata": {
        "colab": {
          "base_uri": "https://localhost:8080/"
        },
        "id": "EsaYL-bhH2mo",
        "outputId": "a988aa21-49f4-4a1d-aa97-c846b4a9dbe9"
      },
      "execution_count": 57,
      "outputs": [
        {
          "output_type": "stream",
          "name": "stdout",
          "text": [
            "True\n"
          ]
        }
      ]
    },
    {
      "cell_type": "code",
      "source": [
        "temp_str = 'HelloWorld1234'\n",
        "print(temp_str.isalpha())"
      ],
      "metadata": {
        "colab": {
          "base_uri": "https://localhost:8080/"
        },
        "id": "tj0sDsFcLZEO",
        "outputId": "be4f5e69-51f6-463b-9351-a26830badc8a"
      },
      "execution_count": 58,
      "outputs": [
        {
          "output_type": "stream",
          "name": "stdout",
          "text": [
            "False\n"
          ]
        }
      ]
    },
    {
      "cell_type": "code",
      "source": [
        "#isdecimal: returns true if only numbers between 0-9 else returns false\n",
        "temp_str = '123456789'\n",
        "print(temp_str.isdecimal())\n",
        "\n"
      ],
      "metadata": {
        "colab": {
          "base_uri": "https://localhost:8080/"
        },
        "id": "sSe64-jBLiut",
        "outputId": "91f00e6b-b084-43fb-c664-c45677bb84b8"
      },
      "execution_count": 60,
      "outputs": [
        {
          "output_type": "stream",
          "name": "stdout",
          "text": [
            "True\n"
          ]
        }
      ]
    },
    {
      "cell_type": "code",
      "source": [
        "temp_str = '   1236887   ' #(false because of space)\n",
        "print(temp_str.isdecimal())"
      ],
      "metadata": {
        "colab": {
          "base_uri": "https://localhost:8080/"
        },
        "id": "ck2fe6ZTL37l",
        "outputId": "d18603cb-192d-4c72-ce8d-29217379df80"
      },
      "execution_count": 61,
      "outputs": [
        {
          "output_type": "stream",
          "name": "stdout",
          "text": [
            "False\n"
          ]
        }
      ]
    },
    {
      "cell_type": "code",
      "source": [
        "temp_str = '1234.58866'\n",
        "print(temp_str.isdecimal())\n"
      ],
      "metadata": {
        "colab": {
          "base_uri": "https://localhost:8080/"
        },
        "id": "p3AyRd63ME5d",
        "outputId": "95593549-235c-4092-a8e6-d901caab8adf"
      },
      "execution_count": 62,
      "outputs": [
        {
          "output_type": "stream",
          "name": "stdout",
          "text": [
            "False\n"
          ]
        }
      ]
    },
    {
      "cell_type": "code",
      "source": [
        "unicode_0 = '\\u0030'\n",
        "print(unicode_0.isdecimal())"
      ],
      "metadata": {
        "colab": {
          "base_uri": "https://localhost:8080/"
        },
        "id": "G37T89SxMRwV",
        "outputId": "71a24452-9dfc-4635-c69b-7a2ef68cca0c"
      },
      "execution_count": 63,
      "outputs": [
        {
          "output_type": "stream",
          "name": "stdout",
          "text": [
            "True\n"
          ]
        }
      ]
    },
    {
      "cell_type": "code",
      "source": [
        "#isdigit: checks whetehr all the characters in a given string are digits (numeric characters). It takes digits from various scripts and non-standard numeric characters.\n",
        "temp_str = '1235889'\n",
        "print(temp_str.isdigit())"
      ],
      "metadata": {
        "colab": {
          "base_uri": "https://localhost:8080/"
        },
        "id": "V9XMRmY6M2nE",
        "outputId": "bdeddff7-3c93-4e7b-d92d-a9c29655faff"
      },
      "execution_count": 65,
      "outputs": [
        {
          "output_type": "stream",
          "name": "stdout",
          "text": [
            "True\n"
          ]
        }
      ]
    },
    {
      "cell_type": "code",
      "source": [
        "temp_str = '  1235889  '\n",
        "print(temp_str.isdigit()) #(false because of space)"
      ],
      "metadata": {
        "colab": {
          "base_uri": "https://localhost:8080/"
        },
        "id": "p_q0j_3PNVe8",
        "outputId": "b8df5b8c-0830-4ced-c8bc-2a986c7270f6"
      },
      "execution_count": 66,
      "outputs": [
        {
          "output_type": "stream",
          "name": "stdout",
          "text": [
            "False\n"
          ]
        }
      ]
    },
    {
      "cell_type": "code",
      "source": [
        "temp_str = '0.51235889  '\n",
        "print(temp_str.isdigit()) #(false because of space)"
      ],
      "metadata": {
        "colab": {
          "base_uri": "https://localhost:8080/"
        },
        "id": "AU3byQxeNZwz",
        "outputId": "f334ddd4-578a-42b5-d46a-6da7cdc6dcd8"
      },
      "execution_count": 67,
      "outputs": [
        {
          "output_type": "stream",
          "name": "stdout",
          "text": [
            "False\n"
          ]
        }
      ]
    },
    {
      "cell_type": "code",
      "source": [
        "temp_str = 'abc1235889  '\n",
        "print(temp_str.isdigit()) #(false because of letters)"
      ],
      "metadata": {
        "colab": {
          "base_uri": "https://localhost:8080/"
        },
        "id": "-4valqHSNjdj",
        "outputId": "635b543a-bb78-42a3-ea53-359664877a70"
      },
      "execution_count": 68,
      "outputs": [
        {
          "output_type": "stream",
          "name": "stdout",
          "text": [
            "False\n"
          ]
        }
      ]
    },
    {
      "cell_type": "code",
      "source": [],
      "metadata": {
        "colab": {
          "base_uri": "https://localhost:8080/"
        },
        "id": "tKXar94DNnwE",
        "outputId": "a8813403-872b-4849-ddbd-0d44f366b26f"
      },
      "execution_count": 72,
      "outputs": [
        {
          "output_type": "stream",
          "name": "stdout",
          "text": [
            "True\n"
          ]
        }
      ]
    },
    {
      "cell_type": "code",
      "source": [],
      "metadata": {
        "id": "b1adiOs1O8Qh"
      },
      "execution_count": null,
      "outputs": []
    }
  ]
}