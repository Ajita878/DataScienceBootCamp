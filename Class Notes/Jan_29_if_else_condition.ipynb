{
  "nbformat": 4,
  "nbformat_minor": 0,
  "metadata": {
    "colab": {
      "provenance": []
    },
    "kernelspec": {
      "name": "python3",
      "display_name": "Python 3"
    },
    "language_info": {
      "name": "python"
    }
  },
  "cells": [
    {
      "cell_type": "code",
      "execution_count": 2,
      "metadata": {
        "colab": {
          "base_uri": "https://localhost:8080/"
        },
        "id": "OQAEoooSiE1V",
        "outputId": "0d5267c6-04ca-4729-f178-a1edd27574e6"
      },
      "outputs": [
        {
          "output_type": "stream",
          "name": "stdout",
          "text": [
            "100 is greater than 10\n",
            "99 is greater than 10\n",
            "98 is greater than 10\n",
            "97 is greater than 10\n",
            "96 is greater than 10\n",
            "95 is greater than 10\n",
            "94 is greater than 10\n",
            "93 is greater than 10\n",
            "92 is greater than 10\n",
            "91 is greater than 10\n",
            "90 is greater than 10\n",
            "89 is greater than 10\n",
            "88 is greater than 10\n",
            "87 is greater than 10\n",
            "86 is greater than 10\n",
            "85 is greater than 10\n",
            "84 is greater than 10\n",
            "83 is greater than 10\n",
            "82 is greater than 10\n",
            "81 is greater than 10\n",
            "80 is greater than 10\n",
            "79 is greater than 10\n",
            "78 is greater than 10\n",
            "77 is greater than 10\n",
            "76 is greater than 10\n",
            "75 is greater than 10\n",
            "74 is greater than 10\n",
            "73 is greater than 10\n",
            "72 is greater than 10\n",
            "71 is greater than 10\n",
            "70 is greater than 10\n",
            "69 is greater than 10\n",
            "68 is greater than 10\n",
            "67 is greater than 10\n",
            "66 is greater than 10\n",
            "65 is greater than 10\n",
            "64 is greater than 10\n",
            "63 is greater than 10\n",
            "62 is greater than 10\n",
            "61 is greater than 10\n",
            "60 is greater than 10\n",
            "59 is greater than 10\n",
            "58 is greater than 10\n",
            "57 is greater than 10\n",
            "56 is greater than 10\n",
            "55 is greater than 10\n",
            "54 is greater than 10\n",
            "53 is greater than 10\n",
            "52 is greater than 10\n",
            "51 is greater than 10\n",
            "50 is greater than 10\n",
            "49 is greater than 10\n",
            "48 is greater than 10\n",
            "47 is greater than 10\n",
            "46 is greater than 10\n",
            "45 is greater than 10\n",
            "44 is greater than 10\n",
            "43 is greater than 10\n",
            "42 is greater than 10\n",
            "41 is greater than 10\n",
            "40 is greater than 10\n",
            "39 is greater than 10\n",
            "38 is greater than 10\n",
            "37 is greater than 10\n",
            "36 is greater than 10\n",
            "35 is greater than 10\n",
            "34 is greater than 10\n",
            "33 is greater than 10\n",
            "32 is greater than 10\n",
            "31 is greater than 10\n",
            "30 is greater than 10\n",
            "29 is greater than 10\n",
            "28 is greater than 10\n",
            "27 is greater than 10\n",
            "26 is greater than 10\n",
            "25 is greater than 10\n",
            "24 is greater than 10\n",
            "23 is greater than 10\n",
            "22 is greater than 10\n",
            "21 is greater than 10\n",
            "20 is greater than 10\n",
            "19 is greater than 10\n",
            "18 is greater than 10\n",
            "17 is greater than 10\n",
            "16 is greater than 10\n",
            "15 is greater than 10\n",
            "14 is greater than 10\n",
            "13 is greater than 10\n",
            "12 is greater than 10\n",
            "11 is greater than 10\n"
          ]
        }
      ],
      "source": [
        "#while loop: it helps to perform repeated expression\n",
        "a = 100\n",
        "while a > 10:\n",
        "  print(a, 'is greater than 10')\n",
        "  a-=1 #99,98,97,96,95,94\n"
      ]
    },
    {
      "cell_type": "code",
      "source": [
        "a = 10\n",
        "while a < 100:\n",
        "  print(a, 'is less than 100')\n",
        "  a+=10"
      ],
      "metadata": {
        "colab": {
          "base_uri": "https://localhost:8080/"
        },
        "id": "d1yz2BnumfOA",
        "outputId": "7d504b04-6188-4d72-8889-caf83bff653b"
      },
      "execution_count": 4,
      "outputs": [
        {
          "output_type": "stream",
          "name": "stdout",
          "text": [
            "10 is less than 100\n",
            "20 is less than 100\n",
            "30 is less than 100\n",
            "40 is less than 100\n",
            "50 is less than 100\n",
            "60 is less than 100\n",
            "70 is less than 100\n",
            "80 is less than 100\n",
            "90 is less than 100\n"
          ]
        }
      ]
    },
    {
      "cell_type": "code",
      "source": [
        " #i < 200 (Incrementing by 10)\n",
        " i = 100\n",
        " while i < 200:\n",
        "  print(i,'is less than 200')\n",
        "  i+=10"
      ],
      "metadata": {
        "colab": {
          "base_uri": "https://localhost:8080/"
        },
        "id": "AJMsDMelnZeB",
        "outputId": "669a227c-46ca-4272-8c59-c5eb0768b894"
      },
      "execution_count": 9,
      "outputs": [
        {
          "output_type": "stream",
          "name": "stdout",
          "text": [
            "100 is less than 200\n",
            "110 is less than 200\n",
            "120 is less than 200\n",
            "130 is less than 200\n",
            "140 is less than 200\n",
            "150 is less than 200\n",
            "160 is less than 200\n",
            "170 is less than 200\n",
            "180 is less than 200\n",
            "190 is less than 200\n"
          ]
        }
      ]
    },
    {
      "cell_type": "code",
      "source": [
        " #i >200 (decrementing by 20)\n",
        "\n",
        " i = 400\n",
        " while i > 200:\n",
        "  print(i,'is greater than 200')\n",
        "  i-=20"
      ],
      "metadata": {
        "colab": {
          "base_uri": "https://localhost:8080/"
        },
        "id": "1-JfSriaoVlQ",
        "outputId": "82c9f1a2-0cdc-4b93-eaa1-bfc6534f1722"
      },
      "execution_count": 8,
      "outputs": [
        {
          "output_type": "stream",
          "name": "stdout",
          "text": [
            "400 is greater than 200\n",
            "380 is greater than 200\n",
            "360 is greater than 200\n",
            "340 is greater than 200\n",
            "320 is greater than 200\n",
            "300 is greater than 200\n",
            "280 is greater than 200\n",
            "260 is greater than 200\n",
            "240 is greater than 200\n",
            "220 is greater than 200\n"
          ]
        }
      ]
    },
    {
      "cell_type": "code",
      "source": [
        "#Break, Continue, Pass"
      ],
      "metadata": {
        "id": "MLFWpLhFo2O6"
      },
      "execution_count": null,
      "outputs": []
    },
    {
      "cell_type": "code",
      "source": [
        "a = 10\n",
        "while a<100:\n",
        "  if a == 50:\n",
        "    break\n",
        "  print(a, 'is less than 100')\n",
        "  a+=10"
      ],
      "metadata": {
        "colab": {
          "base_uri": "https://localhost:8080/"
        },
        "id": "AzdSh0MZo54X",
        "outputId": "0b2f9874-d861-4193-ec5b-3adb1f2a4fe2"
      },
      "execution_count": 20,
      "outputs": [
        {
          "output_type": "stream",
          "name": "stdout",
          "text": [
            "10 is less than 100\n",
            "20 is less than 100\n",
            "30 is less than 100\n",
            "40 is less than 100\n"
          ]
        }
      ]
    },
    {
      "cell_type": "code",
      "source": [
        "#continue to skip some statement\n",
        "a = 10\n",
        "while a < 100:\n",
        "  a += 10\n",
        "  if a == 50:\n",
        "    continue #it will skip a == 50 and perform remaining operation\n",
        "  print(a, 'is less than 100')"
      ],
      "metadata": {
        "colab": {
          "base_uri": "https://localhost:8080/"
        },
        "id": "2QXGhFSqpeHC",
        "outputId": "45c08697-b9ef-4ae3-cde8-e1af526aec88"
      },
      "execution_count": 21,
      "outputs": [
        {
          "output_type": "stream",
          "name": "stdout",
          "text": [
            "20 is less than 100\n",
            "30 is less than 100\n",
            "40 is less than 100\n",
            "60 is less than 100\n",
            "70 is less than 100\n",
            "80 is less than 100\n",
            "90 is less than 100\n",
            "100 is less than 100\n"
          ]
        }
      ]
    },
    {
      "cell_type": "code",
      "source": [
        "a = 200\n",
        "while a <500:\n",
        "  pass"
      ],
      "metadata": {
        "colab": {
          "base_uri": "https://localhost:8080/",
          "height": 211
        },
        "id": "XYz17F3-r1_u",
        "outputId": "e627b41c-72c8-4a38-a458-0a3fb0be94ac"
      },
      "execution_count": 23,
      "outputs": [
        {
          "output_type": "error",
          "ename": "KeyboardInterrupt",
          "evalue": "",
          "traceback": [
            "\u001b[0;31m---------------------------------------------------------------------------\u001b[0m",
            "\u001b[0;31mKeyboardInterrupt\u001b[0m                         Traceback (most recent call last)",
            "\u001b[0;32m<ipython-input-23-da7a67686808>\u001b[0m in \u001b[0;36m<cell line: 2>\u001b[0;34m()\u001b[0m\n\u001b[1;32m      1\u001b[0m \u001b[0ma\u001b[0m \u001b[0;34m=\u001b[0m \u001b[0;36m200\u001b[0m\u001b[0;34m\u001b[0m\u001b[0;34m\u001b[0m\u001b[0m\n\u001b[0;32m----> 2\u001b[0;31m \u001b[0;32mwhile\u001b[0m \u001b[0ma\u001b[0m \u001b[0;34m<\u001b[0m\u001b[0;36m500\u001b[0m\u001b[0;34m:\u001b[0m\u001b[0;34m\u001b[0m\u001b[0;34m\u001b[0m\u001b[0m\n\u001b[0m\u001b[1;32m      3\u001b[0m   \u001b[0;32mpass\u001b[0m\u001b[0;34m\u001b[0m\u001b[0;34m\u001b[0m\u001b[0m\n",
            "\u001b[0;31mKeyboardInterrupt\u001b[0m: "
          ]
        }
      ]
    },
    {
      "cell_type": "code",
      "source": [
        "#Write a program 0 to 100 and find odd and even numbers; use while loop.\n",
        "a = 0\n",
        "while a <100:\n",
        "  a+=1\n",
        "  if a%2==0:\n",
        "    print(a,' is even number.')\n",
        "  else:\n",
        "    print(a,'is odd number')"
      ],
      "metadata": {
        "colab": {
          "base_uri": "https://localhost:8080/"
        },
        "id": "b-g13tj2sO4n",
        "outputId": "eb563da0-078e-4747-8f64-657b09c80515"
      },
      "execution_count": 28,
      "outputs": [
        {
          "output_type": "stream",
          "name": "stdout",
          "text": [
            "1 is odd number\n",
            "2  is even number.\n",
            "3 is odd number\n",
            "4  is even number.\n",
            "5 is odd number\n",
            "6  is even number.\n",
            "7 is odd number\n",
            "8  is even number.\n",
            "9 is odd number\n",
            "10  is even number.\n",
            "11 is odd number\n",
            "12  is even number.\n",
            "13 is odd number\n",
            "14  is even number.\n",
            "15 is odd number\n",
            "16  is even number.\n",
            "17 is odd number\n",
            "18  is even number.\n",
            "19 is odd number\n",
            "20  is even number.\n",
            "21 is odd number\n",
            "22  is even number.\n",
            "23 is odd number\n",
            "24  is even number.\n",
            "25 is odd number\n",
            "26  is even number.\n",
            "27 is odd number\n",
            "28  is even number.\n",
            "29 is odd number\n",
            "30  is even number.\n",
            "31 is odd number\n",
            "32  is even number.\n",
            "33 is odd number\n",
            "34  is even number.\n",
            "35 is odd number\n",
            "36  is even number.\n",
            "37 is odd number\n",
            "38  is even number.\n",
            "39 is odd number\n",
            "40  is even number.\n",
            "41 is odd number\n",
            "42  is even number.\n",
            "43 is odd number\n",
            "44  is even number.\n",
            "45 is odd number\n",
            "46  is even number.\n",
            "47 is odd number\n",
            "48  is even number.\n",
            "49 is odd number\n",
            "50  is even number.\n",
            "51 is odd number\n",
            "52  is even number.\n",
            "53 is odd number\n",
            "54  is even number.\n",
            "55 is odd number\n",
            "56  is even number.\n",
            "57 is odd number\n",
            "58  is even number.\n",
            "59 is odd number\n",
            "60  is even number.\n",
            "61 is odd number\n",
            "62  is even number.\n",
            "63 is odd number\n",
            "64  is even number.\n",
            "65 is odd number\n",
            "66  is even number.\n",
            "67 is odd number\n",
            "68  is even number.\n",
            "69 is odd number\n",
            "70  is even number.\n",
            "71 is odd number\n",
            "72  is even number.\n",
            "73 is odd number\n",
            "74  is even number.\n",
            "75 is odd number\n",
            "76  is even number.\n",
            "77 is odd number\n",
            "78  is even number.\n",
            "79 is odd number\n",
            "80  is even number.\n",
            "81 is odd number\n",
            "82  is even number.\n",
            "83 is odd number\n",
            "84  is even number.\n",
            "85 is odd number\n",
            "86  is even number.\n",
            "87 is odd number\n",
            "88  is even number.\n",
            "89 is odd number\n",
            "90  is even number.\n",
            "91 is odd number\n",
            "92  is even number.\n",
            "93 is odd number\n",
            "94  is even number.\n",
            "95 is odd number\n",
            "96  is even number.\n",
            "97 is odd number\n",
            "98  is even number.\n",
            "99 is odd number\n",
            "100  is even number.\n"
          ]
        }
      ]
    },
    {
      "cell_type": "code",
      "source": [
        "#Write a program to count number of people who are 18 years of age\n",
        "people_greater_than_18 =0\n",
        "age = int(input('Enter youe age:'))\n",
        "while age>=18:\n",
        "  people_greater_than_18+= 1\n",
        "  age = int(input('Enter youe age:'))\n",
        "print(people_greater_than_18)"
      ],
      "metadata": {
        "colab": {
          "base_uri": "https://localhost:8080/"
        },
        "id": "q1uZXNnBt1Tb",
        "outputId": "583aeb7a-4c7b-4ae8-e168-97965d7fcfeb"
      },
      "execution_count": 33,
      "outputs": [
        {
          "output_type": "stream",
          "name": "stdout",
          "text": [
            "Enter youe age:18\n",
            "Enter youe age:15\n",
            "1\n"
          ]
        }
      ]
    },
    {
      "cell_type": "code",
      "source": [
        "lst1 = [1, 2, 3,4,5,6,7,8,9,10,11,12,13,14,15,16,99,98,55,45,30,77,88,44,55,110]\n",
        "while lst1!=[]:\n",
        "  if lst1.pop():\n",
        "    print (lst1)\n",
        "\n",
        "# while lst1:\n",
        "#   print(lst1.pop())"
      ],
      "metadata": {
        "colab": {
          "base_uri": "https://localhost:8080/"
        },
        "id": "9rogyoxMxi6_",
        "outputId": "ebac9dd1-a4cd-449e-c861-f707812e6613"
      },
      "execution_count": 39,
      "outputs": [
        {
          "output_type": "stream",
          "name": "stdout",
          "text": [
            "[1, 2, 3, 4, 5, 6, 7, 8, 9, 10, 11, 12, 13, 14, 15, 16, 99, 98, 55, 45, 30, 77, 88, 44, 55]\n",
            "[1, 2, 3, 4, 5, 6, 7, 8, 9, 10, 11, 12, 13, 14, 15, 16, 99, 98, 55, 45, 30, 77, 88, 44]\n",
            "[1, 2, 3, 4, 5, 6, 7, 8, 9, 10, 11, 12, 13, 14, 15, 16, 99, 98, 55, 45, 30, 77, 88]\n",
            "[1, 2, 3, 4, 5, 6, 7, 8, 9, 10, 11, 12, 13, 14, 15, 16, 99, 98, 55, 45, 30, 77]\n",
            "[1, 2, 3, 4, 5, 6, 7, 8, 9, 10, 11, 12, 13, 14, 15, 16, 99, 98, 55, 45, 30]\n",
            "[1, 2, 3, 4, 5, 6, 7, 8, 9, 10, 11, 12, 13, 14, 15, 16, 99, 98, 55, 45]\n",
            "[1, 2, 3, 4, 5, 6, 7, 8, 9, 10, 11, 12, 13, 14, 15, 16, 99, 98, 55]\n",
            "[1, 2, 3, 4, 5, 6, 7, 8, 9, 10, 11, 12, 13, 14, 15, 16, 99, 98]\n",
            "[1, 2, 3, 4, 5, 6, 7, 8, 9, 10, 11, 12, 13, 14, 15, 16, 99]\n",
            "[1, 2, 3, 4, 5, 6, 7, 8, 9, 10, 11, 12, 13, 14, 15, 16]\n",
            "[1, 2, 3, 4, 5, 6, 7, 8, 9, 10, 11, 12, 13, 14, 15]\n",
            "[1, 2, 3, 4, 5, 6, 7, 8, 9, 10, 11, 12, 13, 14]\n",
            "[1, 2, 3, 4, 5, 6, 7, 8, 9, 10, 11, 12, 13]\n",
            "[1, 2, 3, 4, 5, 6, 7, 8, 9, 10, 11, 12]\n",
            "[1, 2, 3, 4, 5, 6, 7, 8, 9, 10, 11]\n",
            "[1, 2, 3, 4, 5, 6, 7, 8, 9, 10]\n",
            "[1, 2, 3, 4, 5, 6, 7, 8, 9]\n",
            "[1, 2, 3, 4, 5, 6, 7, 8]\n",
            "[1, 2, 3, 4, 5, 6, 7]\n",
            "[1, 2, 3, 4, 5, 6]\n",
            "[1, 2, 3, 4, 5]\n",
            "[1, 2, 3, 4]\n",
            "[1, 2, 3]\n",
            "[1, 2]\n",
            "[1]\n",
            "[]\n"
          ]
        }
      ]
    },
    {
      "cell_type": "code",
      "source": [
        "#Write a program where a num is divisible by 5 and 7\n",
        "num1 =  int(input('Enter a number:'))\n",
        "while (num1%5==0) and (num1%7==0):\n",
        "  print(num1,'is divisible by 5 and 7 both')\n",
        "  break\n",
        "else:\n",
        "  print(num1,'is not divisible by 5 and 7 both')"
      ],
      "metadata": {
        "colab": {
          "base_uri": "https://localhost:8080/"
        },
        "id": "2eYbaQAX0agA",
        "outputId": "f3c98479-3ef9-49cb-d3a3-d919a8393260"
      },
      "execution_count": 50,
      "outputs": [
        {
          "output_type": "stream",
          "name": "stdout",
          "text": [
            "Enter a number:350\n",
            "350 is divisible by 5 and 7 both\n"
          ]
        }
      ]
    },
    {
      "cell_type": "code",
      "source": [
        "# 1.A company decided to give bonus of 5% to employee if his/her year of service is more than 5 years.\n",
        "service_year = float(input('Enter your year of service:'))\n",
        "if service_year > 5:\n",
        "  salary = float(input('Enter your salary:'))\n",
        "  bonus = 0.05*salary\n",
        "  print('Bonus is $',bonus)\n",
        "else:\n",
        "  print('Sorry! No Bonus')"
      ],
      "metadata": {
        "colab": {
          "base_uri": "https://localhost:8080/"
        },
        "id": "uZcqEhny5U0F",
        "outputId": "38c99a93-730a-47b2-d3ea-06204583449f"
      },
      "execution_count": 54,
      "outputs": [
        {
          "output_type": "stream",
          "name": "stdout",
          "text": [
            "Enter your year of service:8\n",
            "Enter your salary:10000\n",
            "Bonus is $ 500.0\n"
          ]
        }
      ]
    },
    {
      "cell_type": "code",
      "source": [
        "# 2.Take values of length and breadth of a rectangle from user and check if it is square or not.\n",
        "length = float(input('Enter length of rectangle:'))\n",
        "breadth = float(input('Enter breadth of rectangle:'))\n",
        "if length == breadth:\n",
        "  print('It is a square')\n",
        "else:\n",
        "  print(\"It's not a square. It is rectable.\")"
      ],
      "metadata": {
        "colab": {
          "base_uri": "https://localhost:8080/"
        },
        "id": "EEk38m4t6bta",
        "outputId": "ef30186c-df09-4667-d741-99bb40fafb61"
      },
      "execution_count": 56,
      "outputs": [
        {
          "output_type": "stream",
          "name": "stdout",
          "text": [
            "Enter length of rectangle:15\n",
            "Enter breadth of rectangle:16.5\n",
            "It's not a square. It is rectable.\n"
          ]
        }
      ]
    },
    {
      "cell_type": "code",
      "source": [
        "#3.Take two int values from user and print greatest among them.\n",
        "num1 = int(input('Enter a number:'))\n",
        "num2 = int(input('Enter a number:'))\n",
        "if num1 > num2:\n",
        "  print(num1)\n",
        "elif num1==num2:\n",
        "  print('Both are equal')\n",
        "else:\n",
        "  print(num2)"
      ],
      "metadata": {
        "colab": {
          "base_uri": "https://localhost:8080/"
        },
        "id": "rKplJX5a7Jam",
        "outputId": "5858e883-7f6c-46ad-cdeb-254f3401cf99"
      },
      "execution_count": 66,
      "outputs": [
        {
          "output_type": "stream",
          "name": "stdout",
          "text": [
            "Enter a number:15\n",
            "Enter a number:15\n",
            "Both are equal\n"
          ]
        }
      ]
    },
    {
      "cell_type": "code",
      "source": [
        "# 4.A shop will give discount of 10% if the cost of purchased quantity is more than 1000.\n",
        "# Ask user for quantity\n",
        "# Suppose, one unit will cost 100.\n",
        "# Judge and print total cost for user.\n",
        "quantity = float(input('Enter your purchased quantity:'))\n",
        "total_cost = quantity*100\n",
        "if total_cost >= 1000:\n",
        "  discounted_cost = (total_cost-(10/100*total_cost))\n",
        "  print('Your discounted cost is',discounted_cost)\n",
        "else:\n",
        "  print('Your cost is',total_cost)"
      ],
      "metadata": {
        "colab": {
          "base_uri": "https://localhost:8080/"
        },
        "id": "1OEePELR9T_T",
        "outputId": "5ab4ff05-5315-4bb0-bae6-3af74f23f984"
      },
      "execution_count": 77,
      "outputs": [
        {
          "output_type": "stream",
          "name": "stdout",
          "text": [
            "Enter your purchased quantity:100\n",
            "Your discounted cost is 9000.0\n"
          ]
        }
      ]
    },
    {
      "cell_type": "code",
      "source": [
        "# 5.A school has following rules for grading system:\n",
        "# a. Below 25 - F\n",
        "# b. 25 to 45 - E\n",
        "# c. 45 to 50 - D\n",
        "# d. 50 to 60 - C\n",
        "# e. 60 to 80 - B\n",
        "# f. Above 80 - A\n",
        "# Ask user to enter marks and print the corresponding grade.\n",
        "mark = float(input('Enter your mark:'))\n",
        "if mark < 25:\n",
        "  print('F')\n",
        "elif mark>=25 and mark<45:\n",
        "  print('E')\n",
        "elif mark>=45 and mark<50:\n",
        "  print('D')\n",
        "elif mark>=50 and mark<60:\n",
        "  print('C')\n",
        "elif mark>=60 and mark<=80:\n",
        "  print('B')\n",
        "elif mark>80:\n",
        "  print('A')\n",
        "else:\n",
        "  print('Error!,Please enter between 0 and 100')"
      ],
      "metadata": {
        "colab": {
          "base_uri": "https://localhost:8080/"
        },
        "id": "AsMQ36OtANel",
        "outputId": "daf6a923-252c-4323-dee3-3d8b27a6cbd3"
      },
      "execution_count": 81,
      "outputs": [
        {
          "output_type": "stream",
          "name": "stdout",
          "text": [
            "Enter your mark:60\n",
            "B\n"
          ]
        }
      ]
    },
    {
      "cell_type": "code",
      "source": [
        "# 7.Write a program to print absolute vlaue of a number entered by user. E.g.-\n",
        "# INPUT: 1        OUTPUT: 1\n",
        "# INPUT: -1        OUTPUT: 1\n",
        "num =int(input('Enter a number:'))\n",
        "if num < 0:\n",
        "  print(num*-1)\n",
        "else:\n",
        "  print(num)\n"
      ],
      "metadata": {
        "colab": {
          "base_uri": "https://localhost:8080/"
        },
        "id": "BNUowJxwBpMx",
        "outputId": "4f8f25e9-f7b5-46a4-be43-fa85a11f489f"
      },
      "execution_count": 85,
      "outputs": [
        {
          "output_type": "stream",
          "name": "stdout",
          "text": [
            "Enter a number:25\n",
            "25\n"
          ]
        }
      ]
    },
    {
      "cell_type": "code",
      "source": [
        "# 8.A student will not be allowed to sit in exam if his/her attendence is less than 75%.\n",
        "# Take following input from user\n",
        "# Number of classes held\n",
        "# Number of classes attended.\n",
        "# And print percentage of class attended\n",
        "# Is student is allowed to sit in exam or not.\n",
        "classes = int(input('Enter number of classes held:'))\n",
        "attended = int(input('Enter number of classes attended:'))\n",
        "percentage = (attended/classes*100)\n",
        "print(percentage,'%')\n",
        "if percentage < 75:\n",
        "  print('Not allowed')\n",
        "else:\n",
        "  print('Allowed')"
      ],
      "metadata": {
        "colab": {
          "base_uri": "https://localhost:8080/"
        },
        "id": "Rp2eJ6KYEtNd",
        "outputId": "df5c53ce-2c84-4e29-aa9a-9a0a5d6cf2ca"
      },
      "execution_count": 90,
      "outputs": [
        {
          "output_type": "stream",
          "name": "stdout",
          "text": [
            "Enter number of classes held:100\n",
            "Enter number of classes attended:90\n",
            "90.0 %\n",
            "Allowed\n"
          ]
        }
      ]
    },
    {
      "cell_type": "code",
      "source": [
        "# 9.Modify the above question to allow student to sit if he/she has medical cause. Ask user if he/she has medical cause or not ( 'Y' or 'N' )\n",
        "# and print accordingly.\n",
        "classes = int(input('Enter number of classes held:'))\n",
        "attended = int(input('Enter number of classes attended:'))\n",
        "percentage = (attended/classes*100)\n",
        "print(percentage,'%')\n",
        "if percentage < 75:\n",
        "  medical_issue = input('Do you have medical issue? Yes or No: ').title()\n",
        "  if medical_issue == 'No':\n",
        "    print('Not allowed')\n",
        "  else:\n",
        "    print('Allowed due to medical condition.')\n",
        "else:\n",
        "  print('Allowed')"
      ],
      "metadata": {
        "colab": {
          "base_uri": "https://localhost:8080/"
        },
        "id": "wcrA41h-Fp9m",
        "outputId": "3ff66f25-57e6-4936-c789-08f0d41013c9"
      },
      "execution_count": 97,
      "outputs": [
        {
          "output_type": "stream",
          "name": "stdout",
          "text": [
            "Enter number of classes held:100\n",
            "Enter number of classes attended:25\n",
            "25.0 %\n",
            "Do you have medical issue? Yes or No: yes\n",
            "Allowed due to medical condition\n"
          ]
        }
      ]
    }
  ]
}