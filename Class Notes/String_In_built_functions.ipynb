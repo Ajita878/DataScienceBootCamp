{
  "nbformat": 4,
  "nbformat_minor": 0,
  "metadata": {
    "colab": {
      "provenance": []
    },
    "kernelspec": {
      "name": "python3",
      "display_name": "Python 3"
    },
    "language_info": {
      "name": "python"
    }
  },
  "cells": [
    {
      "cell_type": "code",
      "execution_count": 1,
      "metadata": {
        "colab": {
          "base_uri": "https://localhost:8080/"
        },
        "id": "-fV45QiER8NM",
        "outputId": "adaa08e7-d025-40a1-b7c4-8bebaa5bfdbf"
      },
      "outputs": [
        {
          "output_type": "stream",
          "name": "stdout",
          "text": [
            "HloWrd\n"
          ]
        }
      ],
      "source": [
        "temp_str='Hello World'\n",
        "print(temp_str[::2])\n",
        "#string slicing [start:stop:step]"
      ]
    },
    {
      "cell_type": "code",
      "source": [
        "# dir function\n",
        "dir(temp_str)"
      ],
      "metadata": {
        "colab": {
          "base_uri": "https://localhost:8080/"
        },
        "id": "o5NZEI1bSa4C",
        "outputId": "f0be9731-2491-446d-dd66-dbd8e4df7233"
      },
      "execution_count": 2,
      "outputs": [
        {
          "output_type": "execute_result",
          "data": {
            "text/plain": [
              "['__add__',\n",
              " '__class__',\n",
              " '__contains__',\n",
              " '__delattr__',\n",
              " '__dir__',\n",
              " '__doc__',\n",
              " '__eq__',\n",
              " '__format__',\n",
              " '__ge__',\n",
              " '__getattribute__',\n",
              " '__getitem__',\n",
              " '__getnewargs__',\n",
              " '__gt__',\n",
              " '__hash__',\n",
              " '__init__',\n",
              " '__init_subclass__',\n",
              " '__iter__',\n",
              " '__le__',\n",
              " '__len__',\n",
              " '__lt__',\n",
              " '__mod__',\n",
              " '__mul__',\n",
              " '__ne__',\n",
              " '__new__',\n",
              " '__reduce__',\n",
              " '__reduce_ex__',\n",
              " '__repr__',\n",
              " '__rmod__',\n",
              " '__rmul__',\n",
              " '__setattr__',\n",
              " '__sizeof__',\n",
              " '__str__',\n",
              " '__subclasshook__',\n",
              " 'capitalize',\n",
              " 'casefold',\n",
              " 'center',\n",
              " 'count',\n",
              " 'encode',\n",
              " 'endswith',\n",
              " 'expandtabs',\n",
              " 'find',\n",
              " 'format',\n",
              " 'format_map',\n",
              " 'index',\n",
              " 'isalnum',\n",
              " 'isalpha',\n",
              " 'isascii',\n",
              " 'isdecimal',\n",
              " 'isdigit',\n",
              " 'isidentifier',\n",
              " 'islower',\n",
              " 'isnumeric',\n",
              " 'isprintable',\n",
              " 'isspace',\n",
              " 'istitle',\n",
              " 'isupper',\n",
              " 'join',\n",
              " 'ljust',\n",
              " 'lower',\n",
              " 'lstrip',\n",
              " 'maketrans',\n",
              " 'partition',\n",
              " 'removeprefix',\n",
              " 'removesuffix',\n",
              " 'replace',\n",
              " 'rfind',\n",
              " 'rindex',\n",
              " 'rjust',\n",
              " 'rpartition',\n",
              " 'rsplit',\n",
              " 'rstrip',\n",
              " 'split',\n",
              " 'splitlines',\n",
              " 'startswith',\n",
              " 'strip',\n",
              " 'swapcase',\n",
              " 'title',\n",
              " 'translate',\n",
              " 'upper',\n",
              " 'zfill']"
            ]
          },
          "metadata": {},
          "execution_count": 2
        }
      ]
    },
    {
      "cell_type": "code",
      "source": [
        "#takes first character of string to upper case\n",
        "temp_str='hello world'\n",
        "print(temp_str.capitalize())"
      ],
      "metadata": {
        "colab": {
          "base_uri": "https://localhost:8080/"
        },
        "id": "mnvi5q5dTC0_",
        "outputId": "cee3b358-840a-4308-9a75-749bf917913e"
      },
      "execution_count": 8,
      "outputs": [
        {
          "output_type": "stream",
          "name": "stdout",
          "text": [
            "Hello world\n"
          ]
        }
      ]
    },
    {
      "cell_type": "code",
      "source": [
        "#Returns a string where all characters are lowercase\n",
        "temp_str='HeLLo World'\n",
        "print(temp_str.casefold())"
      ],
      "metadata": {
        "colab": {
          "base_uri": "https://localhost:8080/"
        },
        "id": "cRvX4EmOTp7e",
        "outputId": "bc4e9152-c07a-41de-9eb8-409aba88085f"
      },
      "execution_count": 9,
      "outputs": [
        {
          "output_type": "stream",
          "name": "stdout",
          "text": [
            "hello world\n"
          ]
        }
      ]
    },
    {
      "cell_type": "code",
      "source": [
        "temp_str='HeLLo World'\n",
        "print(temp_str.center(18,\"*\"))"
      ],
      "metadata": {
        "colab": {
          "base_uri": "https://localhost:8080/"
        },
        "id": "N2ezEoihU1Vm",
        "outputId": "2b09a48e-f0e6-478d-e52b-c68d8cedc372"
      },
      "execution_count": 10,
      "outputs": [
        {
          "output_type": "stream",
          "name": "stdout",
          "text": [
            "***HeLLo World****\n"
          ]
        }
      ]
    },
    {
      "cell_type": "code",
      "source": [
        "temp_str='HeLLo World'\n",
        "print(temp_str.center(11,\"!\")) #dummy characters are added from last"
      ],
      "metadata": {
        "colab": {
          "base_uri": "https://localhost:8080/"
        },
        "id": "pSlpqEVrVJ_r",
        "outputId": "67ccbc5a-5dec-41b9-94cc-7ae03f8ebe02"
      },
      "execution_count": 16,
      "outputs": [
        {
          "output_type": "stream",
          "name": "stdout",
          "text": [
            "HeLLo World\n"
          ]
        }
      ]
    },
    {
      "cell_type": "code",
      "source": [
        "temp_str='HeLLo World'\n",
        "print(temp_str.center(11,)) # if dummy characters are not specified, it will add space from last/right"
      ],
      "metadata": {
        "colab": {
          "base_uri": "https://localhost:8080/"
        },
        "id": "qqXwQfSjVQO0",
        "outputId": "c617aedf-3bef-4977-d670-e978a25a08f6"
      },
      "execution_count": 18,
      "outputs": [
        {
          "output_type": "stream",
          "name": "stdout",
          "text": [
            "HeLLo World\n"
          ]
        }
      ]
    },
    {
      "cell_type": "code",
      "source": [
        "temp_str='HeLLo World'\n",
        "print(temp_str.center(14,\"1\")) # if dummy characters are not specified, it will add space from last/right"
      ],
      "metadata": {
        "colab": {
          "base_uri": "https://localhost:8080/"
        },
        "id": "mWQb1t6xWOPL",
        "outputId": "f911e8e4-d165-4782-9e60-071c5e2c82e1"
      },
      "execution_count": 25,
      "outputs": [
        {
          "output_type": "stream",
          "name": "stdout",
          "text": [
            "1HeLLo World11\n"
          ]
        }
      ]
    },
    {
      "cell_type": "code",
      "source": [
        "#Count function is case sensitive\n",
        "#Returns how many times the substring appears in the given range by default picks full string\n",
        "temp_str=\"HeLLo World! How is it going? Hello, all good\"\n",
        "print(temp_str.count(\"Hello\"))"
      ],
      "metadata": {
        "colab": {
          "base_uri": "https://localhost:8080/"
        },
        "id": "kQE8C1FlWjEb",
        "outputId": "e9979ce4-405d-41cf-cd43-6fdab850d600"
      },
      "execution_count": 26,
      "outputs": [
        {
          "output_type": "stream",
          "name": "stdout",
          "text": [
            "1\n"
          ]
        }
      ]
    },
    {
      "cell_type": "code",
      "source": [
        "#how to give range\n",
        "#count(value, start,end)#start and end are optional if not given takes full string\n",
        "#It only works for alphabetic characters\n",
        "temp_str_2 = \"HeLLo World! How is it going? Hello, all good\"\n",
        "print(temp_str_2[2:5])\n",
        "print(temp_str_2.count(\" Hello \", 2))\n"
      ],
      "metadata": {
        "colab": {
          "base_uri": "https://localhost:8080/"
        },
        "id": "iXMTgpWrXR7f",
        "outputId": "3c27f6fe-0111-4549-d37e-24a53e843292"
      },
      "execution_count": 35,
      "outputs": [
        {
          "output_type": "stream",
          "name": "stdout",
          "text": [
            "LLo\n",
            "0\n"
          ]
        }
      ]
    },
    {
      "cell_type": "code",
      "source": [
        "#returns True and False on the basis of Suffix passed.\n",
        "temp_str = \"HeLLo WorLD How is it going? Hello all good!\"\n",
        "#endswith (value,start,end)-1\n",
        "print(temp_str.endswith(\"god!\"))"
      ],
      "metadata": {
        "colab": {
          "base_uri": "https://localhost:8080/"
        },
        "id": "12_QT0sQYE8K",
        "outputId": "214115cf-4173-4088-c18a-25156ddf22ef"
      },
      "execution_count": 46,
      "outputs": [
        {
          "output_type": "stream",
          "name": "stdout",
          "text": [
            "False\n"
          ]
        }
      ]
    },
    {
      "cell_type": "code",
      "source": [
        "print(temp_str.endswith(\"Lo\",0,5))"
      ],
      "metadata": {
        "colab": {
          "base_uri": "https://localhost:8080/"
        },
        "id": "TO9oEMAIbtn3",
        "outputId": "1d6a168b-e7c3-48cd-9d60-f6f0b2f55763"
      },
      "execution_count": 49,
      "outputs": [
        {
          "output_type": "stream",
          "name": "stdout",
          "text": [
            "True\n"
          ]
        }
      ]
    },
    {
      "cell_type": "code",
      "source": [
        "print(temp_str.endswith(\"Lo\"))"
      ],
      "metadata": {
        "colab": {
          "base_uri": "https://localhost:8080/"
        },
        "id": "-AvB-RklckYI",
        "outputId": "8bccc0fc-aa1c-4814-f333-6a3ecf1e7314"
      },
      "execution_count": 50,
      "outputs": [
        {
          "output_type": "stream",
          "name": "stdout",
          "text": [
            "False\n"
          ]
        }
      ]
    },
    {
      "cell_type": "code",
      "source": [
        "print(temp_str.endswith(\"good!\"))"
      ],
      "metadata": {
        "colab": {
          "base_uri": "https://localhost:8080/"
        },
        "id": "2Dv045fEczY2",
        "outputId": "8d03800f-6e32-4b1b-c89f-d2d60cca7d45"
      },
      "execution_count": 52,
      "outputs": [
        {
          "output_type": "stream",
          "name": "stdout",
          "text": [
            "True\n"
          ]
        }
      ]
    },
    {
      "cell_type": "code",
      "source": [
        "print(temp_str.endswith(\"good\",0,len(temp_str)-1))"
      ],
      "metadata": {
        "colab": {
          "base_uri": "https://localhost:8080/"
        },
        "id": "eOW__lsNc8cW",
        "outputId": "4aad7709-2d60-4763-f93b-7633dcfe0ec5"
      },
      "execution_count": 53,
      "outputs": [
        {
          "output_type": "stream",
          "name": "stdout",
          "text": [
            "True\n"
          ]
        }
      ]
    },
    {
      "cell_type": "code",
      "source": [
        "print(len(temp_str))"
      ],
      "metadata": {
        "colab": {
          "base_uri": "https://localhost:8080/"
        },
        "id": "HuzAyg1kdHum",
        "outputId": "3640ce9d-147e-41a5-c638-ee1affa8f5bf"
      },
      "execution_count": 54,
      "outputs": [
        {
          "output_type": "stream",
          "name": "stdout",
          "text": [
            "44\n"
          ]
        }
      ]
    },
    {
      "cell_type": "code",
      "source": [
        "#find\n",
        "temp_str =\"HeLLo WorLD how is it going? Hello all good! how are you!\"\n",
        "print(temp_str.find(\"how\"))\n"
      ],
      "metadata": {
        "colab": {
          "base_uri": "https://localhost:8080/"
        },
        "id": "BKAk-oPadVgl",
        "outputId": "de6b9a1e-35bf-480a-9d9a-55fad2b0b18b"
      },
      "execution_count": 58,
      "outputs": [
        {
          "output_type": "stream",
          "name": "stdout",
          "text": [
            "12\n"
          ]
        }
      ]
    },
    {
      "cell_type": "code",
      "source": [
        "print(temp_str.find(\"howjsjdhfhfk\"))"
      ],
      "metadata": {
        "colab": {
          "base_uri": "https://localhost:8080/"
        },
        "id": "uLjSZK-Id6ct",
        "outputId": "bf0a61b3-4ff8-49b8-b221-b99a2a65fbb9"
      },
      "execution_count": 59,
      "outputs": [
        {
          "output_type": "stream",
          "name": "stdout",
          "text": [
            "-1\n"
          ]
        }
      ]
    },
    {
      "cell_type": "code",
      "source": [
        "#format\n",
        "temp_str =\"HeLLo my name is {name}, I am a {position}.\"\n",
        "print(temp_str)\n",
        "print(temp_str.format(name=\"Ajita\", position=\"Student\"))\n",
        "temp_str1=\"HeLLo my name is {0}, I am a {1}.\"\n",
        "print(temp_str1.format(\"Ajita\", \"Student\"))"
      ],
      "metadata": {
        "colab": {
          "base_uri": "https://localhost:8080/"
        },
        "id": "73bEc0d9eicU",
        "outputId": "a31321e5-54fc-4f88-8481-d21c35e5b6e8"
      },
      "execution_count": 70,
      "outputs": [
        {
          "output_type": "stream",
          "name": "stdout",
          "text": [
            "HeLLo my name is {name}, I am a {position}.\n",
            "HeLLo my name is Ajita, I am a Student.\n",
            "HeLLo my name is Ajita, I am a Student.\n"
          ]
        }
      ]
    },
    {
      "cell_type": "code",
      "source": [
        "#Functions jumped\n",
        "#1 format map\n",
        "#2 expandtabs\n",
        "#replica of find function but this returns error if nothing\n",
        "temp_str =\"HeLLo WorLD how is it going? Hello all good! how are you!\"\n",
        "temp_str.index(\"howsss\")"
      ],
      "metadata": {
        "colab": {
          "base_uri": "https://localhost:8080/",
          "height": 210
        },
        "id": "G6fnrT8ifW90",
        "outputId": "d1b2692a-e208-417e-b935-210c34f55262"
      },
      "execution_count": 71,
      "outputs": [
        {
          "output_type": "error",
          "ename": "ValueError",
          "evalue": "ignored",
          "traceback": [
            "\u001b[0;31m---------------------------------------------------------------------------\u001b[0m",
            "\u001b[0;31mValueError\u001b[0m                                Traceback (most recent call last)",
            "\u001b[0;32m<ipython-input-71-ebbef2259394>\u001b[0m in \u001b[0;36m<cell line: 6>\u001b[0;34m()\u001b[0m\n\u001b[1;32m      4\u001b[0m \u001b[0;31m#replica of find function but this returns error if nothing\u001b[0m\u001b[0;34m\u001b[0m\u001b[0;34m\u001b[0m\u001b[0m\n\u001b[1;32m      5\u001b[0m \u001b[0mtemp_str\u001b[0m \u001b[0;34m=\u001b[0m\u001b[0;34m\"HeLLo WorLD how is it going? Hello all good! how are you!\"\u001b[0m\u001b[0;34m\u001b[0m\u001b[0;34m\u001b[0m\u001b[0m\n\u001b[0;32m----> 6\u001b[0;31m \u001b[0mtemp_str\u001b[0m\u001b[0;34m.\u001b[0m\u001b[0mindex\u001b[0m\u001b[0;34m(\u001b[0m\u001b[0;34m\"howsss\"\u001b[0m\u001b[0;34m)\u001b[0m\u001b[0;34m\u001b[0m\u001b[0;34m\u001b[0m\u001b[0m\n\u001b[0m",
            "\u001b[0;31mValueError\u001b[0m: substring not found"
          ]
        }
      ]
    },
    {
      "cell_type": "code",
      "source": [
        "#isalnum = alphanumeric\n",
        "temp_str =\"HeLLo WorLD how is it going? Hello all good! how are you!\"\n",
        "print(temp_str.isalnum())"
      ],
      "metadata": {
        "colab": {
          "base_uri": "https://localhost:8080/"
        },
        "id": "PUIVZy__iJKB",
        "outputId": "f9eba0e4-08b9-46e8-f521-2ff1c97a4856"
      },
      "execution_count": 72,
      "outputs": [
        {
          "output_type": "stream",
          "name": "stdout",
          "text": [
            "False\n"
          ]
        }
      ]
    },
    {
      "cell_type": "code",
      "source": [
        "# Returns True if only numbers and alphabets are present else returns false\n",
        "temp_str =\"HeLLoWorLD\"\n",
        "print(temp_str.isalnum())"
      ],
      "metadata": {
        "colab": {
          "base_uri": "https://localhost:8080/"
        },
        "id": "RlchiQ3UiqUw",
        "outputId": "8cd83de6-3e65-4caf-a5d4-df14bf3ec9ea"
      },
      "execution_count": 73,
      "outputs": [
        {
          "output_type": "stream",
          "name": "stdout",
          "text": [
            "True\n"
          ]
        }
      ]
    },
    {
      "cell_type": "code",
      "source": [
        "# Returns True if only alphabets are present else returns false\n",
        "temp_str =\"HeLLoWorLD\"\n",
        "print(temp_str.isalpha())"
      ],
      "metadata": {
        "colab": {
          "base_uri": "https://localhost:8080/"
        },
        "id": "wQkrw2r5i8dJ",
        "outputId": "707c614e-f6d0-4296-89d7-4441089da2f5"
      },
      "execution_count": 74,
      "outputs": [
        {
          "output_type": "stream",
          "name": "stdout",
          "text": [
            "True\n"
          ]
        }
      ]
    },
    {
      "cell_type": "code",
      "source": [
        "temp_str =\"HeLLoWorLD123\"\n",
        "print(temp_str.isalpha())"
      ],
      "metadata": {
        "colab": {
          "base_uri": "https://localhost:8080/"
        },
        "id": "mTh0oRiWj7PY",
        "outputId": "1a5aca2d-1471-40f1-b5c6-071542bd6558"
      },
      "execution_count": 75,
      "outputs": [
        {
          "output_type": "stream",
          "name": "stdout",
          "text": [
            "False\n"
          ]
        }
      ]
    },
    {
      "cell_type": "code",
      "source": [
        "#isdecimal: returns true if only numbers between 0-9 else returns false\n",
        "temp_str =\"HeLLo WorLD\"\n",
        "print(temp_str.isdecimal())"
      ],
      "metadata": {
        "colab": {
          "base_uri": "https://localhost:8080/"
        },
        "id": "_AY0t5W-j9wH",
        "outputId": "2e993611-28f9-401c-fd04-da281f3ba04c"
      },
      "execution_count": 76,
      "outputs": [
        {
          "output_type": "stream",
          "name": "stdout",
          "text": [
            "False\n"
          ]
        }
      ]
    },
    {
      "cell_type": "code",
      "source": [
        "temp_str =\"1265885598\"\n",
        "print(temp_str.isdecimal())"
      ],
      "metadata": {
        "colab": {
          "base_uri": "https://localhost:8080/"
        },
        "id": "3h85C_WskkbP",
        "outputId": "f606d37c-5c3e-4d13-dea3-35998de52174"
      },
      "execution_count": 77,
      "outputs": [
        {
          "output_type": "stream",
          "name": "stdout",
          "text": [
            "True\n"
          ]
        }
      ]
    },
    {
      "cell_type": "code",
      "source": [
        "temp_str =\"  122366887  \"\n",
        "print(temp_str.isdecimal())"
      ],
      "metadata": {
        "colab": {
          "base_uri": "https://localhost:8080/"
        },
        "id": "h3ZhJAm4kpAz",
        "outputId": "ea1b95be-6c3a-4a0e-fe28-e77487d86475"
      },
      "execution_count": 78,
      "outputs": [
        {
          "output_type": "stream",
          "name": "stdout",
          "text": [
            "False\n"
          ]
        }
      ]
    },
    {
      "cell_type": "code",
      "source": [
        "temp_str =\"1268.25599\"\n",
        "print(temp_str.isdecimal())"
      ],
      "metadata": {
        "colab": {
          "base_uri": "https://localhost:8080/"
        },
        "id": "Sha2tAKVktNv",
        "outputId": "b2d3e22b-dfe5-418c-e9a2-b6fea4b8e94d"
      },
      "execution_count": 79,
      "outputs": [
        {
          "output_type": "stream",
          "name": "stdout",
          "text": [
            "False\n"
          ]
        }
      ]
    },
    {
      "cell_type": "code",
      "source": [
        "unicode_0=\"\\u0030\"\n",
        "print(unicode_0.isdecimal())\n",
        "\n"
      ],
      "metadata": {
        "colab": {
          "base_uri": "https://localhost:8080/"
        },
        "id": "qAJ9Z7Vgk5ZH",
        "outputId": "88a77a87-ab3f-4e58-d6d9-0885ecc1f64e"
      },
      "execution_count": 83,
      "outputs": [
        {
          "output_type": "stream",
          "name": "stdout",
          "text": [
            "True\n"
          ]
        }
      ]
    },
    {
      "cell_type": "code",
      "source": [
        "#isdigit:\n",
        "temp_str =\"HeLLo WorLD\"\n",
        "unicode_0=\"\\u0030\"\n",
        "print(unicode_0.isdigit())\n",
        "print(temp_str.isdigit())"
      ],
      "metadata": {
        "colab": {
          "base_uri": "https://localhost:8080/"
        },
        "id": "YddKkFe3lsDO",
        "outputId": "98159577-9aca-45c2-9ceb-0ccb00e813d8"
      },
      "execution_count": 84,
      "outputs": [
        {
          "output_type": "stream",
          "name": "stdout",
          "text": [
            "True\n",
            "False\n"
          ]
        }
      ]
    },
    {
      "cell_type": "code",
      "source": [],
      "metadata": {
        "id": "eYnBy_dSmPrO"
      },
      "execution_count": null,
      "outputs": []
    }
  ]
}