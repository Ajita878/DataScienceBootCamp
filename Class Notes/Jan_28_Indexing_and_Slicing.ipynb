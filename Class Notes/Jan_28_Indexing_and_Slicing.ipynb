{
  "nbformat": 4,
  "nbformat_minor": 0,
  "metadata": {
    "colab": {
      "provenance": []
    },
    "kernelspec": {
      "name": "python3",
      "display_name": "Python 3"
    },
    "language_info": {
      "name": "python"
    }
  },
  "cells": [
    {
      "cell_type": "code",
      "execution_count": 5,
      "metadata": {
        "colab": {
          "base_uri": "https://localhost:8080/"
        },
        "id": "IvmbqNhoflO-",
        "outputId": "4ae86cce-1f28-44c5-c53b-946e2caa30a4"
      },
      "outputs": [
        {
          "output_type": "stream",
          "name": "stdout",
          "text": [
            "Peppa\n",
            "prefer\n",
            "Python\n",
            "Programming\n"
          ]
        }
      ],
      "source": [
        "str = 'Peppa prefer Python Programming'\n",
        "print(str[:5])\n",
        "print(str[6:12])\n",
        "print(str[13:19])\n",
        "print(str[20:])"
      ]
    },
    {
      "cell_type": "code",
      "source": [
        "str1 = 'SrinivasaRamanujanAiyangar'\n",
        "print(str1[::1])\n",
        "print(str1[::-1]) #Requirement from printing from right to left. If dataset contains 10000 columns and we only need last 3 columns. In this case its easier to get information from right to left."
      ],
      "metadata": {
        "colab": {
          "base_uri": "https://localhost:8080/"
        },
        "id": "3ACof3p9h2Lo",
        "outputId": "fc340f93-d39d-4ccf-c170-fcb403c03fc0"
      },
      "execution_count": 10,
      "outputs": [
        {
          "output_type": "stream",
          "name": "stdout",
          "text": [
            "SrinivasaRamanujanAiyangar\n",
            "ragnayiAnajunamaRasavinirS\n"
          ]
        }
      ]
    },
    {
      "cell_type": "code",
      "source": [
        "print(str1[-1:-9:-1])\n",
        "print(str1[-9:-18:-1])\n",
        "print(str1[-18::-1])"
      ],
      "metadata": {
        "colab": {
          "base_uri": "https://localhost:8080/"
        },
        "id": "Qn8pf1aii9cw",
        "outputId": "689fd77f-efbd-4685-aca2-7081fd44f82f"
      },
      "execution_count": 25,
      "outputs": [
        {
          "output_type": "stream",
          "name": "stdout",
          "text": [
            "ragnayiA\n",
            "najunamaR\n",
            "asavinirS\n"
          ]
        }
      ]
    },
    {
      "cell_type": "code",
      "source": [
        "str1 = 'Peppa Prefer Python Programming'\n",
        "print(str1[::-1])\n",
        "print(len(str1))\n",
        "print(str1[-1:-12:-1])\n",
        "print(str1[-13:-19:-1])\n",
        "print(str[-20:-26:-1])\n",
        "print(str[-27:-32:-1])"
      ],
      "metadata": {
        "colab": {
          "base_uri": "https://localhost:8080/"
        },
        "id": "MelPc611j7Is",
        "outputId": "db9e1411-c330-42a7-8dfa-9e81cbd19f4c"
      },
      "execution_count": 44,
      "outputs": [
        {
          "output_type": "stream",
          "name": "stdout",
          "text": [
            "gnimmargorP nohtyP referP appeP\n",
            "31\n",
            "gnimmargorP\n",
            "nohtyP\n",
            "referp\n",
            "appeP\n"
          ]
        }
      ]
    },
    {
      "cell_type": "code",
      "source": [
        "lst1 = ['apple','banana','cherry','dates','eggfruit','fig','grapes','honeyfruit','icefruit']\n",
        "print(lst1)\n",
        "print(type(lst1))"
      ],
      "metadata": {
        "colab": {
          "base_uri": "https://localhost:8080/"
        },
        "id": "KGFQGOAvl9kX",
        "outputId": "32a92e2d-0bdb-490c-8840-e5aefa91c400"
      },
      "execution_count": 46,
      "outputs": [
        {
          "output_type": "stream",
          "name": "stdout",
          "text": [
            "['apple', 'banana', 'cherry', 'dates', 'eggfruit', 'fig', 'grapes', 'honeyfruit', 'icefruit']\n",
            "<class 'list'>\n"
          ]
        }
      ]
    },
    {
      "cell_type": "code",
      "source": [
        "lst1[0],lst1[1],lst1[2],lst1[3],lst1[4],lst1[5],lst1[6],lst1[7],lst1[8]"
      ],
      "metadata": {
        "colab": {
          "base_uri": "https://localhost:8080/"
        },
        "id": "zxfYaMfanA_Y",
        "outputId": "a08c7466-9978-48f6-8d2f-79f8d1c15e8a"
      },
      "execution_count": 49,
      "outputs": [
        {
          "output_type": "execute_result",
          "data": {
            "text/plain": [
              "('apple',\n",
              " 'banana',\n",
              " 'cherry',\n",
              " 'dates',\n",
              " 'eggfruit',\n",
              " 'fig',\n",
              " 'grapes',\n",
              " 'honeyfruit',\n",
              " 'icefruit')"
            ]
          },
          "metadata": {},
          "execution_count": 49
        }
      ]
    },
    {
      "cell_type": "code",
      "source": [
        "lst1[::]\n",
        "lst1[0::]\n",
        "lst1[:len(lst1):]\n",
        "lst1[0:len(lst1):1]\n",
        "lst1[::-1]\n",
        "\n",
        "lst1[-1::-1]"
      ],
      "metadata": {
        "colab": {
          "base_uri": "https://localhost:8080/"
        },
        "id": "1EU_SiOrnbKs",
        "outputId": "0220eef3-94b8-4df9-e42f-39cb486a6555"
      },
      "execution_count": 60,
      "outputs": [
        {
          "output_type": "execute_result",
          "data": {
            "text/plain": [
              "['icefruit',\n",
              " 'honeyfruit',\n",
              " 'grapes',\n",
              " 'fig',\n",
              " 'eggfruit',\n",
              " 'dates',\n",
              " 'cherry',\n",
              " 'banana',\n",
              " 'apple']"
            ]
          },
          "metadata": {},
          "execution_count": 60
        }
      ]
    },
    {
      "cell_type": "code",
      "source": [
        "lst1[9::-1]\n",
        "print(lst1[-9::1])"
      ],
      "metadata": {
        "colab": {
          "base_uri": "https://localhost:8080/"
        },
        "id": "ER1gKS3FoQ-H",
        "outputId": "fdf0eb0c-294b-4208-af50-291b511de339"
      },
      "execution_count": 64,
      "outputs": [
        {
          "output_type": "stream",
          "name": "stdout",
          "text": [
            "['apple', 'banana', 'cherry', 'dates', 'eggfruit', 'fig', 'grapes', 'honeyfruit', 'icefruit']\n"
          ]
        }
      ]
    },
    {
      "cell_type": "code",
      "source": [
        "lst1= ['Toyota','Ford','Nissan','Chevrolet','Honda','Audi','Tesla','BMW','Mercedes','Volkswagen']\n",
        "print(lst1)"
      ],
      "metadata": {
        "colab": {
          "base_uri": "https://localhost:8080/"
        },
        "id": "ow05XgCLovkZ",
        "outputId": "b9443112-15ec-4dde-be22-3a7297c321ec"
      },
      "execution_count": 68,
      "outputs": [
        {
          "output_type": "stream",
          "name": "stdout",
          "text": [
            "['Toyota', 'Ford', 'Nissan', 'Chevrolet', 'Honda', 'Audi', 'Tesla', 'BMW', 'Mercedes', 'Volkswagen']\n"
          ]
        }
      ]
    },
    {
      "cell_type": "code",
      "source": [
        "#Positive Indexing negative slicing\n",
        "print(lst1[::-1])"
      ],
      "metadata": {
        "colab": {
          "base_uri": "https://localhost:8080/"
        },
        "id": "kUVdrO-xpwjz",
        "outputId": "a555ce1e-1c4e-4ebd-dbeb-3a0492e2fbe1"
      },
      "execution_count": 69,
      "outputs": [
        {
          "output_type": "stream",
          "name": "stdout",
          "text": [
            "['Volkswagen', 'Mercedes', 'BMW', 'Tesla', 'Audi', 'Honda', 'Chevrolet', 'Nissan', 'Ford', 'Toyota']\n"
          ]
        }
      ]
    },
    {
      "cell_type": "code",
      "source": [
        "#Positive Indexing Positive Slicing\n",
        "print(lst1[::1])"
      ],
      "metadata": {
        "colab": {
          "base_uri": "https://localhost:8080/"
        },
        "id": "m0WMsuaLp7jg",
        "outputId": "3e630ab2-2312-4abd-a4ff-a4cb026de755"
      },
      "execution_count": 70,
      "outputs": [
        {
          "output_type": "stream",
          "name": "stdout",
          "text": [
            "['Toyota', 'Ford', 'Nissan', 'Chevrolet', 'Honda', 'Audi', 'Tesla', 'BMW', 'Mercedes', 'Volkswagen']\n"
          ]
        }
      ]
    },
    {
      "cell_type": "code",
      "source": [
        "#Negative Indexing Negative Slicing\n",
        "print(lst1[-1::-1])"
      ],
      "metadata": {
        "colab": {
          "base_uri": "https://localhost:8080/"
        },
        "id": "mo7xqiu5qYlk",
        "outputId": "6d07d3ca-b68a-4459-fe73-d08ea58b005c"
      },
      "execution_count": 72,
      "outputs": [
        {
          "output_type": "stream",
          "name": "stdout",
          "text": [
            "['Volkswagen', 'Mercedes', 'BMW', 'Tesla', 'Audi', 'Honda', 'Chevrolet', 'Nissan', 'Ford', 'Toyota']\n"
          ]
        }
      ]
    },
    {
      "cell_type": "code",
      "source": [
        "#Negative Indexing Positive Slicing\n",
        "print(lst1[-10::1])"
      ],
      "metadata": {
        "colab": {
          "base_uri": "https://localhost:8080/"
        },
        "id": "XAgAGWfGqpVc",
        "outputId": "faa9ee59-405f-4e6a-954d-34b011e2acb7"
      },
      "execution_count": 73,
      "outputs": [
        {
          "output_type": "stream",
          "name": "stdout",
          "text": [
            "['Toyota', 'Ford', 'Nissan', 'Chevrolet', 'Honda', 'Audi', 'Tesla', 'BMW', 'Mercedes', 'Volkswagen']\n"
          ]
        }
      ]
    },
    {
      "cell_type": "code",
      "source": [
        "#Second Session (String inbuilt function)\n",
        "#isidentifier:Returns True if the word is a keyword in python else returns False\n",
        "#This also works with variable declaration so if it starts with numbers its False.\n",
        "temp_str='Hello World'\n",
        "print(temp_str.isidentifier())\n",
        "temp_str='HelloWorld'\n",
        "print(temp_str.isidentifier())\n",
        "temp_str='1235Hello World'\n",
        "print(temp_str.isidentifier())\n",
        "temp_str='HelloWorld12365'\n",
        "print(temp_str.isidentifier())"
      ],
      "metadata": {
        "colab": {
          "base_uri": "https://localhost:8080/"
        },
        "id": "EWz7jZrls3xy",
        "outputId": "ccf93ea9-a6b5-4422-ffab-afba4cdca915"
      },
      "execution_count": 78,
      "outputs": [
        {
          "output_type": "stream",
          "name": "stdout",
          "text": [
            "False\n",
            "True\n",
            "False\n",
            "True\n"
          ]
        }
      ]
    },
    {
      "cell_type": "code",
      "source": [
        "#islower:Returns True if all alphabets are in lower cases.\n",
        "temp_str='Hello World'\n",
        "print(temp_str.islower())\n",
        "temp_str='hello world'\n",
        "print(temp_str.islower())"
      ],
      "metadata": {
        "colab": {
          "base_uri": "https://localhost:8080/"
        },
        "id": "81o2QGwa2CKI",
        "outputId": "cde8500e-0ef1-4dee-ffe0-68b5b2aac161"
      },
      "execution_count": 81,
      "outputs": [
        {
          "output_type": "stream",
          "name": "stdout",
          "text": [
            "False\n",
            "True\n"
          ]
        }
      ]
    },
    {
      "cell_type": "code",
      "source": [
        "#istitle: Returns True if first character of each word is upper case and other are in lower case\n",
        "temp_str='Hello World'\n",
        "print(temp_str.istitle())\n",
        "temp_str2='Hello WOrld'\n",
        "print(temp_str2.istitle())"
      ],
      "metadata": {
        "colab": {
          "base_uri": "https://localhost:8080/"
        },
        "id": "9w3Z-JQt2YxK",
        "outputId": "9c96c6db-7409-47f1-f72c-737554767fec"
      },
      "execution_count": 83,
      "outputs": [
        {
          "output_type": "stream",
          "name": "stdout",
          "text": [
            "True\n",
            "False\n"
          ]
        }
      ]
    },
    {
      "cell_type": "code",
      "source": [
        "#isupper: Returns True if all the alphabets are in upper case\n",
        "temp_str = 'HELLO WORLD'\n",
        "print(temp_str.isupper())\n",
        "temp_str = 'HELLO WORLd'\n",
        "print(temp_str.isupper())"
      ],
      "metadata": {
        "colab": {
          "base_uri": "https://localhost:8080/"
        },
        "id": "xO47iBnM3J_X",
        "outputId": "52381db4-602f-4771-c2ea-c28ddf25d6be"
      },
      "execution_count": 86,
      "outputs": [
        {
          "output_type": "stream",
          "name": "stdout",
          "text": [
            "True\n",
            "False\n"
          ]
        }
      ]
    },
    {
      "cell_type": "code",
      "source": [
        "#Iterables are list,Tuple\n",
        "lst_temp = ('11','hfhfd','78')\n",
        "print('*'.join(lst_temp))"
      ],
      "metadata": {
        "colab": {
          "base_uri": "https://localhost:8080/"
        },
        "id": "sAGf0Snl4TEB",
        "outputId": "9dc09d5d-1111-4e38-9724-d10e4deedb1a"
      },
      "execution_count": 88,
      "outputs": [
        {
          "output_type": "stream",
          "name": "stdout",
          "text": [
            "11*hfhfd*78\n"
          ]
        }
      ]
    },
    {
      "cell_type": "code",
      "source": [
        "#islower:\n",
        "temp_str = 'Hello World'\n",
        "print(temp_str.lower())\n",
        "string_german=\"ß\"\n",
        "print(string_german.lower())\n",
        "print(string_german.casefold())"
      ],
      "metadata": {
        "colab": {
          "base_uri": "https://localhost:8080/"
        },
        "id": "9ZHvRtMQ478R",
        "outputId": "44338957-6c70-48e8-a710-5fbfa52c9c9d"
      },
      "execution_count": 90,
      "outputs": [
        {
          "output_type": "stream",
          "name": "stdout",
          "text": [
            "hello world\n",
            "ß\n",
            "ss\n"
          ]
        }
      ]
    },
    {
      "cell_type": "code",
      "source": [
        "#.lstrip: Removes white spaces and tabs on left side of the string\n",
        "temp_str = '                  Hello World            '\n",
        "print(temp_str.lstrip())"
      ],
      "metadata": {
        "colab": {
          "base_uri": "https://localhost:8080/"
        },
        "id": "_EmstFx95fs9",
        "outputId": "72e60885-4f3e-4456-b9f4-36eb2877748b"
      },
      "execution_count": 92,
      "outputs": [
        {
          "output_type": "stream",
          "name": "stdout",
          "text": [
            "Hello World\n"
          ]
        }
      ]
    },
    {
      "cell_type": "code",
      "source": [
        "#.partition: Separation of words\n",
        "temp_str = 'My name is Ajita Giri'\n",
        "print(temp_str.partition('is'))\n",
        "print(temp_str.partition('is123'))"
      ],
      "metadata": {
        "colab": {
          "base_uri": "https://localhost:8080/"
        },
        "id": "hAjCneu654w7",
        "outputId": "0c06e8d3-cd1c-4767-dc44-e106a4078ca1"
      },
      "execution_count": 95,
      "outputs": [
        {
          "output_type": "stream",
          "name": "stdout",
          "text": [
            "('My name ', 'is', ' Ajita Giri')\n",
            "('My name is Ajita Giri', '', '')\n"
          ]
        }
      ]
    },
    {
      "cell_type": "code",
      "source": [
        "#.replace:\n",
        "temp_str ='I could eat apples all day, thats all I can say'\n",
        "temp_str.replace('all','not'.replace('apples','mangoes'))"
      ],
      "metadata": {
        "colab": {
          "base_uri": "https://localhost:8080/",
          "height": 35
        },
        "id": "ESc9UWK66cXm",
        "outputId": "c32a448d-16c6-47f0-b3f7-dbf26cd1500e"
      },
      "execution_count": 96,
      "outputs": [
        {
          "output_type": "execute_result",
          "data": {
            "text/plain": [
              "'I could eat apples not day, thats not I can say'"
            ],
            "application/vnd.google.colaboratory.intrinsic+json": {
              "type": "string"
            }
          },
          "metadata": {},
          "execution_count": 96
        }
      ]
    },
    {
      "cell_type": "code",
      "source": [
        "#.rstrip: Remove white space on the right hand side\n",
        "temp_str = '             Hello World               '\n",
        "print(temp_str.rstrip())"
      ],
      "metadata": {
        "colab": {
          "base_uri": "https://localhost:8080/"
        },
        "id": "sFFQQ2gQ7Svm",
        "outputId": "e757bf32-8d5c-4185-a49e-2f78732f47bf"
      },
      "execution_count": 97,
      "outputs": [
        {
          "output_type": "stream",
          "name": "stdout",
          "text": [
            "             Hello World\n"
          ]
        }
      ]
    },
    {
      "cell_type": "code",
      "source": [
        "temp_str=\"i could eat #apples all day, thats all i can say\"\n",
        "print(temp_str.split(\",\"))\n",
        "print(temp_str.split(\",\")[0].split(\"#\"))"
      ],
      "metadata": {
        "colab": {
          "base_uri": "https://localhost:8080/"
        },
        "id": "OonhcZkK7jMV",
        "outputId": "c738201b-3a55-43d4-9d79-1e8b65141518"
      },
      "execution_count": 100,
      "outputs": [
        {
          "output_type": "stream",
          "name": "stdout",
          "text": [
            "['i could eat #apples all day', ' thats all i can say']\n",
            "['i could eat ', 'apples all day']\n"
          ]
        }
      ]
    },
    {
      "cell_type": "code",
      "source": [
        "#startswith\n",
        "temp_str = 'Ajita could eat apples all day, thats all I can say.'\n",
        "print(temp_str.startswith('Ajita'))# This is case sensitive\n",
        "print(temp_str.startswith('all'))"
      ],
      "metadata": {
        "colab": {
          "base_uri": "https://localhost:8080/"
        },
        "id": "u2XvA-EU9Jcb",
        "outputId": "e68f2820-4978-4ea7-dfdf-3989f823a0b6"
      },
      "execution_count": 105,
      "outputs": [
        {
          "output_type": "stream",
          "name": "stdout",
          "text": [
            "True\n",
            "False\n"
          ]
        }
      ]
    },
    {
      "cell_type": "code",
      "source": [
        "#strip\n",
        "temp_str = '         Hello World           '\n",
        "temp_str.strip()"
      ],
      "metadata": {
        "colab": {
          "base_uri": "https://localhost:8080/",
          "height": 35
        },
        "id": "aHYHjKoz9spQ",
        "outputId": "a17415f8-bdd9-49ee-aa31-94c510026b01"
      },
      "execution_count": 106,
      "outputs": [
        {
          "output_type": "execute_result",
          "data": {
            "text/plain": [
              "'Hello World'"
            ],
            "application/vnd.google.colaboratory.intrinsic+json": {
              "type": "string"
            }
          },
          "metadata": {},
          "execution_count": 106
        }
      ]
    },
    {
      "cell_type": "code",
      "source": [
        "#swapcase\n",
        "temp_str= 'ajita could eat Apples All day, thats all I can Say.'\n",
        "print(temp_str.swapcase())"
      ],
      "metadata": {
        "colab": {
          "base_uri": "https://localhost:8080/"
        },
        "id": "dt7nxP6k-ERK",
        "outputId": "7568afe9-de4f-4c0c-ae57-69385ec8fd77"
      },
      "execution_count": 107,
      "outputs": [
        {
          "output_type": "stream",
          "name": "stdout",
          "text": [
            "AJITA COULD EAT aPPLES aLL DAY, THATS ALL i CAN sAY.\n"
          ]
        }
      ]
    },
    {
      "cell_type": "code",
      "source": [
        "temp_str=\"i could eat aPples all day, thats all i can say\"\n",
        "temp_str.title()"
      ],
      "metadata": {
        "colab": {
          "base_uri": "https://localhost:8080/",
          "height": 35
        },
        "id": "IJRhw4U9-Wkz",
        "outputId": "ec9b96e7-40a2-4746-aa78-fc5b44aa816f"
      },
      "execution_count": 108,
      "outputs": [
        {
          "output_type": "execute_result",
          "data": {
            "text/plain": [
              "'I Could Eat Apples All Day, Thats All I Can Say'"
            ],
            "application/vnd.google.colaboratory.intrinsic+json": {
              "type": "string"
            }
          },
          "metadata": {},
          "execution_count": 108
        }
      ]
    },
    {
      "cell_type": "code",
      "source": [
        "temp_str = {'a':88,'a':89}\n",
        "print(temp_str)"
      ],
      "metadata": {
        "colab": {
          "base_uri": "https://localhost:8080/"
        },
        "id": "zecC9nup-cYI",
        "outputId": "63999ee8-5a1e-4378-ae74-7235833b0040"
      },
      "execution_count": 111,
      "outputs": [
        {
          "output_type": "stream",
          "name": "stdout",
          "text": [
            "{'a': 89}\n"
          ]
        }
      ]
    },
    {
      "cell_type": "code",
      "source": [
        "temp_str={\"brand\":\"Ford\",\"model\":\"Mustang\",\"year\":1964,\"year\":2020}\n",
        "print(temp_str)"
      ],
      "metadata": {
        "colab": {
          "base_uri": "https://localhost:8080/"
        },
        "id": "am-q4iVo-uW-",
        "outputId": "2cf594a6-d023-47c2-b1bd-e67623fd673d"
      },
      "execution_count": 112,
      "outputs": [
        {
          "output_type": "stream",
          "name": "stdout",
          "text": [
            "{'brand': 'Ford', 'model': 'Mustang', 'year': 2020}\n"
          ]
        }
      ]
    },
    {
      "cell_type": "code",
      "source": [
        "temp_str = dict(name ='Ajita', age = 31, country = 'Nepal')\n",
        "print(temp_str)"
      ],
      "metadata": {
        "colab": {
          "base_uri": "https://localhost:8080/"
        },
        "id": "k7-uurMg-0AY",
        "outputId": "17bb7577-d20f-454c-d756-1f24cead2a7b"
      },
      "execution_count": 113,
      "outputs": [
        {
          "output_type": "stream",
          "name": "stdout",
          "text": [
            "{'name': 'Ajita', 'age': 31, 'country': 'Nepal'}\n"
          ]
        }
      ]
    },
    {
      "cell_type": "code",
      "source": [
        "temp_str = 'I could eat apples all day, thats all I can say'\n",
        "temp_str.upper()"
      ],
      "metadata": {
        "colab": {
          "base_uri": "https://localhost:8080/",
          "height": 35
        },
        "id": "zojkfxlT_T0S",
        "outputId": "e7202d5d-d1b4-43fd-f4b3-7116c228e31a"
      },
      "execution_count": 114,
      "outputs": [
        {
          "output_type": "execute_result",
          "data": {
            "text/plain": [
              "'I COULD EAT APPLES ALL DAY, THATS ALL I CAN SAY'"
            ],
            "application/vnd.google.colaboratory.intrinsic+json": {
              "type": "string"
            }
          },
          "metadata": {},
          "execution_count": 114
        }
      ]
    },
    {
      "cell_type": "code",
      "source": [
        "temp_str = 'I could eat apples all day, thats all I can say'\n",
        "print(len(temp_str))\n",
        "print(temp_str.zfill(20)) #zfill means zero fills\n",
        "print(temp_str.zfill(60))"
      ],
      "metadata": {
        "colab": {
          "base_uri": "https://localhost:8080/"
        },
        "id": "1MH7au5E_de3",
        "outputId": "24c05946-62d5-425f-af52-c7ffb84c4b12"
      },
      "execution_count": 121,
      "outputs": [
        {
          "output_type": "stream",
          "name": "stdout",
          "text": [
            "47\n",
            "I could eat apples all day, thats all I can say\n",
            "0000000000000I could eat apples all day, thats all I can say\n"
          ]
        }
      ]
    }
  ]
}