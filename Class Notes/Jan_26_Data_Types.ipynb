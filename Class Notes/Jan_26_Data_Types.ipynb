{
  "nbformat": 4,
  "nbformat_minor": 0,
  "metadata": {
    "colab": {
      "provenance": []
    },
    "kernelspec": {
      "name": "python3",
      "display_name": "Python 3"
    },
    "language_info": {
      "name": "python"
    }
  },
  "cells": [
    {
      "cell_type": "code",
      "execution_count": null,
      "metadata": {
        "colab": {
          "base_uri": "https://localhost:8080/"
        },
        "id": "S_YDU_-dXhUp",
        "outputId": "621f4973-243d-471f-c431-802220df98a6"
      },
      "outputs": [
        {
          "output_type": "stream",
          "name": "stdout",
          "text": [
            "1992\n",
            "<class 'int'>\n",
            "-1992\n",
            "<class 'int'>\n"
          ]
        }
      ],
      "source": [
        "#Integer: Any whole number (+ve or -ve) is called as integer.\n",
        "int1 = 1992\n",
        "print(int1)\n",
        "print(type(int1))\n",
        "\n",
        "int1 = -1992\n",
        "print(int1)\n",
        "print(type(int1))"
      ]
    },
    {
      "cell_type": "code",
      "source": [
        "#float: Any combination of whole number and fractional number (=ve or -ve)is called as float.\n",
        "flt1 = 3.1415\n",
        "print(flt1)\n",
        "print(type(flt1))"
      ],
      "metadata": {
        "colab": {
          "base_uri": "https://localhost:8080/"
        },
        "id": "c4SGmalzZMsH",
        "outputId": "2456fad4-b56e-4e0b-e812-106efaf71c65"
      },
      "execution_count": null,
      "outputs": [
        {
          "output_type": "stream",
          "name": "stdout",
          "text": [
            "3.1415\n",
            "<class 'float'>\n"
          ]
        }
      ]
    },
    {
      "cell_type": "code",
      "source": [
        "# Complex: Combination of integer or float and imaginery number integer or float is called as complex number.\n",
        "complex1 = 2 +3j\n",
        "print(complex1)\n",
        "print(type(complex1))\n"
      ],
      "metadata": {
        "colab": {
          "base_uri": "https://localhost:8080/"
        },
        "id": "dhI4JsOxZqZH",
        "outputId": "677e7305-0fad-43d5-fa7a-64aa4718e05c"
      },
      "execution_count": null,
      "outputs": [
        {
          "output_type": "stream",
          "name": "stdout",
          "text": [
            "(2+3j)\n",
            "<class 'complex'>\n"
          ]
        }
      ]
    },
    {
      "cell_type": "code",
      "source": [
        "#Boolean: True and False. Numeric value of true is 1 and numeric value of false is 0.\n",
        "bool1= True\n",
        "print(bool1)\n",
        "print(type(bool1))\n",
        "\n",
        "bool1 = False\n",
        "print(bool1)\n",
        "print(type(bool1))"
      ],
      "metadata": {
        "colab": {
          "base_uri": "https://localhost:8080/"
        },
        "id": "cxEOlSpDaVUH",
        "outputId": "0c778feb-a49a-4a36-be1f-82da2a6f4a76"
      },
      "execution_count": null,
      "outputs": [
        {
          "output_type": "stream",
          "name": "stdout",
          "text": [
            "True\n",
            "<class 'bool'>\n",
            "False\n",
            "<class 'bool'>\n"
          ]
        }
      ]
    },
    {
      "cell_type": "code",
      "source": [
        "#String\n",
        "#Any combination inside single quotes.\n",
        "#Any combination inside double quotes.\n",
        "#Any combination inside triple single quotes.\n",
        "#Any combination inside triple double quotes.\n",
        "\n",
        "str1 = 'Python Programming'\n",
        "print(str1)\n",
        "print(type(str1))\n",
        "\n",
        "str1 = \"Python Programming\"\n",
        "print(str1)\n",
        "print(type(str1))"
      ],
      "metadata": {
        "colab": {
          "base_uri": "https://localhost:8080/"
        },
        "id": "mH4yiyvxbEHk",
        "outputId": "0ba921a3-d37c-436b-b046-8165b404413e"
      },
      "execution_count": null,
      "outputs": [
        {
          "output_type": "stream",
          "name": "stdout",
          "text": [
            "Python Programming\n",
            "<class 'str'>\n",
            "Python Programming\n",
            "<class 'str'>\n"
          ]
        }
      ]
    },
    {
      "cell_type": "code",
      "source": [
        "str1 = 'The unspoken truths for career success by \"Tessa White\".'\n",
        "print(str1)"
      ],
      "metadata": {
        "colab": {
          "base_uri": "https://localhost:8080/"
        },
        "id": "oFs_u0Sjb-ZT",
        "outputId": "3f982432-6803-4932-92ef-7126dae136d1"
      },
      "execution_count": null,
      "outputs": [
        {
          "output_type": "stream",
          "name": "stdout",
          "text": [
            "The unspoken truths for career success by \"Tessa White\".\n"
          ]
        }
      ]
    },
    {
      "cell_type": "code",
      "source": [
        "#List:\n",
        "# 1. List is mutable.\n",
        "# 2. List is represented by square brackets '[]'.\n",
        "lst1 = [12,23,34,45,55,65,75,80]\n",
        "print(lst1)\n",
        "print(type(lst1))"
      ],
      "metadata": {
        "colab": {
          "base_uri": "https://localhost:8080/"
        },
        "id": "SNECzYUcc1MT",
        "outputId": "8e3b0f66-fed2-48fe-86a9-4f39c66d74ea"
      },
      "execution_count": null,
      "outputs": [
        {
          "output_type": "stream",
          "name": "stdout",
          "text": [
            "[12, 23, 34, 45, 55, 65, 75, 80]\n",
            "<class 'list'>\n"
          ]
        }
      ]
    },
    {
      "cell_type": "code",
      "source": [
        "#Tuple\n",
        "#1. Tuple is represented by circular brackets '()'.\n",
        "#2. Tuple is inmutable.\n",
        "\n",
        "tup1 = (1,2,3,4,5)\n",
        "print(tup1)\n",
        "print(type(tup1))"
      ],
      "metadata": {
        "colab": {
          "base_uri": "https://localhost:8080/"
        },
        "id": "wNfRyYvqdBvh",
        "outputId": "96ce7b78-15d1-452e-95c4-8d6460886879"
      },
      "execution_count": null,
      "outputs": [
        {
          "output_type": "stream",
          "name": "stdout",
          "text": [
            "(1, 2, 3, 4, 5)\n",
            "<class 'tuple'>\n"
          ]
        }
      ]
    },
    {
      "cell_type": "code",
      "source": [
        "#Set\n",
        "# 1. Set is combination of unique values.\n",
        "# 2. Set is collection of unordered elements (set displays values randomly).\n",
        "# 3. It is represented by curly brackets '{}'.\n",
        "# 4. Set is mutable.\n",
        "\n",
        "set1 = {1,1,2,2,3,3,4,4,4, 'a','a','D'}\n",
        "print(set1)\n",
        "print(type(set1))"
      ],
      "metadata": {
        "colab": {
          "base_uri": "https://localhost:8080/"
        },
        "id": "0arRPEtteRMb",
        "outputId": "a5176ba1-9ea9-4f14-97b7-3319239b1f7c"
      },
      "execution_count": null,
      "outputs": [
        {
          "output_type": "stream",
          "name": "stdout",
          "text": [
            "{1, 2, 3, 4, 'D', 'a'}\n",
            "<class 'set'>\n"
          ]
        }
      ]
    },
    {
      "cell_type": "code",
      "source": [
        "lst1 = [1,3,4,'a', 'D', 4,5,6]\n",
        "print(lst1)"
      ],
      "metadata": {
        "colab": {
          "base_uri": "https://localhost:8080/"
        },
        "id": "FIVykhQ2fY9Q",
        "outputId": "92ef43d7-7f05-459d-bf7b-6d44ce527cbe"
      },
      "execution_count": null,
      "outputs": [
        {
          "output_type": "stream",
          "name": "stdout",
          "text": [
            "[1, 3, 4, 'a', 'D', 4, 5, 6]\n"
          ]
        }
      ]
    },
    {
      "cell_type": "code",
      "source": [
        "tuple1 = (1,1,3,4,5,'a','b',True,False)\n",
        "print(tuple1)"
      ],
      "metadata": {
        "colab": {
          "base_uri": "https://localhost:8080/"
        },
        "id": "1GtPLCogfmYU",
        "outputId": "98fe1f96-293e-4794-c981-71fa7beb018b"
      },
      "execution_count": null,
      "outputs": [
        {
          "output_type": "stream",
          "name": "stdout",
          "text": [
            "(1, 1, 3, 4, 5, 'a', 'b', True, False)\n"
          ]
        }
      ]
    },
    {
      "cell_type": "code",
      "source": [
        "set1 = {0,1,1,2,4,4,4,5,3+2j,'f',True,False,'True','False'}\n",
        "print(set1)"
      ],
      "metadata": {
        "colab": {
          "base_uri": "https://localhost:8080/"
        },
        "id": "t2_DPJQrf18u",
        "outputId": "3d9085df-8c41-4363-c38a-c275fcbd42e0"
      },
      "execution_count": null,
      "outputs": [
        {
          "output_type": "stream",
          "name": "stdout",
          "text": [
            "{0, 1, 2, 'False', 4, 5, 'True', (3+2j), 'f'}\n"
          ]
        }
      ]
    },
    {
      "cell_type": "code",
      "source": [
        "dict1 = {'a':'apple',\n",
        "         'b':'banana',\n",
        "         'c':'cherry'}\n",
        "print(dict1)\n",
        "print(type(dict1))"
      ],
      "metadata": {
        "colab": {
          "base_uri": "https://localhost:8080/"
        },
        "id": "TxJtFJk_h_FK",
        "outputId": "d839a726-de05-4993-e6b5-d555b8a067dc"
      },
      "execution_count": null,
      "outputs": [
        {
          "output_type": "stream",
          "name": "stdout",
          "text": [
            "{'a': 'apple', 'b': 'banana', 'c': 'cherry'}\n",
            "<class 'dict'>\n"
          ]
        }
      ]
    },
    {
      "cell_type": "code",
      "source": [
        "dict1 = {'d':'dog',\n",
        "         'e':'elephant',\n",
        "         1:'1,2,3',\n",
        "         'True':1,\n",
        "         'True':False}\n",
        "print(dict1)\n",
        "print(type(dict1))"
      ],
      "metadata": {
        "colab": {
          "base_uri": "https://localhost:8080/"
        },
        "id": "DIbpbNbQifyr",
        "outputId": "c1a6a234-4eb4-4edf-f1bb-22fe23c6ea0e"
      },
      "execution_count": null,
      "outputs": [
        {
          "output_type": "stream",
          "name": "stdout",
          "text": [
            "{'d': 'dog', 'e': 'elephant', 1: '1,2,3', 'True': False}\n",
            "<class 'dict'>\n"
          ]
        }
      ]
    },
    {
      "cell_type": "code",
      "source": [
        "#Index\n",
        "str1 = 'Ajitagiri'\n",
        "print(str1)\n",
        "print(type(str1))\n",
        "print(len(str1))"
      ],
      "metadata": {
        "colab": {
          "base_uri": "https://localhost:8080/"
        },
        "id": "Zn1tMGKtj_XQ",
        "outputId": "8ef4085e-e956-47b9-df1d-1aa4d4f4cc63"
      },
      "execution_count": null,
      "outputs": [
        {
          "output_type": "stream",
          "name": "stdout",
          "text": [
            "Ajitagiri\n",
            "<class 'str'>\n",
            "9\n"
          ]
        }
      ]
    },
    {
      "cell_type": "code",
      "source": [
        "print(str1[0])\n",
        "print(str1[1])\n",
        "print(str1[2])\n",
        "print(str1[3])\n",
        "print(str1[4])\n",
        "\n",
        "print(str1[0:5])"
      ],
      "metadata": {
        "colab": {
          "base_uri": "https://localhost:8080/"
        },
        "id": "eCCMyaLNkgcm",
        "outputId": "a046c527-7f91-4a89-d75a-2d4a06b5c549"
      },
      "execution_count": null,
      "outputs": [
        {
          "output_type": "stream",
          "name": "stdout",
          "text": [
            "A\n",
            "j\n",
            "i\n",
            "t\n",
            "a\n",
            "Ajita\n"
          ]
        }
      ]
    },
    {
      "cell_type": "code",
      "source": [
        "str2 =' I Love Freakonomics'\n",
        "print(len(str2))\n",
        "print(str2[0])\n",
        "print(str2[1])\n",
        "print(str2[2])\n",
        "print(str2[3])\n",
        "print(str2[4])\n",
        "print(str2[5])\n",
        "print(str2[6])\n",
        "print(str2[7])\n",
        "print(str2[8])\n",
        "print(str2[9])\n",
        "print(str2[10])\n",
        "print(str2[11])\n",
        "print(str2[12])\n",
        "print(str2[13])\n",
        "print(str2[14])\n",
        "print(str2[15])\n",
        "print(str2[16])\n",
        "print(str2[17])\n",
        "print(str2[18])\n",
        "print(str2[19])"
      ],
      "metadata": {
        "colab": {
          "base_uri": "https://localhost:8080/"
        },
        "id": "rg_G7boXk_TQ",
        "outputId": "e175a3ff-597f-4fc0-d40e-5495912936e1"
      },
      "execution_count": null,
      "outputs": [
        {
          "output_type": "stream",
          "name": "stdout",
          "text": [
            "20\n",
            " \n",
            "I\n",
            " \n",
            "L\n",
            "o\n",
            "v\n",
            "e\n",
            " \n",
            "F\n",
            "r\n",
            "e\n",
            "a\n",
            "k\n",
            "o\n",
            "n\n",
            "o\n",
            "m\n",
            "i\n",
            "c\n",
            "s\n"
          ]
        }
      ]
    },
    {
      "cell_type": "code",
      "source": [
        "str3 ='ILoveFreakonomics'\n",
        "print(len(str3))"
      ],
      "metadata": {
        "colab": {
          "base_uri": "https://localhost:8080/"
        },
        "id": "fZccxVPYnld_",
        "outputId": "184a06fc-5251-46e8-e7d2-ee12edd50e5c"
      },
      "execution_count": null,
      "outputs": [
        {
          "output_type": "stream",
          "name": "stdout",
          "text": [
            "17\n"
          ]
        }
      ]
    },
    {
      "cell_type": "code",
      "source": [
        "print(str3[0:17:1])"
      ],
      "metadata": {
        "colab": {
          "base_uri": "https://localhost:8080/"
        },
        "id": "Tw5gxdmilxYn",
        "outputId": "140b84bb-faff-4597-e19b-285e5a03e100"
      },
      "execution_count": null,
      "outputs": [
        {
          "output_type": "stream",
          "name": "stdout",
          "text": [
            "ILoveFreakonomics\n"
          ]
        }
      ]
    },
    {
      "cell_type": "code",
      "source": [
        "print(str3[:1:1])"
      ],
      "metadata": {
        "colab": {
          "base_uri": "https://localhost:8080/"
        },
        "id": "GZ2n12UxmwZT",
        "outputId": "2ddc0450-b838-4911-c900-d1f74da6836e"
      },
      "execution_count": null,
      "outputs": [
        {
          "output_type": "stream",
          "name": "stdout",
          "text": [
            "I\n"
          ]
        }
      ]
    },
    {
      "cell_type": "code",
      "source": [
        "print(str2[2:7:1])"
      ],
      "metadata": {
        "colab": {
          "base_uri": "https://localhost:8080/"
        },
        "id": "sTVl3XC3nKSb",
        "outputId": "c16b5230-5c7a-428d-aed1-a61c2e69b2d4"
      },
      "execution_count": null,
      "outputs": [
        {
          "output_type": "stream",
          "name": "stdout",
          "text": [
            " Love\n"
          ]
        }
      ]
    },
    {
      "cell_type": "code",
      "source": [
        "print(str3[5:18:1])"
      ],
      "metadata": {
        "colab": {
          "base_uri": "https://localhost:8080/"
        },
        "id": "8OensK7qodhF",
        "outputId": "093a5879-24fe-4090-adc9-597bbe2f84d5"
      },
      "execution_count": null,
      "outputs": [
        {
          "output_type": "stream",
          "name": "stdout",
          "text": [
            "Freakonomics\n"
          ]
        }
      ]
    },
    {
      "cell_type": "code",
      "source": [
        "str4 ='AjitaGiri'\n",
        "print(str4[:5])\n",
        "print(str4[5:10])"
      ],
      "metadata": {
        "colab": {
          "base_uri": "https://localhost:8080/"
        },
        "id": "rILc1S8wqR2v",
        "outputId": "f75bb737-c556-4b53-9061-ebf0bd58a35a"
      },
      "execution_count": null,
      "outputs": [
        {
          "output_type": "stream",
          "name": "stdout",
          "text": [
            "Ajita\n",
            "Giri\n"
          ]
        }
      ]
    },
    {
      "cell_type": "code",
      "source": [
        "temp_str ='Hello World'\n",
        "print(temp_str[::2])\n",
        "#String slicing [start:stop:step]"
      ],
      "metadata": {
        "colab": {
          "base_uri": "https://localhost:8080/"
        },
        "id": "o3x5PE8TFa1v",
        "outputId": "23a98fa7-4fa8-4473-f920-5f0829102e78"
      },
      "execution_count": null,
      "outputs": [
        {
          "output_type": "stream",
          "name": "stdout",
          "text": [
            "HloWrd\n"
          ]
        }
      ]
    },
    {
      "cell_type": "code",
      "source": [
        "dir(temp_str) #Directory"
      ],
      "metadata": {
        "colab": {
          "base_uri": "https://localhost:8080/"
        },
        "id": "MO6_mI7GFpg9",
        "outputId": "d7e0c358-20d1-4abc-b5c8-c2b326dd789f"
      },
      "execution_count": null,
      "outputs": [
        {
          "output_type": "execute_result",
          "data": {
            "text/plain": [
              "['__add__',\n",
              " '__class__',\n",
              " '__contains__',\n",
              " '__delattr__',\n",
              " '__dir__',\n",
              " '__doc__',\n",
              " '__eq__',\n",
              " '__format__',\n",
              " '__ge__',\n",
              " '__getattribute__',\n",
              " '__getitem__',\n",
              " '__getnewargs__',\n",
              " '__gt__',\n",
              " '__hash__',\n",
              " '__init__',\n",
              " '__init_subclass__',\n",
              " '__iter__',\n",
              " '__le__',\n",
              " '__len__',\n",
              " '__lt__',\n",
              " '__mod__',\n",
              " '__mul__',\n",
              " '__ne__',\n",
              " '__new__',\n",
              " '__reduce__',\n",
              " '__reduce_ex__',\n",
              " '__repr__',\n",
              " '__rmod__',\n",
              " '__rmul__',\n",
              " '__setattr__',\n",
              " '__sizeof__',\n",
              " '__str__',\n",
              " '__subclasshook__',\n",
              " 'capitalize',\n",
              " 'casefold',\n",
              " 'center',\n",
              " 'count',\n",
              " 'encode',\n",
              " 'endswith',\n",
              " 'expandtabs',\n",
              " 'find',\n",
              " 'format',\n",
              " 'format_map',\n",
              " 'index',\n",
              " 'isalnum',\n",
              " 'isalpha',\n",
              " 'isascii',\n",
              " 'isdecimal',\n",
              " 'isdigit',\n",
              " 'isidentifier',\n",
              " 'islower',\n",
              " 'isnumeric',\n",
              " 'isprintable',\n",
              " 'isspace',\n",
              " 'istitle',\n",
              " 'isupper',\n",
              " 'join',\n",
              " 'ljust',\n",
              " 'lower',\n",
              " 'lstrip',\n",
              " 'maketrans',\n",
              " 'partition',\n",
              " 'removeprefix',\n",
              " 'removesuffix',\n",
              " 'replace',\n",
              " 'rfind',\n",
              " 'rindex',\n",
              " 'rjust',\n",
              " 'rpartition',\n",
              " 'rsplit',\n",
              " 'rstrip',\n",
              " 'split',\n",
              " 'splitlines',\n",
              " 'startswith',\n",
              " 'strip',\n",
              " 'swapcase',\n",
              " 'title',\n",
              " 'translate',\n",
              " 'upper',\n",
              " 'zfill']"
            ]
          },
          "metadata": {},
          "execution_count": 2
        }
      ]
    },
    {
      "cell_type": "code",
      "source": [
        "temp_str = 'hello world'\n",
        "print(temp_str.capitalize()) #Takes 1st character of string to uppercase"
      ],
      "metadata": {
        "colab": {
          "base_uri": "https://localhost:8080/"
        },
        "id": "ZguhXKdiGB4m",
        "outputId": "b8ee4e19-1114-4975-80bc-f18c80bc92f5"
      },
      "execution_count": null,
      "outputs": [
        {
          "output_type": "stream",
          "name": "stdout",
          "text": [
            "Hello world\n"
          ]
        }
      ]
    },
    {
      "cell_type": "code",
      "source": [
        "temp_str='HeLLo WorLD'\n",
        "print(temp_str.casefold()) #returns a string where all characteres are lowercase"
      ],
      "metadata": {
        "colab": {
          "base_uri": "https://localhost:8080/"
        },
        "id": "tUppkuJXHGA4",
        "outputId": "e7f7093d-272f-4dfb-9749-50ee06d86f10"
      },
      "execution_count": null,
      "outputs": [
        {
          "output_type": "stream",
          "name": "stdout",
          "text": [
            "hello world\n"
          ]
        }
      ]
    },
    {
      "cell_type": "code",
      "source": [
        "#Increaase length of string by adding whatever character is mentioned if not by default fills by space\n",
        "temp_str='HeLLo WorLD'\n",
        "print(temp_str.center(12,'*'))# the dummy character (*) is added from right."
      ],
      "metadata": {
        "colab": {
          "base_uri": "https://localhost:8080/"
        },
        "id": "492uu0FmHaap",
        "outputId": "ec240d84-3fb5-447b-fdf9-21e2b0d08f36"
      },
      "execution_count": null,
      "outputs": [
        {
          "output_type": "stream",
          "name": "stdout",
          "text": [
            "HeLLo WorLD*\n"
          ]
        }
      ]
    },
    {
      "cell_type": "code",
      "source": [
        "temp_str='HeLLo WorLD'\n",
        "print(temp_str.center(11,'*'))"
      ],
      "metadata": {
        "colab": {
          "base_uri": "https://localhost:8080/"
        },
        "id": "avFEJYO4IMpo",
        "outputId": "ba9fcbaf-a8bb-4d29-8096-9c838dc7c7c6"
      },
      "execution_count": null,
      "outputs": [
        {
          "output_type": "stream",
          "name": "stdout",
          "text": [
            "HeLLo WorLD\n"
          ]
        }
      ]
    },
    {
      "cell_type": "code",
      "source": [
        "temp_str='HeLLo WorLD'\n",
        "print(temp_str.center(17,'*'))"
      ],
      "metadata": {
        "colab": {
          "base_uri": "https://localhost:8080/"
        },
        "id": "YHEX7w5bIa9L",
        "outputId": "645f4849-799d-446a-ace4-9d24a1d4870d"
      },
      "execution_count": null,
      "outputs": [
        {
          "output_type": "stream",
          "name": "stdout",
          "text": [
            "***HeLLo WorLD***\n"
          ]
        }
      ]
    },
    {
      "cell_type": "code",
      "source": [
        "temp_str='HeLLo WorLD'\n",
        "print(temp_str.center(17,'1'))"
      ],
      "metadata": {
        "colab": {
          "base_uri": "https://localhost:8080/"
        },
        "id": "r6BVgn94Irt2",
        "outputId": "5664a649-100a-490f-91a2-16fd82176ac8"
      },
      "execution_count": null,
      "outputs": [
        {
          "output_type": "stream",
          "name": "stdout",
          "text": [
            "111HeLLo WorLD111\n"
          ]
        }
      ]
    },
    {
      "cell_type": "code",
      "source": [
        "#Returns how many times the substring appears in the given range by default picks full string\n",
        "#Count function is case sensitive\n",
        "#It only works for alphabetic characters\n",
        "temp_str='Hello World how is it going'\n",
        "temp_str.count('how')"
      ],
      "metadata": {
        "colab": {
          "base_uri": "https://localhost:8080/"
        },
        "id": "RJjZBu8_JAaH",
        "outputId": "3cb7d1e5-8ef2-462d-9546-2b33bc39d508"
      },
      "execution_count": null,
      "outputs": [
        {
          "output_type": "execute_result",
          "data": {
            "text/plain": [
              "1"
            ]
          },
          "metadata": {},
          "execution_count": 23
        }
      ]
    },
    {
      "cell_type": "code",
      "source": [
        "temp_str='Hello World how is it going'\n",
        "temp_str.count('o')"
      ],
      "metadata": {
        "colab": {
          "base_uri": "https://localhost:8080/"
        },
        "id": "EHFXTyEEJdiv",
        "outputId": "01fdb780-5bb3-45ed-934a-7e74007de3ff"
      },
      "execution_count": null,
      "outputs": [
        {
          "output_type": "execute_result",
          "data": {
            "text/plain": [
              "4"
            ]
          },
          "metadata": {},
          "execution_count": 25
        }
      ]
    },
    {
      "cell_type": "code",
      "source": [
        "temp_str='hello World how is it going'\n",
        "temp_str.count('hello',2)"
      ],
      "metadata": {
        "colab": {
          "base_uri": "https://localhost:8080/"
        },
        "id": "I_b_Zx4RJlMq",
        "outputId": "82962645-353d-42c7-85d4-361b752d0f84"
      },
      "execution_count": null,
      "outputs": [
        {
          "output_type": "execute_result",
          "data": {
            "text/plain": [
              "0"
            ]
          },
          "metadata": {},
          "execution_count": 26
        }
      ]
    },
    {
      "cell_type": "code",
      "source": [
        "#Returns True and False on the basis of Suffix passed.\n",
        "temp_str='Hello World how is it going? Hello all good!'\n",
        "temp_str.endswith('!')"
      ],
      "metadata": {
        "colab": {
          "base_uri": "https://localhost:8080/"
        },
        "id": "XggJ6CVvLvWf",
        "outputId": "5a245421-2e1e-4a50-8743-c6639d19afee"
      },
      "execution_count": null,
      "outputs": [
        {
          "output_type": "execute_result",
          "data": {
            "text/plain": [
              "True"
            ]
          },
          "metadata": {},
          "execution_count": 35
        }
      ]
    },
    {
      "cell_type": "code",
      "source": [
        "#endswith(value,start,end)\n",
        "print(temp_str.endswith('lo',0,5))\n",
        "print(temp_str.endswith('good',0,len(temp_str)-1))"
      ],
      "metadata": {
        "colab": {
          "base_uri": "https://localhost:8080/"
        },
        "id": "4WIhK-58M8IB",
        "outputId": "d6cdb6d4-8440-4eb5-f3b6-2b9cd92c3d15"
      },
      "execution_count": null,
      "outputs": [
        {
          "output_type": "stream",
          "name": "stdout",
          "text": [
            "True\n",
            "True\n"
          ]
        }
      ]
    },
    {
      "cell_type": "code",
      "source": [
        "#find: returns the first index occurence of given argument\n",
        "temp_str='Hello World how is it going? Hello all good! how are you!'\n",
        "temp_str.find('how')"
      ],
      "metadata": {
        "colab": {
          "base_uri": "https://localhost:8080/"
        },
        "id": "WwO8jrtSOXIm",
        "outputId": "390b7714-77fd-4ee9-9693-ffb1354b00ad"
      },
      "execution_count": null,
      "outputs": [
        {
          "output_type": "execute_result",
          "data": {
            "text/plain": [
              "12"
            ]
          },
          "metadata": {},
          "execution_count": 59
        }
      ]
    },
    {
      "cell_type": "code",
      "source": [
        "temp_str='Hello World how is it going? Hello all good! how are you!'\n",
        "temp_str.find('HIR') #If the substring is not found then it returns -1."
      ],
      "metadata": {
        "colab": {
          "base_uri": "https://localhost:8080/"
        },
        "id": "PolYvBAWPW9M",
        "outputId": "113f6e0c-8b2f-48c9-a1b9-753e45904451"
      },
      "execution_count": null,
      "outputs": [
        {
          "output_type": "execute_result",
          "data": {
            "text/plain": [
              "-1"
            ]
          },
          "metadata": {},
          "execution_count": 60
        }
      ]
    },
    {
      "cell_type": "code",
      "source": [
        "temp_str='Hello my name is {name}, I am a {position}!'\n",
        "print(temp_str)\n",
        "print(temp_str.format(name='Ajita',position='DS'))"
      ],
      "metadata": {
        "colab": {
          "base_uri": "https://localhost:8080/"
        },
        "id": "yDe5DmwnPuLY",
        "outputId": "94e0a17e-5bb6-41f5-ea50-d656e88c659b"
      },
      "execution_count": null,
      "outputs": [
        {
          "output_type": "stream",
          "name": "stdout",
          "text": [
            "Hello my name is {name}, I am a {position}!\n",
            "Hello my name is Ajita, I am a DS!\n"
          ]
        }
      ]
    },
    {
      "cell_type": "code",
      "source": [
        "temp_str='Hello my name is {0}, I am a {1}!'\n",
        "print(temp_str.format('Ajita','DS'))\n",
        "print(temp_str.format('DS','Ajita'))"
      ],
      "metadata": {
        "colab": {
          "base_uri": "https://localhost:8080/"
        },
        "id": "jCKxrlR3RL3J",
        "outputId": "70e91f71-bdd2-4960-c592-08990fc2ba74"
      },
      "execution_count": null,
      "outputs": [
        {
          "output_type": "stream",
          "name": "stdout",
          "text": [
            "Hello my name is Ajita, I am a DS!\n",
            "Hello my name is DS, I am a Ajita!\n"
          ]
        }
      ]
    },
    {
      "cell_type": "code",
      "source": [
        "#Functions\n",
        "#1 format map\n",
        "#2 expandtabs"
      ],
      "metadata": {
        "id": "G6fLnUHSSHCo"
      },
      "execution_count": null,
      "outputs": []
    },
    {
      "cell_type": "code",
      "source": [
        "#Replica of find function but this returns error if nothing found\n",
        "temp_str='Hello World how is it going? Hello all good! how are you!'\n",
        "temp_str.index('sssshow')"
      ],
      "metadata": {
        "colab": {
          "base_uri": "https://localhost:8080/",
          "height": 210
        },
        "id": "EbczBCuDSSUE",
        "outputId": "5118a534-0f4f-4209-e978-6a38fb061177"
      },
      "execution_count": null,
      "outputs": [
        {
          "output_type": "error",
          "ename": "ValueError",
          "evalue": "substring not found",
          "traceback": [
            "\u001b[0;31m---------------------------------------------------------------------------\u001b[0m",
            "\u001b[0;31mValueError\u001b[0m                                Traceback (most recent call last)",
            "\u001b[0;32m<ipython-input-73-1b58616f35fc>\u001b[0m in \u001b[0;36m<cell line: 3>\u001b[0;34m()\u001b[0m\n\u001b[1;32m      1\u001b[0m \u001b[0;31m#Replica of find function but this returns error if nothing found\u001b[0m\u001b[0;34m\u001b[0m\u001b[0;34m\u001b[0m\u001b[0m\n\u001b[1;32m      2\u001b[0m \u001b[0mtemp_str\u001b[0m\u001b[0;34m=\u001b[0m\u001b[0;34m'Hello World how is it going? Hello all good! how are you!'\u001b[0m\u001b[0;34m\u001b[0m\u001b[0;34m\u001b[0m\u001b[0m\n\u001b[0;32m----> 3\u001b[0;31m \u001b[0mtemp_str\u001b[0m\u001b[0;34m.\u001b[0m\u001b[0mindex\u001b[0m\u001b[0;34m(\u001b[0m\u001b[0;34m'sssshow'\u001b[0m\u001b[0;34m)\u001b[0m\u001b[0;34m\u001b[0m\u001b[0;34m\u001b[0m\u001b[0m\n\u001b[0m",
            "\u001b[0;31mValueError\u001b[0m: substring not found"
          ]
        }
      ]
    },
    {
      "cell_type": "code",
      "source": [
        "#Returns True if only numbers and alphabets are present without any space else returns false\n",
        "temp_str='Hello World how is it going? Hello all good! how are you!'\n",
        "print(temp_str.isalnum())\n",
        "\n",
        "temp_str1='HelloWorldhowisitgoing1234'\n",
        "print(temp_str1.isalnum())"
      ],
      "metadata": {
        "colab": {
          "base_uri": "https://localhost:8080/"
        },
        "id": "pj0LUq4sS6v9",
        "outputId": "276de5f6-e4d1-4cc3-fcf1-b121a083f9e6"
      },
      "execution_count": null,
      "outputs": [
        {
          "output_type": "stream",
          "name": "stdout",
          "text": [
            "False\n",
            "True\n"
          ]
        }
      ]
    },
    {
      "cell_type": "code",
      "source": [
        "#Returns True if only alphabets are present without any space else returns false\n",
        "temp_str='Hello World how is it going? Hello all good! how are you!'\n",
        "print(temp_str.isalpha())\n",
        "\n",
        "temp_str1='HelloWorldhowisitgoing'\n",
        "print(temp_str1.isalpha())"
      ],
      "metadata": {
        "colab": {
          "base_uri": "https://localhost:8080/"
        },
        "id": "KAuAUB7pU7JX",
        "outputId": "0c9159e5-4ccb-44f4-d331-d0660301ca97"
      },
      "execution_count": null,
      "outputs": [
        {
          "output_type": "stream",
          "name": "stdout",
          "text": [
            "False\n",
            "True\n"
          ]
        }
      ]
    },
    {
      "cell_type": "code",
      "source": [
        "#Returns True if only numbers between 0 to 9 are present without any space else returns false. It works for unicode.\n",
        "temp_str='Hello World'\n",
        "print(temp_str.isdecimal())\n",
        "\n",
        "temp_str1='1235859'\n",
        "print(temp_str1.isdecimal())\n",
        "\n",
        "temp_str1='Hello1235859'\n",
        "print(temp_str1.isdecimal())\n",
        "\n",
        "temp_str1='    111235859'\n",
        "print(temp_str1.isdecimal())\n",
        "\n",
        "temp_str1='0111235859'\n",
        "print(temp_str1.isdecimal())\n",
        "\n",
        "unicode_0='\\u0030'\n",
        "print(unicode_0.isdecimal())"
      ],
      "metadata": {
        "colab": {
          "base_uri": "https://localhost:8080/"
        },
        "id": "Q8Qc7a3UVeds",
        "outputId": "5bc0fa1a-1978-4030-caa6-a4050cb7d5ea"
      },
      "execution_count": null,
      "outputs": [
        {
          "output_type": "stream",
          "name": "stdout",
          "text": [
            "False\n",
            "True\n",
            "False\n",
            "False\n",
            "True\n",
            "True\n"
          ]
        }
      ]
    },
    {
      "cell_type": "code",
      "source": [
        "#isdigit doesnot work for unicode.\n",
        "temp_str='01268884568688'\n",
        "print(temp_str.isdigit())\n",
        "\n",
        "unicode_0='\\u0030'\n",
        "print(unicode_0.isdigit())"
      ],
      "metadata": {
        "colab": {
          "base_uri": "https://localhost:8080/"
        },
        "id": "X-6xE-qJWKS2",
        "outputId": "75aaf535-0dc0-4fcb-d65a-cf25bbd41332"
      },
      "execution_count": null,
      "outputs": [
        {
          "output_type": "stream",
          "name": "stdout",
          "text": [
            "True\n",
            "True\n"
          ]
        }
      ]
    }
  ]
}