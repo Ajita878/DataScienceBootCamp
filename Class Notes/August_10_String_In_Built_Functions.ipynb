{
  "nbformat": 4,
  "nbformat_minor": 0,
  "metadata": {
    "colab": {
      "provenance": []
    },
    "kernelspec": {
      "name": "python3",
      "display_name": "Python 3"
    },
    "language_info": {
      "name": "python"
    }
  },
  "cells": [
    {
      "cell_type": "code",
      "execution_count": 1,
      "metadata": {
        "colab": {
          "base_uri": "https://localhost:8080/"
        },
        "id": "txayxjVBnUWF",
        "outputId": "3ed23285-83e0-479d-82e9-456b7313b3cf"
      },
      "outputs": [
        {
          "output_type": "stream",
          "name": "stdout",
          "text": [
            "False\n",
            "True\n"
          ]
        }
      ],
      "source": [
        "#Difference between isdecimal and unicodes\n",
        "temp_str ='\\u00b2'\n",
        "print(temp_str.isdecimal())\n",
        "print(temp_str.isdigit())"
      ]
    },
    {
      "cell_type": "code",
      "source": [
        "#isidentifier: Used to identify the reserve words. Returns true if there is key/reserve words else returns false.\n",
        "#This also works with other characters but returns false if there is number.\n",
        "temp_str = 'Hello world'\n",
        "print(temp_str.isidentifier())\n",
        "temp_str2='jjkh'\n",
        "print(temp_str2.isidentifier())\n",
        "temp_str2='1235'\n",
        "print(temp_str2.isidentifier())"
      ],
      "metadata": {
        "colab": {
          "base_uri": "https://localhost:8080/"
        },
        "id": "EdLgCYZCnrxZ",
        "outputId": "145d6ab6-18ab-4aba-ad00-83beeee2aaa4"
      },
      "execution_count": 2,
      "outputs": [
        {
          "output_type": "stream",
          "name": "stdout",
          "text": [
            "False\n",
            "True\n",
            "False\n"
          ]
        }
      ]
    },
    {
      "cell_type": "code",
      "source": [
        "#islower: it ignores number\n",
        "temp_str = 'Hello WORLD'\n",
        "temp_str2 = 'hello world123!!!'\n",
        "print(temp_str.islower())\n",
        "print(temp_str2.islower())"
      ],
      "metadata": {
        "colab": {
          "base_uri": "https://localhost:8080/"
        },
        "id": "iXJK9WxGnwvf",
        "outputId": "807bd38a-e15d-44ed-c3ed-15e33e19b61d"
      },
      "execution_count": 3,
      "outputs": [
        {
          "output_type": "stream",
          "name": "stdout",
          "text": [
            "False\n",
            "True\n"
          ]
        }
      ]
    },
    {
      "cell_type": "code",
      "source": [
        "temp_str = 'Hello WORLD'\n",
        "temp_str2 = ' '\n",
        "print(temp_str.isspace())\n",
        "print(temp_str2.isspace())"
      ],
      "metadata": {
        "colab": {
          "base_uri": "https://localhost:8080/"
        },
        "id": "UQBqFO8ynxh_",
        "outputId": "a34a5579-7cb4-4c16-d023-993f31dcbbea"
      },
      "execution_count": 4,
      "outputs": [
        {
          "output_type": "stream",
          "name": "stdout",
          "text": [
            "False\n",
            "True\n"
          ]
        }
      ]
    },
    {
      "cell_type": "code",
      "source": [
        "#istitle\n",
        "temp_str = 'Hello WORLD'\n",
        "temp_str2 = 'Hello World'\n",
        "print(temp_str.istitle())\n",
        "print(temp_str2.istitle())"
      ],
      "metadata": {
        "colab": {
          "base_uri": "https://localhost:8080/"
        },
        "id": "cbHWHymjnze3",
        "outputId": "dda9b60f-5ca2-4d70-cff7-22a62e0be09d"
      },
      "execution_count": 5,
      "outputs": [
        {
          "output_type": "stream",
          "name": "stdout",
          "text": [
            "False\n",
            "True\n"
          ]
        }
      ]
    },
    {
      "cell_type": "code",
      "source": [
        "#if all the alphabets available are in upper case it Returns True\n",
        "temp_str = 'Hello WOrld'\n",
        "print(temp_str.isupper())\n",
        "temp_str = 'HELLO WORLD123'\n",
        "print(temp_str.isupper())"
      ],
      "metadata": {
        "colab": {
          "base_uri": "https://localhost:8080/"
        },
        "id": "SC-DzKtbn2Xv",
        "outputId": "9a588a41-201c-4523-9158-530292072e3b"
      },
      "execution_count": 6,
      "outputs": [
        {
          "output_type": "stream",
          "name": "stdout",
          "text": [
            "False\n",
            "True\n"
          ]
        }
      ]
    },
    {
      "cell_type": "code",
      "source": [
        "#Itetrables a list, tuple\n",
        "list_temp = ['Hello', 'World','How', 'are','you']\n",
        "print('#'.join(list_temp))"
      ],
      "metadata": {
        "colab": {
          "base_uri": "https://localhost:8080/"
        },
        "id": "5JBwijiVn4Bf",
        "outputId": "0052e73f-8b7c-4543-82fc-99c41c17dea6"
      },
      "execution_count": 7,
      "outputs": [
        {
          "output_type": "stream",
          "name": "stdout",
          "text": [
            "Hello#World#How#are#you\n"
          ]
        }
      ]
    },
    {
      "cell_type": "code",
      "source": [
        "#lower\n",
        "temp_str = 'Hello WOrld'\n",
        "print(temp_str.lower())\n",
        "string_german = 'ß'\n",
        "print(string_german.lower())\n",
        "print(string_german.casefold())"
      ],
      "metadata": {
        "colab": {
          "base_uri": "https://localhost:8080/"
        },
        "id": "8AyUXu3In5pP",
        "outputId": "17fd8555-0c50-44e5-830c-b2c1cc4240bc"
      },
      "execution_count": 8,
      "outputs": [
        {
          "output_type": "stream",
          "name": "stdout",
          "text": [
            "hello world\n",
            "ß\n",
            "ss\n"
          ]
        }
      ]
    },
    {
      "cell_type": "code",
      "source": [
        "#lstrip: Removes white space in the left hand side of the string.\n",
        "temp_str = '       Hello WOrld'\n",
        "print(temp_str.lstrip())"
      ],
      "metadata": {
        "colab": {
          "base_uri": "https://localhost:8080/"
        },
        "id": "nFPA9aFCn7P3",
        "outputId": "10f4274d-dbff-4d0c-9ffc-7463e96a9070"
      },
      "execution_count": 9,
      "outputs": [
        {
          "output_type": "stream",
          "name": "stdout",
          "text": [
            "Hello WOrld\n"
          ]
        }
      ]
    },
    {
      "cell_type": "code",
      "source": [
        "temp_str = 'i could eat apples all day'\n",
        "print(temp_str.partition ('apples'))\n",
        "print(temp_str.partition ('apples11'))"
      ],
      "metadata": {
        "colab": {
          "base_uri": "https://localhost:8080/"
        },
        "id": "5jtlSEiGn9DP",
        "outputId": "f450e828-fff0-46ff-dd06-a926918ddd7c"
      },
      "execution_count": 10,
      "outputs": [
        {
          "output_type": "stream",
          "name": "stdout",
          "text": [
            "('i could eat ', 'apples', ' all day')\n",
            "('i could eat apples all day', '', '')\n"
          ]
        }
      ]
    },
    {
      "cell_type": "code",
      "source": [
        "#replace\n",
        "temp_str = 'i could eat apples all , thats all I can say'\n",
        "print(temp_str.replace ('all', 'not').replace ('apples', 'mangoes'))"
      ],
      "metadata": {
        "colab": {
          "base_uri": "https://localhost:8080/"
        },
        "id": "u_0f1-BKn-if",
        "outputId": "1933325f-ad06-4f01-f310-f1dcf2d32f11"
      },
      "execution_count": 11,
      "outputs": [
        {
          "output_type": "stream",
          "name": "stdout",
          "text": [
            "i could eat mangoes not , thats not I can say\n"
          ]
        }
      ]
    },
    {
      "cell_type": "code",
      "source": [
        "#rstrip\n",
        "temp_str = '        Hello World   '\n",
        "print(temp_str.rstrip ())"
      ],
      "metadata": {
        "colab": {
          "base_uri": "https://localhost:8080/"
        },
        "id": "a1u_2bSeoA8H",
        "outputId": "fc3157e0-9592-4ab7-c98a-b82b2e3c32f8"
      },
      "execution_count": 12,
      "outputs": [
        {
          "output_type": "stream",
          "name": "stdout",
          "text": [
            "        Hello World\n"
          ]
        }
      ]
    },
    {
      "cell_type": "code",
      "source": [
        "#split\n",
        "temp_str = 'i could eat apples all day, thats all i can say'\n",
        "temp_str.split('day')"
      ],
      "metadata": {
        "colab": {
          "base_uri": "https://localhost:8080/"
        },
        "id": "IAfJAX_WoCR_",
        "outputId": "179cf913-642a-46f6-ddbd-d226c4d4989f"
      },
      "execution_count": 13,
      "outputs": [
        {
          "output_type": "execute_result",
          "data": {
            "text/plain": [
              "['i could eat apples all ', ', thats all i can say']"
            ]
          },
          "metadata": {},
          "execution_count": 13
        }
      ]
    },
    {
      "cell_type": "code",
      "source": [
        "#startswith\n",
        "temp_str = 'i could eat apples all day, thats all i can say'\n",
        "temp_str.startswith('i')\n",
        "temp_str.startswith('could',2)"
      ],
      "metadata": {
        "colab": {
          "base_uri": "https://localhost:8080/"
        },
        "id": "7XOhi2-soEAm",
        "outputId": "0b1b840e-6538-4c89-e02c-5c0fba82c059"
      },
      "execution_count": 14,
      "outputs": [
        {
          "output_type": "execute_result",
          "data": {
            "text/plain": [
              "True"
            ]
          },
          "metadata": {},
          "execution_count": 14
        }
      ]
    },
    {
      "cell_type": "code",
      "source": [
        "#strip\n",
        "temp_str = '    Hello WOrld                        '\n",
        "temp_str.strip()"
      ],
      "metadata": {
        "colab": {
          "base_uri": "https://localhost:8080/",
          "height": 35
        },
        "id": "0o1sZ2kDoFbG",
        "outputId": "4a44636d-f9cc-4c4c-df77-1464d99639e2"
      },
      "execution_count": 15,
      "outputs": [
        {
          "output_type": "execute_result",
          "data": {
            "text/plain": [
              "'Hello WOrld'"
            ],
            "application/vnd.google.colaboratory.intrinsic+json": {
              "type": "string"
            }
          },
          "metadata": {},
          "execution_count": 15
        }
      ]
    },
    {
      "cell_type": "code",
      "source": [
        "#swapcase\n",
        "temp_str = 'i could eat APPLES all day, thats all i can say'\n",
        "temp_str.swapcase()"
      ],
      "metadata": {
        "colab": {
          "base_uri": "https://localhost:8080/",
          "height": 35
        },
        "id": "bjcx9iFYoHFO",
        "outputId": "2ecbfc06-1135-4eeb-fe1a-a831fd02eed5"
      },
      "execution_count": 16,
      "outputs": [
        {
          "output_type": "execute_result",
          "data": {
            "text/plain": [
              "'I COULD EAT apples ALL DAY, THATS ALL I CAN SAY'"
            ],
            "application/vnd.google.colaboratory.intrinsic+json": {
              "type": "string"
            }
          },
          "metadata": {},
          "execution_count": 16
        }
      ]
    },
    {
      "cell_type": "code",
      "source": [
        "#Title\n",
        "temp_str = 'i could eat aPples all day, thats all i can say'\n",
        "temp_str.title()"
      ],
      "metadata": {
        "colab": {
          "base_uri": "https://localhost:8080/",
          "height": 35
        },
        "id": "Fnfv1DEHoIk2",
        "outputId": "b8a8ea5d-29b5-45b7-aa59-fa88d0c37688"
      },
      "execution_count": 17,
      "outputs": [
        {
          "output_type": "execute_result",
          "data": {
            "text/plain": [
              "'I Could Eat Apples All Day, Thats All I Can Say'"
            ],
            "application/vnd.google.colaboratory.intrinsic+json": {
              "type": "string"
            }
          },
          "metadata": {},
          "execution_count": 17
        }
      ]
    },
    {
      "cell_type": "code",
      "source": [
        "#Dictionary: it will only keep the most recent key.\n",
        "temp_str = {83:80,83:78}\n",
        "print(temp_str)"
      ],
      "metadata": {
        "colab": {
          "base_uri": "https://localhost:8080/"
        },
        "id": "CIMeQpHQoJ_u",
        "outputId": "ca5964a0-f755-4588-f309-78a6497cb8fe"
      },
      "execution_count": 18,
      "outputs": [
        {
          "output_type": "stream",
          "name": "stdout",
          "text": [
            "{83: 78}\n"
          ]
        }
      ]
    },
    {
      "cell_type": "code",
      "source": [
        "temp_str = {'brand':'Ford', 'model':'Mustang', 'Year':1964,'Year':2020}\n",
        "print(temp_str)"
      ],
      "metadata": {
        "colab": {
          "base_uri": "https://localhost:8080/"
        },
        "id": "6gPQqtXuoM91",
        "outputId": "0863c30e-12ab-48d3-ccf8-ab9adc16cc1c"
      },
      "execution_count": 19,
      "outputs": [
        {
          "output_type": "stream",
          "name": "stdout",
          "text": [
            "{'brand': 'Ford', 'model': 'Mustang', 'Year': 2020}\n"
          ]
        }
      ]
    },
    {
      "cell_type": "code",
      "source": [
        "temp_str = {'brand':'Ford', 'model':'Mustang', 'Year':1964,'Year':2020}\n",
        "print(temp_str['brand'])"
      ],
      "metadata": {
        "colab": {
          "base_uri": "https://localhost:8080/"
        },
        "id": "hgaxPopeoOal",
        "outputId": "2cf07b22-d081-4953-81ff-242e2e11d367"
      },
      "execution_count": 20,
      "outputs": [
        {
          "output_type": "stream",
          "name": "stdout",
          "text": [
            "Ford\n"
          ]
        }
      ]
    },
    {
      "cell_type": "code",
      "source": [
        "thisdict=dict(name='John',age = 34, country = 'England') #thisdict will change the key into sting\n",
        "print(thisdict)"
      ],
      "metadata": {
        "colab": {
          "base_uri": "https://localhost:8080/"
        },
        "id": "zintkT12oP-O",
        "outputId": "4705378e-d64f-439a-d5ee-8c87546db174"
      },
      "execution_count": 21,
      "outputs": [
        {
          "output_type": "stream",
          "name": "stdout",
          "text": [
            "{'name': 'John', 'age': 34, 'country': 'England'}\n"
          ]
        }
      ]
    },
    {
      "cell_type": "code",
      "source": [
        "#Gives error if not string\n",
        "thisdict=dict(15='John',age = 34, country = 'England') #thisdict will change the key into sting\n",
        "print(thisdict)"
      ],
      "metadata": {
        "colab": {
          "base_uri": "https://localhost:8080/",
          "height": 141
        },
        "id": "vm9euxnZoRcW",
        "outputId": "910c1c1b-f93a-4fe1-ea41-85270e8569a2"
      },
      "execution_count": 22,
      "outputs": [
        {
          "output_type": "error",
          "ename": "SyntaxError",
          "evalue": "ignored",
          "traceback": [
            "\u001b[0;36m  File \u001b[0;32m\"<ipython-input-22-1a145410ac1b>\"\u001b[0;36m, line \u001b[0;32m2\u001b[0m\n\u001b[0;31m    thisdict=dict(15='John',age = 34, country = 'England') #thisdict will change the key into sting\u001b[0m\n\u001b[0m                  ^\u001b[0m\n\u001b[0;31mSyntaxError\u001b[0m\u001b[0;31m:\u001b[0m expression cannot contain assignment, perhaps you meant \"==\"?\n"
          ]
        }
      ]
    },
    {
      "cell_type": "code",
      "source": [
        "#translate: Assci code value of S is 83 defaultly we replace it with 80 here which is P\n",
        "temp_dict = {83:80, 83:78}\n",
        "temp_str = \"Hello Sam!\"\n",
        "temp_str.translate (temp_dict)"
      ],
      "metadata": {
        "colab": {
          "base_uri": "https://localhost:8080/",
          "height": 35
        },
        "id": "CoEMhBf-oS1m",
        "outputId": "a03bc27e-0673-4dea-b429-d3874ecdca11"
      },
      "execution_count": 23,
      "outputs": [
        {
          "output_type": "execute_result",
          "data": {
            "text/plain": [
              "'Hello Nam!'"
            ],
            "application/vnd.google.colaboratory.intrinsic+json": {
              "type": "string"
            }
          },
          "metadata": {},
          "execution_count": 23
        }
      ]
    },
    {
      "cell_type": "code",
      "source": [
        "temp_dict = {83:80, 72:77, 83:76}\n",
        "temp_str = \"Hello Sam!\"\n",
        "temp_str.translate (temp_dict)"
      ],
      "metadata": {
        "colab": {
          "base_uri": "https://localhost:8080/",
          "height": 35
        },
        "id": "isfkj-ZboUaW",
        "outputId": "9303b265-2534-45b5-ab95-e83b33940dd2"
      },
      "execution_count": 24,
      "outputs": [
        {
          "output_type": "execute_result",
          "data": {
            "text/plain": [
              "'Mello Lam!'"
            ],
            "application/vnd.google.colaboratory.intrinsic+json": {
              "type": "string"
            }
          },
          "metadata": {},
          "execution_count": 24
        }
      ]
    },
    {
      "cell_type": "code",
      "source": [
        "#Upper\n",
        "temp_str = 'i could eat aPples all day, thats all i can say'\n",
        "temp_str.upper()"
      ],
      "metadata": {
        "colab": {
          "base_uri": "https://localhost:8080/",
          "height": 35
        },
        "id": "Q0S3GYuIoWXG",
        "outputId": "a16c3214-f046-48ca-e4fb-f42a996e7341"
      },
      "execution_count": 25,
      "outputs": [
        {
          "output_type": "execute_result",
          "data": {
            "text/plain": [
              "'I COULD EAT APPLES ALL DAY, THATS ALL I CAN SAY'"
            ],
            "application/vnd.google.colaboratory.intrinsic+json": {
              "type": "string"
            }
          },
          "metadata": {},
          "execution_count": 25
        }
      ]
    },
    {
      "cell_type": "code",
      "source": [
        "#Zfill:zero fill\n",
        "temp_str = 'i could eat aPples all day, thats all i can say'\n",
        "print(len(temp_str))\n",
        "print(temp_str.zfill(60))"
      ],
      "metadata": {
        "colab": {
          "base_uri": "https://localhost:8080/"
        },
        "id": "WxJEmnXkoXxO",
        "outputId": "6e478ece-62bd-478c-91c2-99fe974b0c1a"
      },
      "execution_count": 26,
      "outputs": [
        {
          "output_type": "stream",
          "name": "stdout",
          "text": [
            "47\n",
            "0000000000000i could eat aPples all day, thats all i can say\n"
          ]
        }
      ]
    },
    {
      "cell_type": "code",
      "source": [],
      "metadata": {
        "id": "E-1t353YoZJm"
      },
      "execution_count": null,
      "outputs": []
    }
  ]
}