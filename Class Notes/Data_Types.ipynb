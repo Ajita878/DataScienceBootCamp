{
  "nbformat": 4,
  "nbformat_minor": 0,
  "metadata": {
    "colab": {
      "provenance": []
    },
    "kernelspec": {
      "name": "python3",
      "display_name": "Python 3"
    },
    "language_info": {
      "name": "python"
    }
  },
  "cells": [
    {
      "cell_type": "code",
      "source": [
        "#Integer: Any whole number (+ve or-ve) is called as integer.\n",
        "int1=1947\n",
        "print (int1)\n",
        "print(type(int1))\n",
        "int1=-1947\n",
        "print (int1)\n",
        "print(type(int1))"
      ],
      "metadata": {
        "colab": {
          "base_uri": "https://localhost:8080/"
        },
        "id": "uosUsxGsjAaj",
        "outputId": "58665e32-19cc-4294-a3be-b61a1cbd1e26"
      },
      "execution_count": null,
      "outputs": [
        {
          "output_type": "stream",
          "name": "stdout",
          "text": [
            "1947\n",
            "<class 'int'>\n",
            "-1947\n",
            "<class 'int'>\n"
          ]
        }
      ]
    },
    {
      "cell_type": "code",
      "source": [
        "# Float : Any combination of whole number and fractional number (+ve or -ve) is called as float.\n",
        "flt1 = 3.1415\n",
        "print (flt1)\n",
        "print(type(flt1))\n",
        "flt1 = -3.1415\n",
        "print (flt1)\n",
        "print(type(flt1))"
      ],
      "metadata": {
        "colab": {
          "base_uri": "https://localhost:8080/"
        },
        "id": "Hp1SRsmuxPre",
        "outputId": "5f1ed4de-9521-4bfb-c985-f1a572ee5a03"
      },
      "execution_count": null,
      "outputs": [
        {
          "output_type": "stream",
          "name": "stdout",
          "text": [
            "3.1415\n",
            "<class 'float'>\n",
            "-3.1415\n",
            "<class 'float'>\n"
          ]
        }
      ]
    },
    {
      "cell_type": "code",
      "source": [
        "# Complex : Combination of integer or float and imagenary number integer or float is called complex number\n",
        "cmplx1 = 2+3j\n",
        "print(cmplx1)\n",
        "print(type(cmplx1))\n",
        "cmplx1 = -2 - 3j\n",
        "print(cmplx1)\n",
        "print(type(cmplx1))"
      ],
      "metadata": {
        "colab": {
          "base_uri": "https://localhost:8080/"
        },
        "id": "JTxQy9Rsx4p2",
        "outputId": "6810a4bc-aa3f-40d7-e9f3-6636d7aea980"
      },
      "execution_count": null,
      "outputs": [
        {
          "output_type": "stream",
          "name": "stdout",
          "text": [
            "(2+3j)\n",
            "<class 'complex'>\n",
            "(-2-3j)\n",
            "<class 'complex'>\n"
          ]
        }
      ]
    },
    {
      "cell_type": "code",
      "source": [
        "# Boolean: True or False\n",
        "bool1 = True\n",
        "print(bool1)\n",
        "print(type(bool1))\n",
        "\n",
        "bool1 = False\n",
        "print(bool1)\n",
        "print(type(bool1))"
      ],
      "metadata": {
        "colab": {
          "base_uri": "https://localhost:8080/"
        },
        "id": "bngjA4zbydY0",
        "outputId": "84d84536-a8ca-4476-d734-ddcf48cec3ca"
      },
      "execution_count": null,
      "outputs": [
        {
          "output_type": "stream",
          "name": "stdout",
          "text": [
            "True\n",
            "<class 'bool'>\n",
            "False\n",
            "<class 'bool'>\n"
          ]
        }
      ]
    },
    {
      "cell_type": "code",
      "source": [
        "# String\n",
        "# Anything combination inside single quotes\n",
        "# Anything combination inside double quotes\n",
        "# Anything combination inside triple single quotes\n",
        "# Anything combination inside triple double quotes\n",
        "\n",
        "str1 = 'Python Programming'\n",
        "print(str1)\n",
        "print(type(str1))\n",
        "\n",
        "str1 = \"Python Programming\"\n",
        "print(str1)\n",
        "print(type(str1))\n",
        "\n",
        "str1 = '''Python Programming'''\n",
        "print(str1)\n",
        "print(type(str1))\n",
        "\n",
        "str1 = \"\"\"Python Programming\"\"\"\n",
        "print(str1)\n",
        "print(type(str1))"
      ],
      "metadata": {
        "colab": {
          "base_uri": "https://localhost:8080/"
        },
        "id": "CAV_96Uey_ps",
        "outputId": "f129007f-7134-423a-a29f-3392bdc0b4df"
      },
      "execution_count": null,
      "outputs": [
        {
          "output_type": "stream",
          "name": "stdout",
          "text": [
            "Python Programming\n",
            "<class 'str'>\n",
            "Python Programming\n",
            "<class 'str'>\n",
            "Python Programming\n",
            "<class 'str'>\n",
            "Python Programming\n",
            "<class 'str'>\n"
          ]
        }
      ]
    },
    {
      "cell_type": "code",
      "source": [
        "python = \" 'Python' is open-source library. It is easy to learn.\"\n",
        "print(python)\n",
        "print(type(python))\n",
        "\n",
        "python = \"\"\" 'Python' is open-source library. It is easy to learn.\"\"\"\n",
        "print(python)\n",
        "print(type(python))"
      ],
      "metadata": {
        "colab": {
          "base_uri": "https://localhost:8080/"
        },
        "id": "tKJStN8Vz697",
        "outputId": "0f76ebfd-4731-4b64-dd5b-956f2e161438"
      },
      "execution_count": null,
      "outputs": [
        {
          "output_type": "stream",
          "name": "stdout",
          "text": [
            " 'Python' is open-source library. It is easy to learn.\n",
            "<class 'str'>\n",
            " 'Python' is open-source library. It is easy to learn.\n",
            "<class 'str'>\n"
          ]
        }
      ]
    },
    {
      "cell_type": "code",
      "source": [
        "# List:\n",
        "#1. List is represented by square brackets []\n",
        "#2. List is mutable\n",
        "lst1 = [1,2,3,4,5,6]\n",
        "print(lst1)\n",
        "print(type(lst1))"
      ],
      "metadata": {
        "colab": {
          "base_uri": "https://localhost:8080/"
        },
        "id": "4nx0LXSW1xax",
        "outputId": "2cc5a66c-bf04-4ee4-eb24-a4ad9f624cf8"
      },
      "execution_count": null,
      "outputs": [
        {
          "output_type": "stream",
          "name": "stdout",
          "text": [
            "[1, 2, 3, 4, 5, 6]\n",
            "<class 'list'>\n"
          ]
        }
      ]
    },
    {
      "cell_type": "code",
      "source": [
        "#Tuple:\n",
        "#Tuple is represented by circular brackets ( )\n",
        "#Tuple is immutable\n",
        "tup1 = (1,2,3,4,5,6)\n",
        "print(tup1)\n",
        "print(type(tup1))"
      ],
      "metadata": {
        "colab": {
          "base_uri": "https://localhost:8080/"
        },
        "id": "qoL7UtzT4qdX",
        "outputId": "251cb49c-936e-484f-a594-b0fd0abf7b06"
      },
      "execution_count": null,
      "outputs": [
        {
          "output_type": "stream",
          "name": "stdout",
          "text": [
            "(1, 2, 3, 4, 5, 6)\n",
            "<class 'tuple'>\n"
          ]
        }
      ]
    },
    {
      "cell_type": "code",
      "source": [
        "# Set:\n",
        "# Set is combination of unique values (remove repeated values).\n",
        "# Set is collection of unordered elements. It will appear randomly.\n",
        "# Set is represented by curly brackets {}.\n",
        "#set is mutable.\n",
        "set = {1,2,-3,0,'a','a','B',3.5, True , False,'Ajita', 3+5j}\n",
        "print(set)\n",
        "print(type(set))\n"
      ],
      "metadata": {
        "colab": {
          "base_uri": "https://localhost:8080/"
        },
        "id": "iI2hEdxi5wVN",
        "outputId": "2b78b2d6-56b5-4d88-f226-299cc0c4ae9f"
      },
      "execution_count": null,
      "outputs": [
        {
          "output_type": "stream",
          "name": "stdout",
          "text": [
            "{0, 1, 2, 'a', 'B', 3.5, 'Ajita', (3+5j), -3}\n",
            "<class 'set'>\n"
          ]
        }
      ]
    },
    {
      "cell_type": "code",
      "source": [
        "lst = [1,2,-3,0,'a','a','B',3.5, True , False,'Ajita', 3+5j]\n",
        "print(lst)\n",
        "print(type(lst))\n",
        "\n",
        "tup = (1,2,-3,0,'a','a','B',3.5,True , False,'Ajita', 3+5j)\n",
        "print(tup)\n",
        "print(type(tup))\n",
        "\n",
        "set = {1,2,-3,0,'a','a','B',3.5, True , False,'Ajita', 3+5j}\n",
        "print(set)\n",
        "print(type(set))"
      ],
      "metadata": {
        "colab": {
          "base_uri": "https://localhost:8080/"
        },
        "id": "PtA3l2E55-p-",
        "outputId": "91554f11-9c78-45a2-fc13-acdc2be813f4"
      },
      "execution_count": null,
      "outputs": [
        {
          "output_type": "stream",
          "name": "stdout",
          "text": [
            "[1, 2, -3, 0, 'a', 'a', 'B', 3.5, True, False, 'Ajita', (3+5j)]\n",
            "<class 'list'>\n",
            "(1, 2, -3, 0, 'a', 'a', 'B', 3.5, True, False, 'Ajita', (3+5j))\n",
            "<class 'tuple'>\n",
            "{0, 1, 2, 'a', 'B', 3.5, 'Ajita', (3+5j), -3}\n",
            "<class 'set'>\n"
          ]
        }
      ]
    },
    {
      "cell_type": "code",
      "source": [
        "#dictionary:\n",
        "dict1 = {'a' : 'apple', 'b' : 'grapes', 'c' : 'cherries'}\n",
        "print(dict1)\n",
        "print(type(dict1))"
      ],
      "metadata": {
        "colab": {
          "base_uri": "https://localhost:8080/"
        },
        "id": "y7lO76Sh82vC",
        "outputId": "5c847f34-88af-4943-cbd5-d52a9cf75200"
      },
      "execution_count": null,
      "outputs": [
        {
          "output_type": "stream",
          "name": "stdout",
          "text": [
            "{'a': 'apple', 'b': 'grapes', 'c': 'cherries'}\n",
            "<class 'dict'>\n"
          ]
        }
      ]
    },
    {
      "cell_type": "code",
      "source": [
        "dict1 = {'a' : ['apple', 'grapes'], 'b' : {1,2,3}, 'c': (1,2,-3,0,'a','a','B')}\n",
        "print(dict1)\n",
        "print(type(dict1))"
      ],
      "metadata": {
        "colab": {
          "base_uri": "https://localhost:8080/"
        },
        "id": "uiFB8iEo_86X",
        "outputId": "b1bdda4c-4228-4280-ca74-14e15ff401a7"
      },
      "execution_count": null,
      "outputs": [
        {
          "output_type": "stream",
          "name": "stdout",
          "text": [
            "{'a': ['apple', 'grapes'], 'b': {1, 2, 3}, 'c': (1, 2, -3, 0, 'a', 'a', 'B')}\n",
            "<class 'dict'>\n"
          ]
        }
      ]
    },
    {
      "cell_type": "code",
      "source": [
        "str1='Ajita Giri'\n",
        "print(str1)\n",
        "print(type(str1))\n",
        "print(len(str1))"
      ],
      "metadata": {
        "colab": {
          "base_uri": "https://localhost:8080/"
        },
        "id": "sZ_uDykNA05O",
        "outputId": "115d01a3-a9fe-4637-e1ab-726e71d530cd"
      },
      "execution_count": null,
      "outputs": [
        {
          "output_type": "stream",
          "name": "stdout",
          "text": [
            "Ajita Giri\n",
            "<class 'str'>\n",
            "10\n"
          ]
        }
      ]
    },
    {
      "cell_type": "code",
      "source": [
        "print(str1[0])\n",
        "print(str1[1])\n",
        "print(str1[2])\n",
        "print(str1[3])\n",
        "print(str1[4])\n",
        "print(str1[5])\n",
        "print(str1[6])\n",
        "print(str1[7])\n",
        "print(str1[8])\n",
        "print(str1[9])"
      ],
      "metadata": {
        "colab": {
          "base_uri": "https://localhost:8080/"
        },
        "id": "kplOXmK3B86u",
        "outputId": "ef6d490f-276f-400c-c794-0b2fa2b4e291"
      },
      "execution_count": null,
      "outputs": [
        {
          "output_type": "stream",
          "name": "stdout",
          "text": [
            "A\n",
            "j\n",
            "i\n",
            "t\n",
            "a\n",
            " \n",
            "G\n",
            "i\n",
            "r\n",
            "i\n"
          ]
        }
      ]
    },
    {
      "cell_type": "code",
      "source": [
        "str1[0:5:1], str1[6:10:1]"
      ],
      "metadata": {
        "colab": {
          "base_uri": "https://localhost:8080/"
        },
        "id": "vzpMs_vaCCP-",
        "outputId": "a865b8d7-b606-4608-b8ef-873e5fbb83b2"
      },
      "execution_count": null,
      "outputs": [
        {
          "output_type": "execute_result",
          "data": {
            "text/plain": [
              "('Ajita', 'Giri')"
            ]
          },
          "metadata": {},
          "execution_count": 75
        }
      ]
    },
    {
      "cell_type": "code",
      "source": [
        "str1[0:5:2], str1[6:10:2]"
      ],
      "metadata": {
        "colab": {
          "base_uri": "https://localhost:8080/"
        },
        "id": "bR9RDykVEEXI",
        "outputId": "33e6837f-e0ab-4a62-8a46-d25c6b4e6dc8"
      },
      "execution_count": null,
      "outputs": [
        {
          "output_type": "execute_result",
          "data": {
            "text/plain": [
              "('Aia', 'Gr')"
            ]
          },
          "metadata": {},
          "execution_count": 79
        }
      ]
    },
    {
      "cell_type": "code",
      "source": [
        "str1[0:5:3], str1[6:10:3]"
      ],
      "metadata": {
        "colab": {
          "base_uri": "https://localhost:8080/"
        },
        "id": "lZLqcjLeENTd",
        "outputId": "94f88085-c3b4-4767-a1d5-71d7ac17f044"
      },
      "execution_count": null,
      "outputs": [
        {
          "output_type": "execute_result",
          "data": {
            "text/plain": [
              "('At', 'Gi')"
            ]
          },
          "metadata": {},
          "execution_count": 77
        }
      ]
    },
    {
      "cell_type": "code",
      "source": [
        "str1[0:5:2], str1[6:10:2]\n",
        "print(str1[0:5:2], str1[6:10:2])"
      ],
      "metadata": {
        "colab": {
          "base_uri": "https://localhost:8080/"
        },
        "id": "4Yur-DA-Fsjk",
        "outputId": "e58e3af3-0ec1-4fa7-e81d-e990d7de8b3a"
      },
      "execution_count": null,
      "outputs": [
        {
          "output_type": "stream",
          "name": "stdout",
          "text": [
            "Aia Gr\n"
          ]
        }
      ]
    },
    {
      "cell_type": "code",
      "source": [
        "str1='Ajita Giri'\n",
        "str1[0::]"
      ],
      "metadata": {
        "colab": {
          "base_uri": "https://localhost:8080/",
          "height": 36
        },
        "id": "43S9U7uyIOPZ",
        "outputId": "12c7aeab-a7f3-488a-af95-391ceb35abba"
      },
      "execution_count": null,
      "outputs": [
        {
          "output_type": "execute_result",
          "data": {
            "text/plain": [
              "'Ajita Giri'"
            ],
            "application/vnd.google.colaboratory.intrinsic+json": {
              "type": "string"
            }
          },
          "metadata": {},
          "execution_count": 81
        }
      ]
    },
    {
      "cell_type": "code",
      "source": [
        "str1[:len(str1):]"
      ],
      "metadata": {
        "colab": {
          "base_uri": "https://localhost:8080/",
          "height": 36
        },
        "id": "ET1XPuw0Ih0p",
        "outputId": "3bf43cb6-9b93-40dc-e789-b179c29697d5"
      },
      "execution_count": null,
      "outputs": [
        {
          "output_type": "execute_result",
          "data": {
            "text/plain": [
              "'Ajita Giri'"
            ],
            "application/vnd.google.colaboratory.intrinsic+json": {
              "type": "string"
            }
          },
          "metadata": {},
          "execution_count": 82
        }
      ]
    },
    {
      "cell_type": "code",
      "source": [
        "str1[::1]"
      ],
      "metadata": {
        "colab": {
          "base_uri": "https://localhost:8080/",
          "height": 36
        },
        "id": "3kJy3ChyIrah",
        "outputId": "78e6766a-1af3-40ee-d99e-59f3982ec0c1"
      },
      "execution_count": null,
      "outputs": [
        {
          "output_type": "execute_result",
          "data": {
            "text/plain": [
              "'Ajita Giri'"
            ],
            "application/vnd.google.colaboratory.intrinsic+json": {
              "type": "string"
            }
          },
          "metadata": {},
          "execution_count": 83
        }
      ]
    },
    {
      "cell_type": "code",
      "source": [
        "str1[:5:]"
      ],
      "metadata": {
        "colab": {
          "base_uri": "https://localhost:8080/",
          "height": 36
        },
        "id": "I26xU8A2IuSx",
        "outputId": "10fabdfd-d1f2-46f5-cd63-bfc520eb22cd"
      },
      "execution_count": null,
      "outputs": [
        {
          "output_type": "execute_result",
          "data": {
            "text/plain": [
              "'Ajita'"
            ],
            "application/vnd.google.colaboratory.intrinsic+json": {
              "type": "string"
            }
          },
          "metadata": {},
          "execution_count": 85
        }
      ]
    },
    {
      "cell_type": "code",
      "source": [
        "str1[6:10]"
      ],
      "metadata": {
        "colab": {
          "base_uri": "https://localhost:8080/",
          "height": 36
        },
        "id": "S2n6Uzw0I4-Y",
        "outputId": "e1ce8d49-aaf8-4738-82f8-5fa649de8621"
      },
      "execution_count": null,
      "outputs": [
        {
          "output_type": "execute_result",
          "data": {
            "text/plain": [
              "'Giri'"
            ],
            "application/vnd.google.colaboratory.intrinsic+json": {
              "type": "string"
            }
          },
          "metadata": {},
          "execution_count": 88
        }
      ]
    },
    {
      "cell_type": "code",
      "source": [],
      "metadata": {
        "id": "t9dtPSjMI_xg"
      },
      "execution_count": null,
      "outputs": []
    }
  ]
}