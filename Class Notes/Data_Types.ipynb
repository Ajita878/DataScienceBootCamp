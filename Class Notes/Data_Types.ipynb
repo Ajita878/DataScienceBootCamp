{
  "nbformat": 4,
  "nbformat_minor": 0,
  "metadata": {
    "colab": {
      "provenance": []
    },
    "kernelspec": {
      "name": "python3",
      "display_name": "Python 3"
    },
    "language_info": {
      "name": "python"
    }
  },
  "cells": [
    {
      "cell_type": "code",
      "source": [
        "#Integer: Any whole number (+ve or-ve) is called as integer.\n",
        "int1=1947\n",
        "print (int1)\n",
        "print(type(int1))\n",
        "int1=-1947\n",
        "print (int1)\n",
        "print(type(int1))"
      ],
      "metadata": {
        "colab": {
          "base_uri": "https://localhost:8080/"
        },
        "id": "uosUsxGsjAaj",
        "outputId": "58665e32-19cc-4294-a3be-b61a1cbd1e26"
      },
      "execution_count": null,
      "outputs": [
        {
          "output_type": "stream",
          "name": "stdout",
          "text": [
            "1947\n",
            "<class 'int'>\n",
            "-1947\n",
            "<class 'int'>\n"
          ]
        }
      ]
    },
    {
      "cell_type": "code",
      "source": [
        "x = \"Hello, World!\"\n",
        "\n",
        "y = x.split(\",\")\n",
        "print(y)"
      ],
      "metadata": {
        "colab": {
          "base_uri": "https://localhost:8080/"
        },
        "id": "A3L7JHIuy1rj",
        "outputId": "9f9c96f8-f2e7-472c-9e42-c4df4ed631a4"
      },
      "execution_count": null,
      "outputs": [
        {
          "output_type": "stream",
          "name": "stdout",
          "text": [
            "['Hello', ' World!']\n"
          ]
        }
      ]
    },
    {
      "cell_type": "code",
      "source": [
        "x = [10, 20, 30, 40, 50]\n",
        "\n",
        "y = x[-2:]\n",
        "\n",
        "print(y)"
      ],
      "metadata": {
        "colab": {
          "base_uri": "https://localhost:8080/"
        },
        "id": "Fh3FfSRNzLsO",
        "outputId": "54b03641-edfa-423b-8903-b77620750530"
      },
      "execution_count": null,
      "outputs": [
        {
          "output_type": "stream",
          "name": "stdout",
          "text": [
            "[40, 50]\n"
          ]
        }
      ]
    },
    {
      "cell_type": "code",
      "source": [
        "x = [1, 2, 3, 4, 5]\n",
        "\n",
        "y = x[:3]\n",
        "\n",
        "print( y )"
      ],
      "metadata": {
        "colab": {
          "base_uri": "https://localhost:8080/"
        },
        "id": "hC_3Hfsbzazb",
        "outputId": "0d45bdb4-70e3-46e1-c81f-130a047c74a8"
      },
      "execution_count": null,
      "outputs": [
        {
          "output_type": "stream",
          "name": "stdout",
          "text": [
            "[1, 2, 3]\n"
          ]
        }
      ]
    },
    {
      "cell_type": "code",
      "source": [
        "x = [10, 20, 30, 40, 50]\n",
        "\n",
        "y = x[::-1]\n",
        "print( y )"
      ],
      "metadata": {
        "colab": {
          "base_uri": "https://localhost:8080/"
        },
        "id": "npomO3Epzo0C",
        "outputId": "d8677d76-d0f0-44bb-a928-78217b1cf1a0"
      },
      "execution_count": null,
      "outputs": [
        {
          "output_type": "stream",
          "name": "stdout",
          "text": [
            "[50, 40, 30, 20, 10]\n"
          ]
        }
      ]
    },
    {
      "cell_type": "code",
      "source": [
        "# Float : Any combination of whole number and fractional number (+ve or -ve) is called as float.\n",
        "flt1 = 3.1415\n",
        "print (flt1)\n",
        "print(type(flt1))\n",
        "flt1 = -3.1415\n",
        "print (flt1)\n",
        "print(type(flt1))"
      ],
      "metadata": {
        "colab": {
          "base_uri": "https://localhost:8080/"
        },
        "id": "Hp1SRsmuxPre",
        "outputId": "5f1ed4de-9521-4bfb-c985-f1a572ee5a03"
      },
      "execution_count": null,
      "outputs": [
        {
          "output_type": "stream",
          "name": "stdout",
          "text": [
            "3.1415\n",
            "<class 'float'>\n",
            "-3.1415\n",
            "<class 'float'>\n"
          ]
        }
      ]
    },
    {
      "cell_type": "code",
      "source": [
        "# Complex : Combination of integer or float and imagenary number integer or float is called complex number\n",
        "cmplx1 = 2+3j\n",
        "print(cmplx1)\n",
        "print(type(cmplx1))\n",
        "cmplx1 = -2 - 3j\n",
        "print(cmplx1)\n",
        "print(type(cmplx1))"
      ],
      "metadata": {
        "colab": {
          "base_uri": "https://localhost:8080/"
        },
        "id": "JTxQy9Rsx4p2",
        "outputId": "6810a4bc-aa3f-40d7-e9f3-6636d7aea980"
      },
      "execution_count": null,
      "outputs": [
        {
          "output_type": "stream",
          "name": "stdout",
          "text": [
            "(2+3j)\n",
            "<class 'complex'>\n",
            "(-2-3j)\n",
            "<class 'complex'>\n"
          ]
        }
      ]
    },
    {
      "cell_type": "code",
      "source": [
        "# Boolean: True or False\n",
        "bool1 = True\n",
        "print(bool1)\n",
        "print(type(bool1))\n",
        "\n",
        "bool1 = False\n",
        "print(bool1)\n",
        "print(type(bool1))"
      ],
      "metadata": {
        "colab": {
          "base_uri": "https://localhost:8080/"
        },
        "id": "bngjA4zbydY0",
        "outputId": "84d84536-a8ca-4476-d734-ddcf48cec3ca"
      },
      "execution_count": null,
      "outputs": [
        {
          "output_type": "stream",
          "name": "stdout",
          "text": [
            "True\n",
            "<class 'bool'>\n",
            "False\n",
            "<class 'bool'>\n"
          ]
        }
      ]
    },
    {
      "cell_type": "code",
      "source": [
        "# String\n",
        "# Anything combination inside single quotes\n",
        "# Anything combination inside double quotes\n",
        "# Anything combination inside triple single quotes\n",
        "# Anything combination inside triple double quotes\n",
        "\n",
        "str1 = 'Python Programming'\n",
        "print(str1)\n",
        "print(type(str1))\n",
        "\n",
        "str1 = \"Python Programming\"\n",
        "print(str1)\n",
        "print(type(str1))\n",
        "\n",
        "str1 = '''Python Programming'''\n",
        "print(str1)\n",
        "print(type(str1))\n",
        "\n",
        "str1 = \"\"\"Python Programming\"\"\"\n",
        "print(str1)\n",
        "print(type(str1))"
      ],
      "metadata": {
        "colab": {
          "base_uri": "https://localhost:8080/"
        },
        "id": "CAV_96Uey_ps",
        "outputId": "f129007f-7134-423a-a29f-3392bdc0b4df"
      },
      "execution_count": null,
      "outputs": [
        {
          "output_type": "stream",
          "name": "stdout",
          "text": [
            "Python Programming\n",
            "<class 'str'>\n",
            "Python Programming\n",
            "<class 'str'>\n",
            "Python Programming\n",
            "<class 'str'>\n",
            "Python Programming\n",
            "<class 'str'>\n"
          ]
        }
      ]
    },
    {
      "cell_type": "code",
      "source": [
        "python = \" 'Python' is open-source library. It is easy to learn.\"\n",
        "print(python)\n",
        "print(type(python))\n",
        "\n",
        "python = \"\"\" 'Python' is open-source library. It is easy to learn.\"\"\"\n",
        "print(python)\n",
        "print(type(python))"
      ],
      "metadata": {
        "colab": {
          "base_uri": "https://localhost:8080/"
        },
        "id": "tKJStN8Vz697",
        "outputId": "0f76ebfd-4731-4b64-dd5b-956f2e161438"
      },
      "execution_count": null,
      "outputs": [
        {
          "output_type": "stream",
          "name": "stdout",
          "text": [
            " 'Python' is open-source library. It is easy to learn.\n",
            "<class 'str'>\n",
            " 'Python' is open-source library. It is easy to learn.\n",
            "<class 'str'>\n"
          ]
        }
      ]
    },
    {
      "cell_type": "code",
      "source": [
        "# List:\n",
        "#1. List is represented by square brackets []\n",
        "#2. List is mutable\n",
        "lst1 = [1,2,3,4,5,6]\n",
        "print(lst1)\n",
        "print(type(lst1))"
      ],
      "metadata": {
        "colab": {
          "base_uri": "https://localhost:8080/"
        },
        "id": "4nx0LXSW1xax",
        "outputId": "2cc5a66c-bf04-4ee4-eb24-a4ad9f624cf8"
      },
      "execution_count": null,
      "outputs": [
        {
          "output_type": "stream",
          "name": "stdout",
          "text": [
            "[1, 2, 3, 4, 5, 6]\n",
            "<class 'list'>\n"
          ]
        }
      ]
    },
    {
      "cell_type": "code",
      "source": [
        "#Tuple:\n",
        "#Tuple is represented by circular brackets ( )\n",
        "#Tuple is immutable\n",
        "tup1 = (1,2,3,4,5,6)\n",
        "print(tup1)\n",
        "print(type(tup1))"
      ],
      "metadata": {
        "colab": {
          "base_uri": "https://localhost:8080/"
        },
        "id": "qoL7UtzT4qdX",
        "outputId": "251cb49c-936e-484f-a594-b0fd0abf7b06"
      },
      "execution_count": null,
      "outputs": [
        {
          "output_type": "stream",
          "name": "stdout",
          "text": [
            "(1, 2, 3, 4, 5, 6)\n",
            "<class 'tuple'>\n"
          ]
        }
      ]
    },
    {
      "cell_type": "code",
      "source": [
        "# Set:\n",
        "# Set is combination of unique values (remove repeated values).\n",
        "# Set is collection of unordered elements. It will appear randomly.\n",
        "# Set is represented by curly brackets {}.\n",
        "#set is mutable.\n",
        "set = {1,2,-3,0,'a','a','B',3.5, True , False,'Ajita', 3+5j}\n",
        "print(set)\n",
        "print(type(set))\n"
      ],
      "metadata": {
        "colab": {
          "base_uri": "https://localhost:8080/"
        },
        "id": "iI2hEdxi5wVN",
        "outputId": "2b78b2d6-56b5-4d88-f226-299cc0c4ae9f"
      },
      "execution_count": null,
      "outputs": [
        {
          "output_type": "stream",
          "name": "stdout",
          "text": [
            "{0, 1, 2, 'a', 'B', 3.5, 'Ajita', (3+5j), -3}\n",
            "<class 'set'>\n"
          ]
        }
      ]
    },
    {
      "cell_type": "code",
      "source": [
        "lst = [1,2,-3,0,'a','a','B',3.5, True , False,'Ajita', 3+5j]\n",
        "print(lst)\n",
        "print(type(lst))\n",
        "\n",
        "tup = (1,2,-3,0,'a','a','B',3.5,True , False,'Ajita', 3+5j)\n",
        "print(tup)\n",
        "print(type(tup))\n",
        "\n",
        "set = {1,2,-3,0,'a','a','B',3.5, True , False,'Ajita', 3+5j}\n",
        "print(set)\n",
        "print(type(set))"
      ],
      "metadata": {
        "colab": {
          "base_uri": "https://localhost:8080/"
        },
        "id": "PtA3l2E55-p-",
        "outputId": "91554f11-9c78-45a2-fc13-acdc2be813f4"
      },
      "execution_count": null,
      "outputs": [
        {
          "output_type": "stream",
          "name": "stdout",
          "text": [
            "[1, 2, -3, 0, 'a', 'a', 'B', 3.5, True, False, 'Ajita', (3+5j)]\n",
            "<class 'list'>\n",
            "(1, 2, -3, 0, 'a', 'a', 'B', 3.5, True, False, 'Ajita', (3+5j))\n",
            "<class 'tuple'>\n",
            "{0, 1, 2, 'a', 'B', 3.5, 'Ajita', (3+5j), -3}\n",
            "<class 'set'>\n"
          ]
        }
      ]
    },
    {
      "cell_type": "code",
      "source": [
        "#dictionary:\n",
        "dict1 = {'a' : 'apple', 'b' : 'grapes', 'c' : 'cherries'}\n",
        "print(dict1)\n",
        "print(type(dict1))"
      ],
      "metadata": {
        "colab": {
          "base_uri": "https://localhost:8080/"
        },
        "id": "y7lO76Sh82vC",
        "outputId": "5c847f34-88af-4943-cbd5-d52a9cf75200"
      },
      "execution_count": null,
      "outputs": [
        {
          "output_type": "stream",
          "name": "stdout",
          "text": [
            "{'a': 'apple', 'b': 'grapes', 'c': 'cherries'}\n",
            "<class 'dict'>\n"
          ]
        }
      ]
    },
    {
      "cell_type": "code",
      "source": [
        "dict1 = {'a' : ['apple', 'grapes'], 'b' : {1,2,3}, 'c': (1,2,-3,0,'a','a','B')}\n",
        "print(dict1)\n",
        "print(type(dict1))"
      ],
      "metadata": {
        "colab": {
          "base_uri": "https://localhost:8080/"
        },
        "id": "uiFB8iEo_86X",
        "outputId": "b1bdda4c-4228-4280-ca74-14e15ff401a7"
      },
      "execution_count": null,
      "outputs": [
        {
          "output_type": "stream",
          "name": "stdout",
          "text": [
            "{'a': ['apple', 'grapes'], 'b': {1, 2, 3}, 'c': (1, 2, -3, 0, 'a', 'a', 'B')}\n",
            "<class 'dict'>\n"
          ]
        }
      ]
    },
    {
      "cell_type": "code",
      "source": [
        "str1='Ajita Giri'\n",
        "print(str1)\n",
        "print(type(str1))\n",
        "print(len(str1))"
      ],
      "metadata": {
        "colab": {
          "base_uri": "https://localhost:8080/"
        },
        "id": "sZ_uDykNA05O",
        "outputId": "115d01a3-a9fe-4637-e1ab-726e71d530cd"
      },
      "execution_count": null,
      "outputs": [
        {
          "output_type": "stream",
          "name": "stdout",
          "text": [
            "Ajita Giri\n",
            "<class 'str'>\n",
            "10\n"
          ]
        }
      ]
    },
    {
      "cell_type": "code",
      "source": [
        "print(str1[0])\n",
        "print(str1[1])\n",
        "print(str1[2])\n",
        "print(str1[3])\n",
        "print(str1[4])\n",
        "print(str1[5])\n",
        "print(str1[6])\n",
        "print(str1[7])\n",
        "print(str1[8])\n",
        "print(str1[9])"
      ],
      "metadata": {
        "colab": {
          "base_uri": "https://localhost:8080/"
        },
        "id": "kplOXmK3B86u",
        "outputId": "ef6d490f-276f-400c-c794-0b2fa2b4e291"
      },
      "execution_count": null,
      "outputs": [
        {
          "output_type": "stream",
          "name": "stdout",
          "text": [
            "A\n",
            "j\n",
            "i\n",
            "t\n",
            "a\n",
            " \n",
            "G\n",
            "i\n",
            "r\n",
            "i\n"
          ]
        }
      ]
    },
    {
      "cell_type": "code",
      "source": [
        "str1[0:5:1], str1[6:10:1]"
      ],
      "metadata": {
        "colab": {
          "base_uri": "https://localhost:8080/"
        },
        "id": "vzpMs_vaCCP-",
        "outputId": "a865b8d7-b606-4608-b8ef-873e5fbb83b2"
      },
      "execution_count": null,
      "outputs": [
        {
          "output_type": "execute_result",
          "data": {
            "text/plain": [
              "('Ajita', 'Giri')"
            ]
          },
          "metadata": {},
          "execution_count": 75
        }
      ]
    },
    {
      "cell_type": "code",
      "source": [
        "str1[0:5:2], str1[6:10:2]"
      ],
      "metadata": {
        "colab": {
          "base_uri": "https://localhost:8080/"
        },
        "id": "bR9RDykVEEXI",
        "outputId": "33e6837f-e0ab-4a62-8a46-d25c6b4e6dc8"
      },
      "execution_count": null,
      "outputs": [
        {
          "output_type": "execute_result",
          "data": {
            "text/plain": [
              "('Aia', 'Gr')"
            ]
          },
          "metadata": {},
          "execution_count": 79
        }
      ]
    },
    {
      "cell_type": "code",
      "source": [
        "str1[0:5:3], str1[6:10:3]"
      ],
      "metadata": {
        "colab": {
          "base_uri": "https://localhost:8080/"
        },
        "id": "lZLqcjLeENTd",
        "outputId": "94f88085-c3b4-4767-a1d5-71d7ac17f044"
      },
      "execution_count": null,
      "outputs": [
        {
          "output_type": "execute_result",
          "data": {
            "text/plain": [
              "('At', 'Gi')"
            ]
          },
          "metadata": {},
          "execution_count": 77
        }
      ]
    },
    {
      "cell_type": "code",
      "source": [
        "str1[0:5:2], str1[6:10:2]\n",
        "print(str1[0:5:2], str1[6:10:2])"
      ],
      "metadata": {
        "colab": {
          "base_uri": "https://localhost:8080/"
        },
        "id": "4Yur-DA-Fsjk",
        "outputId": "e58e3af3-0ec1-4fa7-e81d-e990d7de8b3a"
      },
      "execution_count": null,
      "outputs": [
        {
          "output_type": "stream",
          "name": "stdout",
          "text": [
            "Aia Gr\n"
          ]
        }
      ]
    },
    {
      "cell_type": "code",
      "source": [
        "str1='Ajita Giri'\n",
        "str1[0::]"
      ],
      "metadata": {
        "colab": {
          "base_uri": "https://localhost:8080/",
          "height": 36
        },
        "id": "43S9U7uyIOPZ",
        "outputId": "12c7aeab-a7f3-488a-af95-391ceb35abba"
      },
      "execution_count": null,
      "outputs": [
        {
          "output_type": "execute_result",
          "data": {
            "text/plain": [
              "'Ajita Giri'"
            ],
            "application/vnd.google.colaboratory.intrinsic+json": {
              "type": "string"
            }
          },
          "metadata": {},
          "execution_count": 81
        }
      ]
    },
    {
      "cell_type": "code",
      "source": [
        "str1[:len(str1):]"
      ],
      "metadata": {
        "colab": {
          "base_uri": "https://localhost:8080/",
          "height": 36
        },
        "id": "ET1XPuw0Ih0p",
        "outputId": "3bf43cb6-9b93-40dc-e789-b179c29697d5"
      },
      "execution_count": null,
      "outputs": [
        {
          "output_type": "execute_result",
          "data": {
            "text/plain": [
              "'Ajita Giri'"
            ],
            "application/vnd.google.colaboratory.intrinsic+json": {
              "type": "string"
            }
          },
          "metadata": {},
          "execution_count": 82
        }
      ]
    },
    {
      "cell_type": "code",
      "source": [
        "str1[::1]"
      ],
      "metadata": {
        "colab": {
          "base_uri": "https://localhost:8080/",
          "height": 36
        },
        "id": "3kJy3ChyIrah",
        "outputId": "78e6766a-1af3-40ee-d99e-59f3982ec0c1"
      },
      "execution_count": null,
      "outputs": [
        {
          "output_type": "execute_result",
          "data": {
            "text/plain": [
              "'Ajita Giri'"
            ],
            "application/vnd.google.colaboratory.intrinsic+json": {
              "type": "string"
            }
          },
          "metadata": {},
          "execution_count": 83
        }
      ]
    },
    {
      "cell_type": "code",
      "source": [
        "str1[:5:]"
      ],
      "metadata": {
        "colab": {
          "base_uri": "https://localhost:8080/",
          "height": 36
        },
        "id": "I26xU8A2IuSx",
        "outputId": "10fabdfd-d1f2-46f5-cd63-bfc520eb22cd"
      },
      "execution_count": null,
      "outputs": [
        {
          "output_type": "execute_result",
          "data": {
            "text/plain": [
              "'Ajita'"
            ],
            "application/vnd.google.colaboratory.intrinsic+json": {
              "type": "string"
            }
          },
          "metadata": {},
          "execution_count": 85
        }
      ]
    },
    {
      "cell_type": "code",
      "source": [
        "str1[6:10]"
      ],
      "metadata": {
        "colab": {
          "base_uri": "https://localhost:8080/",
          "height": 36
        },
        "id": "S2n6Uzw0I4-Y",
        "outputId": "e1ce8d49-aaf8-4738-82f8-5fa649de8621"
      },
      "execution_count": null,
      "outputs": [
        {
          "output_type": "execute_result",
          "data": {
            "text/plain": [
              "'Giri'"
            ],
            "application/vnd.google.colaboratory.intrinsic+json": {
              "type": "string"
            }
          },
          "metadata": {},
          "execution_count": 88
        }
      ]
    },
    {
      "cell_type": "code",
      "source": [
        "#August 10\n",
        "\n",
        "\n",
        "str1 = 'Peppa prefer Python Programming'\n",
        "str1[:5:]"
      ],
      "metadata": {
        "id": "t9dtPSjMI_xg",
        "colab": {
          "base_uri": "https://localhost:8080/",
          "height": 35
        },
        "outputId": "608d7faf-01bc-4100-f2f7-a5c23b7c2071"
      },
      "execution_count": null,
      "outputs": [
        {
          "output_type": "execute_result",
          "data": {
            "text/plain": [
              "'Peppa'"
            ],
            "application/vnd.google.colaboratory.intrinsic+json": {
              "type": "string"
            }
          },
          "metadata": {},
          "execution_count": 7
        }
      ]
    },
    {
      "cell_type": "code",
      "source": [
        "str1 = 'Peppa prefer Python Programming'\n",
        "str1[6:12:]"
      ],
      "metadata": {
        "colab": {
          "base_uri": "https://localhost:8080/",
          "height": 35
        },
        "id": "jQcyTNqV6DV0",
        "outputId": "392a5ec9-f17b-4267-f696-5be43c3b64df"
      },
      "execution_count": null,
      "outputs": [
        {
          "output_type": "execute_result",
          "data": {
            "text/plain": [
              "'prefer'"
            ],
            "application/vnd.google.colaboratory.intrinsic+json": {
              "type": "string"
            }
          },
          "metadata": {},
          "execution_count": 9
        }
      ]
    },
    {
      "cell_type": "code",
      "source": [
        "str1[13:19:]"
      ],
      "metadata": {
        "colab": {
          "base_uri": "https://localhost:8080/",
          "height": 35
        },
        "id": "STEAep-46LIb",
        "outputId": "1bd9e4dd-7c3d-4346-836c-c7dd9da8938c"
      },
      "execution_count": null,
      "outputs": [
        {
          "output_type": "execute_result",
          "data": {
            "text/plain": [
              "'Python'"
            ],
            "application/vnd.google.colaboratory.intrinsic+json": {
              "type": "string"
            }
          },
          "metadata": {},
          "execution_count": 3
        }
      ]
    },
    {
      "cell_type": "code",
      "source": [
        "str1[20::]"
      ],
      "metadata": {
        "colab": {
          "base_uri": "https://localhost:8080/",
          "height": 35
        },
        "id": "niUy9jpg6RFj",
        "outputId": "cbcb8963-7685-4c2e-86a6-7d799056fe0f"
      },
      "execution_count": null,
      "outputs": [
        {
          "output_type": "execute_result",
          "data": {
            "text/plain": [
              "'Programming'"
            ],
            "application/vnd.google.colaboratory.intrinsic+json": {
              "type": "string"
            }
          },
          "metadata": {},
          "execution_count": 8
        }
      ]
    },
    {
      "cell_type": "code",
      "source": [
        "#Negative slicing\n",
        "str1 = 'Peppa prefer Python Programming'\n",
        "str1 [::1]"
      ],
      "metadata": {
        "colab": {
          "base_uri": "https://localhost:8080/",
          "height": 35
        },
        "id": "n4Goa-gY6VBL",
        "outputId": "a75b08e3-a9f9-4576-f20f-495504025821"
      },
      "execution_count": null,
      "outputs": [
        {
          "output_type": "execute_result",
          "data": {
            "text/plain": [
              "'Peppa prefer Python Programming'"
            ],
            "application/vnd.google.colaboratory.intrinsic+json": {
              "type": "string"
            }
          },
          "metadata": {},
          "execution_count": 13
        }
      ]
    },
    {
      "cell_type": "code",
      "source": [
        "str1 [::-1] #(same string is printed from negative direction)"
      ],
      "metadata": {
        "colab": {
          "base_uri": "https://localhost:8080/",
          "height": 35
        },
        "id": "Qb_Da8kb9Bg3",
        "outputId": "19f1b968-a089-49dd-faf7-c9316cd25e73"
      },
      "execution_count": null,
      "outputs": [
        {
          "output_type": "execute_result",
          "data": {
            "text/plain": [
              "'gnimmargorP nohtyP referp appeP'"
            ],
            "application/vnd.google.colaboratory.intrinsic+json": {
              "type": "string"
            }
          },
          "metadata": {},
          "execution_count": 14
        }
      ]
    },
    {
      "cell_type": "code",
      "source": [
        "str1 [-1:-12:-1] ,str1[-13:-19:-1], str1[-20:-26:-1], str1[-27::-1]"
      ],
      "metadata": {
        "colab": {
          "base_uri": "https://localhost:8080/"
        },
        "id": "JMPU5GLn9kCI",
        "outputId": "06f39f66-c552-4c41-f0d4-59739608c906"
      },
      "execution_count": null,
      "outputs": [
        {
          "output_type": "execute_result",
          "data": {
            "text/plain": [
              "('gnimmargorP', 'nohtyP', 'referp', 'appeP')"
            ]
          },
          "metadata": {},
          "execution_count": 39
        }
      ]
    },
    {
      "cell_type": "code",
      "source": [
        "str1 = 'Venkatanarasimharajuvaripeta'\n",
        "str1[-1:-13:-1], str1[-13:-22:-1], str1[-22::-1]"
      ],
      "metadata": {
        "colab": {
          "base_uri": "https://localhost:8080/"
        },
        "id": "pllILb9L9tLP",
        "outputId": "a228c4a7-1350-425a-ea1b-967fca546ad9"
      },
      "execution_count": null,
      "outputs": [
        {
          "output_type": "execute_result",
          "data": {
            "text/plain": [
              "('atepiravujar', 'ahmisaran', 'atakneV')"
            ]
          },
          "metadata": {},
          "execution_count": 43
        }
      ]
    },
    {
      "cell_type": "code",
      "source": [
        "str1[-22::-1], str1[-13:-22:-1], str1[:-13:-1]"
      ],
      "metadata": {
        "colab": {
          "base_uri": "https://localhost:8080/"
        },
        "id": "e1gsRTRlBlyz",
        "outputId": "04c2a0ac-b8b0-499d-b119-310e227618d3"
      },
      "execution_count": null,
      "outputs": [
        {
          "output_type": "execute_result",
          "data": {
            "text/plain": [
              "('atakneV', 'ahmisaran', 'atepiravujar')"
            ]
          },
          "metadata": {},
          "execution_count": 49
        }
      ]
    },
    {
      "cell_type": "code",
      "source": [
        "str1 = 'Venkatanarasimharajuvaripeta'#(positive indexing negative slicing)\n",
        "str1[6::-1], str1[15:6:-1], str1[27:15:-1]"
      ],
      "metadata": {
        "colab": {
          "base_uri": "https://localhost:8080/"
        },
        "id": "nGWGYn9uDfbz",
        "outputId": "d64ef38c-036d-4fd2-c850-28155dbe3f5c"
      },
      "execution_count": null,
      "outputs": [
        {
          "output_type": "execute_result",
          "data": {
            "text/plain": [
              "('atakneV', 'ahmisaran', 'atepiravujar')"
            ]
          },
          "metadata": {},
          "execution_count": 59
        }
      ]
    },
    {
      "cell_type": "code",
      "source": [
        "str1 = 'Peppa prefer Python Programming'\n",
        "str1[4::-1],str1[11:5:-1],str1[18:12:-1],str1[30:19:-1]"
      ],
      "metadata": {
        "colab": {
          "base_uri": "https://localhost:8080/"
        },
        "id": "1p6qWcWdEhjt",
        "outputId": "3505eb3d-d742-44eb-d5a3-c77c0a6f51c5"
      },
      "execution_count": null,
      "outputs": [
        {
          "output_type": "execute_result",
          "data": {
            "text/plain": [
              "('appeP', 'referp', 'nohtyP', 'gnimmargorP')"
            ]
          },
          "metadata": {},
          "execution_count": 73
        }
      ]
    },
    {
      "cell_type": "code",
      "source": [
        "str1 = 'SrinivasRamanujanAiyangar'#(negative indexing positive slicing)\n",
        "str1[-26:-17:1], str1[-17:-8:1], str1[-8::1]"
      ],
      "metadata": {
        "colab": {
          "base_uri": "https://localhost:8080/"
        },
        "id": "VTSXt81lFlg5",
        "outputId": "dc6d0a41-3a49-4c49-b9b1-645de5ad6a06"
      },
      "execution_count": null,
      "outputs": [
        {
          "output_type": "execute_result",
          "data": {
            "text/plain": [
              "('Srinivas', 'Ramanujan', 'Aiyangar')"
            ]
          },
          "metadata": {},
          "execution_count": 76
        }
      ]
    },
    {
      "cell_type": "code",
      "source": [
        "str1 = 'Venkatanarasimharajuvaripeta' #negative indexing positive slicing\n",
        "str1[-28:-21:1],str1[-21:-12:1], str1[-12::1]"
      ],
      "metadata": {
        "colab": {
          "base_uri": "https://localhost:8080/"
        },
        "id": "gBJNl7ROJ8he",
        "outputId": "a15a9663-0ed2-4a1c-9c84-f73652edc2fb"
      },
      "execution_count": null,
      "outputs": [
        {
          "output_type": "execute_result",
          "data": {
            "text/plain": [
              "('Venkata', 'narasimha', 'rajuvaripeta')"
            ]
          },
          "metadata": {},
          "execution_count": 91
        }
      ]
    },
    {
      "cell_type": "code",
      "source": [
        "str1 = 'Peppa prefer Python Programming' #negative indexing positive slicing\n",
        "str1[-31:-26:1],str1[-25:-19:1],str1[-18:-12:1], str1[-11::1]"
      ],
      "metadata": {
        "colab": {
          "base_uri": "https://localhost:8080/"
        },
        "id": "hEisaPczKXJM",
        "outputId": "7d866d7c-ec18-44b1-a269-35d5c2454368"
      },
      "execution_count": null,
      "outputs": [
        {
          "output_type": "execute_result",
          "data": {
            "text/plain": [
              "('Peppa', 'prefer', 'Python', 'Programming')"
            ]
          },
          "metadata": {},
          "execution_count": 112
        }
      ]
    },
    {
      "cell_type": "code",
      "source": [
        "lst1= ['apple','banana','cherries', 'dates','eggfruit','fig','grapes','honeyfruit', 'icefruit']\n",
        "print(lst1)"
      ],
      "metadata": {
        "colab": {
          "base_uri": "https://localhost:8080/"
        },
        "id": "eHy9q2Q4NAjZ",
        "outputId": "615379a7-3bb2-4ea3-91e3-d158ad6c8abd"
      },
      "execution_count": null,
      "outputs": [
        {
          "output_type": "stream",
          "name": "stdout",
          "text": [
            "['apple', 'banana', 'cherries', 'dates', 'eggfruit', 'fig', 'grapes', 'honeyfruit', 'icefruit']\n"
          ]
        }
      ]
    },
    {
      "cell_type": "code",
      "source": [
        "lst1[9::-1]"
      ],
      "metadata": {
        "colab": {
          "base_uri": "https://localhost:8080/"
        },
        "id": "r-vVREfxOYmp",
        "outputId": "ee59b76d-0b79-4afc-bd0c-2e721fa89ff5"
      },
      "execution_count": null,
      "outputs": [
        {
          "output_type": "execute_result",
          "data": {
            "text/plain": [
              "['icefruit',\n",
              " 'honeyfruit',\n",
              " 'grapes',\n",
              " 'fig',\n",
              " 'eggfruit',\n",
              " 'dates',\n",
              " 'cherries',\n",
              " 'banana',\n",
              " 'apple']"
            ]
          },
          "metadata": {},
          "execution_count": 116
        }
      ]
    },
    {
      "cell_type": "code",
      "source": [
        "lst1[-9::1]"
      ],
      "metadata": {
        "colab": {
          "base_uri": "https://localhost:8080/"
        },
        "id": "jZh5A9jQPJYn",
        "outputId": "6d3d24b5-7332-49b5-f365-acdf69ee030d"
      },
      "execution_count": null,
      "outputs": [
        {
          "output_type": "execute_result",
          "data": {
            "text/plain": [
              "['apple',\n",
              " 'banana',\n",
              " 'cherries',\n",
              " 'dates',\n",
              " 'eggfruit',\n",
              " 'fig',\n",
              " 'grapes',\n",
              " 'honeyfruit',\n",
              " 'icefruit']"
            ]
          },
          "metadata": {},
          "execution_count": 118
        }
      ]
    },
    {
      "cell_type": "code",
      "source": [
        "lst1[::-1]"
      ],
      "metadata": {
        "colab": {
          "base_uri": "https://localhost:8080/"
        },
        "id": "WOI7T9NKPTk5",
        "outputId": "fb46dd7e-181f-4798-99a8-56134e7831ed"
      },
      "execution_count": null,
      "outputs": [
        {
          "output_type": "execute_result",
          "data": {
            "text/plain": [
              "['icefruit',\n",
              " 'honeyfruit',\n",
              " 'grapes',\n",
              " 'fig',\n",
              " 'eggfruit',\n",
              " 'dates',\n",
              " 'cherries',\n",
              " 'banana',\n",
              " 'apple']"
            ]
          },
          "metadata": {},
          "execution_count": 119
        }
      ]
    },
    {
      "cell_type": "code",
      "source": [
        "lst1[-1::-1]"
      ],
      "metadata": {
        "colab": {
          "base_uri": "https://localhost:8080/"
        },
        "id": "mipLzvG9PeGo",
        "outputId": "943afe9a-59ad-47d2-a22c-91e41d053d75"
      },
      "execution_count": null,
      "outputs": [
        {
          "output_type": "execute_result",
          "data": {
            "text/plain": [
              "['icefruit',\n",
              " 'honeyfruit',\n",
              " 'grapes',\n",
              " 'fig',\n",
              " 'eggfruit',\n",
              " 'dates',\n",
              " 'cherries',\n",
              " 'banana',\n",
              " 'apple']"
            ]
          },
          "metadata": {},
          "execution_count": 121
        }
      ]
    },
    {
      "cell_type": "code",
      "source": [
        "lst1[1::9]"
      ],
      "metadata": {
        "colab": {
          "base_uri": "https://localhost:8080/"
        },
        "id": "aA2Yf7rFPlaI",
        "outputId": "8bfa0ac0-039b-4cc8-ecbc-5bedd383dc45"
      },
      "execution_count": null,
      "outputs": [
        {
          "output_type": "execute_result",
          "data": {
            "text/plain": [
              "['banana']"
            ]
          },
          "metadata": {},
          "execution_count": 124
        }
      ]
    },
    {
      "cell_type": "code",
      "source": [
        "lst = ['Eva', 'Emma', 'Cannon', 'Maddie', 'Deliah', 'Amelia', 'Sophia', 'Olivia', 'Emily', 'Grace']\n",
        "print(lst[::])"
      ],
      "metadata": {
        "colab": {
          "base_uri": "https://localhost:8080/"
        },
        "id": "QSSmuCMwPwbg",
        "outputId": "3bd369d7-5d16-41d9-cbad-7392f546c70b"
      },
      "execution_count": null,
      "outputs": [
        {
          "output_type": "stream",
          "name": "stdout",
          "text": [
            "['Eva', 'Emma', 'Cannon', 'Maddie', 'Deliah', 'Amelia', 'Sophia', 'Olivia', 'Emily', 'Grace']\n"
          ]
        }
      ]
    },
    {
      "cell_type": "code",
      "source": [
        "print(lst[0::])"
      ],
      "metadata": {
        "colab": {
          "base_uri": "https://localhost:8080/"
        },
        "id": "yq6iDddgQkHH",
        "outputId": "918310c3-0475-4708-e068-1c6935bcaf86"
      },
      "execution_count": null,
      "outputs": [
        {
          "output_type": "stream",
          "name": "stdout",
          "text": [
            "['Eva', 'Emma', 'Cannon', 'Maddie', 'Deliah', 'Amelia', 'Sophia', 'Olivia', 'Emily', 'Grace']\n"
          ]
        }
      ]
    },
    {
      "cell_type": "code",
      "source": [
        "print(lst[:len(lst):1])"
      ],
      "metadata": {
        "colab": {
          "base_uri": "https://localhost:8080/"
        },
        "id": "v7WxmjMsQ9zn",
        "outputId": "fa2b71f3-7917-4abc-848b-af0d3812cc13"
      },
      "execution_count": null,
      "outputs": [
        {
          "output_type": "stream",
          "name": "stdout",
          "text": [
            "['Eva', 'Emma', 'Cannon', 'Maddie', 'Deliah', 'Amelia', 'Sophia', 'Olivia', 'Emily', 'Grace']\n"
          ]
        }
      ]
    },
    {
      "cell_type": "code",
      "source": [
        "print(lst[::-1]) #+ve indexing negative slicing"
      ],
      "metadata": {
        "colab": {
          "base_uri": "https://localhost:8080/"
        },
        "id": "6MqLw-KbRFw2",
        "outputId": "c8fdf751-a790-4710-cc6c-1fac33fd0723"
      },
      "execution_count": null,
      "outputs": [
        {
          "output_type": "stream",
          "name": "stdout",
          "text": [
            "['Grace', 'Emily', 'Olivia', 'Sophia', 'Amelia', 'Deliah', 'Maddie', 'Cannon', 'Emma', 'Eva']\n"
          ]
        }
      ]
    },
    {
      "cell_type": "code",
      "source": [
        "print(lst[-1::-1]) # -ve indexing -ve slicing"
      ],
      "metadata": {
        "colab": {
          "base_uri": "https://localhost:8080/"
        },
        "id": "aVxKxBBhRQbu",
        "outputId": "f5819ae0-5884-496a-f99b-f45ce7f45a5d"
      },
      "execution_count": null,
      "outputs": [
        {
          "output_type": "stream",
          "name": "stdout",
          "text": [
            "['Grace', 'Emily', 'Olivia', 'Sophia', 'Amelia', 'Deliah', 'Maddie', 'Cannon', 'Emma', 'Eva']\n"
          ]
        }
      ]
    },
    {
      "cell_type": "code",
      "source": [
        "print(lst[9::-1]) # +ve indexing -ve slicing"
      ],
      "metadata": {
        "colab": {
          "base_uri": "https://localhost:8080/"
        },
        "id": "rJR2ZA-nRZpV",
        "outputId": "bb6e4ce5-b554-49f9-cdab-05c230542d7a"
      },
      "execution_count": null,
      "outputs": [
        {
          "output_type": "stream",
          "name": "stdout",
          "text": [
            "['Grace', 'Emily', 'Olivia', 'Sophia', 'Amelia', 'Deliah', 'Maddie', 'Cannon', 'Emma', 'Eva']\n"
          ]
        }
      ]
    },
    {
      "cell_type": "code",
      "source": [
        "tup = ('Eva', 'Emma', 'Cannon', 'Maddie', 'Deliah', 'Amelia', 'Sophia', 'Olivia', 'Emily', 'Grace')\n",
        "print(tup[::])"
      ],
      "metadata": {
        "colab": {
          "base_uri": "https://localhost:8080/"
        },
        "id": "ObOO6CUURjLO",
        "outputId": "4e6157ce-cd6b-4a75-dd55-558853ae093e"
      },
      "execution_count": null,
      "outputs": [
        {
          "output_type": "stream",
          "name": "stdout",
          "text": [
            "('Eva', 'Emma', 'Cannon', 'Maddie', 'Deliah', 'Amelia', 'Sophia', 'Olivia', 'Emily', 'Grace')\n"
          ]
        }
      ]
    },
    {
      "cell_type": "code",
      "source": [
        "print(tup[0::])\n",
        "print(tup[:len(lst):1])\n",
        "print(tup[::-1]) #+ve indexing -ve negative slicing\n",
        "print(tup[-1::-1]) # -ve indexing -ve slicing\n",
        "print(tup[9::-1]) # +ve indexing -ve slicing\n"
      ],
      "metadata": {
        "colab": {
          "base_uri": "https://localhost:8080/"
        },
        "id": "SQKFVn-GTpE1",
        "outputId": "cb6b1566-ee04-4259-ea9f-e9aa543dc176"
      },
      "execution_count": null,
      "outputs": [
        {
          "output_type": "stream",
          "name": "stdout",
          "text": [
            "('Eva', 'Emma', 'Cannon', 'Maddie', 'Deliah', 'Amelia', 'Sophia', 'Olivia', 'Emily', 'Grace')\n",
            "('Eva', 'Emma', 'Cannon', 'Maddie', 'Deliah', 'Amelia', 'Sophia', 'Olivia', 'Emily', 'Grace')\n",
            "('Grace', 'Emily', 'Olivia', 'Sophia', 'Amelia', 'Deliah', 'Maddie', 'Cannon', 'Emma', 'Eva')\n",
            "('Grace', 'Emily', 'Olivia', 'Sophia', 'Amelia', 'Deliah', 'Maddie', 'Cannon', 'Emma', 'Eva')\n",
            "('Grace', 'Emily', 'Olivia', 'Sophia', 'Amelia', 'Deliah', 'Maddie', 'Cannon', 'Emma', 'Eva')\n"
          ]
        }
      ]
    },
    {
      "cell_type": "code",
      "source": [
        "\n",
        "\n",
        "\n",
        "\n",
        "\n"
      ],
      "metadata": {
        "id": "ysjOJ8LMUXKk"
      },
      "execution_count": null,
      "outputs": []
    }
  ]
}