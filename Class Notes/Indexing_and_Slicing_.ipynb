{
  "nbformat": 4,
  "nbformat_minor": 0,
  "metadata": {
    "colab": {
      "provenance": []
    },
    "kernelspec": {
      "name": "python3",
      "display_name": "Python 3"
    },
    "language_info": {
      "name": "python"
    }
  },
  "cells": [
    {
      "cell_type": "code",
      "execution_count": 2,
      "metadata": {
        "colab": {
          "base_uri": "https://localhost:8080/"
        },
        "id": "WH6RZ21AIpPp",
        "outputId": "376b33ef-40ad-4e8d-9f31-4c1d9a57db62"
      },
      "outputs": [
        {
          "output_type": "stream",
          "name": "stdout",
          "text": [
            "Peppa\n"
          ]
        }
      ],
      "source": [
        "#August 10: Indexing and Slicing\n",
        "str = 'Peppa prefer Python Programming'\n",
        "print(str[:5:])"
      ]
    },
    {
      "cell_type": "code",
      "source": [
        "print(str[6:12:])"
      ],
      "metadata": {
        "colab": {
          "base_uri": "https://localhost:8080/"
        },
        "id": "S6_G6gCTJIYD",
        "outputId": "6b12ff18-f6ec-4c79-b52b-65fb05f743c6"
      },
      "execution_count": 6,
      "outputs": [
        {
          "output_type": "stream",
          "name": "stdout",
          "text": [
            "prefer\n"
          ]
        }
      ]
    },
    {
      "cell_type": "code",
      "source": [
        "print(str[13:19])"
      ],
      "metadata": {
        "colab": {
          "base_uri": "https://localhost:8080/"
        },
        "id": "ZW074k7HJ2LB",
        "outputId": "c2a2373d-786d-4cfe-c7ec-65333c5e3751"
      },
      "execution_count": 7,
      "outputs": [
        {
          "output_type": "stream",
          "name": "stdout",
          "text": [
            "Python\n"
          ]
        }
      ]
    },
    {
      "cell_type": "code",
      "source": [
        "print(str[20::])"
      ],
      "metadata": {
        "colab": {
          "base_uri": "https://localhost:8080/"
        },
        "id": "iqn1lsyRKBvp",
        "outputId": "0650b5a4-2352-4c28-9db7-484c5c7fd50e"
      },
      "execution_count": 9,
      "outputs": [
        {
          "output_type": "stream",
          "name": "stdout",
          "text": [
            "Programming\n"
          ]
        }
      ]
    },
    {
      "cell_type": "code",
      "source": [
        "str = 'Create the moment, capture the magic.'\n",
        "print(str[:6:])"
      ],
      "metadata": {
        "colab": {
          "base_uri": "https://localhost:8080/"
        },
        "id": "PjMGBUwtKJZZ",
        "outputId": "6949f1fd-01ca-4080-f13d-8bd58749d88a"
      },
      "execution_count": 10,
      "outputs": [
        {
          "output_type": "stream",
          "name": "stdout",
          "text": [
            "Create\n"
          ]
        }
      ]
    },
    {
      "cell_type": "code",
      "source": [
        "print(str[7:10:])"
      ],
      "metadata": {
        "colab": {
          "base_uri": "https://localhost:8080/"
        },
        "id": "qaZr6r3wKq65",
        "outputId": "309260e3-8a50-451c-a959-24ad648f467e"
      },
      "execution_count": 11,
      "outputs": [
        {
          "output_type": "stream",
          "name": "stdout",
          "text": [
            "the\n"
          ]
        }
      ]
    },
    {
      "cell_type": "code",
      "source": [
        "print (str[11:17:])"
      ],
      "metadata": {
        "colab": {
          "base_uri": "https://localhost:8080/"
        },
        "id": "k3LJQ8asK2Yo",
        "outputId": "a435f992-ed9a-46f9-d961-d3046065e387"
      },
      "execution_count": 12,
      "outputs": [
        {
          "output_type": "stream",
          "name": "stdout",
          "text": [
            "moment\n"
          ]
        }
      ]
    },
    {
      "cell_type": "code",
      "source": [
        "print(str[17:18:])"
      ],
      "metadata": {
        "colab": {
          "base_uri": "https://localhost:8080/"
        },
        "id": "O3xS7No1K8N4",
        "outputId": "b043f35b-b784-4770-d0db-64c831f86349"
      },
      "execution_count": 13,
      "outputs": [
        {
          "output_type": "stream",
          "name": "stdout",
          "text": [
            ",\n"
          ]
        }
      ]
    },
    {
      "cell_type": "code",
      "source": [
        "print(str[19:26:])"
      ],
      "metadata": {
        "colab": {
          "base_uri": "https://localhost:8080/"
        },
        "id": "q9EzzrRYLFxf",
        "outputId": "a0995472-85ee-4599-8fe0-3b267dc24af8"
      },
      "execution_count": 15,
      "outputs": [
        {
          "output_type": "stream",
          "name": "stdout",
          "text": [
            "capture\n"
          ]
        }
      ]
    },
    {
      "cell_type": "code",
      "source": [
        "print(str[27:30:])"
      ],
      "metadata": {
        "colab": {
          "base_uri": "https://localhost:8080/"
        },
        "id": "tAQWivrCLK2Q",
        "outputId": "4c3e0fc9-0cf3-4ece-9392-5e260129de55"
      },
      "execution_count": 16,
      "outputs": [
        {
          "output_type": "stream",
          "name": "stdout",
          "text": [
            "the\n"
          ]
        }
      ]
    },
    {
      "cell_type": "code",
      "source": [
        "print(str[31:36:])"
      ],
      "metadata": {
        "colab": {
          "base_uri": "https://localhost:8080/"
        },
        "id": "0BrSYbstLTcn",
        "outputId": "ed52f790-f16f-423e-b23d-dc2c2086eb2f"
      },
      "execution_count": 17,
      "outputs": [
        {
          "output_type": "stream",
          "name": "stdout",
          "text": [
            "magic\n"
          ]
        }
      ]
    },
    {
      "cell_type": "code",
      "source": [
        "print(str[36::])"
      ],
      "metadata": {
        "colab": {
          "base_uri": "https://localhost:8080/"
        },
        "id": "GOZHqVn_Lii7",
        "outputId": "3126857e-f6f7-460b-b8d3-1ff89f001852"
      },
      "execution_count": 18,
      "outputs": [
        {
          "output_type": "stream",
          "name": "stdout",
          "text": [
            ".\n"
          ]
        }
      ]
    },
    {
      "cell_type": "code",
      "source": [
        "#Negative Slicing\n",
        "str = 'Create the moment, capture the magic.'\n",
        "print(str[::])"
      ],
      "metadata": {
        "colab": {
          "base_uri": "https://localhost:8080/"
        },
        "id": "RKECDgHMLlp_",
        "outputId": "3ea83a18-a605-4d53-fc34-2d3ef981e023"
      },
      "execution_count": 23,
      "outputs": [
        {
          "output_type": "stream",
          "name": "stdout",
          "text": [
            "Create the moment, capture the magic.\n"
          ]
        }
      ]
    },
    {
      "cell_type": "code",
      "source": [
        "print(str[::-1])"
      ],
      "metadata": {
        "colab": {
          "base_uri": "https://localhost:8080/"
        },
        "id": "ogeGKUIDL9IX",
        "outputId": "c35a2799-14e4-4037-cb9e-b08ace977e13"
      },
      "execution_count": 24,
      "outputs": [
        {
          "output_type": "stream",
          "name": "stdout",
          "text": [
            ".cigam eht erutpac ,tnemom eht etaerC\n"
          ]
        }
      ]
    },
    {
      "cell_type": "code",
      "source": [
        "#Negative indexing Negative Slicing\n",
        "print(str[-1:-2:-1])"
      ],
      "metadata": {
        "colab": {
          "base_uri": "https://localhost:8080/"
        },
        "id": "qoXWedvNMUAn",
        "outputId": "efb3956b-13a8-4102-cd0b-ce0d87153c67"
      },
      "execution_count": 27,
      "outputs": [
        {
          "output_type": "stream",
          "name": "stdout",
          "text": [
            ".\n"
          ]
        }
      ]
    },
    {
      "cell_type": "code",
      "source": [
        "print(str[-2:-7:-1])"
      ],
      "metadata": {
        "colab": {
          "base_uri": "https://localhost:8080/"
        },
        "id": "AOnRFU78MteW",
        "outputId": "95b01f86-6dc4-4a12-f65f-d761c13af877"
      },
      "execution_count": 28,
      "outputs": [
        {
          "output_type": "stream",
          "name": "stdout",
          "text": [
            "cigam\n"
          ]
        }
      ]
    },
    {
      "cell_type": "code",
      "source": [
        "print(str[-8:-11:-1])"
      ],
      "metadata": {
        "colab": {
          "base_uri": "https://localhost:8080/"
        },
        "id": "j48uTvn9M3mV",
        "outputId": "1e94bea7-fb48-4d4c-91ef-cf0660c15676"
      },
      "execution_count": 29,
      "outputs": [
        {
          "output_type": "stream",
          "name": "stdout",
          "text": [
            "eht\n"
          ]
        }
      ]
    },
    {
      "cell_type": "code",
      "source": [
        "print(str[-12:-19:-1])"
      ],
      "metadata": {
        "colab": {
          "base_uri": "https://localhost:8080/"
        },
        "id": "lVLEMvfvM9RF",
        "outputId": "2c68ad55-f4b4-41ce-a3e7-d4b01fc06365"
      },
      "execution_count": 31,
      "outputs": [
        {
          "output_type": "stream",
          "name": "stdout",
          "text": [
            "erutpac\n"
          ]
        }
      ]
    },
    {
      "cell_type": "code",
      "source": [
        "print(str[-20:-21:-1])"
      ],
      "metadata": {
        "colab": {
          "base_uri": "https://localhost:8080/"
        },
        "id": "zjixtPKWNFTt",
        "outputId": "1f839eef-2d19-4130-f727-aec6c6926a98"
      },
      "execution_count": 32,
      "outputs": [
        {
          "output_type": "stream",
          "name": "stdout",
          "text": [
            ",\n"
          ]
        }
      ]
    },
    {
      "cell_type": "code",
      "source": [
        "print(str[-21:-27:-1])"
      ],
      "metadata": {
        "colab": {
          "base_uri": "https://localhost:8080/"
        },
        "id": "TfZjnQGlNRIm",
        "outputId": "251926c5-f2fc-42e7-ed7b-aeb26932ccb9"
      },
      "execution_count": 33,
      "outputs": [
        {
          "output_type": "stream",
          "name": "stdout",
          "text": [
            "tnemom\n"
          ]
        }
      ]
    },
    {
      "cell_type": "code",
      "source": [
        "print(str[-28:-31:-1])"
      ],
      "metadata": {
        "colab": {
          "base_uri": "https://localhost:8080/"
        },
        "id": "ZszSxqPSNkO-",
        "outputId": "21b30b18-923e-496b-9544-4c654fdc9ba1"
      },
      "execution_count": 34,
      "outputs": [
        {
          "output_type": "stream",
          "name": "stdout",
          "text": [
            "eht\n"
          ]
        }
      ]
    },
    {
      "cell_type": "code",
      "source": [
        "print(str[-32::-1])"
      ],
      "metadata": {
        "colab": {
          "base_uri": "https://localhost:8080/"
        },
        "id": "8P0znCY1Nvy2",
        "outputId": "d95ff711-63f3-4d22-f8ee-9854b632af5f"
      },
      "execution_count": 37,
      "outputs": [
        {
          "output_type": "stream",
          "name": "stdout",
          "text": [
            "etaerC\n"
          ]
        }
      ]
    },
    {
      "cell_type": "code",
      "source": [
        "#Negative Indexing: Right to left\n",
        "str = 'Create the moment, capture the magic.'\n",
        "print(str[::-1])"
      ],
      "metadata": {
        "colab": {
          "base_uri": "https://localhost:8080/"
        },
        "id": "7KgGP_nZN3Bt",
        "outputId": "c9296025-a255-4d9c-908b-e09bff922596"
      },
      "execution_count": 7,
      "outputs": [
        {
          "output_type": "stream",
          "name": "stdout",
          "text": [
            ".cigam eht erutpac ,tnemom eht etaerC\n"
          ]
        }
      ]
    },
    {
      "cell_type": "code",
      "source": [
        "#Positive Indexing: Left to right\n",
        "str = 'Create the moment, capture the magic.'\n",
        "print(str[::1])"
      ],
      "metadata": {
        "colab": {
          "base_uri": "https://localhost:8080/"
        },
        "id": "kmaO737V_Fxg",
        "outputId": "7df310e1-88be-490a-ba1f-9e7a68d035b0"
      },
      "execution_count": 8,
      "outputs": [
        {
          "output_type": "stream",
          "name": "stdout",
          "text": [
            "Create the moment, capture the magic.\n"
          ]
        }
      ]
    },
    {
      "cell_type": "code",
      "source": [
        "#Negative Indexing Negative Slicing\n",
        "str = 'Createthemomentcapturethemagic.'\n",
        "str[-1:-2:-1],str[-2:-7:-1],str[-10:-17:-1],str[-17:-23:-1],str[-23:-26:-1],str[-26:-32:-1]"
      ],
      "metadata": {
        "colab": {
          "base_uri": "https://localhost:8080/"
        },
        "id": "PJ7VvaSG_sEt",
        "outputId": "2f76abdb-6aa0-478e-99eb-67dc91796c6f"
      },
      "execution_count": 89,
      "outputs": [
        {
          "output_type": "execute_result",
          "data": {
            "text/plain": [
              "('.', 'cigam', 'erutpac', 'tnemom', 'eht', 'etaerC')"
            ]
          },
          "metadata": {},
          "execution_count": 89
        }
      ]
    },
    {
      "cell_type": "code",
      "source": [
        "#Negative Indexing Positive Slicing"
      ],
      "metadata": {
        "id": "nZshd0FeA1Vk"
      },
      "execution_count": 90,
      "outputs": []
    },
    {
      "cell_type": "code",
      "source": [
        "str = 'Createthemomentcapturethemagic.'\n",
        "str[-1::1],str[-6:-1:1],str[-9:-6:1],str[-16:-9:1],str[-22:-16:1],str[-25:-22:1],str[-31:-25:1]"
      ],
      "metadata": {
        "colab": {
          "base_uri": "https://localhost:8080/"
        },
        "id": "I9WPfc5TKw3y",
        "outputId": "d5c7983f-e6b5-4655-dbbe-c3586467b95c"
      },
      "execution_count": 101,
      "outputs": [
        {
          "output_type": "execute_result",
          "data": {
            "text/plain": [
              "('.', 'magic', 'the', 'capture', 'moment', 'the', 'Create')"
            ]
          },
          "metadata": {},
          "execution_count": 101
        }
      ]
    },
    {
      "cell_type": "code",
      "source": [
        "#Positive Indexing Negative Slicing\n",
        "str = 'Createthemomentcapturethemagic.'\n",
        "str[5::-1],str[8:5:-1],str[14:8:-1],str[21:14:-1],str[24:21:-1],str[29:24:-1]"
      ],
      "metadata": {
        "colab": {
          "base_uri": "https://localhost:8080/"
        },
        "id": "EPEjF0VzK_v5",
        "outputId": "dcb9e362-2fad-483d-ee0d-a671a15bed0c"
      },
      "execution_count": 120,
      "outputs": [
        {
          "output_type": "execute_result",
          "data": {
            "text/plain": [
              "('etaerC', 'eht', 'tnemom', 'erutpac', 'eht', 'cigam')"
            ]
          },
          "metadata": {},
          "execution_count": 120
        }
      ]
    },
    {
      "cell_type": "code",
      "source": [
        "#List\n",
        "lst=['Toyota', 'Honda', 'Ford','Nissan', 'Audi', 'Tesla','Hyundai','Kia','BMW','Lexus']\n",
        "print(lst)\n",
        "print(type(lst))"
      ],
      "metadata": {
        "colab": {
          "base_uri": "https://localhost:8080/"
        },
        "id": "7ftDxwDaLHch",
        "outputId": "64fe505f-6c29-4ae2-8e97-60df78ff0e62"
      },
      "execution_count": 126,
      "outputs": [
        {
          "output_type": "stream",
          "name": "stdout",
          "text": [
            "['Toyota', 'Honda', 'Ford', 'Nissan', 'Audi', 'Tesla', 'Hyundai', 'Kia', 'BMW', 'Lexus']\n",
            "<class 'list'>\n"
          ]
        }
      ]
    },
    {
      "cell_type": "code",
      "source": [
        "lst[0],lst[1],lst[2],lst[3],lst[4],lst[5],lst[6],lst[7],lst[8],lst[9]"
      ],
      "metadata": {
        "colab": {
          "base_uri": "https://localhost:8080/"
        },
        "id": "2LOI2h-qLMFx",
        "outputId": "ae0fbaf2-7c4a-474f-c36f-9f88af8debdf"
      },
      "execution_count": 127,
      "outputs": [
        {
          "output_type": "execute_result",
          "data": {
            "text/plain": [
              "('Toyota',\n",
              " 'Honda',\n",
              " 'Ford',\n",
              " 'Nissan',\n",
              " 'Audi',\n",
              " 'Tesla',\n",
              " 'Hyundai',\n",
              " 'Kia',\n",
              " 'BMW',\n",
              " 'Lexus')"
            ]
          },
          "metadata": {},
          "execution_count": 127
        }
      ]
    },
    {
      "cell_type": "code",
      "source": [
        "lst[::]"
      ],
      "metadata": {
        "colab": {
          "base_uri": "https://localhost:8080/"
        },
        "id": "rVfC1rJTNq_n",
        "outputId": "6dcd9e8f-0f33-4208-8eeb-d6b189c741eb"
      },
      "execution_count": 128,
      "outputs": [
        {
          "output_type": "execute_result",
          "data": {
            "text/plain": [
              "['Toyota',\n",
              " 'Honda',\n",
              " 'Ford',\n",
              " 'Nissan',\n",
              " 'Audi',\n",
              " 'Tesla',\n",
              " 'Hyundai',\n",
              " 'Kia',\n",
              " 'BMW',\n",
              " 'Lexus']"
            ]
          },
          "metadata": {},
          "execution_count": 128
        }
      ]
    },
    {
      "cell_type": "code",
      "source": [
        "lst[0::]\n"
      ],
      "metadata": {
        "colab": {
          "base_uri": "https://localhost:8080/"
        },
        "id": "qofej9ybNx1n",
        "outputId": "6908eb07-2175-4b9f-a06a-d233c4b97198"
      },
      "execution_count": 129,
      "outputs": [
        {
          "output_type": "execute_result",
          "data": {
            "text/plain": [
              "['Toyota',\n",
              " 'Honda',\n",
              " 'Ford',\n",
              " 'Nissan',\n",
              " 'Audi',\n",
              " 'Tesla',\n",
              " 'Hyundai',\n",
              " 'Kia',\n",
              " 'BMW',\n",
              " 'Lexus']"
            ]
          },
          "metadata": {},
          "execution_count": 129
        }
      ]
    },
    {
      "cell_type": "code",
      "source": [
        "lst[:len(lst):]"
      ],
      "metadata": {
        "colab": {
          "base_uri": "https://localhost:8080/"
        },
        "id": "7nO-xK9UOIms",
        "outputId": "9eb77724-5971-441a-8b53-d7edd02daa69"
      },
      "execution_count": 130,
      "outputs": [
        {
          "output_type": "execute_result",
          "data": {
            "text/plain": [
              "['Toyota',\n",
              " 'Honda',\n",
              " 'Ford',\n",
              " 'Nissan',\n",
              " 'Audi',\n",
              " 'Tesla',\n",
              " 'Hyundai',\n",
              " 'Kia',\n",
              " 'BMW',\n",
              " 'Lexus']"
            ]
          },
          "metadata": {},
          "execution_count": 130
        }
      ]
    },
    {
      "cell_type": "code",
      "source": [
        "lst[::1]"
      ],
      "metadata": {
        "colab": {
          "base_uri": "https://localhost:8080/"
        },
        "id": "sK7bNi42YiJQ",
        "outputId": "24364a06-bbb6-4b59-a905-3ce1de9edcb0"
      },
      "execution_count": 131,
      "outputs": [
        {
          "output_type": "execute_result",
          "data": {
            "text/plain": [
              "['Toyota',\n",
              " 'Honda',\n",
              " 'Ford',\n",
              " 'Nissan',\n",
              " 'Audi',\n",
              " 'Tesla',\n",
              " 'Hyundai',\n",
              " 'Kia',\n",
              " 'BMW',\n",
              " 'Lexus']"
            ]
          },
          "metadata": {},
          "execution_count": 131
        }
      ]
    },
    {
      "cell_type": "code",
      "source": [
        "#Positive Indexing and Positive Slicing\n",
        "lst[0:len(lst):1]"
      ],
      "metadata": {
        "colab": {
          "base_uri": "https://localhost:8080/"
        },
        "id": "CW6EFMwAYlq1",
        "outputId": "83449564-720a-436e-b506-c4dc89ea8c2d"
      },
      "execution_count": 133,
      "outputs": [
        {
          "output_type": "execute_result",
          "data": {
            "text/plain": [
              "['Toyota',\n",
              " 'Honda',\n",
              " 'Ford',\n",
              " 'Nissan',\n",
              " 'Audi',\n",
              " 'Tesla',\n",
              " 'Hyundai',\n",
              " 'Kia',\n",
              " 'BMW',\n",
              " 'Lexus']"
            ]
          },
          "metadata": {},
          "execution_count": 133
        }
      ]
    },
    {
      "cell_type": "code",
      "source": [
        "#Negative Indexing\n",
        "lst[::-1]"
      ],
      "metadata": {
        "colab": {
          "base_uri": "https://localhost:8080/"
        },
        "id": "iIM6we-YYzz9",
        "outputId": "829d0680-0f19-4c9f-dc3e-2cc4ec00082c"
      },
      "execution_count": 134,
      "outputs": [
        {
          "output_type": "execute_result",
          "data": {
            "text/plain": [
              "['Lexus',\n",
              " 'BMW',\n",
              " 'Kia',\n",
              " 'Hyundai',\n",
              " 'Tesla',\n",
              " 'Audi',\n",
              " 'Nissan',\n",
              " 'Ford',\n",
              " 'Honda',\n",
              " 'Toyota']"
            ]
          },
          "metadata": {},
          "execution_count": 134
        }
      ]
    },
    {
      "cell_type": "code",
      "source": [
        "#Negative Indexing Negative Slicing\n",
        "lst[-1::-1]"
      ],
      "metadata": {
        "colab": {
          "base_uri": "https://localhost:8080/"
        },
        "id": "2DF-ESPiY6DO",
        "outputId": "3fe39c13-60a8-4c1e-de03-2f8a697d3f74"
      },
      "execution_count": 136,
      "outputs": [
        {
          "output_type": "execute_result",
          "data": {
            "text/plain": [
              "['Lexus',\n",
              " 'BMW',\n",
              " 'Kia',\n",
              " 'Hyundai',\n",
              " 'Tesla',\n",
              " 'Audi',\n",
              " 'Nissan',\n",
              " 'Ford',\n",
              " 'Honda',\n",
              " 'Toyota']"
            ]
          },
          "metadata": {},
          "execution_count": 136
        }
      ]
    },
    {
      "cell_type": "code",
      "source": [
        "#Positive Index and Negative Slicing\n",
        "lst[9::-1]"
      ],
      "metadata": {
        "colab": {
          "base_uri": "https://localhost:8080/"
        },
        "id": "jGwoAc3IaAS8",
        "outputId": "72fd6a34-d7d8-418c-ed5c-7ca9d3f41af9"
      },
      "execution_count": 139,
      "outputs": [
        {
          "output_type": "execute_result",
          "data": {
            "text/plain": [
              "['Lexus',\n",
              " 'BMW',\n",
              " 'Kia',\n",
              " 'Hyundai',\n",
              " 'Tesla',\n",
              " 'Audi',\n",
              " 'Nissan',\n",
              " 'Ford',\n",
              " 'Honda',\n",
              " 'Toyota']"
            ]
          },
          "metadata": {},
          "execution_count": 139
        }
      ]
    },
    {
      "cell_type": "code",
      "source": [
        "#Negative Indexing Positive Slicing\n",
        "lst[-10::1]"
      ],
      "metadata": {
        "colab": {
          "base_uri": "https://localhost:8080/"
        },
        "id": "QNnxeiTTbPaq",
        "outputId": "b431dd20-11c9-4723-ef79-46c40791c9f2"
      },
      "execution_count": 147,
      "outputs": [
        {
          "output_type": "execute_result",
          "data": {
            "text/plain": [
              "['Toyota',\n",
              " 'Honda',\n",
              " 'Ford',\n",
              " 'Nissan',\n",
              " 'Audi',\n",
              " 'Tesla',\n",
              " 'Hyundai',\n",
              " 'Kia',\n",
              " 'BMW',\n",
              " 'Lexus']"
            ]
          },
          "metadata": {},
          "execution_count": 147
        }
      ]
    },
    {
      "cell_type": "code",
      "source": [
        "lst=['Toyota', 'Honda', 'Ford','Nissan', 'Audi', 'Tesla','Hyundai','Kia','BMW','Lexus']\n",
        "tup=['Toyota', 'Honda', 'Ford','Nissan', 'Audi', 'Tesla','Hyundai','Kia','BMW','Lexus']"
      ],
      "metadata": {
        "id": "YtFoz1Enbkmy"
      },
      "execution_count": 170,
      "outputs": []
    },
    {
      "cell_type": "code",
      "source": [
        "print(lst[0::1]) #Positive Indexing Positive Slicing\n",
        "print(lst[9::-1]) #Positive Indexing Negative Slicing\n",
        "print(lst[-10::1]) #Negative Indexing Positive Slicing\n",
        "print(lst[-1::-1]) #Negative Indexing negative Slicing"
      ],
      "metadata": {
        "colab": {
          "base_uri": "https://localhost:8080/"
        },
        "id": "r9qgYhTfe8kP",
        "outputId": "02cb97ac-37cb-4a32-ac00-a30213ff2255"
      },
      "execution_count": 169,
      "outputs": [
        {
          "output_type": "stream",
          "name": "stdout",
          "text": [
            "['Toyota', 'Honda', 'Ford', 'Nissan', 'Audi', 'Tesla', 'Hyundai', 'Kia', 'BMW', 'Lexus']\n",
            "['Lexus', 'BMW', 'Kia', 'Hyundai', 'Tesla', 'Audi', 'Nissan', 'Ford', 'Honda', 'Toyota']\n",
            "['Toyota', 'Honda', 'Ford', 'Nissan', 'Audi', 'Tesla', 'Hyundai', 'Kia', 'BMW', 'Lexus']\n",
            "['Lexus', 'BMW', 'Kia', 'Hyundai', 'Tesla', 'Audi', 'Nissan', 'Ford', 'Honda', 'Toyota']\n"
          ]
        }
      ]
    },
    {
      "cell_type": "code",
      "source": [
        "print(tup[0::]) #Positive Indexing Positive Slicing\n",
        "print(tup[9::-1]) #Positive Indexing Negative Slicing\n",
        "print(tup[-10::1]) #Negative Indexing Positive Slicing\n",
        "print(tup[-1::-1]) #Negative Indexing negative Slicing"
      ],
      "metadata": {
        "colab": {
          "base_uri": "https://localhost:8080/"
        },
        "id": "SmE8q2AqfSy3",
        "outputId": "87be77f1-82e3-4e06-c0b6-c1245d2eb0e2"
      },
      "execution_count": 172,
      "outputs": [
        {
          "output_type": "stream",
          "name": "stdout",
          "text": [
            "['Toyota', 'Honda', 'Ford', 'Nissan', 'Audi', 'Tesla', 'Hyundai', 'Kia', 'BMW', 'Lexus']\n",
            "['Lexus', 'BMW', 'Kia', 'Hyundai', 'Tesla', 'Audi', 'Nissan', 'Ford', 'Honda', 'Toyota']\n",
            "['Toyota', 'Honda', 'Ford', 'Nissan', 'Audi', 'Tesla', 'Hyundai', 'Kia', 'BMW', 'Lexus']\n",
            "['Lexus', 'BMW', 'Kia', 'Hyundai', 'Tesla', 'Audi', 'Nissan', 'Ford', 'Honda', 'Toyota']\n"
          ]
        }
      ]
    },
    {
      "cell_type": "code",
      "source": [],
      "metadata": {
        "id": "ciM9eRcCfdDv"
      },
      "execution_count": 153,
      "outputs": []
    },
    {
      "cell_type": "code",
      "source": [],
      "metadata": {
        "id": "tOXCUZcCfzRm"
      },
      "execution_count": null,
      "outputs": []
    }
  ]
}