{
  "cells": [
    {
      "cell_type": "code",
      "execution_count": null,
      "metadata": {
        "id": "lNVGO3lLqsno"
      },
      "outputs": [],
      "source": [
        "# Rules\n",
        "#The game should only stop when the user wins! If its a tie or user loses game should continue\n",
        "#Rock smashes scissors.\n",
        "#Paper covers rock.\n",
        "#Scissors cut paper.\n",
        "\n",
        "# 3 choices in total\n",
        "# 1) Rock\n",
        "# 2) Paper\n",
        "# 3) Scissor\n",
        "\n",
        "# Rock smashes scissors.\n",
        "# Paper covers rock.\n",
        "# Scissors cut paper.\n",
        "# Same choice is a Tie"
      ]
    },
    {
      "cell_type": "code",
      "source": [],
      "metadata": {
        "id": "tcs3oz5AdSDf"
      },
      "execution_count": null,
      "outputs": []
    },
    {
      "cell_type": "code",
      "execution_count": null,
      "metadata": {
        "id": "q4aeiCTyq3-4"
      },
      "outputs": [],
      "source": [
        "import random\n",
        "def game():\n",
        "  possible_actions = ['rock','paper','scissors']\n",
        "  user_loose = True\n",
        "  while user_loose:\n",
        "    user_input = input('Please make a choice from rock,paper,scissors:').lower()\n",
        "    if user_input not in possible_actions:\n",
        "      print('Unacceptable input. Please make a choice from rock, paper or scissors.')\n",
        "      continue\n",
        "    computer_action = random.choice(possible_actions)\n",
        "    print('Computer selects:',computer_action)\n",
        "\n",
        "    if user_input == computer_action:\n",
        "      print(\"It's a tie! Let's play again.\")\n",
        "\n",
        "    elif (user_input == 'rock' and computer_action == 'scissors' or\n",
        "        user_input == 'paper' and computer_action == 'rock' or\n",
        "        user_input == 'scissors' and computer_action == 'paper'):\n",
        "      print('Congratulations! You win.')\n",
        "      user_loose = False\n",
        "    else:\n",
        "      print('You lose! Try Again')\n",
        "game()"
      ]
    },
    {
      "cell_type": "code",
      "execution_count": null,
      "metadata": {
        "id": "WtFhbz16rGi3"
      },
      "outputs": [],
      "source": []
    }
  ],
  "metadata": {
    "colab": {
      "provenance": []
    },
    "kernelspec": {
      "display_name": "Python 3",
      "name": "python3"
    },
    "language_info": {
      "name": "python"
    }
  },
  "nbformat": 4,
  "nbformat_minor": 0
}