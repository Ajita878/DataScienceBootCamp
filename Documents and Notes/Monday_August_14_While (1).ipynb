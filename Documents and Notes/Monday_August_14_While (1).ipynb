{
  "nbformat": 4,
  "nbformat_minor": 0,
  "metadata": {
    "colab": {
      "provenance": []
    },
    "kernelspec": {
      "name": "python3",
      "display_name": "Python 3"
    },
    "language_info": {
      "name": "python"
    }
  },
  "cells": [
    {
      "cell_type": "code",
      "execution_count": 4,
      "metadata": {
        "colab": {
          "base_uri": "https://localhost:8080/"
        },
        "id": "GokSiJifmlrh",
        "outputId": "38234745-0bbf-4db3-88cb-41ccc4885d6c"
      },
      "outputs": [
        {
          "output_type": "stream",
          "name": "stdout",
          "text": [
            "20 is greater than 10\n",
            "18 is greater than 10\n",
            "16 is greater than 10\n",
            "14 is greater than 10\n",
            "12 is greater than 10\n"
          ]
        }
      ],
      "source": [
        "#August 14:while loop\n",
        "\n",
        "#While loop\n",
        "a=20\n",
        "while a >10:\n",
        "  print(a, 'is greater than 10')\n",
        "  a-=2\n"
      ]
    },
    {
      "cell_type": "code",
      "source": [
        "a=10\n",
        "while a<100:\n",
        "  print(a, 'is less than 100')\n",
        "  a+=10"
      ],
      "metadata": {
        "colab": {
          "base_uri": "https://localhost:8080/"
        },
        "id": "F3kdDcS-pjcY",
        "outputId": "86161b8a-f6b7-48c7-fe95-b573afc208f1"
      },
      "execution_count": 5,
      "outputs": [
        {
          "output_type": "stream",
          "name": "stdout",
          "text": [
            "10 is less than 100\n",
            "20 is less than 100\n",
            "30 is less than 100\n",
            "40 is less than 100\n",
            "50 is less than 100\n",
            "60 is less than 100\n",
            "70 is less than 100\n",
            "80 is less than 100\n",
            "90 is less than 100\n"
          ]
        }
      ]
    },
    {
      "cell_type": "code",
      "source": [
        "#continue\n",
        "a=10\n",
        "while a<100:\n",
        "  a+=10\n",
        "  if a==50:\n",
        "    continue\n",
        "  print(a,'is less than 100')"
      ],
      "metadata": {
        "colab": {
          "base_uri": "https://localhost:8080/"
        },
        "id": "y3kspAVcqViY",
        "outputId": "311f9ec8-bd79-4e0d-bb4e-43ce23bd35a7"
      },
      "execution_count": 8,
      "outputs": [
        {
          "output_type": "stream",
          "name": "stdout",
          "text": [
            "20 is less than 100\n",
            "30 is less than 100\n",
            "40 is less than 100\n",
            "60 is less than 100\n",
            "70 is less than 100\n",
            "80 is less than 100\n",
            "90 is less than 100\n",
            "100 is less than 100\n"
          ]
        }
      ]
    },
    {
      "cell_type": "code",
      "source": [
        "#break:\n",
        "a=10\n",
        "while a<100:\n",
        "  if a ==50:\n",
        "    break\n",
        "  print(a, 'is less than 100')\n",
        "  a+=10\n",
        "\n"
      ],
      "metadata": {
        "colab": {
          "base_uri": "https://localhost:8080/"
        },
        "id": "PntAOjHTqyRQ",
        "outputId": "e7843db1-495e-4f52-e906-bc238e9da2d3"
      },
      "execution_count": 9,
      "outputs": [
        {
          "output_type": "stream",
          "name": "stdout",
          "text": [
            "10 is less than 100\n",
            "20 is less than 100\n",
            "30 is less than 100\n",
            "40 is less than 100\n"
          ]
        }
      ]
    },
    {
      "cell_type": "code",
      "source": [
        "#pass\n",
        "a = 200\n",
        "while(a<500):\n",
        "  pass"
      ],
      "metadata": {
        "colab": {
          "base_uri": "https://localhost:8080/",
          "height": 228
        },
        "id": "P80raYexr0dP",
        "outputId": "77bb7437-6107-4238-ee66-3c89557f3ffb"
      },
      "execution_count": 1,
      "outputs": [
        {
          "output_type": "error",
          "ename": "KeyboardInterrupt",
          "evalue": "ignored",
          "traceback": [
            "\u001b[0;31m---------------------------------------------------------------------------\u001b[0m",
            "\u001b[0;31mKeyboardInterrupt\u001b[0m                         Traceback (most recent call last)",
            "\u001b[0;32m<ipython-input-1-945973d63515>\u001b[0m in \u001b[0;36m<cell line: 3>\u001b[0;34m()\u001b[0m\n\u001b[1;32m      1\u001b[0m \u001b[0;31m#pass\u001b[0m\u001b[0;34m\u001b[0m\u001b[0;34m\u001b[0m\u001b[0m\n\u001b[1;32m      2\u001b[0m \u001b[0ma\u001b[0m \u001b[0;34m=\u001b[0m \u001b[0;36m200\u001b[0m\u001b[0;34m\u001b[0m\u001b[0;34m\u001b[0m\u001b[0m\n\u001b[0;32m----> 3\u001b[0;31m \u001b[0;32mwhile\u001b[0m\u001b[0;34m(\u001b[0m\u001b[0ma\u001b[0m\u001b[0;34m<\u001b[0m\u001b[0;36m500\u001b[0m\u001b[0;34m)\u001b[0m\u001b[0;34m:\u001b[0m\u001b[0;34m\u001b[0m\u001b[0;34m\u001b[0m\u001b[0m\n\u001b[0m\u001b[1;32m      4\u001b[0m   \u001b[0;32mpass\u001b[0m\u001b[0;34m\u001b[0m\u001b[0;34m\u001b[0m\u001b[0m\n",
            "\u001b[0;31mKeyboardInterrupt\u001b[0m: "
          ]
        }
      ]
    },
    {
      "cell_type": "code",
      "source": [
        "#write a program 0 to 100 an dfind odd and even number; use while loop\n",
        "a=0\n",
        "while a <=100:\n",
        "  if a%2 == 0:\n",
        "    print(a, 'is even number.')\n",
        "  else:\n",
        "    print(a,'is odd number.')\n",
        "  a+=1\n",
        "\n"
      ],
      "metadata": {
        "colab": {
          "base_uri": "https://localhost:8080/"
        },
        "id": "YTS-ZVersBwE",
        "outputId": "cfac2cd2-32b5-4c73-d7ef-a806432eaae4"
      },
      "execution_count": 12,
      "outputs": [
        {
          "output_type": "stream",
          "name": "stdout",
          "text": [
            "0 is even number.\n",
            "1 is odd number.\n",
            "2 is even number.\n",
            "3 is odd number.\n",
            "4 is even number.\n",
            "5 is odd number.\n",
            "6 is even number.\n",
            "7 is odd number.\n",
            "8 is even number.\n",
            "9 is odd number.\n",
            "10 is even number.\n",
            "11 is odd number.\n",
            "12 is even number.\n",
            "13 is odd number.\n",
            "14 is even number.\n",
            "15 is odd number.\n",
            "16 is even number.\n",
            "17 is odd number.\n",
            "18 is even number.\n",
            "19 is odd number.\n",
            "20 is even number.\n",
            "21 is odd number.\n",
            "22 is even number.\n",
            "23 is odd number.\n",
            "24 is even number.\n",
            "25 is odd number.\n",
            "26 is even number.\n",
            "27 is odd number.\n",
            "28 is even number.\n",
            "29 is odd number.\n",
            "30 is even number.\n",
            "31 is odd number.\n",
            "32 is even number.\n",
            "33 is odd number.\n",
            "34 is even number.\n",
            "35 is odd number.\n",
            "36 is even number.\n",
            "37 is odd number.\n",
            "38 is even number.\n",
            "39 is odd number.\n",
            "40 is even number.\n",
            "41 is odd number.\n",
            "42 is even number.\n",
            "43 is odd number.\n",
            "44 is even number.\n",
            "45 is odd number.\n",
            "46 is even number.\n",
            "47 is odd number.\n",
            "48 is even number.\n",
            "49 is odd number.\n",
            "50 is even number.\n",
            "51 is odd number.\n",
            "52 is even number.\n",
            "53 is odd number.\n",
            "54 is even number.\n",
            "55 is odd number.\n",
            "56 is even number.\n",
            "57 is odd number.\n",
            "58 is even number.\n",
            "59 is odd number.\n",
            "60 is even number.\n",
            "61 is odd number.\n",
            "62 is even number.\n",
            "63 is odd number.\n",
            "64 is even number.\n",
            "65 is odd number.\n",
            "66 is even number.\n",
            "67 is odd number.\n",
            "68 is even number.\n",
            "69 is odd number.\n",
            "70 is even number.\n",
            "71 is odd number.\n",
            "72 is even number.\n",
            "73 is odd number.\n",
            "74 is even number.\n",
            "75 is odd number.\n",
            "76 is even number.\n",
            "77 is odd number.\n",
            "78 is even number.\n",
            "79 is odd number.\n",
            "80 is even number.\n",
            "81 is odd number.\n",
            "82 is even number.\n",
            "83 is odd number.\n",
            "84 is even number.\n",
            "85 is odd number.\n",
            "86 is even number.\n",
            "87 is odd number.\n",
            "88 is even number.\n",
            "89 is odd number.\n",
            "90 is even number.\n",
            "91 is odd number.\n",
            "92 is even number.\n",
            "93 is odd number.\n",
            "94 is even number.\n",
            "95 is odd number.\n",
            "96 is even number.\n",
            "97 is odd number.\n",
            "98 is even number.\n",
            "99 is odd number.\n",
            "100 is even number.\n"
          ]
        }
      ]
    },
    {
      "cell_type": "code",
      "source": [
        "total = 0\n",
        "num = int(input('Enter a number'))\n",
        "\n",
        "while num!=0:\n",
        "  total+=num\n",
        "  num=int(input('Enter a number'))\n",
        "print(total)"
      ],
      "metadata": {
        "colab": {
          "base_uri": "https://localhost:8080/"
        },
        "id": "qoE_ndHPstSF",
        "outputId": "7af19880-e4ae-4002-93f0-e279ec743021"
      },
      "execution_count": 18,
      "outputs": [
        {
          "output_type": "stream",
          "name": "stdout",
          "text": [
            "Enter a number1\n",
            "Enter a number2\n",
            "Enter a number3\n",
            "Enter a number4\n",
            "Enter a number5\n",
            "Enter a number6\n",
            "Enter a number7\n",
            "Enter a number8\n",
            "Enter a number9\n",
            "Enter a number0\n",
            "45\n"
          ]
        }
      ]
    },
    {
      "cell_type": "code",
      "source": [
        "#Write aprogram in which we have to count number of people whose age is 18 and check if voting age is grater than 18.\n",
        "total = 0\n",
        "age = int(input('Enter your age:'))\n",
        "while age >=18:\n",
        "  total +=1\n",
        "  age = int(input('Enter your age:'))\n",
        "print(total)"
      ],
      "metadata": {
        "colab": {
          "base_uri": "https://localhost:8080/"
        },
        "id": "e_E_MUg1tkdr",
        "outputId": "ecf3e7d7-bc3f-45ea-c25e-af42af2126b0"
      },
      "execution_count": 19,
      "outputs": [
        {
          "output_type": "stream",
          "name": "stdout",
          "text": [
            "Enter your age:15\n",
            "0\n"
          ]
        }
      ]
    },
    {
      "cell_type": "code",
      "source": [
        "#lst.pop()\n",
        "lst = [1,2,3,4,5,6,7,8,9,10,11,12,13,14,15,16,17,18, 55,99,44,86]\n",
        "while len(lst)>0:\n",
        "  delete_element = lst.pop()\n",
        "  print(lst)\n"
      ],
      "metadata": {
        "colab": {
          "base_uri": "https://localhost:8080/"
        },
        "id": "Pa0wtgufuzKj",
        "outputId": "cf032ba7-d178-404f-8d29-45af9049e3e8"
      },
      "execution_count": 23,
      "outputs": [
        {
          "output_type": "stream",
          "name": "stdout",
          "text": [
            "[1, 2, 3, 4, 5, 6, 7, 8, 9, 10, 11, 12, 13, 14, 15, 16, 17, 18, 55, 99, 44]\n",
            "[1, 2, 3, 4, 5, 6, 7, 8, 9, 10, 11, 12, 13, 14, 15, 16, 17, 18, 55, 99]\n",
            "[1, 2, 3, 4, 5, 6, 7, 8, 9, 10, 11, 12, 13, 14, 15, 16, 17, 18, 55]\n",
            "[1, 2, 3, 4, 5, 6, 7, 8, 9, 10, 11, 12, 13, 14, 15, 16, 17, 18]\n",
            "[1, 2, 3, 4, 5, 6, 7, 8, 9, 10, 11, 12, 13, 14, 15, 16, 17]\n",
            "[1, 2, 3, 4, 5, 6, 7, 8, 9, 10, 11, 12, 13, 14, 15, 16]\n",
            "[1, 2, 3, 4, 5, 6, 7, 8, 9, 10, 11, 12, 13, 14, 15]\n",
            "[1, 2, 3, 4, 5, 6, 7, 8, 9, 10, 11, 12, 13, 14]\n",
            "[1, 2, 3, 4, 5, 6, 7, 8, 9, 10, 11, 12, 13]\n",
            "[1, 2, 3, 4, 5, 6, 7, 8, 9, 10, 11, 12]\n",
            "[1, 2, 3, 4, 5, 6, 7, 8, 9, 10, 11]\n",
            "[1, 2, 3, 4, 5, 6, 7, 8, 9, 10]\n",
            "[1, 2, 3, 4, 5, 6, 7, 8, 9]\n",
            "[1, 2, 3, 4, 5, 6, 7, 8]\n",
            "[1, 2, 3, 4, 5, 6, 7]\n",
            "[1, 2, 3, 4, 5, 6]\n",
            "[1, 2, 3, 4, 5]\n",
            "[1, 2, 3, 4]\n",
            "[1, 2, 3]\n",
            "[1, 2]\n",
            "[1]\n",
            "[]\n"
          ]
        }
      ]
    },
    {
      "cell_type": "code",
      "source": [],
      "metadata": {
        "id": "42HYPlxDvK8i"
      },
      "execution_count": null,
      "outputs": []
    }
  ]
}