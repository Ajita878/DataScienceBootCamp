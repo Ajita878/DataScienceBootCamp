{
  "nbformat": 4,
  "nbformat_minor": 0,
  "metadata": {
    "colab": {
      "provenance": []
    },
    "kernelspec": {
      "name": "python3",
      "display_name": "Python 3"
    },
    "language_info": {
      "name": "python"
    }
  },
  "cells": [
    {
      "cell_type": "code",
      "execution_count": 2,
      "metadata": {
        "colab": {
          "base_uri": "https://localhost:8080/"
        },
        "id": "e8Btf-apwUos",
        "outputId": "cdbb6957-5e0c-40bb-c0e0-c3365020c558"
      },
      "outputs": [
        {
          "output_type": "stream",
          "name": "stdout",
          "text": [
            "Hello Ajita\n",
            "Hello Ajita\n",
            "Hello Ajita\n",
            "Hello Ajita\n"
          ]
        }
      ],
      "source": [
        "#Example of using while loops in python\n",
        "n=1\n",
        "while n<5:\n",
        "  print('Hello Ajita')\n",
        "  n+=1"
      ]
    },
    {
      "cell_type": "code",
      "source": [
        "#Example of using break statement in while loops\n",
        "n=1\n",
        "while n<5:\n",
        "  print('Hello Ajita')\n",
        "  n+=1\n",
        "  if n == 4:\n",
        "    break"
      ],
      "metadata": {
        "colab": {
          "base_uri": "https://localhost:8080/"
        },
        "id": "1lPj-mWAwrMq",
        "outputId": "d3bead10-5d52-4d7f-aa92-a074763833aa"
      },
      "execution_count": 3,
      "outputs": [
        {
          "output_type": "stream",
          "name": "stdout",
          "text": [
            "Hello Ajita\n",
            "Hello Ajita\n",
            "Hello Ajita\n"
          ]
        }
      ]
    },
    {
      "cell_type": "code",
      "source": [
        "#checking if list contains any element\n",
        "lst=[ 1,2,3,4,5]\n",
        "while lst:\n",
        "  print(lst.pop())"
      ],
      "metadata": {
        "colab": {
          "base_uri": "https://localhost:8080/"
        },
        "id": "WdVUmfbV4MvX",
        "outputId": "7d1b3299-73fd-4825-bab0-c9265239781b"
      },
      "execution_count": 5,
      "outputs": [
        {
          "output_type": "stream",
          "name": "stdout",
          "text": [
            "5\n",
            "4\n",
            "3\n",
            "2\n",
            "1\n"
          ]
        }
      ]
    },
    {
      "cell_type": "code",
      "source": [
        "#print i as long as i is less than 6\n",
        "i=0\n",
        "while i<6:\n",
        "  print(i)\n",
        "  i+=1\n",
        ""
      ],
      "metadata": {
        "colab": {
          "base_uri": "https://localhost:8080/"
        },
        "id": "pIDzYEOe5MD3",
        "outputId": "07ea254a-f14b-48ab-9ed7-4ed15e66ccfa"
      },
      "execution_count": 9,
      "outputs": [
        {
          "output_type": "stream",
          "name": "stdout",
          "text": [
            "0\n",
            "1\n",
            "2\n",
            "3\n",
            "4\n",
            "5\n"
          ]
        }
      ]
    },
    {
      "cell_type": "code",
      "source": [
        "#break statement: with the break statement we can stop the loop even if the while condition is true:\n",
        "i=0\n",
        "while i<6:\n",
        "  print(i)\n",
        "  if i==3:\n",
        "    break\n",
        "  i+=1"
      ],
      "metadata": {
        "colab": {
          "base_uri": "https://localhost:8080/"
        },
        "id": "iIxoE6bWBqpo",
        "outputId": "67264f9a-b02b-4ea8-d7c4-575ea8f10479"
      },
      "execution_count": 10,
      "outputs": [
        {
          "output_type": "stream",
          "name": "stdout",
          "text": [
            "0\n",
            "1\n",
            "2\n",
            "3\n"
          ]
        }
      ]
    },
    {
      "cell_type": "code",
      "source": [
        "#continue statement: with the continue statement we can stop the current iteration, and continue with the next:\n",
        "#Continue to the next iteration if i is 3:\n",
        "i=0\n",
        "while i<6:\n",
        "  i+=1\n",
        "  if i == 3: #Note: number 3 is missing in output\n",
        "    continue\n",
        "  print(i)"
      ],
      "metadata": {
        "colab": {
          "base_uri": "https://localhost:8080/"
        },
        "id": "6fbeb8sUCnoG",
        "outputId": "b0f25d23-b84f-4bd2-869e-0843058f1dd0"
      },
      "execution_count": 12,
      "outputs": [
        {
          "output_type": "stream",
          "name": "stdout",
          "text": [
            "1\n",
            "2\n",
            "4\n",
            "5\n",
            "6\n"
          ]
        }
      ]
    },
    {
      "cell_type": "code",
      "source": [
        "#the else statement: with the else statement we can run a block of code once when the condition no longer is true:\n",
        "#Print a message once the condition is false:\n",
        "i=1\n",
        "while i<6:\n",
        "  print(i)\n",
        "  i+=1\n",
        "else:\n",
        "  print('i is no longer less than 6')"
      ],
      "metadata": {
        "colab": {
          "base_uri": "https://localhost:8080/"
        },
        "id": "I_o9HqhBDHjG",
        "outputId": "fd1df89b-8aef-4d97-e127-f463ce36f152"
      },
      "execution_count": 13,
      "outputs": [
        {
          "output_type": "stream",
          "name": "stdout",
          "text": [
            "1\n",
            "2\n",
            "3\n",
            "4\n",
            "5\n",
            "i is no longer less than 6\n"
          ]
        }
      ]
    },
    {
      "cell_type": "code",
      "source": [],
      "metadata": {
        "id": "5KHwmHGsD-mO"
      },
      "execution_count": null,
      "outputs": []
    }
  ]
}